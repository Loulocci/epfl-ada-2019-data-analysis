{
 "cells": [
  {
   "cell_type": "code",
   "execution_count": null,
   "metadata": {},
   "outputs": [],
   "source": [
    "%matplotlib inline\n",
    "import pandas as pd\n",
    "import numpy as np\n",
    "import matplotlib.pyplot as plt\n",
    "from pylab import *\n",
    "import os\n",
    "import seaborn as sns\n",
    "from scipy import stats\n",
    "import locale\n",
    "locale.setlocale(locale.LC_ALL, '')\n",
    "\n",
    "from sklearn import model_selection\n",
    "from sklearn import preprocessing\n",
    "from sklearn import metrics\n",
    "from sklearn.tree import DecisionTreeClassifier\n",
    "from sklearn.ensemble import RandomForestClassifier\n",
    "\n",
    "\n",
    "#Functions we created:\n",
    "from modules import dem_fx\n",
    "from modules import transaction_fx as trns\n",
    "from modules import plot_functions as plt_fx\n",
    "from modules import ml_functions as ml_fx\n",
    "\n",
    "os.getcwd()\n",
    "\n",
    "#Allows reload of modules:\n",
    "%load_ext autoreload\n",
    "%autoreload"
   ]
  },
  {
   "cell_type": "code",
   "execution_count": null,
   "metadata": {},
   "outputs": [],
   "source": [
    "hh_demographic_fxd = pd.read_csv(\"saved_structures/hh_demographic_fix_hhcomp.csv\", sep = '\\t')\n",
    "hh_demographic_fxd.head()"
   ]
  },
  {
   "cell_type": "code",
   "execution_count": null,
   "metadata": {},
   "outputs": [],
   "source": [
    "updated_prod = pd.read_csv(\"saved_structures/updated_prod.csv\", sep = '\\t')\n",
    "updated_prod.head()"
   ]
  },
  {
   "cell_type": "code",
   "execution_count": null,
   "metadata": {},
   "outputs": [],
   "source": [
    "trans_clean = pd.read_csv(\"saved_structures/trans_clean.csv\", sep = '\\t')\n",
    "trans_clean.head()"
   ]
  },
  {
   "cell_type": "code",
   "execution_count": null,
   "metadata": {},
   "outputs": [],
   "source": [
    "participation_per_hh = pd.read_csv(\"saved_structures/participation_per_hh.csv\", sep = '\\t')"
   ]
  },
  {
   "cell_type": "code",
   "execution_count": null,
   "metadata": {},
   "outputs": [],
   "source": [
    "weekly_cart_df = pd.read_csv(\"saved_structures/weekly_cart_df.csv\", sep = '\\t')\n",
    "weekly_cart_df.head()"
   ]
  },
  {
   "cell_type": "code",
   "execution_count": null,
   "metadata": {},
   "outputs": [],
   "source": [
    "weekly_cart_df.sort_values(by=\"household_key\", inplace=True)\n",
    "weekly_cart_np = weekly_cart_df.to_numpy()[:, 1:]"
   ]
  },
  {
   "cell_type": "code",
   "execution_count": null,
   "metadata": {},
   "outputs": [],
   "source": [
    "from sklearn.decomposition import PCA\n",
    "pca = PCA(n_components=2)\n",
    "pca.fit(weekly_cart_np)\n",
    "weekly_cart_np_pca = pca.transform(weekly_cart_np)\n",
    "\n",
    "print(weekly_cart_np_pca.shape)\n",
    "plt.scatter(weekly_cart_np_pca[:,0], weekly_cart_np_pca[:,1])"
   ]
  },
  {
   "cell_type": "code",
   "execution_count": null,
   "metadata": {},
   "outputs": [],
   "source": [
    "from sklearn.cluster import KMeans\n",
    "kmeans = KMeans(n_clusters=3, random_state=0, algorithm=\"elkan\").fit(weekly_cart_np)\n",
    "print(kmeans.labels_)"
   ]
  },
  {
   "cell_type": "code",
   "execution_count": null,
   "metadata": {},
   "outputs": [],
   "source": [
    "plt.scatter(weekly_cart_np_pca[:,0], weekly_cart_np_pca[:,1], c=kmeans.labels_)"
   ]
  },
  {
   "cell_type": "code",
   "execution_count": null,
   "metadata": {},
   "outputs": [],
   "source": [
    "hh_key = [i for i in range(len(kmeans.labels_))]\n",
    "\n",
    "hh_to_clust = pd.DataFrame(np.array([hh_key, kmeans.labels_]).T, index=None, columns=[\"household_key\", \"clust\"], dtype=int)\n",
    "\n",
    "hh_demographic_clust =\\\n",
    "    hh_demographic_fxd.join(hh_to_clust, on=\"household_key\", lsuffix=\"_clust\").drop(\"household_key_clust\", axis=1)\n",
    "hh_demographic_clust.head()"
   ]
  },
  {
   "cell_type": "code",
   "execution_count": null,
   "metadata": {},
   "outputs": [],
   "source": [
    "def create_weekly_dep_df(trans_clean, participation_per_hh):\n",
    "    \n",
    "    grouped_per_dep = pd.DataFrame(trans_clean.groupby(['DEPARTMENT','household_key']).sum())\n",
    "    index = trans_clean['household_key'].sort_values().unique()\n",
    "\n",
    "    weekly_dep_df = pd.DataFrame(index = index)\n",
    "    weekly_dep_df.index.name = 'household_key'\n",
    "\n",
    "    for dep in trans_clean['DEPARTMENT'].unique(): \n",
    "        data = [grouped_per_dep.loc[dep, i]['QUANTITY']/(participation_per_hh['participation_length'][i])\\\n",
    "                for i in grouped_per_dep.loc[dep].index]\n",
    "        \n",
    "        intermediary_df = pd.DataFrame(index = grouped_per_dep.loc[dep].index, data = {dep +'_QUANT': data})\n",
    "\n",
    "        weekly_dep_df = weekly_dep_df.join(intermediary_df)\n",
    "\n",
    "    #Fill NaN values with 0.0:\n",
    "    weekly_dep_df = weekly_dep_df.fillna(0.0)\n",
    "    \n",
    "    return weekly_dep_df"
   ]
  },
  {
   "cell_type": "code",
   "execution_count": null,
   "metadata": {},
   "outputs": [],
   "source": [
    "weekly_dep_df = create_weekly_dep_df(trans_clean, participation_per_hh.set_index(\"household_key\"))"
   ]
  },
  {
   "cell_type": "code",
   "execution_count": null,
   "metadata": {},
   "outputs": [],
   "source": [
    "weekly_dep_df.head()"
   ]
  },
  {
   "cell_type": "code",
   "execution_count": null,
   "metadata": {},
   "outputs": [],
   "source": [
    "weekly_dep_np = weekly_dep_df.to_numpy()"
   ]
  },
  {
   "cell_type": "code",
   "execution_count": null,
   "metadata": {},
   "outputs": [],
   "source": [
    "from sklearn.decomposition import PCA\n",
    "pca = PCA(n_components=2)\n",
    "pca.fit(weekly_dep_np)\n",
    "weekly_dep_np_pca = pca.transform(weekly_dep_np)\n",
    "\n",
    "print(weekly_dep_np_pca.shape)\n",
    "plt.scatter(weekly_dep_np_pca[:,0], weekly_dep_np_pca[:,1])"
   ]
  },
  {
   "cell_type": "code",
   "execution_count": null,
   "metadata": {},
   "outputs": [],
   "source": []
  }
 ],
 "metadata": {
  "kernelspec": {
   "display_name": "Python 3",
   "language": "python",
   "name": "python3"
  },
  "language_info": {
   "codemirror_mode": {
    "name": "ipython",
    "version": 3
   },
   "file_extension": ".py",
   "mimetype": "text/x-python",
   "name": "python",
   "nbconvert_exporter": "python",
   "pygments_lexer": "ipython3",
   "version": "3.7.4"
  }
 },
 "nbformat": 4,
 "nbformat_minor": 4
}
