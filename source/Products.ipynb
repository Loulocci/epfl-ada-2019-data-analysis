{
 "cells": [
  {
   "cell_type": "markdown",
   "metadata": {},
   "source": [
    "# PRODUCTS"
   ]
  },
  {
   "cell_type": "markdown",
   "metadata": {},
   "source": [
    "**A. CLEAN UP AND PREPARE PRODUCT DATA**"
   ]
  },
  {
   "cell_type": "markdown",
   "metadata": {},
   "source": [
    "A.1 Load and plot"
   ]
  },
  {
   "cell_type": "code",
   "execution_count": 1,
   "metadata": {},
   "outputs": [],
   "source": [
    "%matplotlib inline\n",
    "import pandas as pd\n",
    "import matplotlib.pyplot as plt\n",
    "import os\n",
    "\n",
    "# pip install fuzzywuzzy\n",
    "from fuzzywuzzy import fuzz\n",
    "from operator import itemgetter\n",
    "import re\n",
    "import seaborn as sns\n",
    "from ipywidgets import IntProgress\n",
    "from IPython.display import display\n",
    "import time\n",
    "\n",
    "#Website object lists : https://7esl.com/tools-and-equipment/#Technological_Gadgets"
   ]
  },
  {
   "cell_type": "code",
   "execution_count": 2,
   "metadata": {},
   "outputs": [
    {
     "data": {
      "text/plain": [
       "'/Users/lou/Documents/Travail/master 2/ADA/epfl-ada-2019-project-bubble582/source'"
      ]
     },
     "execution_count": 2,
     "metadata": {},
     "output_type": "execute_result"
    }
   ],
   "source": [
    "os.getcwd()"
   ]
  },
  {
   "cell_type": "code",
   "execution_count": 3,
   "metadata": {},
   "outputs": [],
   "source": [
    "#load the data\n",
    "hh_demographic = pd.read_csv('../data/dunnhumby_complete_csv/hh_demographic.csv', sep = ',')\n",
    "\n",
    "transaction_data = pd.read_csv('../data/dunnhumby_complete_csv/transaction_data.csv', sep = ',')\n",
    "\n",
    "product = pd.read_csv('../data/dunnhumby_complete_csv/product.csv', sep = ',')\n",
    "\n",
    "# This is a list a created. It is a small file, I pushed it in data in order you can have it at home\n",
    "ObjectLabels = pd.read_csv('../data/dunnhumby_complete_csv/GroceryLists.csv', sep = ',')\n",
    "ObjectLabels.columns = ['ITEM','LABEL']"
   ]
  },
  {
   "cell_type": "markdown",
   "metadata": {},
   "source": [
    "First we get interested by the different departments in the commercial center. We reorder the departments and plot the number of different products we can find per department. "
   ]
  },
  {
   "cell_type": "code",
   "execution_count": 4,
   "metadata": {},
   "outputs": [
    {
     "name": "stdout",
     "output_type": "stream",
     "text": [
      "The order of the manufacturer categories is : [   1    2    3 ... 6475 6476 6477]\n"
     ]
    }
   ],
   "source": [
    "# REORDERING PART: \n",
    "ordered_manufacturer= product.MANUFACTURER.astype(int).sort_values()\n",
    "ordered_manufacturer= ordered_manufacturer.unique()\n",
    "\n",
    "product['MANUFACTURER'] = pd.Categorical(product['MANUFACTURER'],\n",
    "                      ordered = True,\n",
    "                      categories = ordered_manufacturer)\n",
    "\n",
    "#Drop unwanted products: \n",
    "unwanted_departments = ['','PHOTO', 'VIDEO', 'MISC. TRANS.', 'MISC SALES TRAN','MEAT-WHSE', 'COUP/STR & MFG']\n",
    "product = product[product['DEPARTMENT'].apply(lambda x: x not in unwanted_departments)]\n",
    "\n",
    "print ('The order of the manufacturer categories is :', ordered_manufacturer)"
   ]
  },
  {
   "cell_type": "code",
   "execution_count": 5,
   "metadata": {},
   "outputs": [
    {
     "data": {
      "text/html": [
       "<div>\n",
       "<style scoped>\n",
       "    .dataframe tbody tr th:only-of-type {\n",
       "        vertical-align: middle;\n",
       "    }\n",
       "\n",
       "    .dataframe tbody tr th {\n",
       "        vertical-align: top;\n",
       "    }\n",
       "\n",
       "    .dataframe thead th {\n",
       "        text-align: right;\n",
       "    }\n",
       "</style>\n",
       "<table border=\"1\" class=\"dataframe\">\n",
       "  <thead>\n",
       "    <tr style=\"text-align: right;\">\n",
       "      <th></th>\n",
       "      <th>PRODUCT_ID</th>\n",
       "      <th>MANUFACTURER</th>\n",
       "      <th>DEPARTMENT</th>\n",
       "      <th>BRAND</th>\n",
       "      <th>COMMODITY_DESC</th>\n",
       "      <th>SUB_COMMODITY_DESC</th>\n",
       "      <th>CURR_SIZE_OF_PRODUCT</th>\n",
       "      <th>LABEL</th>\n",
       "    </tr>\n",
       "  </thead>\n",
       "  <tbody>\n",
       "    <tr>\n",
       "      <td>0</td>\n",
       "      <td>25671</td>\n",
       "      <td>2</td>\n",
       "      <td>GROCERY</td>\n",
       "      <td>National</td>\n",
       "      <td>FRZN ICE</td>\n",
       "      <td>ICE - CRUSHED/CUBED</td>\n",
       "      <td>22 LB</td>\n",
       "      <td>GROCERY</td>\n",
       "    </tr>\n",
       "    <tr>\n",
       "      <td>2</td>\n",
       "      <td>26093</td>\n",
       "      <td>69</td>\n",
       "      <td>PASTRY</td>\n",
       "      <td>Private</td>\n",
       "      <td>BREAD</td>\n",
       "      <td>BREAD:ITALIAN/FRENCH</td>\n",
       "      <td></td>\n",
       "      <td>PASTRY</td>\n",
       "    </tr>\n",
       "    <tr>\n",
       "      <td>3</td>\n",
       "      <td>26190</td>\n",
       "      <td>69</td>\n",
       "      <td>GROCERY</td>\n",
       "      <td>Private</td>\n",
       "      <td>FRUIT - SHELF STABLE</td>\n",
       "      <td>APPLE SAUCE</td>\n",
       "      <td>50 OZ</td>\n",
       "      <td>GROCERY</td>\n",
       "    </tr>\n",
       "    <tr>\n",
       "      <td>4</td>\n",
       "      <td>26355</td>\n",
       "      <td>69</td>\n",
       "      <td>GROCERY</td>\n",
       "      <td>Private</td>\n",
       "      <td>COOKIES/CONES</td>\n",
       "      <td>SPECIALTY COOKIES</td>\n",
       "      <td>14 OZ</td>\n",
       "      <td>GROCERY</td>\n",
       "    </tr>\n",
       "  </tbody>\n",
       "</table>\n",
       "</div>"
      ],
      "text/plain": [
       "   PRODUCT_ID MANUFACTURER DEPARTMENT     BRAND        COMMODITY_DESC  \\\n",
       "0       25671            2    GROCERY  National              FRZN ICE   \n",
       "2       26093           69     PASTRY   Private                 BREAD   \n",
       "3       26190           69    GROCERY   Private  FRUIT - SHELF STABLE   \n",
       "4       26355           69    GROCERY   Private         COOKIES/CONES   \n",
       "\n",
       "     SUB_COMMODITY_DESC CURR_SIZE_OF_PRODUCT    LABEL  \n",
       "0   ICE - CRUSHED/CUBED                22 LB  GROCERY  \n",
       "2  BREAD:ITALIAN/FRENCH                        PASTRY  \n",
       "3           APPLE SAUCE                50 OZ  GROCERY  \n",
       "4     SPECIALTY COOKIES                14 OZ  GROCERY  "
      ]
     },
     "execution_count": 5,
     "metadata": {},
     "output_type": "execute_result"
    }
   ],
   "source": [
    "#We create the LABEL column in the product dataframe to use later: \n",
    "product['LABEL'] = product['DEPARTMENT']\n",
    "product.head(4)"
   ]
  },
  {
   "cell_type": "code",
   "execution_count": 6,
   "metadata": {},
   "outputs": [
    {
     "data": {
      "text/plain": [
       "[Text(0.5, 1.0, 'Number of occurences per department in product data')]"
      ]
     },
     "execution_count": 6,
     "metadata": {},
     "output_type": "execute_result"
    },
    {
     "data": {
      "image/png": "[encoded data removed]",
      "text/plain": [
       "<Figure size 1296x432 with 1 Axes>"
      ]
     },
     "metadata": {
      "needs_background": "light"
     },
     "output_type": "display_data"
    }
   ],
   "source": [
    "#Plot the number of products per department: \n",
    "department = product.groupby(['DEPARTMENT']).count()\n",
    "\n",
    "fig, axs = plt.subplots(1,1, figsize = (18,6))\n",
    "sns.countplot(product['DEPARTMENT'], ax = axs)\n",
    "axs.set_xticklabels(axs.get_xticklabels(), rotation = 45, horizontalalignment = 'right')\n",
    "axs.set(title = 'Number of occurences per department in product data')"
   ]
  },
  {
   "cell_type": "markdown",
   "metadata": {},
   "source": [
    "As we can see in the previous barplots, the departments with the highest number of referenced products in this study are the grocery with almost 40000 products, and the drug GM (which is probably a drug store) with more than 30000 products. We are going to focus on these 2 mains stores in a first time."
   ]
  },
  {
   "cell_type": "markdown",
   "metadata": {},
   "source": [
    "**B. GROCERY DATA PREPROCESSING**"
   ]
  },
  {
   "cell_type": "markdown",
   "metadata": {},
   "source": [
    "In this part we are interested to clean up and categorize the different products from the grocery store. We want to explain what purpose they serve (food, households, & hygien products, pet products etc.). We create a special Grocery dataframe for this purpose."
   ]
  },
  {
   "cell_type": "code",
   "execution_count": 7,
   "metadata": {},
   "outputs": [
    {
     "data": {
      "text/html": [
       "<div>\n",
       "<style scoped>\n",
       "    .dataframe tbody tr th:only-of-type {\n",
       "        vertical-align: middle;\n",
       "    }\n",
       "\n",
       "    .dataframe tbody tr th {\n",
       "        vertical-align: top;\n",
       "    }\n",
       "\n",
       "    .dataframe thead th {\n",
       "        text-align: right;\n",
       "    }\n",
       "</style>\n",
       "<table border=\"1\" class=\"dataframe\">\n",
       "  <thead>\n",
       "    <tr style=\"text-align: right;\">\n",
       "      <th></th>\n",
       "      <th>PRODUCT_ID</th>\n",
       "      <th>MANUFACTURER</th>\n",
       "      <th>DEPARTMENT</th>\n",
       "      <th>BRAND</th>\n",
       "      <th>COMMODITY_DESC</th>\n",
       "      <th>SUB_COMMODITY_DESC</th>\n",
       "      <th>CURR_SIZE_OF_PRODUCT</th>\n",
       "      <th>LABEL</th>\n",
       "    </tr>\n",
       "  </thead>\n",
       "  <tbody>\n",
       "    <tr>\n",
       "      <td>0</td>\n",
       "      <td>25671</td>\n",
       "      <td>2</td>\n",
       "      <td>GROCERY</td>\n",
       "      <td>National</td>\n",
       "      <td>FRZN ICE</td>\n",
       "      <td>ICE - CRUSHED/CUBED</td>\n",
       "      <td>22 LB</td>\n",
       "      <td>GROCERY</td>\n",
       "    </tr>\n",
       "    <tr>\n",
       "      <td>3</td>\n",
       "      <td>26190</td>\n",
       "      <td>69</td>\n",
       "      <td>GROCERY</td>\n",
       "      <td>Private</td>\n",
       "      <td>FRUIT - SHELF STABLE</td>\n",
       "      <td>APPLE SAUCE</td>\n",
       "      <td>50 OZ</td>\n",
       "      <td>GROCERY</td>\n",
       "    </tr>\n",
       "    <tr>\n",
       "      <td>4</td>\n",
       "      <td>26355</td>\n",
       "      <td>69</td>\n",
       "      <td>GROCERY</td>\n",
       "      <td>Private</td>\n",
       "      <td>COOKIES/CONES</td>\n",
       "      <td>SPECIALTY COOKIES</td>\n",
       "      <td>14 OZ</td>\n",
       "      <td>GROCERY</td>\n",
       "    </tr>\n",
       "    <tr>\n",
       "      <td>5</td>\n",
       "      <td>26426</td>\n",
       "      <td>69</td>\n",
       "      <td>GROCERY</td>\n",
       "      <td>Private</td>\n",
       "      <td>SPICES &amp; EXTRACTS</td>\n",
       "      <td>SPICES &amp; SEASONINGS</td>\n",
       "      <td>2.5 OZ</td>\n",
       "      <td>GROCERY</td>\n",
       "    </tr>\n",
       "  </tbody>\n",
       "</table>\n",
       "</div>"
      ],
      "text/plain": [
       "   PRODUCT_ID MANUFACTURER DEPARTMENT     BRAND        COMMODITY_DESC  \\\n",
       "0       25671            2    GROCERY  National              FRZN ICE   \n",
       "3       26190           69    GROCERY   Private  FRUIT - SHELF STABLE   \n",
       "4       26355           69    GROCERY   Private         COOKIES/CONES   \n",
       "5       26426           69    GROCERY   Private     SPICES & EXTRACTS   \n",
       "\n",
       "    SUB_COMMODITY_DESC CURR_SIZE_OF_PRODUCT    LABEL  \n",
       "0  ICE - CRUSHED/CUBED                22 LB  GROCERY  \n",
       "3          APPLE SAUCE                50 OZ  GROCERY  \n",
       "4    SPECIALTY COOKIES                14 OZ  GROCERY  \n",
       "5  SPICES & SEASONINGS               2.5 OZ  GROCERY  "
      ]
     },
     "execution_count": 7,
     "metadata": {},
     "output_type": "execute_result"
    }
   ],
   "source": [
    "#we extract the grocery product data which is the main supermarket in the commercial center\n",
    "Grocery= pd.DataFrame(product[product['DEPARTMENT'] == 'GROCERY'])\n",
    "Grocery.head(4)"
   ]
  },
  {
   "cell_type": "markdown",
   "metadata": {},
   "source": [
    "The only product descriptions provided by the Grocery data are few words descriptions found in COMMODITY_DESC and SUB_COMMODITY_DESC columns. These descriptions are not standardized, no categories arise from them. \n",
    "\n",
    "In a first time, we want to categorize the words in the descriptions using different labels (produce, households, technology ...). To do so we create a function called \"LabelizeProduct\". This function first recognizes the different words or words sequences in the description. These words or words sequences are associated with a certain label in a list of shopping items (\"GroceryList.csv\"). In a second time, based on the fuzzywuzzy librairy, the \"LabelizeProduct\" gives a score with comparing the description and the shopping item corresponding to words sequence identified. Finally, the functions keep the label for which the score is the highest. "
   ]
  },
  {
   "cell_type": "code",
   "execution_count": 8,
   "metadata": {},
   "outputs": [],
   "source": [
    "\"\"\"\n",
    "LabelizeProduct: This function is able to categorize the products \n",
    "given in data with looking at a labelled list of words. This labelled list of words is a lexique of grocery and shopping words. \n",
    "\n",
    "@input: \n",
    "- threshold is the smallest fuzzywuzzy score accepted to declare a match. \n",
    "    (fuzzywuzzy gives a score of string matching over 100). If score lower than threshold, the item is categorized as 'not found'. \n",
    "- data: the  dataset to categorize, dataCol is the column of the dataset to categorize\n",
    "- wordList: the list of words associated with a Label. wordList : ['ITEM','LABEL']\n",
    "\n",
    "@output: ?\n",
    "\"\"\"\n",
    "def LabelizeProduct(data, dataCol, threshold, wordList) :\n",
    "    #Progress bar: \n",
    "    max_count = len(data.index)\n",
    "    \n",
    "    f = IntProgress(min = 0, max = max_count) # instantiate the bar\n",
    "    \n",
    "    display(f) # display the bar\n",
    "    \n",
    "    Out = pd.DataFrame(index = data.index, columns = ['Item','Ratio','Label'])\n",
    "    \n",
    "    #count to show progression when running (can take few minutes)\n",
    "    loopCounter = 0\n",
    "    \n",
    "    # iterate on the index of the dataset to categorize\n",
    "    for indexCOM in data.index :\n",
    "        \"\"\"\n",
    "        if (loopCounter%100 == 0): \n",
    "            print(loopCounter)\n",
    "        \"\"\"\n",
    "        \n",
    "        # the item to categorize in the dataCol\n",
    "        item = dataCol.loc[indexCOM]\n",
    "        #a vector to keep all the matches within the grocerylist.csv\n",
    "        match = []\n",
    "        #set the output table\n",
    "        Out.Item[indexCOM] = item\n",
    "        Out.Label[indexCOM] = 'not found'\n",
    "        Out.Ratio[indexCOM]= 0\n",
    "        \n",
    "        #iterate on the wordList's items (belonging to a certain label)\n",
    "        for index,label in enumerate(wordList.LABEL) :\n",
    "            \n",
    "            # get all the separated words in the wordList item\n",
    "            line = re.split(' |&|/',wordList.ITEM[index])\n",
    "            \n",
    "            #iterate on the separated words in the wordList item\n",
    "            for word in line:\n",
    "                #manage case (everything in lowercase)\n",
    "                lword= word.lower()\n",
    "                litem = item.lower()\n",
    "\n",
    "                # if we find the word from wordList item, in the description of the data:\n",
    "                # we calculate the fuzzywuzzy ratio(%) and we append the match in the match vector\n",
    "                if litem.find(lword)!= -1:\n",
    "                    ratio = fuzz.token_sort_ratio(str.lower(item), str.lower(lword))\n",
    "                    match.append((indexCOM,line,ratio,label))\n",
    "                    \n",
    "        # if the match vector is not empty, then we attribute the label corresponding to the max ratio \n",
    "        #to the description            \n",
    "        if (match) and (max(match,key=itemgetter(2))[2]>= threshold)  :\n",
    "            Out.Label[indexCOM] = max(match,key=itemgetter(2))[3]\n",
    "            Out.Ratio[indexCOM]= max(match,key=itemgetter(2))[2]\n",
    "            \n",
    "        f.value += 1\n",
    "        loopCounter += 1\n",
    "            \n",
    "    return Out"
   ]
  },
  {
   "cell_type": "markdown",
   "metadata": {},
   "source": [
    "We use our new function \"LabelizeProduct\" to find the main categories in the Grocery department."
   ]
  },
  {
   "cell_type": "code",
   "execution_count": 10,
   "metadata": {},
   "outputs": [
    {
     "data": {
      "application/vnd.jupyter.widget-view+json": {
       "model_id": "04fed384f56c41149e91872d5d784da2",
       "version_major": 2,
       "version_minor": 0
      },
      "text/plain": [
       "IntProgress(value=0, max=39021)"
      ]
     },
     "metadata": {},
     "output_type": "display_data"
    },
    {
     "data": {
      "application/vnd.jupyter.widget-view+json": {
       "model_id": "985133240a644d3fb8713ec73a953176",
       "version_major": 2,
       "version_minor": 0
      },
      "text/plain": [
       "IntProgress(value=0, max=39021)"
      ]
     },
     "metadata": {},
     "output_type": "display_data"
    }
   ],
   "source": [
    "LabelledSUB = LabelizeProduct(Grocery, Grocery.SUB_COMMODITY_DESC, 0, ObjectLabels)\n",
    "Labelled = LabelizeProduct(Grocery, Grocery.COMMODITY_DESC, 0, ObjectLabels) "
   ]
  },
  {
   "cell_type": "code",
   "execution_count": 11,
   "metadata": {},
   "outputs": [],
   "source": [
    "#Create two columns for the score of each label from the commodity and sub_commodity. \n",
    "Labelled['RatioSUB']= LabelledSUB.Ratio\n",
    "Labelled['LabelSUB']= LabelledSUB.Label"
   ]
  },
  {
   "cell_type": "code",
   "execution_count": 12,
   "metadata": {},
   "outputs": [
    {
     "data": {
      "text/html": [
       "<div>\n",
       "<style scoped>\n",
       "    .dataframe tbody tr th:only-of-type {\n",
       "        vertical-align: middle;\n",
       "    }\n",
       "\n",
       "    .dataframe tbody tr th {\n",
       "        vertical-align: top;\n",
       "    }\n",
       "\n",
       "    .dataframe thead th {\n",
       "        text-align: right;\n",
       "    }\n",
       "</style>\n",
       "<table border=\"1\" class=\"dataframe\">\n",
       "  <thead>\n",
       "    <tr style=\"text-align: right;\">\n",
       "      <th></th>\n",
       "      <th>Item</th>\n",
       "      <th>Ratio</th>\n",
       "      <th>Label</th>\n",
       "      <th>RatioSUB</th>\n",
       "      <th>LabelSUB</th>\n",
       "    </tr>\n",
       "  </thead>\n",
       "  <tbody>\n",
       "    <tr>\n",
       "      <td>2732</td>\n",
       "      <td>HISPANIC</td>\n",
       "      <td>0</td>\n",
       "      <td>not found</td>\n",
       "      <td>18</td>\n",
       "      <td>HOUSEHOLDS</td>\n",
       "    </tr>\n",
       "    <tr>\n",
       "      <td>2933</td>\n",
       "      <td>HISPANIC</td>\n",
       "      <td>0</td>\n",
       "      <td>not found</td>\n",
       "      <td>0</td>\n",
       "      <td>not found</td>\n",
       "    </tr>\n",
       "    <tr>\n",
       "      <td>2970</td>\n",
       "      <td>HISPANIC</td>\n",
       "      <td>0</td>\n",
       "      <td>not found</td>\n",
       "      <td>0</td>\n",
       "      <td>not found</td>\n",
       "    </tr>\n",
       "    <tr>\n",
       "      <td>4908</td>\n",
       "      <td>REFRGRATD DOUGH PRODUCTS</td>\n",
       "      <td>0</td>\n",
       "      <td>not found</td>\n",
       "      <td>0</td>\n",
       "      <td>not found</td>\n",
       "    </tr>\n",
       "    <tr>\n",
       "      <td>5192</td>\n",
       "      <td>HISPANIC</td>\n",
       "      <td>0</td>\n",
       "      <td>not found</td>\n",
       "      <td>18</td>\n",
       "      <td>HOUSEHOLDS</td>\n",
       "    </tr>\n",
       "    <tr>\n",
       "      <td>...</td>\n",
       "      <td>...</td>\n",
       "      <td>...</td>\n",
       "      <td>...</td>\n",
       "      <td>...</td>\n",
       "      <td>...</td>\n",
       "    </tr>\n",
       "    <tr>\n",
       "      <td>77202</td>\n",
       "      <td>HISPANIC</td>\n",
       "      <td>0</td>\n",
       "      <td>not found</td>\n",
       "      <td>0</td>\n",
       "      <td>not found</td>\n",
       "    </tr>\n",
       "    <tr>\n",
       "      <td>77361</td>\n",
       "      <td>REFRGRATD DOUGH PRODUCTS</td>\n",
       "      <td>0</td>\n",
       "      <td>not found</td>\n",
       "      <td>0</td>\n",
       "      <td>not found</td>\n",
       "    </tr>\n",
       "    <tr>\n",
       "      <td>77449</td>\n",
       "      <td>REFRGRATD DOUGH PRODUCTS</td>\n",
       "      <td>0</td>\n",
       "      <td>not found</td>\n",
       "      <td>0</td>\n",
       "      <td>not found</td>\n",
       "    </tr>\n",
       "    <tr>\n",
       "      <td>79960</td>\n",
       "      <td>HISPANIC</td>\n",
       "      <td>0</td>\n",
       "      <td>not found</td>\n",
       "      <td>0</td>\n",
       "      <td>not found</td>\n",
       "    </tr>\n",
       "    <tr>\n",
       "      <td>85798</td>\n",
       "      <td>REFRGRATD DOUGH PRODUCTS</td>\n",
       "      <td>0</td>\n",
       "      <td>not found</td>\n",
       "      <td>0</td>\n",
       "      <td>not found</td>\n",
       "    </tr>\n",
       "  </tbody>\n",
       "</table>\n",
       "<p>126 rows × 5 columns</p>\n",
       "</div>"
      ],
      "text/plain": [
       "                           Item Ratio      Label RatioSUB    LabelSUB\n",
       "2732                   HISPANIC     0  not found       18  HOUSEHOLDS\n",
       "2933                   HISPANIC     0  not found        0   not found\n",
       "2970                   HISPANIC     0  not found        0   not found\n",
       "4908   REFRGRATD DOUGH PRODUCTS     0  not found        0   not found\n",
       "5192                   HISPANIC     0  not found       18  HOUSEHOLDS\n",
       "...                         ...   ...        ...      ...         ...\n",
       "77202                  HISPANIC     0  not found        0   not found\n",
       "77361  REFRGRATD DOUGH PRODUCTS     0  not found        0   not found\n",
       "77449  REFRGRATD DOUGH PRODUCTS     0  not found        0   not found\n",
       "79960                  HISPANIC     0  not found        0   not found\n",
       "85798  REFRGRATD DOUGH PRODUCTS     0  not found        0   not found\n",
       "\n",
       "[126 rows x 5 columns]"
      ]
     },
     "execution_count": 12,
     "metadata": {},
     "output_type": "execute_result"
    }
   ],
   "source": [
    "#Estimate the error: \n",
    "\n",
    "# number of item where SUB_COMMODITY_DESC and COMMODITY_DESC have a different label. (Knowing the the label kept \n",
    "# at the end is the one with the highest score \n",
    "Labelled[Labelled['Label']!= Labelled['LabelSUB']].count()\n",
    "\n",
    "# total of not found for both SUB_COMMODITY_DESC and COMMODITY_DESC\n",
    "Labelled[(Labelled['Label'] == 'not found') & (Labelled['LabelSUB'] == 'not found')].count()\n",
    "\n",
    "# Total number of highest score lower than 20. Most often it is because we compare a small word to \n",
    "# a whole item description (several words).  \n",
    "Labelled[(Labelled['Ratio']<20) & (Labelled['RatioSUB'] < 20)].count()\n",
    "Labelled[(Labelled['Ratio']<20) & (Labelled['RatioSUB'] < 20)]"
   ]
  },
  {
   "cell_type": "markdown",
   "metadata": {},
   "source": [
    "We create a second function \"putLabel\" that sets the label with the highest fuzzy ratio in between the dataset's columns that were categorized (here COMMODITY_DESC and SUB_COMMODITY_DESC) in the main data set (here Grocery). "
   ]
  },
  {
   "cell_type": "code",
   "execution_count": 15,
   "metadata": {},
   "outputs": [],
   "source": [
    "\"\"\"\n",
    "putLabel: his is the function that put the Labels in the main data Table. It compares the \n",
    "labels thanks to the fuzzy scores for 2 different labelledData \n",
    "(ex: grocery labelled for COMMODITY and SUB_COMMODITY) and chooses the best one.\n",
    "\n",
    "@input: \n",
    "- LabelledData: ? \n",
    "- data: ?\n",
    "\n",
    "@output:? \n",
    "\"\"\"\n",
    "def putLabel(LabelledData, data) :\n",
    "    #Progress bar: \n",
    "    max_count = len(LabelledData.index)\n",
    "    \n",
    "    f = IntProgress(min = 0, max = max_count) # instantiate the bar\n",
    "    \n",
    "    for line in LabelledData.index : \n",
    "\n",
    "        maxRatio = max(LabelledData.Ratio.loc[line], LabelledData.RatioSUB.loc[line])\n",
    "        if LabelledData.Ratio.loc[line] == maxRatio :\n",
    "            data['LABEL'].loc[line] = LabelledData.Label.loc[line]\n",
    "        \n",
    "        elif LabelledData.RatioSUB.loc[line] == maxRatio :\n",
    "            data['LABEL'].loc[line] = LabelledData.LabelSUB.loc[line]\n",
    "        \n",
    "        f.value += 1\n",
    "    return 0"
   ]
  },
  {
   "cell_type": "code",
   "execution_count": 16,
   "metadata": {},
   "outputs": [
    {
     "data": {
      "text/plain": [
       "<matplotlib.axes._subplots.AxesSubplot at 0x1a2179d610>"
      ]
     },
     "execution_count": 16,
     "metadata": {},
     "output_type": "execute_result"
    },
    {
     "data": {
      "image/png": "[encoded data removed]",
      "text/plain": [
       "<Figure size 432x288 with 1 Axes>"
      ]
     },
     "metadata": {
      "needs_background": "light"
     },
     "output_type": "display_data"
    }
   ],
   "source": [
    "#Put the labels in the main data set Grocery and show results: \n",
    "putLabel(Labelled, Grocery)\n",
    "\n",
    "#Plot: \n",
    "LabelCount = Grocery.groupby('LABEL').count()\n",
    "LabelCount.BRAND.sort_values().plot.bar()"
   ]
  },
  {
   "cell_type": "code",
   "execution_count": 17,
   "metadata": {},
   "outputs": [],
   "source": [
    "#Save to csv: \n",
    "if not os.path.exists(\"saved_structures\"):\n",
    "    os.makedirs(\"saved_structures\")\n",
    "\n",
    "Grocery.to_csv(\"saved_structures/'Grocery.csv\", sep='\\t', index=False)"
   ]
  },
  {
   "cell_type": "markdown",
   "metadata": {},
   "source": [
    "As we can see in the following table the Grocery store product have been Labelled. Error of classification are possible (even if low rate --> to estimate, HOW ?). Indeed the \"LabelizeProduct\" recognizes words that are provided in the \"wordList\" to the function. The accuracy of the classification relies on the thoroughness of this word list. Moreover if the word list does not contain enough words, the quantity of 'not found' increases drastically."
   ]
  },
  {
   "cell_type": "code",
   "execution_count": 18,
   "metadata": {},
   "outputs": [
    {
     "data": {
      "text/html": [
       "<div>\n",
       "<style scoped>\n",
       "    .dataframe tbody tr th:only-of-type {\n",
       "        vertical-align: middle;\n",
       "    }\n",
       "\n",
       "    .dataframe tbody tr th {\n",
       "        vertical-align: top;\n",
       "    }\n",
       "\n",
       "    .dataframe thead th {\n",
       "        text-align: right;\n",
       "    }\n",
       "</style>\n",
       "<table border=\"1\" class=\"dataframe\">\n",
       "  <thead>\n",
       "    <tr style=\"text-align: right;\">\n",
       "      <th></th>\n",
       "      <th>PRODUCT_ID</th>\n",
       "      <th>MANUFACTURER</th>\n",
       "      <th>DEPARTMENT</th>\n",
       "      <th>BRAND</th>\n",
       "      <th>COMMODITY_DESC</th>\n",
       "      <th>SUB_COMMODITY_DESC</th>\n",
       "      <th>CURR_SIZE_OF_PRODUCT</th>\n",
       "    </tr>\n",
       "    <tr>\n",
       "      <th>LABEL</th>\n",
       "      <th></th>\n",
       "      <th></th>\n",
       "      <th></th>\n",
       "      <th></th>\n",
       "      <th></th>\n",
       "      <th></th>\n",
       "      <th></th>\n",
       "    </tr>\n",
       "  </thead>\n",
       "  <tbody>\n",
       "    <tr>\n",
       "      <td>ALCOHOL</td>\n",
       "      <td>1698</td>\n",
       "      <td>1698</td>\n",
       "      <td>1698</td>\n",
       "      <td>1698</td>\n",
       "      <td>1698</td>\n",
       "      <td>1698</td>\n",
       "      <td>1698</td>\n",
       "    </tr>\n",
       "    <tr>\n",
       "      <td>BAKERY</td>\n",
       "      <td>958</td>\n",
       "      <td>958</td>\n",
       "      <td>958</td>\n",
       "      <td>958</td>\n",
       "      <td>958</td>\n",
       "      <td>958</td>\n",
       "      <td>958</td>\n",
       "    </tr>\n",
       "    <tr>\n",
       "      <td>BEVERAGES</td>\n",
       "      <td>4660</td>\n",
       "      <td>4660</td>\n",
       "      <td>4660</td>\n",
       "      <td>4660</td>\n",
       "      <td>4660</td>\n",
       "      <td>4660</td>\n",
       "      <td>4660</td>\n",
       "    </tr>\n",
       "    <tr>\n",
       "      <td>CONDIMENTS</td>\n",
       "      <td>3231</td>\n",
       "      <td>3231</td>\n",
       "      <td>3231</td>\n",
       "      <td>3231</td>\n",
       "      <td>3231</td>\n",
       "      <td>3231</td>\n",
       "      <td>3231</td>\n",
       "    </tr>\n",
       "    <tr>\n",
       "      <td>DAIRY</td>\n",
       "      <td>2917</td>\n",
       "      <td>2917</td>\n",
       "      <td>2917</td>\n",
       "      <td>2917</td>\n",
       "      <td>2917</td>\n",
       "      <td>2917</td>\n",
       "      <td>2917</td>\n",
       "    </tr>\n",
       "    <tr>\n",
       "      <td>FROZEN</td>\n",
       "      <td>1533</td>\n",
       "      <td>1533</td>\n",
       "      <td>1533</td>\n",
       "      <td>1533</td>\n",
       "      <td>1533</td>\n",
       "      <td>1533</td>\n",
       "      <td>1533</td>\n",
       "    </tr>\n",
       "    <tr>\n",
       "      <td>HOUSEHOLDS</td>\n",
       "      <td>3745</td>\n",
       "      <td>3745</td>\n",
       "      <td>3745</td>\n",
       "      <td>3745</td>\n",
       "      <td>3745</td>\n",
       "      <td>3745</td>\n",
       "      <td>3745</td>\n",
       "    </tr>\n",
       "    <tr>\n",
       "      <td>MEAT &amp; SEAFOOD</td>\n",
       "      <td>374</td>\n",
       "      <td>374</td>\n",
       "      <td>374</td>\n",
       "      <td>374</td>\n",
       "      <td>374</td>\n",
       "      <td>374</td>\n",
       "      <td>374</td>\n",
       "    </tr>\n",
       "    <tr>\n",
       "      <td>PET</td>\n",
       "      <td>1971</td>\n",
       "      <td>1971</td>\n",
       "      <td>1971</td>\n",
       "      <td>1971</td>\n",
       "      <td>1971</td>\n",
       "      <td>1971</td>\n",
       "      <td>1971</td>\n",
       "    </tr>\n",
       "    <tr>\n",
       "      <td>PROCESSED FOODS</td>\n",
       "      <td>12943</td>\n",
       "      <td>12943</td>\n",
       "      <td>12943</td>\n",
       "      <td>12943</td>\n",
       "      <td>12943</td>\n",
       "      <td>12943</td>\n",
       "      <td>12943</td>\n",
       "    </tr>\n",
       "    <tr>\n",
       "      <td>PRODUCE</td>\n",
       "      <td>4676</td>\n",
       "      <td>4676</td>\n",
       "      <td>4676</td>\n",
       "      <td>4676</td>\n",
       "      <td>4676</td>\n",
       "      <td>4676</td>\n",
       "      <td>4676</td>\n",
       "    </tr>\n",
       "    <tr>\n",
       "      <td>STATIONERY</td>\n",
       "      <td>10</td>\n",
       "      <td>10</td>\n",
       "      <td>10</td>\n",
       "      <td>10</td>\n",
       "      <td>10</td>\n",
       "      <td>10</td>\n",
       "      <td>10</td>\n",
       "    </tr>\n",
       "    <tr>\n",
       "      <td>TECHNOLOGY</td>\n",
       "      <td>115</td>\n",
       "      <td>115</td>\n",
       "      <td>115</td>\n",
       "      <td>115</td>\n",
       "      <td>115</td>\n",
       "      <td>115</td>\n",
       "      <td>115</td>\n",
       "    </tr>\n",
       "    <tr>\n",
       "      <td>TOYS</td>\n",
       "      <td>105</td>\n",
       "      <td>105</td>\n",
       "      <td>105</td>\n",
       "      <td>105</td>\n",
       "      <td>105</td>\n",
       "      <td>105</td>\n",
       "      <td>105</td>\n",
       "    </tr>\n",
       "    <tr>\n",
       "      <td>not found</td>\n",
       "      <td>85</td>\n",
       "      <td>85</td>\n",
       "      <td>85</td>\n",
       "      <td>85</td>\n",
       "      <td>85</td>\n",
       "      <td>85</td>\n",
       "      <td>85</td>\n",
       "    </tr>\n",
       "  </tbody>\n",
       "</table>\n",
       "</div>"
      ],
      "text/plain": [
       "                 PRODUCT_ID  MANUFACTURER  DEPARTMENT  BRAND  COMMODITY_DESC  \\\n",
       "LABEL                                                                          \n",
       "ALCOHOL                1698          1698        1698   1698            1698   \n",
       "BAKERY                  958           958         958    958             958   \n",
       "BEVERAGES              4660          4660        4660   4660            4660   \n",
       "CONDIMENTS             3231          3231        3231   3231            3231   \n",
       "DAIRY                  2917          2917        2917   2917            2917   \n",
       "FROZEN                 1533          1533        1533   1533            1533   \n",
       "HOUSEHOLDS             3745          3745        3745   3745            3745   \n",
       "MEAT & SEAFOOD          374           374         374    374             374   \n",
       "PET                    1971          1971        1971   1971            1971   \n",
       "PROCESSED FOODS       12943         12943       12943  12943           12943   \n",
       "PRODUCE                4676          4676        4676   4676            4676   \n",
       "STATIONERY               10            10          10     10              10   \n",
       "TECHNOLOGY              115           115         115    115             115   \n",
       "TOYS                    105           105         105    105             105   \n",
       "not found                85            85          85     85              85   \n",
       "\n",
       "                 SUB_COMMODITY_DESC  CURR_SIZE_OF_PRODUCT  \n",
       "LABEL                                                      \n",
       "ALCOHOL                        1698                  1698  \n",
       "BAKERY                          958                   958  \n",
       "BEVERAGES                      4660                  4660  \n",
       "CONDIMENTS                     3231                  3231  \n",
       "DAIRY                          2917                  2917  \n",
       "FROZEN                         1533                  1533  \n",
       "HOUSEHOLDS                     3745                  3745  \n",
       "MEAT & SEAFOOD                  374                   374  \n",
       "PET                            1971                  1971  \n",
       "PROCESSED FOODS               12943                 12943  \n",
       "PRODUCE                        4676                  4676  \n",
       "STATIONERY                       10                    10  \n",
       "TECHNOLOGY                      115                   115  \n",
       "TOYS                            105                   105  \n",
       "not found                        85                    85  "
      ]
     },
     "execution_count": 18,
     "metadata": {},
     "output_type": "execute_result"
    }
   ],
   "source": [
    "Grocery.groupby('LABEL').count()"
   ]
  },
  {
   "cell_type": "markdown",
   "metadata": {},
   "source": [
    "**C. LET'S DO IT AGAIN WITH DRUG GM**\n",
    "**Question** what is drug gm? If you're a retailer, the products you sell fall into one of two broad merchandise categories. One is groceries and food products, and the other is general merchandise, which is a broad catchall term for pretty much everything that's not groceries – from hearing aid batteries to major appliances. Some definitions go a bit further in describing who is or is not a general merchandise retailer, excluding things like building supplies or secondhand goods. Link: https://smallbusiness.chron.com/meaning-general-merchandise-68673.html"
   ]
  },
  {
   "cell_type": "code",
   "execution_count": 19,
   "metadata": {},
   "outputs": [
    {
     "data": {
      "text/html": [
       "<div>\n",
       "<style scoped>\n",
       "    .dataframe tbody tr th:only-of-type {\n",
       "        vertical-align: middle;\n",
       "    }\n",
       "\n",
       "    .dataframe tbody tr th {\n",
       "        vertical-align: top;\n",
       "    }\n",
       "\n",
       "    .dataframe thead th {\n",
       "        text-align: right;\n",
       "    }\n",
       "</style>\n",
       "<table border=\"1\" class=\"dataframe\">\n",
       "  <thead>\n",
       "    <tr style=\"text-align: right;\">\n",
       "      <th></th>\n",
       "      <th>PRODUCT_ID</th>\n",
       "      <th>MANUFACTURER</th>\n",
       "      <th>DEPARTMENT</th>\n",
       "      <th>BRAND</th>\n",
       "      <th>COMMODITY_DESC</th>\n",
       "      <th>SUB_COMMODITY_DESC</th>\n",
       "      <th>CURR_SIZE_OF_PRODUCT</th>\n",
       "      <th>LABEL</th>\n",
       "    </tr>\n",
       "  </thead>\n",
       "  <tbody>\n",
       "    <tr>\n",
       "      <td>7</td>\n",
       "      <td>26601</td>\n",
       "      <td>69</td>\n",
       "      <td>DRUG GM</td>\n",
       "      <td>Private</td>\n",
       "      <td>VITAMINS</td>\n",
       "      <td>VITAMIN - MINERALS</td>\n",
       "      <td>300CT(1)</td>\n",
       "      <td>DRUG GM</td>\n",
       "    </tr>\n",
       "    <tr>\n",
       "      <td>11</td>\n",
       "      <td>26889</td>\n",
       "      <td>32</td>\n",
       "      <td>DRUG GM</td>\n",
       "      <td>National</td>\n",
       "      <td>MAGAZINE</td>\n",
       "      <td>TV/MOVIE-MAGAZINE</td>\n",
       "      <td></td>\n",
       "      <td>DRUG GM</td>\n",
       "    </tr>\n",
       "    <tr>\n",
       "      <td>20</td>\n",
       "      <td>27334</td>\n",
       "      <td>69</td>\n",
       "      <td>DRUG GM</td>\n",
       "      <td>Private</td>\n",
       "      <td>DIETARY AID PRODUCTS</td>\n",
       "      <td>DIET CNTRL LIQS NUTRITIONAL</td>\n",
       "      <td></td>\n",
       "      <td>DRUG GM</td>\n",
       "    </tr>\n",
       "    <tr>\n",
       "      <td>108</td>\n",
       "      <td>29574</td>\n",
       "      <td>69</td>\n",
       "      <td>DRUG GM</td>\n",
       "      <td>Private</td>\n",
       "      <td>STATIONERY &amp; SCHOOL SUPPLIES</td>\n",
       "      <td>SCHOOL SUPPLIES</td>\n",
       "      <td>1 CT</td>\n",
       "      <td>DRUG GM</td>\n",
       "    </tr>\n",
       "  </tbody>\n",
       "</table>\n",
       "</div>"
      ],
      "text/plain": [
       "     PRODUCT_ID MANUFACTURER DEPARTMENT     BRAND  \\\n",
       "7         26601           69    DRUG GM   Private   \n",
       "11        26889           32    DRUG GM  National   \n",
       "20        27334           69    DRUG GM   Private   \n",
       "108       29574           69    DRUG GM   Private   \n",
       "\n",
       "                   COMMODITY_DESC           SUB_COMMODITY_DESC  \\\n",
       "7                        VITAMINS           VITAMIN - MINERALS   \n",
       "11                       MAGAZINE            TV/MOVIE-MAGAZINE   \n",
       "20           DIETARY AID PRODUCTS  DIET CNTRL LIQS NUTRITIONAL   \n",
       "108  STATIONERY & SCHOOL SUPPLIES              SCHOOL SUPPLIES   \n",
       "\n",
       "    CURR_SIZE_OF_PRODUCT    LABEL  \n",
       "7               300CT(1)  DRUG GM  \n",
       "11                        DRUG GM  \n",
       "20                        DRUG GM  \n",
       "108                 1 CT  DRUG GM  "
      ]
     },
     "execution_count": 19,
     "metadata": {},
     "output_type": "execute_result"
    }
   ],
   "source": [
    "#We extract the drug gm product data which is the second main store in the commercial center\n",
    "DrugGM = pd.DataFrame(product[product['DEPARTMENT'] == 'DRUG GM'])\n",
    "DrugGM.head(4)"
   ]
  },
  {
   "cell_type": "code",
   "execution_count": 20,
   "metadata": {},
   "outputs": [
    {
     "data": {
      "application/vnd.jupyter.widget-view+json": {
       "model_id": "8fcf5c3be2ba4d59a0a606c77684669e",
       "version_major": 2,
       "version_minor": 0
      },
      "text/plain": [
       "IntProgress(value=0, max=31529)"
      ]
     },
     "metadata": {},
     "output_type": "display_data"
    },
    {
     "data": {
      "application/vnd.jupyter.widget-view+json": {
       "model_id": "a02ea1b2dee441cf89e95ba355b4c186",
       "version_major": 2,
       "version_minor": 0
      },
      "text/plain": [
       "IntProgress(value=0, max=31529)"
      ]
     },
     "metadata": {},
     "output_type": "display_data"
    }
   ],
   "source": [
    "#Use LabelizeProduct to label the COMMODITY_DESC column from Drug GM department\n",
    "LabelledDGM = LabelizeProduct(DrugGM, DrugGM.COMMODITY_DESC, 0,ObjectLabels) \n",
    "\n",
    "#Use LabelizeProduct to label the SUB_COMMODITY_DESC column from Drug GM department\n",
    "LabelledSUBDGM = LabelizeProduct(DrugGM, DrugGM.SUB_COMMODITY_DESC, 0,ObjectLabels) "
   ]
  },
  {
   "cell_type": "code",
   "execution_count": 21,
   "metadata": {},
   "outputs": [
    {
     "data": {
      "text/plain": [
       "0"
      ]
     },
     "execution_count": 21,
     "metadata": {},
     "output_type": "execute_result"
    }
   ],
   "source": [
    "#Put the labels in the main data set Drug GM\n",
    "LabelledDGM['RatioSUB'] = LabelledSUBDGM.Ratio\n",
    "LabelledDGM['LabelSUB'] = LabelledSUBDGM.Label\n",
    "\n",
    "putLabel(LabelledDGM, DrugGM)"
   ]
  },
  {
   "cell_type": "code",
   "execution_count": 22,
   "metadata": {},
   "outputs": [
    {
     "data": {
      "text/plain": [
       "<matplotlib.axes._subplots.AxesSubplot at 0x1a20141110>"
      ]
     },
     "execution_count": 22,
     "metadata": {},
     "output_type": "execute_result"
    },
    {
     "data": {
      "image/png": "[encoded data removed]",
      "text/plain": [
       "<Figure size 432x288 with 1 Axes>"
      ]
     },
     "metadata": {
      "needs_background": "light"
     },
     "output_type": "display_data"
    }
   ],
   "source": [
    "# show results\n",
    "LabelDGMCount= DrugGM.groupby('LABEL').count()\n",
    "LabelDGMCount.BRAND.sort_values().plot.bar()"
   ]
  },
  {
   "cell_type": "code",
   "execution_count": 23,
   "metadata": {},
   "outputs": [
    {
     "data": {
      "text/html": [
       "<div>\n",
       "<style scoped>\n",
       "    .dataframe tbody tr th:only-of-type {\n",
       "        vertical-align: middle;\n",
       "    }\n",
       "\n",
       "    .dataframe tbody tr th {\n",
       "        vertical-align: top;\n",
       "    }\n",
       "\n",
       "    .dataframe thead th {\n",
       "        text-align: right;\n",
       "    }\n",
       "</style>\n",
       "<table border=\"1\" class=\"dataframe\">\n",
       "  <thead>\n",
       "    <tr style=\"text-align: right;\">\n",
       "      <th></th>\n",
       "      <th>Item</th>\n",
       "      <th>Ratio</th>\n",
       "      <th>Label</th>\n",
       "      <th>RatioSUB</th>\n",
       "      <th>LabelSUB</th>\n",
       "    </tr>\n",
       "  </thead>\n",
       "  <tbody>\n",
       "    <tr>\n",
       "      <td>20</td>\n",
       "      <td>DIETARY AID PRODUCTS</td>\n",
       "      <td>52</td>\n",
       "      <td>PHARMACY</td>\n",
       "      <td>0</td>\n",
       "      <td>not found</td>\n",
       "    </tr>\n",
       "    <tr>\n",
       "      <td>108</td>\n",
       "      <td>STATIONERY &amp; SCHOOL SUPPLIES</td>\n",
       "      <td>56</td>\n",
       "      <td>STATIONERY</td>\n",
       "      <td>0</td>\n",
       "      <td>not found</td>\n",
       "    </tr>\n",
       "    <tr>\n",
       "      <td>180</td>\n",
       "      <td>FIRST AID PRODUCTS</td>\n",
       "      <td>43</td>\n",
       "      <td>PHARMACY</td>\n",
       "      <td>0</td>\n",
       "      <td>not found</td>\n",
       "    </tr>\n",
       "    <tr>\n",
       "      <td>251</td>\n",
       "      <td>CANDY - PACKAGED</td>\n",
       "      <td>53</td>\n",
       "      <td>PROCESSED FOODS</td>\n",
       "      <td>0</td>\n",
       "      <td>not found</td>\n",
       "    </tr>\n",
       "    <tr>\n",
       "      <td>335</td>\n",
       "      <td>SPRING/SUMMER SEASONAL</td>\n",
       "      <td>43</td>\n",
       "      <td>CONDIMENTS</td>\n",
       "      <td>0</td>\n",
       "      <td>not found</td>\n",
       "    </tr>\n",
       "    <tr>\n",
       "      <td>...</td>\n",
       "      <td>...</td>\n",
       "      <td>...</td>\n",
       "      <td>...</td>\n",
       "      <td>...</td>\n",
       "      <td>...</td>\n",
       "    </tr>\n",
       "    <tr>\n",
       "      <td>92220</td>\n",
       "      <td>EASTER</td>\n",
       "      <td>0</td>\n",
       "      <td>not found</td>\n",
       "      <td>0</td>\n",
       "      <td>not found</td>\n",
       "    </tr>\n",
       "    <tr>\n",
       "      <td>92238</td>\n",
       "      <td>STATIONERY &amp; SCHOOL SUPPLIES</td>\n",
       "      <td>56</td>\n",
       "      <td>STATIONERY</td>\n",
       "      <td>0</td>\n",
       "      <td>not found</td>\n",
       "    </tr>\n",
       "    <tr>\n",
       "      <td>92240</td>\n",
       "      <td>APPAREL</td>\n",
       "      <td>0</td>\n",
       "      <td>not found</td>\n",
       "      <td>0</td>\n",
       "      <td>not found</td>\n",
       "    </tr>\n",
       "    <tr>\n",
       "      <td>92339</td>\n",
       "      <td>EASTER</td>\n",
       "      <td>0</td>\n",
       "      <td>not found</td>\n",
       "      <td>0</td>\n",
       "      <td>not found</td>\n",
       "    </tr>\n",
       "    <tr>\n",
       "      <td>92340</td>\n",
       "      <td>HOME FURNISHINGS</td>\n",
       "      <td>40</td>\n",
       "      <td>HOUSEHOLDS</td>\n",
       "      <td>0</td>\n",
       "      <td>not found</td>\n",
       "    </tr>\n",
       "  </tbody>\n",
       "</table>\n",
       "<p>8461 rows × 5 columns</p>\n",
       "</div>"
      ],
      "text/plain": [
       "                               Item Ratio            Label RatioSUB   LabelSUB\n",
       "20             DIETARY AID PRODUCTS    52         PHARMACY        0  not found\n",
       "108    STATIONERY & SCHOOL SUPPLIES    56       STATIONERY        0  not found\n",
       "180              FIRST AID PRODUCTS    43         PHARMACY        0  not found\n",
       "251                CANDY - PACKAGED    53  PROCESSED FOODS        0  not found\n",
       "335          SPRING/SUMMER SEASONAL    43       CONDIMENTS        0  not found\n",
       "...                             ...   ...              ...      ...        ...\n",
       "92220                        EASTER     0        not found        0  not found\n",
       "92238  STATIONERY & SCHOOL SUPPLIES    56       STATIONERY        0  not found\n",
       "92240                       APPAREL     0        not found        0  not found\n",
       "92339                        EASTER     0        not found        0  not found\n",
       "92340              HOME FURNISHINGS    40       HOUSEHOLDS        0  not found\n",
       "\n",
       "[8461 rows x 5 columns]"
      ]
     },
     "execution_count": 23,
     "metadata": {},
     "output_type": "execute_result"
    }
   ],
   "source": [
    "#We would like to estimate the error\n",
    "\n",
    "# number of item where SUB_COMMODITY_DESC and COMMODITY_DESC have a different label. (Knowing the the label kept \n",
    "# at the end is the one with the highest score  \n",
    "LabelledDGM[LabelledDGM['Label']!=LabelledDGM['LabelSUB']].count()\n",
    "\n",
    "# total of not found for both SUB_COMMODITY_DESC and COMMODITY_DESC\n",
    "LabelledDGM[(LabelledDGM['Label'] == 'not found') & (LabelledDGM['LabelSUB'] == 'not found')].count()\n",
    "\n",
    "# Total number of highest score lower than 20. Most often it is because we compare a small word to \n",
    "# a whole item description (several words).  \n",
    "LabelledDGM[(LabelledDGM['Ratio']<20) & (LabelledDGM['RatioSUB'] < 20)].count()\n",
    "LabelledDGM[(LabelledDGM['Ratio']<60) & (LabelledDGM['RatioSUB'] < 20)]"
   ]
  },
  {
   "cell_type": "markdown",
   "metadata": {},
   "source": [
    "**D. ALL THE OTHER SHOPS: DELI, PRODUCE, NUTRITION, COSMETICS etc.**"
   ]
  },
  {
   "cell_type": "markdown",
   "metadata": {},
   "source": [
    "The shop DELI needs also to be categorized. Since all the other shops are specialized the labels are easy to infer. Indeed it corresponds to the shop specialization. We also put the computed Label in the main dataset product (Grocery, Drug GM and DELI). "
   ]
  },
  {
   "cell_type": "code",
   "execution_count": 24,
   "metadata": {},
   "outputs": [
    {
     "data": {
      "application/vnd.jupyter.widget-view+json": {
       "model_id": "49b78dee4171482db5c5249398636fd1",
       "version_major": 2,
       "version_minor": 0
      },
      "text/plain": [
       "IntProgress(value=0, max=2354)"
      ]
     },
     "metadata": {},
     "output_type": "display_data"
    },
    {
     "data": {
      "application/vnd.jupyter.widget-view+json": {
       "model_id": "bd587a0ef67644e38cd03568d1a7086e",
       "version_major": 2,
       "version_minor": 0
      },
      "text/plain": [
       "IntProgress(value=0, max=2354)"
      ]
     },
     "metadata": {},
     "output_type": "display_data"
    }
   ],
   "source": [
    "# categorize the data in DELI\n",
    "DELI = product[product['DEPARTMENT'] == 'DELI']\n",
    "LabelledDELI = LabelizeProduct(DELI, DELI.COMMODITY_DESC, 0, ObjectLabels)\n",
    "LabelledSUBDELI = LabelizeProduct(DELI, DELI.SUB_COMMODITY_DESC, 0, ObjectLabels)"
   ]
  },
  {
   "cell_type": "code",
   "execution_count": 25,
   "metadata": {},
   "outputs": [
    {
     "name": "stderr",
     "output_type": "stream",
     "text": [
      "/Users/lou/anaconda3/envs/ada/lib/python3.7/site-packages/ipykernel_launcher.py:22: SettingWithCopyWarning: \n",
      "A value is trying to be set on a copy of a slice from a DataFrame\n",
      "\n",
      "See the caveats in the documentation: http://pandas.pydata.org/pandas-docs/stable/user_guide/indexing.html#returning-a-view-versus-a-copy\n",
      "/Users/lou/anaconda3/envs/ada/lib/python3.7/site-packages/ipykernel_launcher.py:25: SettingWithCopyWarning: \n",
      "A value is trying to be set on a copy of a slice from a DataFrame\n",
      "\n",
      "See the caveats in the documentation: http://pandas.pydata.org/pandas-docs/stable/user_guide/indexing.html#returning-a-view-versus-a-copy\n"
     ]
    },
    {
     "data": {
      "text/plain": [
       "0"
      ]
     },
     "execution_count": 25,
     "metadata": {},
     "output_type": "execute_result"
    }
   ],
   "source": [
    "#add DELI labels in the product dataframe and show results\n",
    "LabelledDELI['RatioSUB'] = LabelledSUBDELI.Ratio\n",
    "LabelledDELI['LabelSUB'] = LabelledSUBDELI.Label\n",
    "putLabel(LabelledDELI, DELI)"
   ]
  },
  {
   "cell_type": "code",
   "execution_count": 26,
   "metadata": {},
   "outputs": [
    {
     "data": {
      "text/plain": [
       "<matplotlib.axes._subplots.AxesSubplot at 0x1a21bdd650>"
      ]
     },
     "execution_count": 26,
     "metadata": {},
     "output_type": "execute_result"
    },
    {
     "data": {
      "image/png": "[encoded data removed]",
      "text/plain": [
       "<Figure size 432x288 with 1 Axes>"
      ]
     },
     "metadata": {
      "needs_background": "light"
     },
     "output_type": "display_data"
    }
   ],
   "source": [
    "DELILabelCount = DELI.groupby('LABEL').count()\n",
    "DELILabelCount.BRAND.sort_values().plot.bar()"
   ]
  },
  {
   "cell_type": "code",
   "execution_count": 27,
   "metadata": {},
   "outputs": [
    {
     "data": {
      "text/plain": [
       "array(['FROZEN', 'BAKERY', 'PRODUCE', 'PROCESSED FOODS', 'CONDIMENTS',\n",
       "       'PHARMACY', 'STATIONERY', 'HOUSEHOLDS', 'DAIRY', 'BEVERAGES',\n",
       "       'MEAT & SEAFOOD', 'NUTRITION', 'COSMETICS', 'PET', 'ALCOHOL',\n",
       "       'not found', 'SMOKING', 'TECHNOLOGY', 'FLORAL', 'RESTAURANT',\n",
       "       'GASOLINE', 'TOYS', nan, 'VIDEO RENTAL'], dtype=object)"
      ]
     },
     "execution_count": 27,
     "metadata": {},
     "output_type": "execute_result"
    }
   ],
   "source": [
    "#We standardize some labels for the seek of the vizualization. \n",
    "# I had trouble with the label setting in the main data set product. This is a shitty implementation but working. \n",
    "#I have to figure it out\n",
    "\n",
    "product.DEPARTMENT.loc[product['DEPARTMENT']== 'DAIRY DELI'] = 'DELI'\n",
    "\n",
    "product.LABEL.loc[product['DEPARTMENT']== 'MEAT'] = 'MEAT & SEAFOOD'\n",
    "product.LABEL.loc[product['DEPARTMENT']== 'MEAT-PCKGD'] = 'MEAT & SEAFOOD'\n",
    "product.LABEL.loc[product['DEPARTMENT']== 'SEAFOOD'] = 'MEAT & SEAFOOD'\n",
    "product.LABEL.loc[product['DEPARTMENT']== 'SEAFOOD-PCKGD'] = 'MEAT & SEAFOOD'\n",
    "product.LABEL.loc[product['DEPARTMENT']== 'FROZEN GROCERY'] = 'FROZEN'\n",
    "product.LABEL.loc[product['DEPARTMENT']== 'PHARMACY SUPPLY'] = 'PHARMACY'\n",
    "product.LABEL.loc[product['DEPARTMENT']== 'PORK'] = 'MEAT & SEAFOOD'\n",
    "product.LABEL.loc[product['DEPARTMENT']== 'RX'] = 'PHARMACY'\n",
    "product.LABEL.loc[product['DEPARTMENT']== 'HOUSEWARES'] = 'not found'\n",
    "product.LABEL.loc[product['DEPARTMENT']== 'ELECT &PLUMBING'] = 'not found'\n",
    "product.LABEL.loc[product['DEPARTMENT']== 'HBC'] = 'not found'\n",
    "product.LABEL.loc[product['DEPARTMENT']== 'DELI/SNACK BAR'] = 'not found'\n",
    "product.LABEL.loc[product['DEPARTMENT']== 'CHARITABLE CONT'] = 'not found'\n",
    "product.LABEL.loc[product['DEPARTMENT']== 'PROD-WHS SALES'] = 'not found'\n",
    "product.LABEL.loc[product['DEPARTMENT']== 'GM MERCH EXP'] = 'not found'\n",
    "product.LABEL.loc[product['DEPARTMENT']== 'CNTRL/STORE SUP'] = 'not found'\n",
    "product.LABEL.loc[product['DEPARTMENT']== ' '] = 'not found'\n",
    "product.LABEL.loc[product['DEPARTMENT']== 'GRO BAKERY'] = 'BAKERY'\n",
    "product.LABEL.loc[product['DEPARTMENT']== 'PASTRY'] = 'BAKERY'\n",
    "product.LABEL.loc[product['DEPARTMENT']== 'AUTOMOTIVE'] = 'STATIONERY'\n",
    "product.LABEL.loc[product['DEPARTMENT']== 'POSTAL CENTER'] = 'PROCESSED FOODS'\n",
    "product.LABEL.loc[product['DEPARTMENT']== 'CHEF SHOPPE'] = 'PROCESSED FOODS'\n",
    "product.LABEL.loc[product['DEPARTMENT']== 'TRAVEL & LEISUR'] = 'PRODUCE'\n",
    "product.LABEL.loc[product['DEPARTMENT']== 'SALAD BAR'] = 'RESTAURANT'\n",
    "product.LABEL.loc[product['DEPARTMENT']== 'GARDEN CENTER'] = 'FLORAL'\n",
    "product.LABEL.loc[product['DEPARTMENT']== 'KIOSK-GAS'] = 'GASOLINE'\n",
    "product.LABEL.loc[product['DEPARTMENT']== 'SPIRITS'] = 'ALCOHOL'\n",
    "\n",
    "product.LABEL.loc[product['DEPARTMENT'] == 'GROCERY'] = Grocery.LABEL\n",
    "product.LABEL.loc[product['DEPARTMENT'] == 'DRUG GM'] = DrugGM.LABEL\n",
    "product.LABEL.loc[product['DEPARTMENT'] == 'DELI'] = DELI.LABEL\n",
    "\n",
    "product.LABEL.unique()"
   ]
  },
  {
   "cell_type": "markdown",
   "metadata": {},
   "source": [
    "We produce a final plot to show our results."
   ]
  },
  {
   "cell_type": "code",
   "execution_count": 28,
   "metadata": {},
   "outputs": [
    {
     "data": {
      "image/png": "[encoded data removed]",
      "text/plain": [
       "<Figure size 1440x576 with 2 Axes>"
      ]
     },
     "metadata": {
      "needs_background": "light"
     },
     "output_type": "display_data"
    }
   ],
   "source": [
    "ProductLabels = product.groupby('LABEL').count()\n",
    "\n",
    "ProductLabels2 = product.groupby(by = ['DEPARTMENT','LABEL']).count()\n",
    "\n",
    "ProductDepartment = product.groupby(by = ['LABEL','DEPARTMENT']).count()\n",
    "#ProductLabels2 = ProductLabels2.drop(ProductLabels2[ProductLabels2['BRAND'] <=10].index)\n",
    "\n",
    "#palette : \n",
    "my_palette = [\"maroon\",\"firebrick\",\"crimson\", \"orangered\",\"chocolate\", \"peru\",\"sandybrown\",\"rosybrown\",\"darkturquoise\"\n",
    "        ,\"c\",\"cadetblue\",\"powderblue\",\"aquamarine\",\"springgreen\",\"limegreen\",\"green\",\"darkkhaki\"]\n",
    "sns.set_palette(my_palette)\n",
    "\n",
    "\n",
    "fig = plt.figure(figsize = (20,8))\n",
    "\n",
    "# Divide the figure into a 2x1 grid, and give  the first section\n",
    "ax1 = fig.add_subplot(121)\n",
    "\n",
    "# Divide the figure into a 2x1 grid, and give the second section\n",
    "ax2 = fig.add_subplot(122)\n",
    "\n",
    "ProductDepartment.BRAND[ProductDepartment['BRAND'] > 500].unstack().plot.bar(color = sns.color_palette(\"Paired\"),ax = ax1,stacked = True)\n",
    "ProductLabels2.loc[['DRUG GM','GROCERY','DELI']].BRAND.unstack().plot.bar(color = sns.color_palette(),ax = ax2,stacked = True)\n",
    "\n",
    "\n",
    "fig.subplots_adjust(hspace = 1.3)\n",
    "fig.subplots_adjust(wspace = 0.2)\n"
   ]
  },
  {
   "cell_type": "code",
   "execution_count": 29,
   "metadata": {},
   "outputs": [],
   "source": [
    "#Save to csv: \n",
    "if not os.path.exists(\"saved_structures\"):\n",
    "    os.makedirs(\"saved_structures\")\n",
    "\n",
    "product.to_csv(\"saved_structures/updated_prod3.csv\", sep ='\\t', index = False)"
   ]
  },
  {
   "cell_type": "markdown",
   "metadata": {},
   "source": [
    "In the left barplot we observe where we can find the different product types. In x-axis displays the product type and the color label gives the shop (DEPARTMENT) where the product can be found. For example we can see that the households product are mainly found in the drug store (DRUG GM), and most of the meat and seafood products are found in the meat and meat-pckgd shops. \n",
    "\n",
    "The right barplot shows the proportions of the different products types, that we can find in the \"unspecialized\" shops (Deli, the grocery, and the drug store). For example we can see that Deli sales only food products, whereas the drug store proposes an important variety of household products."
   ]
  },
  {
   "cell_type": "code",
   "execution_count": 31,
   "metadata": {},
   "outputs": [
    {
     "data": {
      "text/html": [
       "<div>\n",
       "<style scoped>\n",
       "    .dataframe tbody tr th:only-of-type {\n",
       "        vertical-align: middle;\n",
       "    }\n",
       "\n",
       "    .dataframe tbody tr th {\n",
       "        vertical-align: top;\n",
       "    }\n",
       "\n",
       "    .dataframe thead th {\n",
       "        text-align: right;\n",
       "    }\n",
       "</style>\n",
       "<table border=\"1\" class=\"dataframe\">\n",
       "  <thead>\n",
       "    <tr style=\"text-align: right;\">\n",
       "      <th></th>\n",
       "      <th>PRODUCT_ID</th>\n",
       "      <th>MANUFACTURER</th>\n",
       "      <th>DEPARTMENT</th>\n",
       "      <th>BRAND</th>\n",
       "      <th>COMMODITY_DESC</th>\n",
       "      <th>SUB_COMMODITY_DESC</th>\n",
       "      <th>CURR_SIZE_OF_PRODUCT</th>\n",
       "      <th>LABEL</th>\n",
       "    </tr>\n",
       "  </thead>\n",
       "  <tbody>\n",
       "    <tr>\n",
       "      <td>353</td>\n",
       "      <td>37932</td>\n",
       "      <td>1490</td>\n",
       "      <td>GROCERY</td>\n",
       "      <td>National</td>\n",
       "      <td>LIQUOR</td>\n",
       "      <td>COCKTAIL MIXES-FLUID:ADD LIQ</td>\n",
       "      <td>LITER</td>\n",
       "      <td>ALCOHOL</td>\n",
       "    </tr>\n",
       "    <tr>\n",
       "      <td>746</td>\n",
       "      <td>49165</td>\n",
       "      <td>1490</td>\n",
       "      <td>GROCERY</td>\n",
       "      <td>National</td>\n",
       "      <td>LIQUOR</td>\n",
       "      <td>COCKTAIL MIXES-FLUID:ADD LIQ</td>\n",
       "      <td>LITER</td>\n",
       "      <td>ALCOHOL</td>\n",
       "    </tr>\n",
       "    <tr>\n",
       "      <td>2594</td>\n",
       "      <td>142934</td>\n",
       "      <td>2384</td>\n",
       "      <td>GROCERY</td>\n",
       "      <td>National</td>\n",
       "      <td>LIQUOR</td>\n",
       "      <td>COCKTAIL MIXES-FLUID:ADD LIQ</td>\n",
       "      <td>1 LTR</td>\n",
       "      <td>ALCOHOL</td>\n",
       "    </tr>\n",
       "    <tr>\n",
       "      <td>2608</td>\n",
       "      <td>145106</td>\n",
       "      <td>2468</td>\n",
       "      <td>GROCERY</td>\n",
       "      <td>National</td>\n",
       "      <td>DOMESTIC WINE</td>\n",
       "      <td>VALUE GLASS WINE</td>\n",
       "      <td>1.5 LTR</td>\n",
       "      <td>ALCOHOL</td>\n",
       "    </tr>\n",
       "    <tr>\n",
       "      <td>3184</td>\n",
       "      <td>301126</td>\n",
       "      <td>5</td>\n",
       "      <td>GROCERY</td>\n",
       "      <td>Private</td>\n",
       "      <td>COUPON/MISC ITEMS</td>\n",
       "      <td>MISC SALES TRANS</td>\n",
       "      <td></td>\n",
       "      <td>ALCOHOL</td>\n",
       "    </tr>\n",
       "    <tr>\n",
       "      <td>...</td>\n",
       "      <td>...</td>\n",
       "      <td>...</td>\n",
       "      <td>...</td>\n",
       "      <td>...</td>\n",
       "      <td>...</td>\n",
       "      <td>...</td>\n",
       "      <td>...</td>\n",
       "      <td>...</td>\n",
       "    </tr>\n",
       "    <tr>\n",
       "      <td>92044</td>\n",
       "      <td>17990992</td>\n",
       "      <td>1857</td>\n",
       "      <td>DRUG GM</td>\n",
       "      <td>National</td>\n",
       "      <td>VALENTINE</td>\n",
       "      <td>VALENTINE TRAY PACK CARDS</td>\n",
       "      <td></td>\n",
       "      <td>ALCOHOL</td>\n",
       "    </tr>\n",
       "    <tr>\n",
       "      <td>92064</td>\n",
       "      <td>18004535</td>\n",
       "      <td>895</td>\n",
       "      <td>DRUG GM</td>\n",
       "      <td>Private</td>\n",
       "      <td>VALENTINE</td>\n",
       "      <td>TABLETOP</td>\n",
       "      <td></td>\n",
       "      <td>ALCOHOL</td>\n",
       "    </tr>\n",
       "    <tr>\n",
       "      <td>92094</td>\n",
       "      <td>18006046</td>\n",
       "      <td>1404</td>\n",
       "      <td>DRUG GM</td>\n",
       "      <td>National</td>\n",
       "      <td>VALENTINE</td>\n",
       "      <td>VALENTINE GIFTWARE/DECOR</td>\n",
       "      <td></td>\n",
       "      <td>ALCOHOL</td>\n",
       "    </tr>\n",
       "    <tr>\n",
       "      <td>92104</td>\n",
       "      <td>18023220</td>\n",
       "      <td>895</td>\n",
       "      <td>DRUG GM</td>\n",
       "      <td>Private</td>\n",
       "      <td>VALENTINE</td>\n",
       "      <td>VALENTINE GIFTWARE/DECOR</td>\n",
       "      <td></td>\n",
       "      <td>ALCOHOL</td>\n",
       "    </tr>\n",
       "    <tr>\n",
       "      <td>92157</td>\n",
       "      <td>18056399</td>\n",
       "      <td>2420</td>\n",
       "      <td>GROCERY</td>\n",
       "      <td>National</td>\n",
       "      <td>IMPORTED WINE</td>\n",
       "      <td>ITALIAN WINES</td>\n",
       "      <td>750 ML</td>\n",
       "      <td>ALCOHOL</td>\n",
       "    </tr>\n",
       "  </tbody>\n",
       "</table>\n",
       "<p>2372 rows × 8 columns</p>\n",
       "</div>"
      ],
      "text/plain": [
       "       PRODUCT_ID MANUFACTURER DEPARTMENT     BRAND     COMMODITY_DESC  \\\n",
       "353         37932         1490    GROCERY  National             LIQUOR   \n",
       "746         49165         1490    GROCERY  National             LIQUOR   \n",
       "2594       142934         2384    GROCERY  National             LIQUOR   \n",
       "2608       145106         2468    GROCERY  National      DOMESTIC WINE   \n",
       "3184       301126            5    GROCERY   Private  COUPON/MISC ITEMS   \n",
       "...           ...          ...        ...       ...                ...   \n",
       "92044    17990992         1857    DRUG GM  National          VALENTINE   \n",
       "92064    18004535          895    DRUG GM   Private          VALENTINE   \n",
       "92094    18006046         1404    DRUG GM  National          VALENTINE   \n",
       "92104    18023220          895    DRUG GM   Private          VALENTINE   \n",
       "92157    18056399         2420    GROCERY  National      IMPORTED WINE   \n",
       "\n",
       "                 SUB_COMMODITY_DESC CURR_SIZE_OF_PRODUCT    LABEL  \n",
       "353    COCKTAIL MIXES-FLUID:ADD LIQ                LITER  ALCOHOL  \n",
       "746    COCKTAIL MIXES-FLUID:ADD LIQ                LITER  ALCOHOL  \n",
       "2594   COCKTAIL MIXES-FLUID:ADD LIQ                1 LTR  ALCOHOL  \n",
       "2608               VALUE GLASS WINE              1.5 LTR  ALCOHOL  \n",
       "3184               MISC SALES TRANS                       ALCOHOL  \n",
       "...                             ...                  ...      ...  \n",
       "92044     VALENTINE TRAY PACK CARDS                       ALCOHOL  \n",
       "92064                      TABLETOP                       ALCOHOL  \n",
       "92094      VALENTINE GIFTWARE/DECOR                       ALCOHOL  \n",
       "92104      VALENTINE GIFTWARE/DECOR                       ALCOHOL  \n",
       "92157                 ITALIAN WINES               750 ML  ALCOHOL  \n",
       "\n",
       "[2372 rows x 8 columns]"
      ]
     },
     "execution_count": 31,
     "metadata": {},
     "output_type": "execute_result"
    }
   ],
   "source": [
    "product[product['LABEL']== 'ALCOHOL']"
   ]
  },
  {
   "cell_type": "code",
   "execution_count": null,
   "metadata": {},
   "outputs": [],
   "source": []
  }
 ],
 "metadata": {
  "kernelspec": {
   "display_name": "Python 3",
   "language": "python",
   "name": "python3"
  },
  "language_info": {
   "codemirror_mode": {
    "name": "ipython",
    "version": 3
   },
   "file_extension": ".py",
   "mimetype": "text/x-python",
   "name": "python",
   "nbconvert_exporter": "python",
   "pygments_lexer": "ipython3",
   "version": "3.7.4"
  },
  "toc": {
   "base_numbering": 1,
   "nav_menu": {},
   "number_sections": true,
   "sideBar": true,
   "skip_h1_title": false,
   "title_cell": "Table of Contents",
   "title_sidebar": "Contents",
   "toc_cell": false,
   "toc_position": {},
   "toc_section_display": true,
   "toc_window_display": false
  }
 },
 "nbformat": 4,
 "nbformat_minor": 2
}
