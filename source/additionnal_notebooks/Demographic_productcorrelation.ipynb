{
 "cells": [
  {
   "cell_type": "code",
   "execution_count": null,
   "metadata": {},
   "outputs": [],
   "source": [
    "%matplotlib inline\n",
    "import numpy as np\n",
    "import pandas as pd\n",
    "import matplotlib.pyplot as plt\n",
    "\n",
    "import os\n",
    "# to print numbers in a nice way\n",
    "import locale\n",
    "import re\n",
    "import seaborn as sns\n",
    "from modules import transaction_fx as trns\n",
    "from modules import plot_functions as plt_fx\n",
    "from modules import dem_fx\n",
    "\n",
    "os.getcwd()"
   ]
  },
  {
   "cell_type": "code",
   "execution_count": null,
   "metadata": {},
   "outputs": [],
   "source": [
    "#load\n",
    "\n",
    "#run the fix_household_composition notebook and save the final dataframe as hh_demographic_fxd\n",
    "hh_demographic_fxd = pd.read_csv('../data/dunnhumby_complete_csv/hh_demographic_fxd.csv', sep = ',')\n",
    "\n",
    "#run the product notebook and save the final dataframe product as products_labelled\n",
    "products_labelled = pd.read_csv('../data/dunnhumby_complete_csv/products_Labelled.csv', sep = ',')"
   ]
  },
  {
   "cell_type": "code",
   "execution_count": null,
   "metadata": {},
   "outputs": [],
   "source": [
    "hh_demographic = hh_demographic_fxd\n",
    "hh_demographic.loc[hh_demographic['MARITAL_STATUS_CODE'] == 'M', 'MARITAL_STATUS_CODE'] = 2\n",
    "hh_demographic.loc[hh_demographic['MARITAL_STATUS_CODE'] == 'S', 'MARITAL_STATUS_CODE'] = 1\n",
    "\n",
    "hh_demographic.loc[hh_demographic['AGE_DESC'] == '65+', 'AGE_DESC'] = 65\n",
    "hh_demographic.loc[hh_demographic['AGE_DESC'] == '45-54', 'AGE_DESC'] = 50\n",
    "hh_demographic.loc[hh_demographic['AGE_DESC'] == '25-34', 'AGE_DESC'] = 30\n",
    "hh_demographic.loc[hh_demographic['AGE_DESC'] == '35-44', 'AGE_DESC'] = 40\n",
    "hh_demographic.loc[hh_demographic['AGE_DESC'] == '19-24', 'AGE_DESC'] = 20\n",
    "hh_demographic.loc[hh_demographic['AGE_DESC'] == '55-64', 'AGE_DESC'] = 60\n",
    "\n",
    "hh_demographic.loc[hh_demographic['INCOME_DESC'] == 'Under 15K', 'INCOME_DESC'] = 15\n",
    "hh_demographic.loc[hh_demographic['INCOME_DESC'] == '15-24K', 'INCOME_DESC'] = 19.5\n",
    "hh_demographic.loc[hh_demographic['INCOME_DESC'] == '25-34K', 'INCOME_DESC'] = 29.5\n",
    "hh_demographic.loc[hh_demographic['INCOME_DESC'] == '35-49K', 'INCOME_DESC'] = 42\n",
    "hh_demographic.loc[hh_demographic['INCOME_DESC'] == '50-74K', 'INCOME_DESC'] = 62\n",
    "hh_demographic.loc[hh_demographic['INCOME_DESC'] == '75-99K', 'INCOME_DESC'] = 87\n",
    "hh_demographic.loc[hh_demographic['INCOME_DESC'] == '100-124K', 'INCOME_DESC'] = 112\n",
    "hh_demographic.loc[hh_demographic['INCOME_DESC'] == '125-149K', 'INCOME_DESC'] = 137\n",
    "hh_demographic.loc[hh_demographic['INCOME_DESC'] == '150-174K', 'INCOME_DESC'] = 162\n",
    "hh_demographic.loc[hh_demographic['INCOME_DESC'] == '175-199K', 'INCOME_DESC'] = 187\n",
    "hh_demographic.loc[hh_demographic['INCOME_DESC'] == '200-249K', 'INCOME_DESC'] = 245\n",
    "hh_demographic.loc[hh_demographic['INCOME_DESC'] == '250K+', 'INCOME_DESC'] = 250\n",
    "\n",
    "hh_demographic.loc[hh_demographic['HOUSEHOLD_SIZE_DESC'] == '5+', 'HOUSEHOLD_SIZE_DESC'] = 5\n",
    "hh_demographic.loc[hh_demographic['HOUSEHOLD_SIZE_DESC'] == '4', 'HOUSEHOLD_SIZE_DESC'] = 4\n",
    "hh_demographic.loc[hh_demographic['HOUSEHOLD_SIZE_DESC'] == '3', 'HOUSEHOLD_SIZE_DESC'] = 3\n",
    "hh_demographic.loc[hh_demographic['HOUSEHOLD_SIZE_DESC'] == '2', 'HOUSEHOLD_SIZE_DESC'] = 2\n",
    "hh_demographic.loc[hh_demographic['HOUSEHOLD_SIZE_DESC'] == '1', 'HOUSEHOLD_SIZE_DESC'] = 1\n",
    "\n",
    "hh_demographic.loc[hh_demographic['KIDS_DESC'] == '3+', 'KIDS_DESC'] = 3\n",
    "hh_demographic.loc[hh_demographic['KIDS_DESC'] == '2', 'KIDS_DESC'] = 2\n",
    "hh_demographic.loc[hh_demographic['KIDS_DESC'] == '1', 'KIDS_DESC'] = 1\n",
    "hh_demographic.loc[hh_demographic['KIDS_DESC'] == '0', 'KIDS_DESC'] = 0\n",
    "\n",
    "hh_demographic.loc[hh_demographic['HOMEOWNER_DESC'] == 'Homeowner', 'HOMEOWNER_DESC'] = 4\n",
    "hh_demographic.loc[hh_demographic['HOMEOWNER_DESC'] == 'Probable Owner', 'HOMEOWNER_DESC'] = 3\n",
    "hh_demographic.loc[hh_demographic['HOMEOWNER_DESC'] ==  'Renter', 'HOMEOWNER_DESC'] = 2\n",
    "hh_demographic.loc[hh_demographic['HOMEOWNER_DESC'] == 'Probable Renter', 'HOMEOWNER_DESC'] = 1\n",
    "hh_demographic.loc[hh_demographic['HOMEOWNER_DESC'] == 'Unknown', 'HOMEOWNER_DESC'] = 0\n",
    "\n",
    "hh_demographic= hh_demographic.drop(['Unnamed: 0','household_key'], axis =1)"
   ]
  },
  {
   "cell_type": "code",
   "execution_count": null,
   "metadata": {},
   "outputs": [],
   "source": [
    "hh_demographic.corr()"
   ]
  },
  {
   "cell_type": "code",
   "execution_count": null,
   "metadata": {},
   "outputs": [],
   "source": [
    "#correlation age and marital status\n",
    "# Draw a heatmap with the numeric values in each cell\n",
    "plt.figure(figsize=(8,5.5))\n",
    "#Quality correlation matrix\n",
    "k = 5 #number of variables for heatmap\n",
    "cols = hh_demographic.corr().nlargest(k, 'KIDS_DESC')['KIDS_DESC'].index\n",
    "cm = hh_demographic[cols].corr()\n",
    "sns.heatmap(cm, annot=True, cmap = 'Blues')\n",
    "\n",
    "plt.xticks(fontsize=10,rotation=60)\n",
    "plt.yticks(fontsize=10)\n",
    "plt.title('Correlation matrix: Demographic data',fontsize=20)\n"
   ]
  },
  {
   "cell_type": "markdown",
   "metadata": {},
   "source": [
    "As we can see in this correlation matrix, there is an important correlation in between the kid number and the household size, which is required for a coherent data. Moreover we observe a strong correlation (0.63) in between the household size and the marital status, which let us think that most people with kids are married. We also observe week correlations for the household size and the owning status, for the marital status and the owning status and for the income and the owning status.\n",
    "\n",
    "We find no correlation with the age of the participants."
   ]
  },
  {
   "cell_type": "code",
   "execution_count": null,
   "metadata": {},
   "outputs": [],
   "source": [
    "g = sns.pairplot(hh_demographic)\n",
    "g.set(xticklabels=[])\n",
    "\n",
    "sns.lmplot(x='fdr_old', y='fdr_new', data=df)"
   ]
  },
  {
   "cell_type": "markdown",
   "metadata": {},
   "source": [
    "**CHECK AT OUTLIERS**"
   ]
  },
  {
   "cell_type": "code",
   "execution_count": null,
   "metadata": {},
   "outputs": [],
   "source": [
    "# data skewness\n",
    "plt.figure(figsize=(2*number_of_columns,5*number_of_rows))\n",
    "for i in range(0,len(l)):\n",
    "    plt.subplot(number_of_rows + 1,number_of_columns,i+1)\n",
    "    sns.distplot(hh_demographic[l[i]],kde=True) "
   ]
  },
  {
   "cell_type": "code",
   "execution_count": null,
   "metadata": {},
   "outputs": [],
   "source": [
    "l = hh_demographic.drop(['MARITAL_STATUS_CODE','HOMEOWNER_DESC'], axis =1).columns.values\n",
    "number_of_columns=6\n",
    "number_of_rows = len(l)-1/number_of_columns\n",
    "plt.figure(figsize=(number_of_columns,5*number_of_rows))\n",
    "for i in range(0,len(l)):\n",
    "    plt.subplot(number_of_rows + 1,number_of_columns,i+1)\n",
    "    sns.set_style('whitegrid')\n",
    "    sns.boxplot(hh_demographic[l[i]],color='pink',orient='v')\n",
    "    plt.tight_layout()"
   ]
  },
  {
   "cell_type": "markdown",
   "metadata": {},
   "source": [
    "**BOX PLOT FOR **"
   ]
  },
  {
   "cell_type": "code",
   "execution_count": null,
   "metadata": {},
   "outputs": [],
   "source": [
    "filtered_income= pd.read_csv('./saved_structures/filtered_income.csv', sep = '\\t')\n",
    "filtered_income.head()\n"
   ]
  },
  {
   "cell_type": "code",
   "execution_count": null,
   "metadata": {},
   "outputs": [],
   "source": [
    "fig = plt.figure(figsize = (20,7))\n",
    "\n",
    "ax1 = fig.add_subplot(121)\n",
    "ax2 = fig.add_subplot(122)\n",
    "\n",
    "\n",
    "sns.boxplot(x=\"INCOME_DESC\", y='mean yearly spending', data=filtered_income, ax = ax1)\n",
    "ax1=sns.boxplot(x=\"INCOME_DESC\", y='participation_length', data=filtered_income, ax = ax2)\n"
   ]
  },
  {
   "cell_type": "markdown",
   "metadata": {},
   "source": [
    "**PRODUCTS**"
   ]
  },
  {
   "cell_type": "code",
   "execution_count": null,
   "metadata": {},
   "outputs": [],
   "source": [
    "weekly_cart_df = pd.read_csv(\"./saved_structures/weekly_cart_df.csv\", sep ='\\t')\n",
    "weekly_cart_df.index.name = 'household_key'\n",
    "weekly_cart_df.sample(4)\n"
   ]
  },
  {
   "cell_type": "code",
   "execution_count": null,
   "metadata": {},
   "outputs": [],
   "source": [
    "kids_index = hh_demographic_fxd[hh_demographic_fxd['KIDS_DESC']> 0].index\n",
    "no_kids_index = hh_demographic_fxd[hh_demographic_fxd['KIDS_DESC']== 0].index\n",
    "kids_weeklycart = weekly_cart_df.loc[kids_index]\n",
    "no_kids_weeklycart = weekly_cart_df.loc[no_kids_index]\n",
    "\n",
    "fig = plt.figure(figsize = (20,7))\n",
    "\n",
    "ax1 = fig.add_subplot(141)\n",
    "ax2 = fig.add_subplot(142)\n",
    "\n",
    "\n",
    "\n",
    "sns.distplot(kids_weeklycart.PRODUCE_QUANT,ax = ax1);\n",
    "sns.distplot(no_kids_weeklycart.PRODUCE_QUANT, ax =ax2);"
   ]
  },
  {
   "cell_type": "code",
   "execution_count": null,
   "metadata": {},
   "outputs": [],
   "source": [
    "old_index = hh_demographic_fxd[hh_demographic['AGE_DESC']>= 60].index\n",
    "young_index = hh_demographic_fxd[hh_demographic['AGE_DESC'] <= 30].index\n",
    "middleage_index = hh_demographic_fxd[(hh_demographic['AGE_DESC'] > 30) & (hh_demographic['AGE_DESC'] < 60)].index\n",
    "old_weeklycart = weekly_cart_df.loc[old_index]\n",
    "middleage_weeklycart = weekly_cart_df.loc[middleage_index]\n",
    "young_weeklycart = weekly_cart_df.loc[young_index]\n",
    "\n",
    "fig = plt.figure(figsize = (20,7))\n",
    "\n",
    "ax1 = fig.add_subplot(131)\n",
    "ax2 = fig.add_subplot(132)\n",
    "ax3 = fig.add_subplot(133)\n",
    "\n",
    "\n",
    "\n",
    "sns.distplot(old_weeklycart.PRODUCE_QUANT,ax = ax1);\n",
    "sns.distplot(middleage_weeklycart.PRODUCE_QUANT,ax = ax2);\n",
    "sns.distplot(young_weeklycart.PRODUCE_QUANT, ax =ax3);\n"
   ]
  },
  {
   "cell_type": "code",
   "execution_count": null,
   "metadata": {},
   "outputs": [],
   "source": [
    "\n",
    "hh_demo_weeklycart = pd.concat([hh_demographic_fxd.set_index(['household_key']).drop('Unnamed: 0', axis = 1),weekly_cart_df], axis =1, join = 'inner')\n",
    "hh_demo_weeklycart\n"
   ]
  },
  {
   "cell_type": "code",
   "execution_count": null,
   "metadata": {},
   "outputs": [],
   "source": [
    "fig = plt.figure(figsize = (20,7))\n",
    "\n",
    "ax1 = fig.add_subplot(121)\n",
    "ax2 = fig.add_subplot(122)\n",
    "\n",
    "\n",
    "sns.boxplot(x = 'MARITAL_STATUS_CODE', y ='BEVERAGES_QUANT', data=hh_demo_weeklycart[hh_demo_weeklycart['AGE_DESC'] == 30], ax = ax1)\n",
    "sns.boxplot(x=\"KIDS_DESC\", y='PET_QUANT', data=hh_demo_weeklycart[hh_demo_weeklycart['AGE_DESC'] == 30], ax = ax2)\n"
   ]
  },
  {
   "cell_type": "code",
   "execution_count": null,
   "metadata": {},
   "outputs": [],
   "source": [
    "sns.lineplot(x =hh_demo_weeklycart[(hh_demo_weeklycart['AGE_DESC'] == 30) & ((hh_demo_weeklycart['KIDS_DESC'] == 1))].index, y = \"FAST FOOD & SNACKS_QUANT\", data=hh_demo_weeklycart[(hh_demo_weeklycart['AGE_DESC'] == 30) &(hh_demo_weeklycart['KIDS_DESC'] == 1)])\n",
    "\n",
    "\n",
    "\n"
   ]
  },
  {
   "cell_type": "code",
   "execution_count": null,
   "metadata": {},
   "outputs": [],
   "source": [
    "hh_demo_weeklycart[hh_demo_weeklycart['AGE_DESC'] == 60].index"
   ]
  },
  {
   "cell_type": "markdown",
   "metadata": {},
   "source": [
    "[link test](https://github.com/marvande/epfl-ada-2019-project-bubble582/blob/master/source/modules/ml_functions.py)"
   ]
  },
  {
   "cell_type": "code",
   "execution_count": null,
   "metadata": {},
   "outputs": [],
   "source": [
    "weekly_cart_df= pd.read_csv(\"saved_structures/weekly_cart_df.csv\",\n",
    "                      sep='\\t')\n",
    "\n",
    "weekly_cart_df.head(4)"
   ]
  },
  {
   "cell_type": "code",
   "execution_count": null,
   "metadata": {},
   "outputs": [],
   "source": [
    "hh_demographic_fxd"
   ]
  },
  {
   "cell_type": "code",
   "execution_count": null,
   "metadata": {},
   "outputs": [],
   "source": [
    "test= hh_demographic_fxd.merge(weekly_cart_df, how='inner', left_index=True, right_index=True)"
   ]
  },
  {
   "cell_type": "code",
   "execution_count": null,
   "metadata": {},
   "outputs": [],
   "source": [
    "test.drop(['household_key','Unnamed: 0','PRODUCE_QUANT','PROCESSED FOODS_QUANT','BEVERAGES_QUANT','DAIRY_QUANT','HOUSEHOLDS_QUANT','MEAT & SEAFOOD_QUANT'],axis = 1,inplace = True)\n"
   ]
  },
  {
   "cell_type": "code",
   "execution_count": null,
   "metadata": {},
   "outputs": [],
   "source": [
    "test.corr()"
   ]
  },
  {
   "cell_type": "code",
   "execution_count": null,
   "metadata": {},
   "outputs": [],
   "source": [
    "test"
   ]
  },
  {
   "cell_type": "code",
   "execution_count": null,
   "metadata": {},
   "outputs": [],
   "source": []
  }
 ],
 "metadata": {
  "kernelspec": {
   "display_name": "Python 3",
   "language": "python",
   "name": "python3"
  },
  "language_info": {
   "codemirror_mode": {
    "name": "ipython",
    "version": 3
   },
   "file_extension": ".py",
   "mimetype": "text/x-python",
   "name": "python",
   "nbconvert_exporter": "python",
   "pygments_lexer": "ipython3",
   "version": "3.7.4"
  },
  "toc": {
   "base_numbering": 1,
   "nav_menu": {},
   "number_sections": true,
   "sideBar": true,
   "skip_h1_title": false,
   "title_cell": "Table of Contents",
   "title_sidebar": "Contents",
   "toc_cell": false,
   "toc_position": {},
   "toc_section_display": true,
   "toc_window_display": false
  }
 },
 "nbformat": 4,
 "nbformat_minor": 2
}
