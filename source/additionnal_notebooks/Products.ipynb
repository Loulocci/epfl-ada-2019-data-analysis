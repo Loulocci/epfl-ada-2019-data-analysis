{
 "cells": [
  {
   "cell_type": "markdown",
   "metadata": {},
   "source": [
    "# PRODUCTS"
   ]
  },
  {
   "cell_type": "markdown",
   "metadata": {},
   "source": [
    "**A. CLEAN UP AND PREPARE PRODUCT DATA**"
   ]
  },
  {
   "cell_type": "markdown",
   "metadata": {},
   "source": [
    "A.1 Load and plot"
   ]
  },
  {
   "cell_type": "code",
   "execution_count": 1,
   "metadata": {},
   "outputs": [
    {
     "name": "stderr",
     "output_type": "stream",
     "text": [
      "/Users/marijnvandermeer/anaconda3/envs/ada/lib/python3.7/site-packages/fuzzywuzzy/fuzz.py:11: UserWarning: Using slow pure-python SequenceMatcher. Install python-Levenshtein to remove this warning\n",
      "  warnings.warn('Using slow pure-python SequenceMatcher. Install python-Levenshtein to remove this warning')\n"
     ]
    }
   ],
   "source": [
    "%matplotlib inline\n",
    "import pandas as pd\n",
    "import matplotlib.pyplot as plt\n",
    "import os\n",
    "\n",
    "# pip install fuzzywuzzy\n",
    "from fuzzywuzzy import fuzz\n",
    "from operator import itemgetter\n",
    "import re\n",
    "import seaborn as sns\n",
    "from ipywidgets import IntProgress\n",
    "from IPython.display import display\n",
    "import time\n",
    "\n",
    "#Website object lists : https://7esl.com/tools-and-equipment/#Technological_Gadgets"
   ]
  },
  {
   "cell_type": "code",
   "execution_count": 2,
   "metadata": {},
   "outputs": [
    {
     "data": {
      "text/plain": [
       "'/Users/marijnvandermeer/github/Tutorials_ada/epfl-ada-2019-project-bubble582/source'"
      ]
     },
     "execution_count": 2,
     "metadata": {},
     "output_type": "execute_result"
    }
   ],
   "source": [
    "os.getcwd()"
   ]
  },
  {
   "cell_type": "code",
   "execution_count": 3,
   "metadata": {},
   "outputs": [],
   "source": [
    "#load the data\n",
    "hh_demographic = pd.read_csv('../data/dunnhumby_complete_csv/hh_demographic.csv', sep = ',')\n",
    "\n",
    "transaction_data = pd.read_csv('../data/dunnhumby_complete_csv/transaction_data.csv', sep = ',')\n",
    "\n",
    "product = pd.read_csv('../data/dunnhumby_complete_csv/product.csv', sep = ',')\n",
    "\n",
    "# This is a list a created. It is a small file, I pushed it in data in order you can have it at home\n",
    "ObjectLabels = pd.read_csv('../data/dunnhumby_complete_csv/GroceryLists_precise.csv', sep = ',')\n",
    "ObjectLabels.columns = ['ITEM','LABEL']"
   ]
  },
  {
   "cell_type": "code",
   "execution_count": 4,
   "metadata": {},
   "outputs": [
    {
     "data": {
      "text/html": [
       "<div>\n",
       "<style scoped>\n",
       "    .dataframe tbody tr th:only-of-type {\n",
       "        vertical-align: middle;\n",
       "    }\n",
       "\n",
       "    .dataframe tbody tr th {\n",
       "        vertical-align: top;\n",
       "    }\n",
       "\n",
       "    .dataframe thead th {\n",
       "        text-align: right;\n",
       "    }\n",
       "</style>\n",
       "<table border=\"1\" class=\"dataframe\">\n",
       "  <thead>\n",
       "    <tr style=\"text-align: right;\">\n",
       "      <th></th>\n",
       "      <th>ITEM</th>\n",
       "      <th>LABEL</th>\n",
       "    </tr>\n",
       "  </thead>\n",
       "  <tbody>\n",
       "    <tr>\n",
       "      <th>0</th>\n",
       "      <td>Vegetable</td>\n",
       "      <td>VEGETABLES</td>\n",
       "    </tr>\n",
       "    <tr>\n",
       "      <th>1</th>\n",
       "      <td>Corn</td>\n",
       "      <td>VEGETABLES</td>\n",
       "    </tr>\n",
       "    <tr>\n",
       "      <th>2</th>\n",
       "      <td>Mushroom</td>\n",
       "      <td>VEGETABLES</td>\n",
       "    </tr>\n",
       "    <tr>\n",
       "      <th>3</th>\n",
       "      <td>Broccoli</td>\n",
       "      <td>VEGETABLES</td>\n",
       "    </tr>\n",
       "    <tr>\n",
       "      <th>4</th>\n",
       "      <td>Cucumber</td>\n",
       "      <td>VEGETABLES</td>\n",
       "    </tr>\n",
       "    <tr>\n",
       "      <th>...</th>\n",
       "      <td>...</td>\n",
       "      <td>...</td>\n",
       "    </tr>\n",
       "    <tr>\n",
       "      <th>467</th>\n",
       "      <td>Pastis</td>\n",
       "      <td>ALCOHOL</td>\n",
       "    </tr>\n",
       "    <tr>\n",
       "      <th>468</th>\n",
       "      <td>Bath toys</td>\n",
       "      <td>TOYS</td>\n",
       "    </tr>\n",
       "    <tr>\n",
       "      <th>469</th>\n",
       "      <td>Toys</td>\n",
       "      <td>TOYS</td>\n",
       "    </tr>\n",
       "    <tr>\n",
       "      <th>470</th>\n",
       "      <td>Games/game</td>\n",
       "      <td>TOYS</td>\n",
       "    </tr>\n",
       "    <tr>\n",
       "      <th>471</th>\n",
       "      <td>Playing</td>\n",
       "      <td>TOYS</td>\n",
       "    </tr>\n",
       "  </tbody>\n",
       "</table>\n",
       "<p>472 rows × 2 columns</p>\n",
       "</div>"
      ],
      "text/plain": [
       "           ITEM       LABEL\n",
       "0     Vegetable  VEGETABLES\n",
       "1          Corn  VEGETABLES\n",
       "2      Mushroom  VEGETABLES\n",
       "3      Broccoli  VEGETABLES\n",
       "4      Cucumber  VEGETABLES\n",
       "..          ...         ...\n",
       "467      Pastis     ALCOHOL\n",
       "468   Bath toys        TOYS\n",
       "469        Toys        TOYS\n",
       "470  Games/game        TOYS\n",
       "471     Playing        TOYS\n",
       "\n",
       "[472 rows x 2 columns]"
      ]
     },
     "execution_count": 4,
     "metadata": {},
     "output_type": "execute_result"
    }
   ],
   "source": [
    "ObjectLabels"
   ]
  },
  {
   "cell_type": "markdown",
   "metadata": {},
   "source": [
    "First we get interested by the different departments in the commercial center. We reorder the departments and plot the number of different products we can find per department. "
   ]
  },
  {
   "cell_type": "code",
   "execution_count": 5,
   "metadata": {},
   "outputs": [
    {
     "name": "stdout",
     "output_type": "stream",
     "text": [
      "The order of the manufacturer categories is : [   1    2    3 ... 6475 6476 6477]\n"
     ]
    }
   ],
   "source": [
    "# REORDERING PART: \n",
    "ordered_manufacturer= product.MANUFACTURER.astype(int).sort_values()\n",
    "ordered_manufacturer= ordered_manufacturer.unique()\n",
    "\n",
    "product['MANUFACTURER'] = pd.Categorical(product['MANUFACTURER'],\n",
    "                      ordered = True,\n",
    "                      categories = ordered_manufacturer)\n",
    "\n",
    "#Drop unwanted products: \n",
    "unwanted_departments = ['','PHOTO', 'VIDEO', 'MISC. TRANS.', 'MISC SALES TRAN','MEAT-WHSE', 'COUP/STR & MFG']\n",
    "product = product[product['DEPARTMENT'].apply(lambda x: x not in unwanted_departments)]\n",
    "\n",
    "print ('The order of the manufacturer categories is :', ordered_manufacturer)"
   ]
  },
  {
   "cell_type": "code",
   "execution_count": 6,
   "metadata": {},
   "outputs": [
    {
     "data": {
      "text/html": [
       "<div>\n",
       "<style scoped>\n",
       "    .dataframe tbody tr th:only-of-type {\n",
       "        vertical-align: middle;\n",
       "    }\n",
       "\n",
       "    .dataframe tbody tr th {\n",
       "        vertical-align: top;\n",
       "    }\n",
       "\n",
       "    .dataframe thead th {\n",
       "        text-align: right;\n",
       "    }\n",
       "</style>\n",
       "<table border=\"1\" class=\"dataframe\">\n",
       "  <thead>\n",
       "    <tr style=\"text-align: right;\">\n",
       "      <th></th>\n",
       "      <th>PRODUCT_ID</th>\n",
       "      <th>MANUFACTURER</th>\n",
       "      <th>DEPARTMENT</th>\n",
       "      <th>BRAND</th>\n",
       "      <th>COMMODITY_DESC</th>\n",
       "      <th>SUB_COMMODITY_DESC</th>\n",
       "      <th>CURR_SIZE_OF_PRODUCT</th>\n",
       "      <th>LABEL</th>\n",
       "    </tr>\n",
       "  </thead>\n",
       "  <tbody>\n",
       "    <tr>\n",
       "      <th>0</th>\n",
       "      <td>25671</td>\n",
       "      <td>2</td>\n",
       "      <td>GROCERY</td>\n",
       "      <td>National</td>\n",
       "      <td>FRZN ICE</td>\n",
       "      <td>ICE - CRUSHED/CUBED</td>\n",
       "      <td>22 LB</td>\n",
       "      <td>GROCERY</td>\n",
       "    </tr>\n",
       "    <tr>\n",
       "      <th>2</th>\n",
       "      <td>26093</td>\n",
       "      <td>69</td>\n",
       "      <td>PASTRY</td>\n",
       "      <td>Private</td>\n",
       "      <td>BREAD</td>\n",
       "      <td>BREAD:ITALIAN/FRENCH</td>\n",
       "      <td></td>\n",
       "      <td>PASTRY</td>\n",
       "    </tr>\n",
       "    <tr>\n",
       "      <th>3</th>\n",
       "      <td>26190</td>\n",
       "      <td>69</td>\n",
       "      <td>GROCERY</td>\n",
       "      <td>Private</td>\n",
       "      <td>FRUIT - SHELF STABLE</td>\n",
       "      <td>APPLE SAUCE</td>\n",
       "      <td>50 OZ</td>\n",
       "      <td>GROCERY</td>\n",
       "    </tr>\n",
       "    <tr>\n",
       "      <th>4</th>\n",
       "      <td>26355</td>\n",
       "      <td>69</td>\n",
       "      <td>GROCERY</td>\n",
       "      <td>Private</td>\n",
       "      <td>COOKIES/CONES</td>\n",
       "      <td>SPECIALTY COOKIES</td>\n",
       "      <td>14 OZ</td>\n",
       "      <td>GROCERY</td>\n",
       "    </tr>\n",
       "  </tbody>\n",
       "</table>\n",
       "</div>"
      ],
      "text/plain": [
       "   PRODUCT_ID MANUFACTURER DEPARTMENT     BRAND        COMMODITY_DESC  \\\n",
       "0       25671            2    GROCERY  National              FRZN ICE   \n",
       "2       26093           69     PASTRY   Private                 BREAD   \n",
       "3       26190           69    GROCERY   Private  FRUIT - SHELF STABLE   \n",
       "4       26355           69    GROCERY   Private         COOKIES/CONES   \n",
       "\n",
       "     SUB_COMMODITY_DESC CURR_SIZE_OF_PRODUCT    LABEL  \n",
       "0   ICE - CRUSHED/CUBED                22 LB  GROCERY  \n",
       "2  BREAD:ITALIAN/FRENCH                        PASTRY  \n",
       "3           APPLE SAUCE                50 OZ  GROCERY  \n",
       "4     SPECIALTY COOKIES                14 OZ  GROCERY  "
      ]
     },
     "execution_count": 6,
     "metadata": {},
     "output_type": "execute_result"
    }
   ],
   "source": [
    "#We create the LABEL column in the product dataframe to use later: \n",
    "product['LABEL'] = product['DEPARTMENT']\n",
    "product.head(4)"
   ]
  },
  {
   "cell_type": "code",
   "execution_count": 7,
   "metadata": {},
   "outputs": [
    {
     "data": {
      "text/plain": [
       "[Text(0.5, 1.0, 'Number of occurences per department in product data')]"
      ]
     },
     "execution_count": 7,
     "metadata": {},
     "output_type": "execute_result"
    },
    {
     "data": {
      "image/png": "[encoded data removed]",
      "text/plain": [
       "<Figure size 1296x432 with 1 Axes>"
      ]
     },
     "metadata": {
      "needs_background": "light"
     },
     "output_type": "display_data"
    }
   ],
   "source": [
    "#Plot the number of products per department: \n",
    "department = product.groupby(['DEPARTMENT']).count()\n",
    "\n",
    "fig, axs = plt.subplots(1,1, figsize = (18,6))\n",
    "sns.countplot(product['DEPARTMENT'], ax = axs)\n",
    "axs.set_xticklabels(axs.get_xticklabels(), rotation = 45, horizontalalignment = 'right')\n",
    "axs.set(title = 'Number of occurences per department in product data')"
   ]
  },
  {
   "cell_type": "markdown",
   "metadata": {},
   "source": [
    "As we can see in the previous barplots, the departments with the highest number of referenced products in this study are the grocery with almost 40000 products, and the drug GM (which is probably a drug store) with more than 30000 products. We are going to focus on these 2 mains stores in a first time."
   ]
  },
  {
   "cell_type": "markdown",
   "metadata": {},
   "source": [
    "**B. GROCERY DATA PREPROCESSING**"
   ]
  },
  {
   "cell_type": "markdown",
   "metadata": {},
   "source": [
    "In this part we are interested to clean up and categorize the different products from the grocery store. We want to explain what purpose they serve (food, households, & hygien products, pet products etc.). We create a special Grocery dataframe for this purpose."
   ]
  },
  {
   "cell_type": "code",
   "execution_count": 8,
   "metadata": {},
   "outputs": [
    {
     "data": {
      "text/html": [
       "<div>\n",
       "<style scoped>\n",
       "    .dataframe tbody tr th:only-of-type {\n",
       "        vertical-align: middle;\n",
       "    }\n",
       "\n",
       "    .dataframe tbody tr th {\n",
       "        vertical-align: top;\n",
       "    }\n",
       "\n",
       "    .dataframe thead th {\n",
       "        text-align: right;\n",
       "    }\n",
       "</style>\n",
       "<table border=\"1\" class=\"dataframe\">\n",
       "  <thead>\n",
       "    <tr style=\"text-align: right;\">\n",
       "      <th></th>\n",
       "      <th>PRODUCT_ID</th>\n",
       "      <th>MANUFACTURER</th>\n",
       "      <th>DEPARTMENT</th>\n",
       "      <th>BRAND</th>\n",
       "      <th>COMMODITY_DESC</th>\n",
       "      <th>SUB_COMMODITY_DESC</th>\n",
       "      <th>CURR_SIZE_OF_PRODUCT</th>\n",
       "      <th>LABEL</th>\n",
       "    </tr>\n",
       "  </thead>\n",
       "  <tbody>\n",
       "    <tr>\n",
       "      <th>0</th>\n",
       "      <td>25671</td>\n",
       "      <td>2</td>\n",
       "      <td>GROCERY</td>\n",
       "      <td>National</td>\n",
       "      <td>FRZN ICE</td>\n",
       "      <td>ICE - CRUSHED/CUBED</td>\n",
       "      <td>22 LB</td>\n",
       "      <td>GROCERY</td>\n",
       "    </tr>\n",
       "    <tr>\n",
       "      <th>3</th>\n",
       "      <td>26190</td>\n",
       "      <td>69</td>\n",
       "      <td>GROCERY</td>\n",
       "      <td>Private</td>\n",
       "      <td>FRUIT - SHELF STABLE</td>\n",
       "      <td>APPLE SAUCE</td>\n",
       "      <td>50 OZ</td>\n",
       "      <td>GROCERY</td>\n",
       "    </tr>\n",
       "    <tr>\n",
       "      <th>4</th>\n",
       "      <td>26355</td>\n",
       "      <td>69</td>\n",
       "      <td>GROCERY</td>\n",
       "      <td>Private</td>\n",
       "      <td>COOKIES/CONES</td>\n",
       "      <td>SPECIALTY COOKIES</td>\n",
       "      <td>14 OZ</td>\n",
       "      <td>GROCERY</td>\n",
       "    </tr>\n",
       "    <tr>\n",
       "      <th>5</th>\n",
       "      <td>26426</td>\n",
       "      <td>69</td>\n",
       "      <td>GROCERY</td>\n",
       "      <td>Private</td>\n",
       "      <td>SPICES &amp; EXTRACTS</td>\n",
       "      <td>SPICES &amp; SEASONINGS</td>\n",
       "      <td>2.5 OZ</td>\n",
       "      <td>GROCERY</td>\n",
       "    </tr>\n",
       "  </tbody>\n",
       "</table>\n",
       "</div>"
      ],
      "text/plain": [
       "   PRODUCT_ID MANUFACTURER DEPARTMENT     BRAND        COMMODITY_DESC  \\\n",
       "0       25671            2    GROCERY  National              FRZN ICE   \n",
       "3       26190           69    GROCERY   Private  FRUIT - SHELF STABLE   \n",
       "4       26355           69    GROCERY   Private         COOKIES/CONES   \n",
       "5       26426           69    GROCERY   Private     SPICES & EXTRACTS   \n",
       "\n",
       "    SUB_COMMODITY_DESC CURR_SIZE_OF_PRODUCT    LABEL  \n",
       "0  ICE - CRUSHED/CUBED                22 LB  GROCERY  \n",
       "3          APPLE SAUCE                50 OZ  GROCERY  \n",
       "4    SPECIALTY COOKIES                14 OZ  GROCERY  \n",
       "5  SPICES & SEASONINGS               2.5 OZ  GROCERY  "
      ]
     },
     "execution_count": 8,
     "metadata": {},
     "output_type": "execute_result"
    }
   ],
   "source": [
    "#we extract the grocery product data which is the main supermarket in the commercial center\n",
    "Grocery= pd.DataFrame(product[product['DEPARTMENT'] == 'GROCERY'])\n",
    "Grocery.head(4)"
   ]
  },
  {
   "cell_type": "markdown",
   "metadata": {},
   "source": [
    "The only product descriptions provided by the Grocery data are few words descriptions found in COMMODITY_DESC and SUB_COMMODITY_DESC columns. These descriptions are not standardized, no categories arise from them. \n",
    "\n",
    "In a first time, we want to categorize the words in the descriptions using different labels (produce, households, technology ...). To do so we create a function called \"LabelizeProduct\". This function first recognizes the different words or words sequences in the description. These words or words sequences are associated with a certain label in a list of shopping items (\"GroceryList.csv\"). In a second time, based on the fuzzywuzzy librairy, the \"LabelizeProduct\" gives a score with comparing the description and the shopping item corresponding to words sequence identified. Finally, the functions keep the label for which the score is the highest. "
   ]
  },
  {
   "cell_type": "code",
   "execution_count": 9,
   "metadata": {},
   "outputs": [],
   "source": [
    "\"\"\"\n",
    "LabelizeProduct: This function is able to categorize the products \n",
    "given in data with looking at a labelled list of words. This labelled list of words is a lexique of grocery and shopping words. \n",
    "\n",
    "@input: \n",
    "- threshold is the smallest fuzzywuzzy score accepted to declare a match. \n",
    "    (fuzzywuzzy gives a score of string matching over 100). If score lower than threshold, the item is categorized as 'not found'. \n",
    "- data: the  dataset to categorize, dataCol is the column of the dataset to categorize\n",
    "- wordList: the list of words associated with a Label. wordList : ['ITEM','LABEL']\n",
    "\n",
    "@output: ?\n",
    "\"\"\"\n",
    "def LabelizeProduct(data, dataCol, threshold, wordList) :\n",
    "    #Progress bar: \n",
    "    max_count = len(data.index)\n",
    "    \n",
    "    f = IntProgress(min = 0, max = max_count) # instantiate the bar\n",
    "    \n",
    "    display(f) # display the bar\n",
    "    \n",
    "    Out = pd.DataFrame(index = data.index, columns = ['Item','Ratio','Label'])\n",
    "    \n",
    "    #count to show progression when running (can take few minutes)\n",
    "    loopCounter = 0\n",
    "    \n",
    "    # iterate on the index of the dataset to categorize\n",
    "    for indexCOM in data.index :\n",
    "        \"\"\"\n",
    "        if (loopCounter%100 == 0): \n",
    "            print(loopCounter)\n",
    "        \"\"\"\n",
    "        \n",
    "        # the item to categorize in the dataCol\n",
    "        item = dataCol.loc[indexCOM]\n",
    "        #a vector to keep all the matches within the grocerylist.csv\n",
    "        match = []\n",
    "        #set the output table\n",
    "        Out.Item[indexCOM] = item\n",
    "        Out.Label[indexCOM] = 'not found'\n",
    "        Out.Ratio[indexCOM]= 0\n",
    "        \n",
    "        #iterate on the wordList's items (belonging to a certain label)\n",
    "        for index,label in enumerate(wordList.LABEL) :\n",
    "            \n",
    "            # get all the separated words in the wordList item\n",
    "            line = re.split(' |&|/',wordList.ITEM[index])\n",
    "            \n",
    "            #iterate on the separated words in the wordList item\n",
    "            for word in line:\n",
    "                #manage case (everything in lowercase)\n",
    "                lword= word.lower()\n",
    "                litem = item.lower()\n",
    "\n",
    "                # if we find the word from wordList item, in the description of the data:\n",
    "                # we calculate the fuzzywuzzy ratio(%) and we append the match in the match vector\n",
    "                if litem.find(lword)!= -1:\n",
    "                    ratio = fuzz.token_sort_ratio(str.lower(item), str.lower(lword))\n",
    "                    match.append((indexCOM,line,ratio,label))\n",
    "                    \n",
    "        # if the match vector is not empty, then we attribute the label corresponding to the max ratio \n",
    "        #to the description            \n",
    "        if (match) and (max(match,key=itemgetter(2))[2]>= threshold)  :\n",
    "            Out.Label[indexCOM] = max(match,key=itemgetter(2))[3]\n",
    "            Out.Ratio[indexCOM]= max(match,key=itemgetter(2))[2]\n",
    "            \n",
    "        f.value += 1\n",
    "        loopCounter += 1\n",
    "            \n",
    "    return Out"
   ]
  },
  {
   "cell_type": "markdown",
   "metadata": {},
   "source": [
    "We use our new function \"LabelizeProduct\" to find the main categories in the Grocery department."
   ]
  },
  {
   "cell_type": "code",
   "execution_count": 10,
   "metadata": {},
   "outputs": [
    {
     "data": {
      "application/vnd.jupyter.widget-view+json": {
       "model_id": "e18870cd06b949eaa20157134e87d690",
       "version_major": 2,
       "version_minor": 0
      },
      "text/plain": [
       "IntProgress(value=0, max=39021)"
      ]
     },
     "metadata": {},
     "output_type": "display_data"
    },
    {
     "data": {
      "application/vnd.jupyter.widget-view+json": {
       "model_id": "05307acb06a743e2babd145d8dae8515",
       "version_major": 2,
       "version_minor": 0
      },
      "text/plain": [
       "IntProgress(value=0, max=39021)"
      ]
     },
     "metadata": {},
     "output_type": "display_data"
    }
   ],
   "source": [
    "LabelledSUB = LabelizeProduct(Grocery, Grocery.SUB_COMMODITY_DESC, 0, ObjectLabels)\n",
    "Labelled = LabelizeProduct(Grocery, Grocery.COMMODITY_DESC, 0, ObjectLabels) "
   ]
  },
  {
   "cell_type": "code",
   "execution_count": 11,
   "metadata": {},
   "outputs": [],
   "source": [
    "#Create two columns for the score of each label from the commodity and sub_commodity. \n",
    "Labelled['RatioSUB']= LabelledSUB.Ratio\n",
    "Labelled['LabelSUB']= LabelledSUB.Label"
   ]
  },
  {
   "cell_type": "code",
   "execution_count": 12,
   "metadata": {},
   "outputs": [
    {
     "name": "stdout",
     "output_type": "stream",
     "text": [
      "Item        20861\n",
      "Ratio       20861\n",
      "Label       20861\n",
      "RatioSUB    20861\n",
      "LabelSUB    20861\n",
      "dtype: int64\n",
      "Item        85\n",
      "Ratio       85\n",
      "Label       85\n",
      "RatioSUB    85\n",
      "LabelSUB    85\n",
      "dtype: int64\n",
      "Item        126\n",
      "Ratio       126\n",
      "Label       126\n",
      "RatioSUB    126\n",
      "LabelSUB    126\n",
      "dtype: int64\n"
     ]
    }
   ],
   "source": [
    "#Estimate the error: \n",
    "\n",
    "# number of item where SUB_COMMODITY_DESC and COMMODITY_DESC have a different label. (Knowing the the label kept \n",
    "# at the end is the one with the highest score \n",
    "print(Labelled[Labelled['Label']!= Labelled['LabelSUB']].count())\n",
    "\n",
    "# total of not found for both SUB_COMMODITY_DESC and COMMODITY_DESC\n",
    "print(Labelled[(Labelled['Label'] == 'not found') & (Labelled['LabelSUB'] == 'not found')].count())\n",
    "\n",
    "# Total number of highest score lower than 20. Most often it is because we compare a small word to \n",
    "# a whole item description (several words).  \n",
    "print(Labelled[(Labelled['Ratio']<20) & (Labelled['RatioSUB'] < 20)].count())"
   ]
  },
  {
   "cell_type": "markdown",
   "metadata": {},
   "source": [
    "We create a second function \"putLabel\" that sets the label with the highest fuzzy ratio in between the dataset's columns that were categorized (here COMMODITY_DESC and SUB_COMMODITY_DESC) in the main data set (here Grocery). "
   ]
  },
  {
   "cell_type": "code",
   "execution_count": 13,
   "metadata": {},
   "outputs": [],
   "source": [
    "\"\"\"\n",
    "putLabel: his is the function that put the Labels in the main data Table. It compares the \n",
    "labels thanks to the fuzzy scores for 2 different labelledData \n",
    "(ex: grocery labelled for COMMODITY and SUB_COMMODITY) and chooses the best one.\n",
    "\n",
    "@input: \n",
    "- LabelledData: ? \n",
    "- data: ?\n",
    "\n",
    "@output:? \n",
    "\"\"\"\n",
    "def putLabel(LabelledData, data) :\n",
    "    #Progress bar: \n",
    "    max_count = len(LabelledData.index)\n",
    "    \n",
    "    f = IntProgress(min = 0, max = max_count) # instantiate the bar\n",
    "    \n",
    "    for line in LabelledData.index : \n",
    "\n",
    "        maxRatio = max(LabelledData.Ratio.loc[line], LabelledData.RatioSUB.loc[line])\n",
    "        if LabelledData.Ratio.loc[line] == maxRatio :\n",
    "            data['LABEL'].loc[line] = LabelledData.Label.loc[line]\n",
    "        \n",
    "        elif LabelledData.RatioSUB.loc[line] == maxRatio :\n",
    "            data['LABEL'].loc[line] = LabelledData.LabelSUB.loc[line]\n",
    "        \n",
    "        f.value += 1\n",
    "    return 0"
   ]
  },
  {
   "cell_type": "code",
   "execution_count": 14,
   "metadata": {},
   "outputs": [
    {
     "name": "stderr",
     "output_type": "stream",
     "text": [
      "/Users/marijnvandermeer/anaconda3/envs/ada/lib/python3.7/site-packages/pandas/core/indexing.py:205: SettingWithCopyWarning: \n",
      "A value is trying to be set on a copy of a slice from a DataFrame\n",
      "\n",
      "See the caveats in the documentation: http://pandas.pydata.org/pandas-docs/stable/user_guide/indexing.html#returning-a-view-versus-a-copy\n",
      "  self._setitem_with_indexer(indexer, value)\n"
     ]
    },
    {
     "data": {
      "text/plain": [
       "<matplotlib.axes._subplots.AxesSubplot at 0x1a209d6710>"
      ]
     },
     "execution_count": 14,
     "metadata": {},
     "output_type": "execute_result"
    },
    {
     "data": {
      "image/png": "[encoded data removed]",
      "text/plain": [
       "<Figure size 432x288 with 1 Axes>"
      ]
     },
     "metadata": {
      "needs_background": "light"
     },
     "output_type": "display_data"
    }
   ],
   "source": [
    "#Put the labels in the main data set Grocery and show results: \n",
    "putLabel(Labelled, Grocery)\n",
    "\n",
    "#Plot: \n",
    "LabelCount = Grocery.groupby('LABEL').count()\n",
    "LabelCount.BRAND.sort_values().plot.bar()"
   ]
  },
  {
   "cell_type": "code",
   "execution_count": 15,
   "metadata": {},
   "outputs": [],
   "source": [
    "#Save to csv: \n",
    "if not os.path.exists(\"saved_structures\"):\n",
    "    os.makedirs(\"saved_structures\")\n",
    "\n",
    "Grocery.to_csv(\"saved_structures/'Grocery.csv\", sep='\\t', index=False)"
   ]
  },
  {
   "cell_type": "markdown",
   "metadata": {},
   "source": [
    "As we can see in the following table the Grocery store product have been Labelled. Error of classification are possible (even if low rate --> to estimate, HOW ?). Indeed the \"LabelizeProduct\" recognizes words that are provided in the \"wordList\" to the function. The accuracy of the classification relies on the thoroughness of this word list. Moreover if the word list does not contain enough words, the quantity of 'not found' increases drastically."
   ]
  },
  {
   "cell_type": "code",
   "execution_count": 16,
   "metadata": {},
   "outputs": [
    {
     "data": {
      "text/html": [
       "<div>\n",
       "<style scoped>\n",
       "    .dataframe tbody tr th:only-of-type {\n",
       "        vertical-align: middle;\n",
       "    }\n",
       "\n",
       "    .dataframe tbody tr th {\n",
       "        vertical-align: top;\n",
       "    }\n",
       "\n",
       "    .dataframe thead th {\n",
       "        text-align: right;\n",
       "    }\n",
       "</style>\n",
       "<table border=\"1\" class=\"dataframe\">\n",
       "  <thead>\n",
       "    <tr style=\"text-align: right;\">\n",
       "      <th></th>\n",
       "      <th>PRODUCT_ID</th>\n",
       "      <th>MANUFACTURER</th>\n",
       "      <th>DEPARTMENT</th>\n",
       "      <th>BRAND</th>\n",
       "      <th>COMMODITY_DESC</th>\n",
       "      <th>SUB_COMMODITY_DESC</th>\n",
       "      <th>CURR_SIZE_OF_PRODUCT</th>\n",
       "    </tr>\n",
       "    <tr>\n",
       "      <th>LABEL</th>\n",
       "      <th></th>\n",
       "      <th></th>\n",
       "      <th></th>\n",
       "      <th></th>\n",
       "      <th></th>\n",
       "      <th></th>\n",
       "      <th></th>\n",
       "    </tr>\n",
       "  </thead>\n",
       "  <tbody>\n",
       "    <tr>\n",
       "      <th>ALCOHOL</th>\n",
       "      <td>1698</td>\n",
       "      <td>1698</td>\n",
       "      <td>1698</td>\n",
       "      <td>1698</td>\n",
       "      <td>1698</td>\n",
       "      <td>1698</td>\n",
       "      <td>1698</td>\n",
       "    </tr>\n",
       "    <tr>\n",
       "      <th>BEVERAGES</th>\n",
       "      <td>4660</td>\n",
       "      <td>4660</td>\n",
       "      <td>4660</td>\n",
       "      <td>4660</td>\n",
       "      <td>4660</td>\n",
       "      <td>4660</td>\n",
       "      <td>4660</td>\n",
       "    </tr>\n",
       "    <tr>\n",
       "      <th>BREAD &amp; BAKERY</th>\n",
       "      <td>1589</td>\n",
       "      <td>1589</td>\n",
       "      <td>1589</td>\n",
       "      <td>1589</td>\n",
       "      <td>1589</td>\n",
       "      <td>1589</td>\n",
       "      <td>1589</td>\n",
       "    </tr>\n",
       "    <tr>\n",
       "      <th>BREAKFAST &amp; CEREAL</th>\n",
       "      <td>1246</td>\n",
       "      <td>1246</td>\n",
       "      <td>1246</td>\n",
       "      <td>1246</td>\n",
       "      <td>1246</td>\n",
       "      <td>1246</td>\n",
       "      <td>1246</td>\n",
       "    </tr>\n",
       "    <tr>\n",
       "      <th>CANNED GOODS &amp; SOUP</th>\n",
       "      <td>1902</td>\n",
       "      <td>1902</td>\n",
       "      <td>1902</td>\n",
       "      <td>1902</td>\n",
       "      <td>1902</td>\n",
       "      <td>1902</td>\n",
       "      <td>1902</td>\n",
       "    </tr>\n",
       "    <tr>\n",
       "      <th>CLEANING SUPPLIES</th>\n",
       "      <td>1072</td>\n",
       "      <td>1072</td>\n",
       "      <td>1072</td>\n",
       "      <td>1072</td>\n",
       "      <td>1072</td>\n",
       "      <td>1072</td>\n",
       "      <td>1072</td>\n",
       "    </tr>\n",
       "    <tr>\n",
       "      <th>CONDIMENTS/SPICES &amp; BAKE</th>\n",
       "      <td>4727</td>\n",
       "      <td>4727</td>\n",
       "      <td>4727</td>\n",
       "      <td>4727</td>\n",
       "      <td>4727</td>\n",
       "      <td>4727</td>\n",
       "      <td>4727</td>\n",
       "    </tr>\n",
       "    <tr>\n",
       "      <th>COOKIES SNACKS &amp; CANDY</th>\n",
       "      <td>5339</td>\n",
       "      <td>5339</td>\n",
       "      <td>5339</td>\n",
       "      <td>5339</td>\n",
       "      <td>5339</td>\n",
       "      <td>5339</td>\n",
       "      <td>5339</td>\n",
       "    </tr>\n",
       "    <tr>\n",
       "      <th>DAIRY</th>\n",
       "      <td>2917</td>\n",
       "      <td>2917</td>\n",
       "      <td>2917</td>\n",
       "      <td>2917</td>\n",
       "      <td>2917</td>\n",
       "      <td>2917</td>\n",
       "      <td>2917</td>\n",
       "    </tr>\n",
       "    <tr>\n",
       "      <th>DRY</th>\n",
       "      <td>718</td>\n",
       "      <td>718</td>\n",
       "      <td>718</td>\n",
       "      <td>718</td>\n",
       "      <td>718</td>\n",
       "      <td>718</td>\n",
       "      <td>718</td>\n",
       "    </tr>\n",
       "    <tr>\n",
       "      <th>FAST FOOD</th>\n",
       "      <td>1786</td>\n",
       "      <td>1786</td>\n",
       "      <td>1786</td>\n",
       "      <td>1786</td>\n",
       "      <td>1786</td>\n",
       "      <td>1786</td>\n",
       "      <td>1786</td>\n",
       "    </tr>\n",
       "    <tr>\n",
       "      <th>FROZEN</th>\n",
       "      <td>1533</td>\n",
       "      <td>1533</td>\n",
       "      <td>1533</td>\n",
       "      <td>1533</td>\n",
       "      <td>1533</td>\n",
       "      <td>1533</td>\n",
       "      <td>1533</td>\n",
       "    </tr>\n",
       "    <tr>\n",
       "      <th>FRUIT</th>\n",
       "      <td>288</td>\n",
       "      <td>288</td>\n",
       "      <td>288</td>\n",
       "      <td>288</td>\n",
       "      <td>288</td>\n",
       "      <td>288</td>\n",
       "      <td>288</td>\n",
       "    </tr>\n",
       "    <tr>\n",
       "      <th>HEALTH &amp; BEAUTY</th>\n",
       "      <td>13</td>\n",
       "      <td>13</td>\n",
       "      <td>13</td>\n",
       "      <td>13</td>\n",
       "      <td>13</td>\n",
       "      <td>13</td>\n",
       "      <td>13</td>\n",
       "    </tr>\n",
       "    <tr>\n",
       "      <th>HOUSEHOLDS</th>\n",
       "      <td>2660</td>\n",
       "      <td>2660</td>\n",
       "      <td>2660</td>\n",
       "      <td>2660</td>\n",
       "      <td>2660</td>\n",
       "      <td>2660</td>\n",
       "      <td>2660</td>\n",
       "    </tr>\n",
       "    <tr>\n",
       "      <th>MEAT &amp; SEAFOOD</th>\n",
       "      <td>578</td>\n",
       "      <td>578</td>\n",
       "      <td>578</td>\n",
       "      <td>578</td>\n",
       "      <td>578</td>\n",
       "      <td>578</td>\n",
       "      <td>578</td>\n",
       "    </tr>\n",
       "    <tr>\n",
       "      <th>PET</th>\n",
       "      <td>1971</td>\n",
       "      <td>1971</td>\n",
       "      <td>1971</td>\n",
       "      <td>1971</td>\n",
       "      <td>1971</td>\n",
       "      <td>1971</td>\n",
       "      <td>1971</td>\n",
       "    </tr>\n",
       "    <tr>\n",
       "      <th>PROCESSED FOODS</th>\n",
       "      <td>3</td>\n",
       "      <td>3</td>\n",
       "      <td>3</td>\n",
       "      <td>3</td>\n",
       "      <td>3</td>\n",
       "      <td>3</td>\n",
       "      <td>3</td>\n",
       "    </tr>\n",
       "    <tr>\n",
       "      <th>STATIONERY</th>\n",
       "      <td>10</td>\n",
       "      <td>10</td>\n",
       "      <td>10</td>\n",
       "      <td>10</td>\n",
       "      <td>10</td>\n",
       "      <td>10</td>\n",
       "      <td>10</td>\n",
       "    </tr>\n",
       "    <tr>\n",
       "      <th>TECHNOLOGY</th>\n",
       "      <td>115</td>\n",
       "      <td>115</td>\n",
       "      <td>115</td>\n",
       "      <td>115</td>\n",
       "      <td>115</td>\n",
       "      <td>115</td>\n",
       "      <td>115</td>\n",
       "    </tr>\n",
       "    <tr>\n",
       "      <th>TOYS</th>\n",
       "      <td>105</td>\n",
       "      <td>105</td>\n",
       "      <td>105</td>\n",
       "      <td>105</td>\n",
       "      <td>105</td>\n",
       "      <td>105</td>\n",
       "      <td>105</td>\n",
       "    </tr>\n",
       "    <tr>\n",
       "      <th>VEGETABLES</th>\n",
       "      <td>4006</td>\n",
       "      <td>4006</td>\n",
       "      <td>4006</td>\n",
       "      <td>4006</td>\n",
       "      <td>4006</td>\n",
       "      <td>4006</td>\n",
       "      <td>4006</td>\n",
       "    </tr>\n",
       "    <tr>\n",
       "      <th>not found</th>\n",
       "      <td>85</td>\n",
       "      <td>85</td>\n",
       "      <td>85</td>\n",
       "      <td>85</td>\n",
       "      <td>85</td>\n",
       "      <td>85</td>\n",
       "      <td>85</td>\n",
       "    </tr>\n",
       "  </tbody>\n",
       "</table>\n",
       "</div>"
      ],
      "text/plain": [
       "                          PRODUCT_ID  MANUFACTURER  DEPARTMENT  BRAND  \\\n",
       "LABEL                                                                   \n",
       "ALCOHOL                         1698          1698        1698   1698   \n",
       "BEVERAGES                       4660          4660        4660   4660   \n",
       "BREAD & BAKERY                  1589          1589        1589   1589   \n",
       "BREAKFAST & CEREAL              1246          1246        1246   1246   \n",
       "CANNED GOODS & SOUP             1902          1902        1902   1902   \n",
       "CLEANING SUPPLIES               1072          1072        1072   1072   \n",
       "CONDIMENTS/SPICES & BAKE        4727          4727        4727   4727   \n",
       "COOKIES SNACKS & CANDY          5339          5339        5339   5339   \n",
       "DAIRY                           2917          2917        2917   2917   \n",
       "DRY                              718           718         718    718   \n",
       "FAST FOOD                       1786          1786        1786   1786   \n",
       "FROZEN                          1533          1533        1533   1533   \n",
       "FRUIT                            288           288         288    288   \n",
       "HEALTH & BEAUTY                   13            13          13     13   \n",
       "HOUSEHOLDS                      2660          2660        2660   2660   \n",
       "MEAT & SEAFOOD                   578           578         578    578   \n",
       "PET                             1971          1971        1971   1971   \n",
       "PROCESSED FOODS                    3             3           3      3   \n",
       "STATIONERY                        10            10          10     10   \n",
       "TECHNOLOGY                       115           115         115    115   \n",
       "TOYS                             105           105         105    105   \n",
       "VEGETABLES                      4006          4006        4006   4006   \n",
       "not found                         85            85          85     85   \n",
       "\n",
       "                          COMMODITY_DESC  SUB_COMMODITY_DESC  \\\n",
       "LABEL                                                          \n",
       "ALCOHOL                             1698                1698   \n",
       "BEVERAGES                           4660                4660   \n",
       "BREAD & BAKERY                      1589                1589   \n",
       "BREAKFAST & CEREAL                  1246                1246   \n",
       "CANNED GOODS & SOUP                 1902                1902   \n",
       "CLEANING SUPPLIES                   1072                1072   \n",
       "CONDIMENTS/SPICES & BAKE            4727                4727   \n",
       "COOKIES SNACKS & CANDY              5339                5339   \n",
       "DAIRY                               2917                2917   \n",
       "DRY                                  718                 718   \n",
       "FAST FOOD                           1786                1786   \n",
       "FROZEN                              1533                1533   \n",
       "FRUIT                                288                 288   \n",
       "HEALTH & BEAUTY                       13                  13   \n",
       "HOUSEHOLDS                          2660                2660   \n",
       "MEAT & SEAFOOD                       578                 578   \n",
       "PET                                 1971                1971   \n",
       "PROCESSED FOODS                        3                   3   \n",
       "STATIONERY                            10                  10   \n",
       "TECHNOLOGY                           115                 115   \n",
       "TOYS                                 105                 105   \n",
       "VEGETABLES                          4006                4006   \n",
       "not found                             85                  85   \n",
       "\n",
       "                          CURR_SIZE_OF_PRODUCT  \n",
       "LABEL                                           \n",
       "ALCOHOL                                   1698  \n",
       "BEVERAGES                                 4660  \n",
       "BREAD & BAKERY                            1589  \n",
       "BREAKFAST & CEREAL                        1246  \n",
       "CANNED GOODS & SOUP                       1902  \n",
       "CLEANING SUPPLIES                         1072  \n",
       "CONDIMENTS/SPICES & BAKE                  4727  \n",
       "COOKIES SNACKS & CANDY                    5339  \n",
       "DAIRY                                     2917  \n",
       "DRY                                        718  \n",
       "FAST FOOD                                 1786  \n",
       "FROZEN                                    1533  \n",
       "FRUIT                                      288  \n",
       "HEALTH & BEAUTY                             13  \n",
       "HOUSEHOLDS                                2660  \n",
       "MEAT & SEAFOOD                             578  \n",
       "PET                                       1971  \n",
       "PROCESSED FOODS                              3  \n",
       "STATIONERY                                  10  \n",
       "TECHNOLOGY                                 115  \n",
       "TOYS                                       105  \n",
       "VEGETABLES                                4006  \n",
       "not found                                   85  "
      ]
     },
     "execution_count": 16,
     "metadata": {},
     "output_type": "execute_result"
    }
   ],
   "source": [
    "Grocery.groupby('LABEL').count()"
   ]
  },
  {
   "cell_type": "markdown",
   "metadata": {},
   "source": [
    "**C. LET'S DO IT AGAIN WITH DRUG GM**\n",
    "**Question** what is drug gm? If you're a retailer, the products you sell fall into one of two broad merchandise categories. One is groceries and food products, and the other is general merchandise, which is a broad catchall term for pretty much everything that's not groceries – from hearing aid batteries to major appliances. Some definitions go a bit further in describing who is or is not a general merchandise retailer, excluding things like building supplies or secondhand goods. Link: https://smallbusiness.chron.com/meaning-general-merchandise-68673.html"
   ]
  },
  {
   "cell_type": "code",
   "execution_count": 17,
   "metadata": {},
   "outputs": [
    {
     "data": {
      "text/html": [
       "<div>\n",
       "<style scoped>\n",
       "    .dataframe tbody tr th:only-of-type {\n",
       "        vertical-align: middle;\n",
       "    }\n",
       "\n",
       "    .dataframe tbody tr th {\n",
       "        vertical-align: top;\n",
       "    }\n",
       "\n",
       "    .dataframe thead th {\n",
       "        text-align: right;\n",
       "    }\n",
       "</style>\n",
       "<table border=\"1\" class=\"dataframe\">\n",
       "  <thead>\n",
       "    <tr style=\"text-align: right;\">\n",
       "      <th></th>\n",
       "      <th>PRODUCT_ID</th>\n",
       "      <th>MANUFACTURER</th>\n",
       "      <th>DEPARTMENT</th>\n",
       "      <th>BRAND</th>\n",
       "      <th>COMMODITY_DESC</th>\n",
       "      <th>SUB_COMMODITY_DESC</th>\n",
       "      <th>CURR_SIZE_OF_PRODUCT</th>\n",
       "      <th>LABEL</th>\n",
       "    </tr>\n",
       "  </thead>\n",
       "  <tbody>\n",
       "    <tr>\n",
       "      <th>7</th>\n",
       "      <td>26601</td>\n",
       "      <td>69</td>\n",
       "      <td>DRUG GM</td>\n",
       "      <td>Private</td>\n",
       "      <td>VITAMINS</td>\n",
       "      <td>VITAMIN - MINERALS</td>\n",
       "      <td>300CT(1)</td>\n",
       "      <td>DRUG GM</td>\n",
       "    </tr>\n",
       "    <tr>\n",
       "      <th>11</th>\n",
       "      <td>26889</td>\n",
       "      <td>32</td>\n",
       "      <td>DRUG GM</td>\n",
       "      <td>National</td>\n",
       "      <td>MAGAZINE</td>\n",
       "      <td>TV/MOVIE-MAGAZINE</td>\n",
       "      <td></td>\n",
       "      <td>DRUG GM</td>\n",
       "    </tr>\n",
       "    <tr>\n",
       "      <th>20</th>\n",
       "      <td>27334</td>\n",
       "      <td>69</td>\n",
       "      <td>DRUG GM</td>\n",
       "      <td>Private</td>\n",
       "      <td>DIETARY AID PRODUCTS</td>\n",
       "      <td>DIET CNTRL LIQS NUTRITIONAL</td>\n",
       "      <td></td>\n",
       "      <td>DRUG GM</td>\n",
       "    </tr>\n",
       "    <tr>\n",
       "      <th>108</th>\n",
       "      <td>29574</td>\n",
       "      <td>69</td>\n",
       "      <td>DRUG GM</td>\n",
       "      <td>Private</td>\n",
       "      <td>STATIONERY &amp; SCHOOL SUPPLIES</td>\n",
       "      <td>SCHOOL SUPPLIES</td>\n",
       "      <td>1 CT</td>\n",
       "      <td>DRUG GM</td>\n",
       "    </tr>\n",
       "  </tbody>\n",
       "</table>\n",
       "</div>"
      ],
      "text/plain": [
       "     PRODUCT_ID MANUFACTURER DEPARTMENT     BRAND  \\\n",
       "7         26601           69    DRUG GM   Private   \n",
       "11        26889           32    DRUG GM  National   \n",
       "20        27334           69    DRUG GM   Private   \n",
       "108       29574           69    DRUG GM   Private   \n",
       "\n",
       "                   COMMODITY_DESC           SUB_COMMODITY_DESC  \\\n",
       "7                        VITAMINS           VITAMIN - MINERALS   \n",
       "11                       MAGAZINE            TV/MOVIE-MAGAZINE   \n",
       "20           DIETARY AID PRODUCTS  DIET CNTRL LIQS NUTRITIONAL   \n",
       "108  STATIONERY & SCHOOL SUPPLIES              SCHOOL SUPPLIES   \n",
       "\n",
       "    CURR_SIZE_OF_PRODUCT    LABEL  \n",
       "7               300CT(1)  DRUG GM  \n",
       "11                        DRUG GM  \n",
       "20                        DRUG GM  \n",
       "108                 1 CT  DRUG GM  "
      ]
     },
     "execution_count": 17,
     "metadata": {},
     "output_type": "execute_result"
    }
   ],
   "source": [
    "#We extract the drug gm product data which is the second main store in the commercial center\n",
    "DrugGM = pd.DataFrame(product[product['DEPARTMENT'] == 'DRUG GM'])\n",
    "DrugGM.head(4)"
   ]
  },
  {
   "cell_type": "code",
   "execution_count": 18,
   "metadata": {},
   "outputs": [
    {
     "data": {
      "application/vnd.jupyter.widget-view+json": {
       "model_id": "f85d761fa7c74be38c78c18962a9301c",
       "version_major": 2,
       "version_minor": 0
      },
      "text/plain": [
       "IntProgress(value=0, max=31529)"
      ]
     },
     "metadata": {},
     "output_type": "display_data"
    },
    {
     "data": {
      "application/vnd.jupyter.widget-view+json": {
       "model_id": "d81de37e8cf5439bbc26d0b6dee26ca4",
       "version_major": 2,
       "version_minor": 0
      },
      "text/plain": [
       "IntProgress(value=0, max=31529)"
      ]
     },
     "metadata": {},
     "output_type": "display_data"
    }
   ],
   "source": [
    "#Use LabelizeProduct to label the COMMODITY_DESC column from Drug GM department\n",
    "LabelledDGM = LabelizeProduct(DrugGM, DrugGM.COMMODITY_DESC, 0,ObjectLabels) \n",
    "\n",
    "#Use LabelizeProduct to label the SUB_COMMODITY_DESC column from Drug GM department\n",
    "LabelledSUBDGM = LabelizeProduct(DrugGM, DrugGM.SUB_COMMODITY_DESC, 0,ObjectLabels) "
   ]
  },
  {
   "cell_type": "code",
   "execution_count": 19,
   "metadata": {},
   "outputs": [
    {
     "data": {
      "text/plain": [
       "0"
      ]
     },
     "execution_count": 19,
     "metadata": {},
     "output_type": "execute_result"
    }
   ],
   "source": [
    "#Put the labels in the main data set Drug GM\n",
    "LabelledDGM['RatioSUB'] = LabelledSUBDGM.Ratio\n",
    "LabelledDGM['LabelSUB'] = LabelledSUBDGM.Label\n",
    "\n",
    "putLabel(LabelledDGM, DrugGM)"
   ]
  },
  {
   "cell_type": "code",
   "execution_count": 20,
   "metadata": {},
   "outputs": [
    {
     "data": {
      "text/plain": [
       "<matplotlib.axes._subplots.AxesSubplot at 0x1a225a0c90>"
      ]
     },
     "execution_count": 20,
     "metadata": {},
     "output_type": "execute_result"
    },
    {
     "data": {
      "image/png": "[encoded data removed]",
      "text/plain": [
       "<Figure size 432x288 with 1 Axes>"
      ]
     },
     "metadata": {
      "needs_background": "light"
     },
     "output_type": "display_data"
    }
   ],
   "source": [
    "# show results\n",
    "LabelDGMCount= DrugGM.groupby('LABEL').count()\n",
    "LabelDGMCount.BRAND.sort_values().plot.bar()"
   ]
  },
  {
   "cell_type": "code",
   "execution_count": 21,
   "metadata": {},
   "outputs": [
    {
     "data": {
      "text/html": [
       "<div>\n",
       "<style scoped>\n",
       "    .dataframe tbody tr th:only-of-type {\n",
       "        vertical-align: middle;\n",
       "    }\n",
       "\n",
       "    .dataframe tbody tr th {\n",
       "        vertical-align: top;\n",
       "    }\n",
       "\n",
       "    .dataframe thead th {\n",
       "        text-align: right;\n",
       "    }\n",
       "</style>\n",
       "<table border=\"1\" class=\"dataframe\">\n",
       "  <thead>\n",
       "    <tr style=\"text-align: right;\">\n",
       "      <th></th>\n",
       "      <th>Item</th>\n",
       "      <th>Ratio</th>\n",
       "      <th>Label</th>\n",
       "      <th>RatioSUB</th>\n",
       "      <th>LabelSUB</th>\n",
       "    </tr>\n",
       "  </thead>\n",
       "  <tbody>\n",
       "    <tr>\n",
       "      <th>20</th>\n",
       "      <td>DIETARY AID PRODUCTS</td>\n",
       "      <td>52</td>\n",
       "      <td>PHARMACY</td>\n",
       "      <td>0</td>\n",
       "      <td>not found</td>\n",
       "    </tr>\n",
       "    <tr>\n",
       "      <th>108</th>\n",
       "      <td>STATIONERY &amp; SCHOOL SUPPLIES</td>\n",
       "      <td>56</td>\n",
       "      <td>STATIONERY</td>\n",
       "      <td>0</td>\n",
       "      <td>not found</td>\n",
       "    </tr>\n",
       "    <tr>\n",
       "      <th>180</th>\n",
       "      <td>FIRST AID PRODUCTS</td>\n",
       "      <td>43</td>\n",
       "      <td>PHARMACY</td>\n",
       "      <td>0</td>\n",
       "      <td>not found</td>\n",
       "    </tr>\n",
       "    <tr>\n",
       "      <th>251</th>\n",
       "      <td>CANDY - PACKAGED</td>\n",
       "      <td>53</td>\n",
       "      <td>COOKIES SNACKS &amp; CANDY</td>\n",
       "      <td>0</td>\n",
       "      <td>not found</td>\n",
       "    </tr>\n",
       "    <tr>\n",
       "      <th>335</th>\n",
       "      <td>SPRING/SUMMER SEASONAL</td>\n",
       "      <td>43</td>\n",
       "      <td>VEGETABLES</td>\n",
       "      <td>0</td>\n",
       "      <td>not found</td>\n",
       "    </tr>\n",
       "    <tr>\n",
       "      <th>...</th>\n",
       "      <td>...</td>\n",
       "      <td>...</td>\n",
       "      <td>...</td>\n",
       "      <td>...</td>\n",
       "      <td>...</td>\n",
       "    </tr>\n",
       "    <tr>\n",
       "      <th>92220</th>\n",
       "      <td>EASTER</td>\n",
       "      <td>0</td>\n",
       "      <td>not found</td>\n",
       "      <td>0</td>\n",
       "      <td>not found</td>\n",
       "    </tr>\n",
       "    <tr>\n",
       "      <th>92238</th>\n",
       "      <td>STATIONERY &amp; SCHOOL SUPPLIES</td>\n",
       "      <td>56</td>\n",
       "      <td>STATIONERY</td>\n",
       "      <td>0</td>\n",
       "      <td>not found</td>\n",
       "    </tr>\n",
       "    <tr>\n",
       "      <th>92240</th>\n",
       "      <td>APPAREL</td>\n",
       "      <td>0</td>\n",
       "      <td>not found</td>\n",
       "      <td>0</td>\n",
       "      <td>not found</td>\n",
       "    </tr>\n",
       "    <tr>\n",
       "      <th>92339</th>\n",
       "      <td>EASTER</td>\n",
       "      <td>0</td>\n",
       "      <td>not found</td>\n",
       "      <td>0</td>\n",
       "      <td>not found</td>\n",
       "    </tr>\n",
       "    <tr>\n",
       "      <th>92340</th>\n",
       "      <td>HOME FURNISHINGS</td>\n",
       "      <td>40</td>\n",
       "      <td>HOUSEHOLDS</td>\n",
       "      <td>0</td>\n",
       "      <td>not found</td>\n",
       "    </tr>\n",
       "  </tbody>\n",
       "</table>\n",
       "<p>8461 rows × 5 columns</p>\n",
       "</div>"
      ],
      "text/plain": [
       "                               Item Ratio                    Label RatioSUB  \\\n",
       "20             DIETARY AID PRODUCTS    52                 PHARMACY        0   \n",
       "108    STATIONERY & SCHOOL SUPPLIES    56               STATIONERY        0   \n",
       "180              FIRST AID PRODUCTS    43                 PHARMACY        0   \n",
       "251                CANDY - PACKAGED    53  COOKIES SNACKS & CANDY         0   \n",
       "335          SPRING/SUMMER SEASONAL    43               VEGETABLES        0   \n",
       "...                             ...   ...                      ...      ...   \n",
       "92220                        EASTER     0                not found        0   \n",
       "92238  STATIONERY & SCHOOL SUPPLIES    56               STATIONERY        0   \n",
       "92240                       APPAREL     0                not found        0   \n",
       "92339                        EASTER     0                not found        0   \n",
       "92340              HOME FURNISHINGS    40               HOUSEHOLDS        0   \n",
       "\n",
       "        LabelSUB  \n",
       "20     not found  \n",
       "108    not found  \n",
       "180    not found  \n",
       "251    not found  \n",
       "335    not found  \n",
       "...          ...  \n",
       "92220  not found  \n",
       "92238  not found  \n",
       "92240  not found  \n",
       "92339  not found  \n",
       "92340  not found  \n",
       "\n",
       "[8461 rows x 5 columns]"
      ]
     },
     "execution_count": 21,
     "metadata": {},
     "output_type": "execute_result"
    }
   ],
   "source": [
    "#We would like to estimate the error\n",
    "\n",
    "# number of item where SUB_COMMODITY_DESC and COMMODITY_DESC have a different label. (Knowing the the label kept \n",
    "# at the end is the one with the highest score  \n",
    "LabelledDGM[LabelledDGM['Label']!=LabelledDGM['LabelSUB']].count()\n",
    "\n",
    "# total of not found for both SUB_COMMODITY_DESC and COMMODITY_DESC\n",
    "LabelledDGM[(LabelledDGM['Label'] == 'not found') & (LabelledDGM['LabelSUB'] == 'not found')].count()\n",
    "\n",
    "# Total number of highest score lower than 20. Most often it is because we compare a small word to \n",
    "# a whole item description (several words).  \n",
    "LabelledDGM[(LabelledDGM['Ratio']<20) & (LabelledDGM['RatioSUB'] < 20)].count()\n",
    "LabelledDGM[(LabelledDGM['Ratio']<60) & (LabelledDGM['RatioSUB'] < 20)]"
   ]
  },
  {
   "cell_type": "markdown",
   "metadata": {},
   "source": [
    "**D. ALL THE OTHER SHOPS: DELI, PRODUCE, NUTRITION, COSMETICS etc.**"
   ]
  },
  {
   "cell_type": "markdown",
   "metadata": {},
   "source": [
    "The shop DELI needs also to be categorized. Since all the other shops are specialized the labels are easy to infer. Indeed it corresponds to the shop specialization. We also put the computed Label in the main dataset product (Grocery, Drug GM and DELI). "
   ]
  },
  {
   "cell_type": "code",
   "execution_count": 36,
   "metadata": {},
   "outputs": [
    {
     "data": {
      "application/vnd.jupyter.widget-view+json": {
       "model_id": "abda46604adb4b869530e4165f58b4bc",
       "version_major": 2,
       "version_minor": 0
      },
      "text/plain": [
       "IntProgress(value=0, max=3118)"
      ]
     },
     "metadata": {},
     "output_type": "display_data"
    },
    {
     "data": {
      "application/vnd.jupyter.widget-view+json": {
       "model_id": "b795a59956f54275a0c0e7e1dfe4bfa5",
       "version_major": 2,
       "version_minor": 0
      },
      "text/plain": [
       "IntProgress(value=0, max=3118)"
      ]
     },
     "metadata": {},
     "output_type": "display_data"
    }
   ],
   "source": [
    "# categorize the data in PRODUCE\n",
    "PRODUCE = product[product['DEPARTMENT'] == 'PRODUCE']\n",
    "LabelledPRODUCE = LabelizeProduct(PRODUCE, PRODUCE.COMMODITY_DESC, 0, ObjectLabels)\n",
    "LabelledPRODUCE = LabelizeProduct(PRODUCE, PRODUCE.SUB_COMMODITY_DESC, 0, ObjectLabels)"
   ]
  },
  {
   "cell_type": "code",
   "execution_count": 38,
   "metadata": {},
   "outputs": [
    {
     "name": "stderr",
     "output_type": "stream",
     "text": [
      "/Users/marijnvandermeer/anaconda3/envs/ada/lib/python3.7/site-packages/ipykernel_launcher.py:22: SettingWithCopyWarning: \n",
      "A value is trying to be set on a copy of a slice from a DataFrame\n",
      "\n",
      "See the caveats in the documentation: http://pandas.pydata.org/pandas-docs/stable/user_guide/indexing.html#returning-a-view-versus-a-copy\n"
     ]
    },
    {
     "data": {
      "text/plain": [
       "0"
      ]
     },
     "execution_count": 38,
     "metadata": {},
     "output_type": "execute_result"
    }
   ],
   "source": [
    "#add DELI labels in the product dataframe and show results\n",
    "LabelledPRODUCE['RatioSUB'] = LabelledPRODUCE.Ratio\n",
    "LabelledPRODUCE['LabelSUB'] = LabelledPRODUCE.Label\n",
    "putLabel(LabelledPRODUCE, PRODUCE)"
   ]
  },
  {
   "cell_type": "code",
   "execution_count": 39,
   "metadata": {},
   "outputs": [
    {
     "data": {
      "text/plain": [
       "<matplotlib.axes._subplots.AxesSubplot at 0x1a22d87790>"
      ]
     },
     "execution_count": 39,
     "metadata": {},
     "output_type": "execute_result"
    },
    {
     "data": {
      "image/png": "[encoded data removed]",
      "text/plain": [
       "<Figure size 432x288 with 1 Axes>"
      ]
     },
     "metadata": {
      "needs_background": "light"
     },
     "output_type": "display_data"
    }
   ],
   "source": [
    "PRODUCELabelCount = PRODUCE.groupby('LABEL').count()\n",
    "PRODUCELabelCount.BRAND.sort_values().plot.bar()"
   ]
  },
  {
   "cell_type": "code",
   "execution_count": 22,
   "metadata": {},
   "outputs": [
    {
     "data": {
      "application/vnd.jupyter.widget-view+json": {
       "model_id": "64f9f5aa8243404b84b4da081c35fd69",
       "version_major": 2,
       "version_minor": 0
      },
      "text/plain": [
       "IntProgress(value=0, max=2354)"
      ]
     },
     "metadata": {},
     "output_type": "display_data"
    },
    {
     "data": {
      "application/vnd.jupyter.widget-view+json": {
       "model_id": "fd09862ac4e447629bbf8a96013cfa10",
       "version_major": 2,
       "version_minor": 0
      },
      "text/plain": [
       "IntProgress(value=0, max=2354)"
      ]
     },
     "metadata": {},
     "output_type": "display_data"
    }
   ],
   "source": [
    "# categorize the data in DELI\n",
    "DELI = product[product['DEPARTMENT'] == 'DELI']\n",
    "LabelledDELI = LabelizeProduct(DELI, DELI.COMMODITY_DESC, 0, ObjectLabels)\n",
    "LabelledSUBDELI = LabelizeProduct(DELI, DELI.SUB_COMMODITY_DESC, 0, ObjectLabels)"
   ]
  },
  {
   "cell_type": "code",
   "execution_count": 23,
   "metadata": {},
   "outputs": [
    {
     "name": "stderr",
     "output_type": "stream",
     "text": [
      "/Users/marijnvandermeer/anaconda3/envs/ada/lib/python3.7/site-packages/ipykernel_launcher.py:22: SettingWithCopyWarning: \n",
      "A value is trying to be set on a copy of a slice from a DataFrame\n",
      "\n",
      "See the caveats in the documentation: http://pandas.pydata.org/pandas-docs/stable/user_guide/indexing.html#returning-a-view-versus-a-copy\n",
      "/Users/marijnvandermeer/anaconda3/envs/ada/lib/python3.7/site-packages/ipykernel_launcher.py:25: SettingWithCopyWarning: \n",
      "A value is trying to be set on a copy of a slice from a DataFrame\n",
      "\n",
      "See the caveats in the documentation: http://pandas.pydata.org/pandas-docs/stable/user_guide/indexing.html#returning-a-view-versus-a-copy\n"
     ]
    },
    {
     "data": {
      "text/plain": [
       "0"
      ]
     },
     "execution_count": 23,
     "metadata": {},
     "output_type": "execute_result"
    }
   ],
   "source": [
    "#add DELI labels in the product dataframe and show results\n",
    "LabelledDELI['RatioSUB'] = LabelledSUBDELI.Ratio\n",
    "LabelledDELI['LabelSUB'] = LabelledSUBDELI.Label\n",
    "putLabel(LabelledDELI, DELI)"
   ]
  },
  {
   "cell_type": "code",
   "execution_count": 24,
   "metadata": {},
   "outputs": [
    {
     "data": {
      "text/plain": [
       "<matplotlib.axes._subplots.AxesSubplot at 0x1a20ecf390>"
      ]
     },
     "execution_count": 24,
     "metadata": {},
     "output_type": "execute_result"
    },
    {
     "data": {
      "image/png": "[encoded data removed]",
      "text/plain": [
       "<Figure size 432x288 with 1 Axes>"
      ]
     },
     "metadata": {
      "needs_background": "light"
     },
     "output_type": "display_data"
    }
   ],
   "source": [
    "DELILabelCount = DELI.groupby('LABEL').count()\n",
    "DELILabelCount.BRAND.sort_values().plot.bar()"
   ]
  },
  {
   "cell_type": "code",
   "execution_count": 40,
   "metadata": {},
   "outputs": [
    {
     "data": {
      "text/plain": [
       "array(['FROZEN', 'BREAD & BAKERY', 'FRUIT', 'COOKIES SNACKS & CANDY ',\n",
       "       'CONDIMENTS/SPICES & BAKE', 'PHARMACY', 'STATIONERY', 'HOUSEHOLDS',\n",
       "       'DAIRY', 'VEGETABLES', 'BEVERAGES', 'FAST FOOD', 'MEAT & SEAFOOD',\n",
       "       'CANNED GOODS & SOUP', 'BREAKFAST & CEREAL', 'HEALTH & BEAUTY',\n",
       "       'NUTRITION', 'not found', 'CLEANING SUPPLIES', 'DRY', 'COSMETICS',\n",
       "       'PET', 'ALCOHOL', 'SMOKING', 'TECHNOLOGY', 'PROCESSED FOODS',\n",
       "       'FLORAL', 'RESTAURANT', 'GASOLINE', 'TOYS', nan, 'VIDEO RENTAL',\n",
       "       'STATIONNARY'], dtype=object)"
      ]
     },
     "execution_count": 40,
     "metadata": {},
     "output_type": "execute_result"
    }
   ],
   "source": [
    "#We standardize some labels for the seek of the vizualization. \n",
    "# I had trouble with the label setting in the main data set product. This is a shitty implementation but working. \n",
    "#I have to figure it out\n",
    "\n",
    "product.DEPARTMENT.loc[product['DEPARTMENT']== 'DAIRY DELI'] = 'DELI'\n",
    "\n",
    "product.LABEL.loc[product['DEPARTMENT']== 'MEAT'] = 'MEAT & SEAFOOD'\n",
    "product.LABEL.loc[product['DEPARTMENT']== 'MEAT-PCKGD'] = 'MEAT & SEAFOOD'\n",
    "product.LABEL.loc[product['DEPARTMENT']== 'SEAFOOD'] = 'MEAT & SEAFOOD'\n",
    "product.LABEL.loc[product['DEPARTMENT']== 'SEAFOOD-PCKGD'] = 'MEAT & SEAFOOD'\n",
    "product.LABEL.loc[product['DEPARTMENT']== 'FROZEN GROCERY'] = 'FROZEN'\n",
    "product.LABEL.loc[product['DEPARTMENT']== 'PHARMACY SUPPLY'] = 'PHARMACY'\n",
    "product.LABEL.loc[product['DEPARTMENT']== 'PORK'] = 'MEAT & SEAFOOD'\n",
    "product.LABEL.loc[product['DEPARTMENT']== 'RX'] = 'PHARMACY'\n",
    "product.LABEL.loc[product['DEPARTMENT']== 'HOUSEWARES'] = 'not found'\n",
    "product.LABEL.loc[product['DEPARTMENT']== 'ELECT &PLUMBING'] = 'not found'\n",
    "product.LABEL.loc[product['DEPARTMENT']== 'HBC'] = 'not found'\n",
    "product.LABEL.loc[product['DEPARTMENT']== 'DELI/SNACK BAR'] = 'not found'\n",
    "product.LABEL.loc[product['DEPARTMENT']== 'CHARITABLE CONT'] = 'not found'\n",
    "product.LABEL.loc[product['DEPARTMENT']== 'PROD-WHS SALES'] = 'not found'\n",
    "product.LABEL.loc[product['DEPARTMENT']== 'GM MERCH EXP'] = 'not found'\n",
    "product.LABEL.loc[product['DEPARTMENT']== 'CNTRL/STORE SUP'] = 'not found'\n",
    "product.LABEL.loc[product['DEPARTMENT']== ' '] = 'not found'\n",
    "product.LABEL.loc[product['DEPARTMENT']== 'GRO BAKERY'] = 'BREAD & BAKERY'\n",
    "product.LABEL.loc[product['DEPARTMENT']== 'PASTRY'] = 'BREAD & BAKERY'\n",
    "product.LABEL.loc[product['DEPARTMENT']== 'AUTOMOTIVE'] = 'STATIONERY'\n",
    "product.LABEL.loc[product['DEPARTMENT']== 'POSTAL CENTER'] = 'STATIONNARY'\n",
    "product.LABEL.loc[product['DEPARTMENT']== 'CHEF SHOPPE'] = 'PROCESSED FOODS'\n",
    "product.LABEL.loc[product['DEPARTMENT']== 'TRAVEL & LEISUR'] = 'VEGETABLES'\n",
    "product.LABEL.loc[product['DEPARTMENT']== 'SALAD BAR'] = 'RESTAURANT'\n",
    "product.LABEL.loc[product['DEPARTMENT']== 'GARDEN CENTER'] = 'FLORAL'\n",
    "product.LABEL.loc[product['DEPARTMENT']== 'KIOSK-GAS'] = 'GASOLINE'\n",
    "product.LABEL.loc[product['DEPARTMENT']== 'SPIRITS'] = 'ALCOHOL'\n",
    "\n",
    "product.LABEL.loc[product['DEPARTMENT'] == 'GROCERY'] = Grocery.LABEL\n",
    "product.LABEL.loc[product['DEPARTMENT'] == 'DRUG GM'] = DrugGM.LABEL\n",
    "product.LABEL.loc[product['DEPARTMENT'] == 'DELI'] = DELI.LABEL\n",
    "product.LABEL.loc[product['DEPARTMENT'] == 'PRODUCE'] = PRODUCE.LABEL\n",
    "\n",
    "product.LABEL.unique()"
   ]
  },
  {
   "cell_type": "markdown",
   "metadata": {},
   "source": [
    "We produce a final plot to show our results."
   ]
  },
  {
   "cell_type": "code",
   "execution_count": 41,
   "metadata": {},
   "outputs": [
    {
     "data": {
      "image/png": "[encoded data removed]",
      "text/plain": [
       "<Figure size 1440x576 with 2 Axes>"
      ]
     },
     "metadata": {
      "needs_background": "light"
     },
     "output_type": "display_data"
    }
   ],
   "source": [
    "ProductLabels = product.groupby('LABEL').count()\n",
    "\n",
    "ProductLabels2 = product.groupby(by = ['DEPARTMENT','LABEL']).count()\n",
    "\n",
    "ProductDepartment = product.groupby(by = ['LABEL','DEPARTMENT']).count()\n",
    "#ProductLabels2 = ProductLabels2.drop(ProductLabels2[ProductLabels2['BRAND'] <=10].index)\n",
    "\n",
    "#palette : \n",
    "my_palette = [\"maroon\",\"firebrick\",\"crimson\", \"orangered\",\"chocolate\", \"peru\",\"sandybrown\",\"rosybrown\",\"darkturquoise\"\n",
    "        ,\"c\",\"cadetblue\",\"powderblue\",\"aquamarine\",\"springgreen\",\"limegreen\",\"green\",\"darkkhaki\"]\n",
    "sns.set_palette(my_palette)\n",
    "\n",
    "\n",
    "fig = plt.figure(figsize = (20,8))\n",
    "\n",
    "# Divide the figure into a 2x1 grid, and give  the first section\n",
    "ax1 = fig.add_subplot(121)\n",
    "\n",
    "# Divide the figure into a 2x1 grid, and give the second section\n",
    "ax2 = fig.add_subplot(122)\n",
    "\n",
    "ProductDepartment.BRAND[ProductDepartment['BRAND'] > 500].unstack().plot.bar(color = sns.color_palette(\"Paired\"),ax = ax1,stacked = True)\n",
    "ProductLabels2.loc[['DRUG GM','GROCERY','DELI']].BRAND.unstack().plot.bar(color = sns.color_palette(),ax = ax2,stacked = True)\n",
    "\n",
    "\n",
    "fig.subplots_adjust(hspace = 1.3)\n",
    "fig.subplots_adjust(wspace = 0.2)\n"
   ]
  },
  {
   "cell_type": "code",
   "execution_count": 42,
   "metadata": {},
   "outputs": [],
   "source": [
    "#Save to csv: \n",
    "if not os.path.exists(\"saved_structures\"):\n",
    "    os.makedirs(\"saved_structures\")\n",
    "\n",
    "product.to_csv(\"saved_structures/updated_prod_precise.csv\", sep ='\\t', index = False)"
   ]
  },
  {
   "cell_type": "markdown",
   "metadata": {},
   "source": [
    "In the left barplot we observe where we can find the different product types. In x-axis displays the product type and the color label gives the shop (DEPARTMENT) where the product can be found. For example we can see that the households product are mainly found in the drug store (DRUG GM), and most of the meat and seafood products are found in the meat and meat-pckgd shops. \n",
    "\n",
    "The right barplot shows the proportions of the different products types, that we can find in the \"unspecialized\" shops (Deli, the grocery, and the drug store). For example we can see that Deli sales only food products, whereas the drug store proposes an important variety of household products."
   ]
  },
  {
   "cell_type": "code",
   "execution_count": 43,
   "metadata": {},
   "outputs": [
    {
     "data": {
      "text/html": [
       "<div>\n",
       "<style scoped>\n",
       "    .dataframe tbody tr th:only-of-type {\n",
       "        vertical-align: middle;\n",
       "    }\n",
       "\n",
       "    .dataframe tbody tr th {\n",
       "        vertical-align: top;\n",
       "    }\n",
       "\n",
       "    .dataframe thead th {\n",
       "        text-align: right;\n",
       "    }\n",
       "</style>\n",
       "<table border=\"1\" class=\"dataframe\">\n",
       "  <thead>\n",
       "    <tr style=\"text-align: right;\">\n",
       "      <th></th>\n",
       "      <th>PRODUCT_ID</th>\n",
       "      <th>MANUFACTURER</th>\n",
       "      <th>DEPARTMENT</th>\n",
       "      <th>BRAND</th>\n",
       "      <th>COMMODITY_DESC</th>\n",
       "      <th>SUB_COMMODITY_DESC</th>\n",
       "      <th>CURR_SIZE_OF_PRODUCT</th>\n",
       "      <th>LABEL</th>\n",
       "    </tr>\n",
       "  </thead>\n",
       "  <tbody>\n",
       "  </tbody>\n",
       "</table>\n",
       "</div>"
      ],
      "text/plain": [
       "Empty DataFrame\n",
       "Columns: [PRODUCT_ID, MANUFACTURER, DEPARTMENT, BRAND, COMMODITY_DESC, SUB_COMMODITY_DESC, CURR_SIZE_OF_PRODUCT, LABEL]\n",
       "Index: []"
      ]
     },
     "execution_count": 43,
     "metadata": {},
     "output_type": "execute_result"
    }
   ],
   "source": [
    "product[product['LABEL']== 'PRODUCE']"
   ]
  },
  {
   "cell_type": "code",
   "execution_count": 44,
   "metadata": {},
   "outputs": [
    {
     "data": {
      "text/plain": [
       "array(['FROZEN', 'BREAD & BAKERY', 'FRUIT', 'COOKIES SNACKS & CANDY ',\n",
       "       'CONDIMENTS/SPICES & BAKE', 'PHARMACY', 'STATIONERY', 'HOUSEHOLDS',\n",
       "       'DAIRY', 'VEGETABLES', 'BEVERAGES', 'FAST FOOD', 'MEAT & SEAFOOD',\n",
       "       'CANNED GOODS & SOUP', 'BREAKFAST & CEREAL', 'HEALTH & BEAUTY',\n",
       "       'NUTRITION', 'not found', 'CLEANING SUPPLIES', 'DRY', 'COSMETICS',\n",
       "       'PET', 'ALCOHOL', 'SMOKING', 'TECHNOLOGY', 'PROCESSED FOODS',\n",
       "       'FLORAL', 'RESTAURANT', 'GASOLINE', 'TOYS', nan, 'VIDEO RENTAL',\n",
       "       'STATIONNARY'], dtype=object)"
      ]
     },
     "execution_count": 44,
     "metadata": {},
     "output_type": "execute_result"
    }
   ],
   "source": [
    "product.LABEL.unique()"
   ]
  },
  {
   "cell_type": "code",
   "execution_count": null,
   "metadata": {},
   "outputs": [],
   "source": []
  }
 ],
 "metadata": {
  "kernelspec": {
   "display_name": "Python 3",
   "language": "python",
   "name": "python3"
  },
  "language_info": {
   "codemirror_mode": {
    "name": "ipython",
    "version": 3
   },
   "file_extension": ".py",
   "mimetype": "text/x-python",
   "name": "python",
   "nbconvert_exporter": "python",
   "pygments_lexer": "ipython3",
   "version": "3.7.5"
  },
  "toc": {
   "base_numbering": 1,
   "nav_menu": {},
   "number_sections": true,
   "sideBar": true,
   "skip_h1_title": false,
   "title_cell": "Table of Contents",
   "title_sidebar": "Contents",
   "toc_cell": false,
   "toc_position": {},
   "toc_section_display": true,
   "toc_window_display": false
  }
 },
 "nbformat": 4,
 "nbformat_minor": 4
}
