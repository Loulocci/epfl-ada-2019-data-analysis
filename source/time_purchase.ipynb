{
 "cells": [
  {
   "cell_type": "code",
   "execution_count": null,
   "metadata": {},
   "outputs": [],
   "source": [
    "%matplotlib inline\n",
    "import pandas as pd\n",
    "import numpy as np\n",
    "import matplotlib.pyplot as plt\n",
    "from pylab import *\n",
    "import os\n",
    "import seaborn as sns\n",
    "from scipy import stats\n",
    "import locale\n",
    "locale.setlocale(locale.LC_ALL, '')\n",
    "\n",
    "from sklearn import model_selection\n",
    "from sklearn import preprocessing\n",
    "from sklearn import metrics\n",
    "from sklearn.tree import DecisionTreeClassifier\n",
    "from sklearn.ensemble import RandomForestClassifier\n",
    "\n",
    "\n",
    "#Functions we created:\n",
    "from modules import dem_fx\n",
    "from modules import transaction_fx as trns\n",
    "from modules import plot_functions as plt_fx\n",
    "from modules import ml_functions as ml_fx\n",
    "from modules import time_fx as tm_fx\n",
    "os.getcwd()\n",
    "\n",
    "#Allows reload of modules:\n",
    "%load_ext autoreload\n",
    "%autoreload"
   ]
  },
  {
   "cell_type": "markdown",
   "metadata": {},
   "source": [
    "#### Load the data"
   ]
  },
  {
   "cell_type": "code",
   "execution_count": null,
   "metadata": {},
   "outputs": [],
   "source": [
    "weekly_cart_df_filtered_labels = pd.read_csv(\"saved_structures/weekly_cart_df_filtered_labels.csv\", sep = '\\t')\n",
    "\n",
    "products = pd.read_csv(\"saved_structures/updated_prod.csv\", sep = \"\\t\")\n",
    "\n",
    "hh_demographic = pd.read_csv(\n",
    "    '../data/dunnhumby_complete_csv/hh_demographic.csv', sep=',')\n",
    "\n",
    "transaction_data = pd.read_csv(\n",
    "    '../data/dunnhumby_complete_csv/transaction_data.csv', sep=',')\n"
   ]
  },
  {
   "cell_type": "code",
   "execution_count": null,
   "metadata": {},
   "outputs": [],
   "source": [
    "weekly_cart_df_filtered_labels.head()"
   ]
  },
  {
   "cell_type": "code",
   "execution_count": null,
   "metadata": {},
   "outputs": [],
   "source": [
    "transaction_data.head()"
   ]
  },
  {
   "cell_type": "markdown",
   "metadata": {},
   "source": [
    "#### Extract the time information for the transaction table"
   ]
  },
  {
   "cell_type": "code",
   "execution_count": null,
   "metadata": {},
   "outputs": [],
   "source": [
    "\"\"\"This cell is just here to get an idea of what the column 'TRANS_TIME' looks like.\n",
    "We undertand that we have an interger which represents the time of the day as such:\n",
    "2248 = 22h48\n",
    "623 = 06h23\n",
    "9 = 00h09\n",
    "We thus have to transform these intergers into meaningful time points.\"\"\"\n",
    "\n",
    "time = transaction_data.TRANS_TIME.unique()\n",
    "time = time.tolist()\n",
    "time.sort()\n",
    "#print(time)"
   ]
  },
  {
   "cell_type": "code",
   "execution_count": null,
   "metadata": {},
   "outputs": [],
   "source": [
    "\"\"\"Note : this cell can take several minutes to run.\"\"\"\n",
    "\n",
    "temp = transaction_data[\"TRANS_TIME\"].astype(\"str\")\n",
    "for i in range(len(temp)):\n",
    "    #if i%100000 == 0:     serves as a counter if we want to know where we are \n",
    "        #print(i)\n",
    "    if len(temp[i]) == 3:\n",
    "        temp[i] = \"0\" + temp[i]\n",
    "    elif len(temp[i]) == 2:\n",
    "        temp[i] = \"00\" + temp[i]\n",
    "    elif len(temp[i]) == 1:\n",
    "        temp[i] = \"000\" + temp[i]\n"
   ]
  },
  {
   "cell_type": "code",
   "execution_count": null,
   "metadata": {},
   "outputs": [],
   "source": [
    "transaction_data[\"TRANS_TIME_STR\"] = temp\n",
    "time = pd.to_datetime(transaction_data[\"TRANS_TIME_STR\"], format='%H%M').dt.time\n",
    "transaction_data[\"transaction_time_datetime\"] = time\n",
    "transaction_data.head()"
   ]
  },
  {
   "cell_type": "code",
   "execution_count": null,
   "metadata": {},
   "outputs": [],
   "source": [
    "\"We plot the overall number of transactions depending on the time of the day.\"\n",
    "\n",
    "transaction_data[\"transaction_time_datetime\"].hist(bins = 24)\n",
    "hours = [datetime.time(i) for i in range(24)]\n",
    "plt.title(\"Total number of transactions according to the time of the day\")\n",
    "plt.xlabel(\"Time of the day\")\n",
    "plt.ylabel(\"Number of transactions\")\n",
    "plt.xticks(hours, rotation = 90)\n",
    "plt.axvline(tm_fx.avg_time(transaction_data[\"transaction_time_datetime\"]), \n",
    "            color='red', \n",
    "            linestyle='dashed', \n",
    "            linewidth=1, \n",
    "            label = \"average transaction time\")\n",
    "plt.legend(loc = \"upper left\")"
   ]
  },
  {
   "cell_type": "markdown",
   "metadata": {},
   "source": [
    "We can observe on the figure above that the transactions occur mostly during the afternoon, on average around 17h. The moment of the day where we have the fewer transactions is around 5h in the morning."
   ]
  },
  {
   "cell_type": "markdown",
   "metadata": {},
   "source": [
    "#### Average transaction time per household"
   ]
  },
  {
   "cell_type": "code",
   "execution_count": null,
   "metadata": {},
   "outputs": [],
   "source": [
    "time_per_hh = transaction_data.groupby(transaction_data.household_key)[\"transaction_time_datetime\"].apply(list)\n",
    "time_per_hh_df = pd.DataFrame(time_per_hh)\n",
    "time_per_hh_df.columns = [\"transaction_time_per_hh\"]\n",
    "time_per_hh_df[\"avg_transaction_time\"] = 'todo'\n",
    "time_per_hh_df[\"avg_transaction_time_in_seconds\"] = 'todo'\n",
    "#time_per_hh_df.head()"
   ]
  },
  {
   "cell_type": "code",
   "execution_count": null,
   "metadata": {},
   "outputs": [],
   "source": [
    "for i in range(1,2501):\n",
    "    time_per_hh_df.avg_transaction_time[i] = tm_fx.avg_time(time_per_hh_df.transaction_time_per_hh[i])\n",
    "    time_per_hh_df.avg_transaction_time_in_seconds[i] = tm_fx.time_to_seconds(time_per_hh_df.avg_transaction_time[i])\n",
    "time_per_hh_df.head(10)"
   ]
  },
  {
   "cell_type": "code",
   "execution_count": null,
   "metadata": {},
   "outputs": [],
   "source": [
    "time_per_hh = time_per_hh_df.reset_index()"
   ]
  },
  {
   "cell_type": "code",
   "execution_count": null,
   "metadata": {},
   "outputs": [],
   "source": [
    "#Save to csv: \n",
    "if not os.path.exists(\"saved_structures\"):\n",
    "    os.makedirs(\"saved_structures\")\n",
    "\n",
    "time_per_hh.to_csv(\"saved_structures/time_per_hh.csv\", sep ='\\t', index = False)"
   ]
  },
  {
   "cell_type": "code",
   "execution_count": null,
   "metadata": {},
   "outputs": [],
   "source": [
    "#test of download\n",
    "test = pd.read_csv(\"saved_structures/time_per_hh.csv\", sep = '\\t')"
   ]
  },
  {
   "cell_type": "code",
   "execution_count": null,
   "metadata": {},
   "outputs": [],
   "source": [
    "test.head()"
   ]
  },
  {
   "cell_type": "code",
   "execution_count": null,
   "metadata": {},
   "outputs": [],
   "source": []
  },
  {
   "cell_type": "code",
   "execution_count": null,
   "metadata": {},
   "outputs": [],
   "source": []
  },
  {
   "cell_type": "code",
   "execution_count": null,
   "metadata": {},
   "outputs": [],
   "source": []
  }
 ],
 "metadata": {
  "kernelspec": {
   "display_name": "Python [conda env:root] *",
   "language": "python",
   "name": "conda-root-py"
  },
  "language_info": {
   "codemirror_mode": {
    "name": "ipython",
    "version": 3
   },
   "file_extension": ".py",
   "mimetype": "text/x-python",
   "name": "python",
   "nbconvert_exporter": "python",
   "pygments_lexer": "ipython3",
   "version": "3.7.3"
  }
 },
 "nbformat": 4,
 "nbformat_minor": 4
}
