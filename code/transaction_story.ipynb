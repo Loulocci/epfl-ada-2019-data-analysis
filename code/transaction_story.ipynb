{
 "cells": [
  {
   "cell_type": "markdown",
   "metadata": {},
   "source": [
    "# ADA Project : Dunnhumby dataset, Tell me what you buy and I will tell you who you are\n",
    "\n"
   ]
  },
  {
   "cell_type": "markdown",
   "metadata": {},
   "source": [
    "## Abstract\n",
    "We would like to analyse the Dunnhumby dataset. Living in a time and age where every piece of our data is stored and analysed; and being active consumers ourselves, we would like to see what informations retail chains can gather and infer about us knowing only our shopping habits. As transactions over two years of several households and their basic demographic profiles are provided, we want to see if there are any links and correlations between specific demographics (e.g. marital status, income, number of children, etc) and purchase patterns. Furthermore, if time permits it, we want to see if we can create a model predicting a consumer demographic profile from their shopping. Thus, we would like to see how \"easy\" and how precise it actually is for retailers to infer who their customer is by what they buy and target them with specific marketing. Basically, we want to know how much of a target we actually\n",
    "are."
   ]
  },
  {
   "cell_type": "markdown",
   "metadata": {},
   "source": [
    "**Research questions:** \n",
    "- What are the main shopping trends that we can identify in this data ?\n",
    "- Can we relate shopping trends to specific demographic parameters ?\n",
    "- Can we predict some of these demographic parameters (age, marital statute etc) with knowing the household's habbits?\n",
    "- In the opposite way, can we predict household consumption behaviour with knowing its characteristics?\n",
    "- What accuracy in consumption prediction can the retailer obtain from a simple profile information?"
   ]
  },
  {
   "cell_type": "markdown",
   "metadata": {},
   "source": [
    "## Task 1: Clean up the data and prepare the sets we want to keep"
   ]
  },
  {
   "cell_type": "code",
   "execution_count": null,
   "metadata": {},
   "outputs": [],
   "source": [
    "%matplotlib inline\n",
    "import pandas as pd\n",
    "\n",
    "import matplotlib.pyplot as plt\n",
    "from pylab import *\n",
    "\n",
    "import os"
   ]
  },
  {
   "cell_type": "code",
   "execution_count": null,
   "metadata": {},
   "outputs": [],
   "source": [
    "os.getcwd()"
   ]
  },
  {
   "cell_type": "code",
   "execution_count": null,
   "metadata": {},
   "outputs": [],
   "source": [
    "'''As we said in the description of our project, we are going to concentrate on 3 of the 8 tables :\n",
    "- hh_demographic.csv\n",
    "- transaction_data.csv\n",
    "- product.csv\n",
    "In this first step, we want to load the data, and prepare it for the analysis'''\n",
    "\n",
    "#load the data\n",
    "hh_demographic = pd.read_csv('../data/dunnhumby_complete_csv/hh_demographic.csv', sep = ',')\n",
    "\n",
    "transaction_data = pd.read_csv('../data/dunnhumby_complete_csv/transaction_data.csv', sep = ',')\n",
    "\n",
    "product = pd.read_csv('../data/dunnhumby_complete_csv/product.csv', sep = ',')"
   ]
  },
  {
   "cell_type": "markdown",
   "metadata": {},
   "source": [
    "### Task 1.A: What's actually in the dataset ? \n",
    "This dataset contains household level transactions over two years from a group of 2,500 households who are frequent shoppers at a retailer. It contains all of each household’s purchases, not just those from a limited number of categories. For certain households, demographic information as well as direct marketing contact history are included. We have a look at a few samples from each table: "
   ]
  },
  {
   "cell_type": "markdown",
   "metadata": {},
   "source": [
    "#### A. Transaction data: \n",
    "Dataset of all products purchased by households during the study. Each line in the table is what could essentially be found in a store reciept. The attributes of the dataset are the following: \n",
    "\n",
    "- HOUSEHOLD_KEY: identifies each household, \n",
    "- BASKET_ID: identifies a purchase occasion, \n",
    "- DAY: day when transaction occured\n",
    "- PRODUCT_ID: identifies each product, \n",
    "- QUANTITY: Number of products purchased during trip\n",
    "- SALES_VALUE: Amount of dollars retailer recieves from sale\n",
    "- STORE_ID: identifies store, \n",
    "- COUPON_MATCH_DISC: discount applied du to retailer's match of manufacturer coupon\n",
    "- COUPON_DISC: discount applied due to manufacturer coupon\n",
    "- RETAIL_DISC: discount applied due to retailer's loyalty card program\n",
    "- TRANS_TIME: time of day when transaction occured\n",
    "- WEEK_NO: week of the transaction. Ranges from 1-102. "
   ]
  },
  {
   "cell_type": "code",
   "execution_count": null,
   "metadata": {},
   "outputs": [],
   "source": [
    "transaction_data['STORE_ID'].is_unique"
   ]
  },
  {
   "cell_type": "code",
   "execution_count": null,
   "metadata": {},
   "outputs": [],
   "source": [
    "transaction_data.head(4)"
   ]
  },
  {
   "cell_type": "markdown",
   "metadata": {},
   "source": [
    "**Q1: How many transactions occured during the two years ?**"
   ]
  },
  {
   "cell_type": "code",
   "execution_count": null,
   "metadata": {},
   "outputs": [],
   "source": [
    "print(\"In total there were \"+ f\"{transaction_data.count()['household_key']:,d}\" +\" transactions during the two years.\")"
   ]
  },
  {
   "cell_type": "markdown",
   "metadata": {},
   "source": [
    "**Q2: How many purchase occasions occured during the two years ?** <br>\n",
    "Attention : here transactions are not what we usually think of. It's like on a reciept so the number of total unique purchases is not the number of transactions but the total of unique basket_id. "
   ]
  },
  {
   "cell_type": "code",
   "execution_count": null,
   "metadata": {},
   "outputs": [],
   "source": [
    "print(\"In total there were \"+ f\"{len(transaction_data['BASKET_ID'].unique()):,d}\" +\" purchase occasions during the two years.\" )"
   ]
  },
  {
   "cell_type": "markdown",
   "metadata": {},
   "source": [
    "#### Q3: How many households are represented in the transactions?"
   ]
  },
  {
   "cell_type": "code",
   "execution_count": null,
   "metadata": {},
   "outputs": [],
   "source": [
    "print(\"In total there were \"+ f\"{len(transaction_data['household_key'].unique()):,d}\" +\" households represented during the two years.\" )"
   ]
  },
  {
   "cell_type": "markdown",
   "metadata": {},
   "source": [
    "#### B. Demographic data: \n",
    "Demographic info for a certain portion of households. Contains only the data for 801 households of 2500 though. The rest could not be aquiered. The attributes of the dataset are the following: \n",
    " \n",
    "- HOUSEHOLD_KEY : identifies each household, **unique**\n",
    "- AGE_DES: estimated age range\n",
    "- MARITAL_STATUS_CODE: A (Married), B (Single), C (Unknown)\n",
    "- INCOME_DESC : Household income\n",
    "- HOMEOWNER_DESC: Homeowner, renter, etc\n",
    "- HH_COMP_DEC: Household composition\n",
    "- HOUSEHOLD_SIZE_DESC: Size of household up to 5+ \n",
    "- KID_CATEGORY_DESC: Number of children present up to 3+ "
   ]
  },
  {
   "cell_type": "code",
   "execution_count": null,
   "metadata": {},
   "outputs": [],
   "source": [
    "hh_demographic['household_key'].is_unique"
   ]
  },
  {
   "cell_type": "code",
   "execution_count": null,
   "metadata": {},
   "outputs": [],
   "source": [
    "hh_demographic.head(4)"
   ]
  },
  {
   "cell_type": "markdown",
   "metadata": {},
   "source": [
    "**Q3: How many age categories are there ? And what are they ?**\n"
   ]
  },
  {
   "cell_type": "code",
   "execution_count": null,
   "metadata": {},
   "outputs": [],
   "source": [
    "print(\"In total there are %d age categories\" %len(hh_demographic['AGE_DESC'].unique()))\n",
    "print(\"The different categories are:\", hh_demographic['AGE_DESC'].unique())"
   ]
  },
  {
   "cell_type": "markdown",
   "metadata": {},
   "source": [
    "**Q4: How many income categories are there ? And what are they ?**"
   ]
  },
  {
   "cell_type": "code",
   "execution_count": null,
   "metadata": {},
   "outputs": [],
   "source": [
    "print(\"In total there are %d income categories\" %len(hh_demographic['INCOME_DESC'].unique()))\n",
    "print(\"The different categories are:\", hh_demographic['INCOME_DESC'].unique())"
   ]
  },
  {
   "cell_type": "markdown",
   "metadata": {},
   "source": [
    "**Q5: How many homeowner categories are there ? And what are they ?**"
   ]
  },
  {
   "cell_type": "code",
   "execution_count": null,
   "metadata": {},
   "outputs": [],
   "source": [
    "print(\"In total there are %d homeowner categories\" %len(hh_demographic['HOMEOWNER_DESC'].unique()))\n",
    "print(\"The different categories are:\", hh_demographic['HOMEOWNER_DESC'].unique())"
   ]
  },
  {
   "cell_type": "markdown",
   "metadata": {},
   "source": [
    "**Q7: How many household composition categories are there ? And what are they ?**"
   ]
  },
  {
   "cell_type": "code",
   "execution_count": null,
   "metadata": {},
   "outputs": [],
   "source": [
    "print(\"In total there are %d household composition categories\" %len(hh_demographic['HH_COMP_DESC'].unique()))\n",
    "print(\"The different categories are:\", hh_demographic['HH_COMP_DESC'].unique())"
   ]
  },
  {
   "cell_type": "markdown",
   "metadata": {},
   "source": [
    "**Q8: How many household size categories are there ? And what are they ?**"
   ]
  },
  {
   "cell_type": "code",
   "execution_count": null,
   "metadata": {},
   "outputs": [],
   "source": [
    "print(\"In total there are %d household size categories\" %len(hh_demographic['HOUSEHOLD_SIZE_DESC'].unique()))\n",
    "print(\"The different categories are:\", hh_demographic['HOUSEHOLD_SIZE_DESC'].unique())"
   ]
  },
  {
   "cell_type": "markdown",
   "metadata": {},
   "source": [
    "**Q9: How many kid number categories are there ? And what are they ?**"
   ]
  },
  {
   "cell_type": "code",
   "execution_count": null,
   "metadata": {},
   "outputs": [],
   "source": [
    "print(\"In total there are %d kid number categories\" %len(hh_demographic['KID_CATEGORY_DESC'].unique()))\n",
    "print(\"The different categories are:\", hh_demographic['KID_CATEGORY_DESC'].unique())"
   ]
  },
  {
   "cell_type": "markdown",
   "metadata": {},
   "source": [
    "#### Q10: How many marital status categories are there? And what are they?"
   ]
  },
  {
   "cell_type": "code",
   "execution_count": null,
   "metadata": {},
   "outputs": [],
   "source": [
    "print(\"In total there are %d marital status categories\" %len(hh_demographic['MARITAL_STATUS_CODE'].unique()))\n",
    "print(\"The different categories are:\", hh_demographic['MARITAL_STATUS_CODE'].unique())"
   ]
  },
  {
   "cell_type": "markdown",
   "metadata": {},
   "source": [
    "For the marital status, the categories are not obvious:\n",
    "- 'A' = 'married'\n",
    "- 'B' = 'Single'\n",
    "- 'U' = 'Unknown'"
   ]
  },
  {
   "cell_type": "markdown",
   "metadata": {},
   "source": [
    "#### Q11: How many households are there ?"
   ]
  },
  {
   "cell_type": "code",
   "execution_count": null,
   "metadata": {},
   "outputs": [],
   "source": [
    "print(\"In total there are %d households for which we have the demographic data.\" %hh_demographic.count()['household_key'])"
   ]
  },
  {
   "cell_type": "markdown",
   "metadata": {},
   "source": [
    "**Note for the bubble group :**\n",
    "\n",
    "**Should we keep in the transaction data only the households for which we have the demographic data?? could be interesting considering the fact that we want to get insights on the shopping behavior according to the demographic data**"
   ]
  },
  {
   "cell_type": "markdown",
   "metadata": {},
   "source": [
    "#### C. Product data: \n",
    "Information on each product sold such as type of product, national or private label and a brand identifier. The attributes of the dataset are the following: \n",
    "- PRODUCT_ID: **unique**, identifies product\n",
    "- DEPARMENT: groups similar products together\n",
    "- COMMODITY_DESC: groups similar products together at a lower level\n",
    "- SUB_COMMODITY_DESC: groups similar products together at the lowest level. \n",
    "- MANUFACTURER: code that links products with the same manufacturer together \n",
    "- BRAND: indicates private or national label brand\n",
    "- CURR_SIZE_OF_PRODUCT: indicates package size (not available for all) "
   ]
  },
  {
   "cell_type": "markdown",
   "metadata": {},
   "source": [
    "Let's have a look: "
   ]
  },
  {
   "cell_type": "code",
   "execution_count": null,
   "metadata": {},
   "outputs": [],
   "source": [
    "product.head(4)"
   ]
  },
  {
   "cell_type": "markdown",
   "metadata": {},
   "source": [
    "**Q10: How many products are there ?**"
   ]
  },
  {
   "cell_type": "code",
   "execution_count": null,
   "metadata": {},
   "outputs": [],
   "source": [
    "# Are the products IDs unique ?\n",
    "product['PRODUCT_ID'].is_unique"
   ]
  },
  {
   "cell_type": "code",
   "execution_count": null,
   "metadata": {},
   "outputs": [],
   "source": [
    "print(\"In total there are \"+ f\"{product.count()['PRODUCT_ID']:,d}\" +\" products\")"
   ]
  },
  {
   "cell_type": "markdown",
   "metadata": {},
   "source": [
    "**Q11: How many department categories are there ? And what are they ?**"
   ]
  },
  {
   "cell_type": "code",
   "execution_count": null,
   "metadata": {},
   "outputs": [],
   "source": [
    "print(\"In total there are \"+ f\"{len(product['DEPARTMENT'].unique()) :,d}\"+ \" department categories\" )\n",
    "print(\"The different categories are:\", product['DEPARTMENT'].unique())"
   ]
  },
  {
   "cell_type": "markdown",
   "metadata": {},
   "source": [
    "**Q12: Are all produts in the product dataset represented in transactions ?**\n",
    "There are 92 353 products. As for the households, we can investigate whether all the products are represented in the *transaction_data* table."
   ]
  },
  {
   "cell_type": "code",
   "execution_count": null,
   "metadata": {},
   "outputs": [],
   "source": [
    "print(\"There are \"+ f\"{len(transaction_data['PRODUCT_ID'].unique()):,d}\" +\" products in the transactions table\" )"
   ]
  },
  {
   "cell_type": "markdown",
   "metadata": {},
   "source": [
    "There are 92 339 products represented in the *transaction_data* table, meaning that only **14** are not represented. We can more easily imagine to do an inner join, and just drop those 14 products. "
   ]
  },
  {
   "cell_type": "markdown",
   "metadata": {},
   "source": [
    "**Q13: Which are these 14 products that are never sold ?**"
   ]
  },
  {
   "cell_type": "code",
   "execution_count": null,
   "metadata": {},
   "outputs": [],
   "source": []
  },
  {
   "cell_type": "markdown",
   "metadata": {},
   "source": [
    "### TASK 1.B: Simple plots"
   ]
  },
  {
   "cell_type": "markdown",
   "metadata": {},
   "source": [
    "#### A. HH-demographic"
   ]
  },
  {
   "cell_type": "code",
   "execution_count": null,
   "metadata": {},
   "outputs": [],
   "source": [
    "hh_demographic.head(4)"
   ]
  },
  {
   "cell_type": "markdown",
   "metadata": {},
   "source": [
    "For now, the categories in this data frame are not arranged in a meaninful way, meaning that if we would make some plots now, we would not have the age categories ranged in ascending or descending order for example. \n",
    "Thus, we first want to arrange them, before making some exploratory plots."
   ]
  },
  {
   "cell_type": "code",
   "execution_count": null,
   "metadata": {},
   "outputs": [],
   "source": [
    "ordered_age= ['19-24','25-34','35-44','45-54','55-64', '65+' ]\n",
    "\n",
    "hh_demographic['AGE_DESC'] = pd.Categorical(hh_demographic['AGE_DESC'],\n",
    "                      ordered = True,\n",
    "                      categories = ordered_age)\n",
    "\n",
    "print ('The order of the age categories is :', ordered_age)"
   ]
  },
  {
   "cell_type": "code",
   "execution_count": null,
   "metadata": {},
   "outputs": [],
   "source": [
    "ordered_income= ['Under 15K','15-24K','25-34K','35-49K','50-74K','75-99K','100-124K',\n",
    "                 '125-149K','150-174K','175-199K','200-249K','250K+']\n",
    "\n",
    "hh_demographic['INCOME_DESC'] = pd.Categorical(hh_demographic['INCOME_DESC'],\n",
    "                      ordered = True,\n",
    "                      categories = ordered_income)\n",
    "\n",
    "print ('The order of the income categories is :', ordered_income)"
   ]
  },
  {
   "cell_type": "code",
   "execution_count": null,
   "metadata": {},
   "outputs": [],
   "source": [
    "ordered_homeowner= ['Unknown','Probable Renter','Renter','Probable Owner','Homeowner']\n",
    "\n",
    "hh_demographic['HOMEOWNER_DESC'] = pd.Categorical(hh_demographic['HOMEOWNER_DESC'],\n",
    "                      ordered = True,\n",
    "                      categories = ordered_homeowner)\n",
    "\n",
    "print ('The order of the homeowner categories is :', ordered_homeowner)"
   ]
  },
  {
   "cell_type": "code",
   "execution_count": null,
   "metadata": {},
   "outputs": [],
   "source": [
    "ordered_hh_comp= ['Unknown','Single Female','Single Male','1 Adult Kids','2 Adults No Kids','2 Adults Kids']\n",
    "\n",
    "hh_demographic['HH_COMP_DESC'] = pd.Categorical(hh_demographic['HH_COMP_DESC'],\n",
    "                      ordered = True,\n",
    "                      categories = ordered_hh_comp)\n",
    "\n",
    "print ('The order of the household composition categories is :', ordered_hh_comp)"
   ]
  },
  {
   "cell_type": "code",
   "execution_count": null,
   "metadata": {},
   "outputs": [],
   "source": [
    "ordered_hh_size= ['1','2','3','4','5+']\n",
    "\n",
    "hh_demographic['HOUSEHOLD_SIZE_DESC'] = pd.Categorical(hh_demographic['HOUSEHOLD_SIZE_DESC'],\n",
    "                      ordered = True,\n",
    "                      categories = ordered_hh_size)\n",
    "\n",
    "print ('The order of the household size categories is :', ordered_hh_size)"
   ]
  },
  {
   "cell_type": "code",
   "execution_count": null,
   "metadata": {},
   "outputs": [],
   "source": [
    "ordered_kid_number= ['None/Unknown','1','2','3+']\n",
    "\n",
    "hh_demographic['KID_CATEGORY_DESC'] = pd.Categorical(hh_demographic['KID_CATEGORY_DESC'],\n",
    "                      ordered = True,\n",
    "                      categories = ordered_kid_number)\n",
    "\n",
    "print ('The order of the kid number categories is :', ordered_kid_number)"
   ]
  },
  {
   "cell_type": "code",
   "execution_count": null,
   "metadata": {},
   "outputs": [],
   "source": [
    "ordered_marital_status= ['A','B','U']\n",
    "\n",
    "hh_demographic['MARITAL_STATUS_CODE'] = pd.Categorical(hh_demographic['MARITAL_STATUS_CODE'],\n",
    "                      ordered = True,\n",
    "                      categories = ordered_marital_status)\n",
    "\n",
    "print ('The order of the marital status categories is :', ordered_marital_status)"
   ]
  },
  {
   "cell_type": "markdown",
   "metadata": {},
   "source": [
    "Now that all the categories in this data frame are ranged in a meaningful way, let's make some simple plots to have an idea of the characteristics of the population which we study."
   ]
  },
  {
   "cell_type": "code",
   "execution_count": null,
   "metadata": {},
   "outputs": [],
   "source": [
    "fig1 = plt.figure(figsize=(20,20))\n",
    "\n",
    "plt.subplot(2, 2, 1)\n",
    "hh_demographic['AGE_DESC'].value_counts(sort = False).plot(kind = 'bar', title = 'Age histogram')\n",
    "\n",
    "plt.subplot(2, 2, 2)\n",
    "hh_demographic['MARITAL_STATUS_CODE'].value_counts(sort = False).plot(kind='bar', title = 'marital status histogram')\n",
    "\n",
    "plt.subplot(2,2,3)\n",
    "hh_demographic['INCOME_DESC'].value_counts(sort = False).plot(kind='bar', title = 'Income Histograms')\n",
    "\n",
    "plt.subplot(2,2,4)\n",
    "hh_demographic['HOMEOWNER_DESC'].value_counts(sort = False).plot(kind='bar', title = 'Homeowner histogram')\n",
    "\n",
    "plt.show()"
   ]
  },
  {
   "cell_type": "code",
   "execution_count": null,
   "metadata": {},
   "outputs": [],
   "source": [
    "fig2 = plt.figure(figsize=(20,20))\n",
    "\n",
    "plt.subplot(2,2,1)\n",
    "hh_demographic['HH_COMP_DESC'].value_counts(sort = False).plot(kind='bar', title = 'Household composition histogram')\n",
    "\n",
    "plt.subplot(2,2,2)\n",
    "hh_demographic['HOUSEHOLD_SIZE_DESC'].value_counts(sort = False).plot(kind='bar', title = 'Household size histogram')\n",
    "\n",
    "plt.subplot(2,2,3)\n",
    "hh_demographic['KID_CATEGORY_DESC'].value_counts(sort = False).plot(kind='bar', title = 'Kid categories')\n",
    "\n",
    "plt.show()"
   ]
  },
  {
   "cell_type": "markdown",
   "metadata": {},
   "source": [
    "### TASK 1.C: Transaction data\n",
    "Information about the original data: \n",
    "- HOUSEHOLD_KEY: identifies each household, \n",
    "- BASKET_ID: identifies a purchase occasion, \n",
    "- DAY: day when transaction occured\n",
    "- PRODUCT_ID: identifies each product, \n",
    "- QUANTITY: Number of products purchased during trip\n",
    "- SALES_VALUE: Amount of dollars retailer recieves from sale\n",
    "- STORE_ID: identifies store, \n",
    "- COUPON_MATCH_DISC: discount applied du to retailer's match of manufacturer coupon\n",
    "- COUPON_DISC: discount applied due to manufacturer coupon\n",
    "- RETAIL_DISC: discount applied due to retailer's loyalty card program\n",
    "- TRANS_TIME: time of day when transaction occured\n",
    "- WEEK_NO: week of the transaction. Ranges from 1-102. \n"
   ]
  },
  {
   "cell_type": "markdown",
   "metadata": {},
   "source": [
    "**Comment on currency:** We assume the retailers where based in the US as it was recolted by Raj Venkatesan, Bank of America Research Professor at the University of Virginia. Thus we assume the currency is american dollars but as we have no further information we might be way off. This is just to be able to somehow relate to how much was spent and have an idea of magnitude. "
   ]
  },
  {
   "cell_type": "code",
   "execution_count": null,
   "metadata": {},
   "outputs": [],
   "source": [
    "import seaborn as sns\n",
    "from scipy import stats"
   ]
  },
  {
   "cell_type": "code",
   "execution_count": null,
   "metadata": {},
   "outputs": [],
   "source": [
    "transaction_data.head(4)"
   ]
  },
  {
   "cell_type": "markdown",
   "metadata": {},
   "source": [
    "Drop the coupons columns as we're not interessed in marketing. "
   ]
  },
  {
   "cell_type": "code",
   "execution_count": null,
   "metadata": {},
   "outputs": [],
   "source": [
    "trans_initial_clean = transaction_data.drop(['COUPON_DISC','COUPON_MATCH_DISC', 'RETAIL_DISC'], axis = 1)\n",
    "trans_initial_clean_hous_ind = trans_initial_clean['household_key'].sort_values().unique()\n",
    "trans_initial_clean.head(4)"
   ]
  },
  {
   "cell_type": "markdown",
   "metadata": {},
   "source": [
    "#### General plot functions: "
   ]
  },
  {
   "cell_type": "code",
   "execution_count": null,
   "metadata": {},
   "outputs": [],
   "source": [
    "\"\"\"\n",
    "cat_count_plot: plots the number of occurences per category in to_be_plotted. \n",
    "\"\"\"\n",
    "def cat_count_plot(to_be_plotted, title):\n",
    "    fig, axs = plt.subplots(1,1, figsize = (18,6))\n",
    "\n",
    "    sns.countplot(to_be_plotted, ax = axs)\n",
    "\n",
    "    axs.set_xticklabels(axs.get_xticklabels(), rotation = 45, horizontalalignment = 'right')\n",
    "    axs.set(title =title)"
   ]
  },
  {
   "cell_type": "code",
   "execution_count": null,
   "metadata": {},
   "outputs": [],
   "source": [
    "\"\"\"\n",
    "plot_box_dist: plots the boxplot and distribution of an entered series. \n",
    "\"\"\"\n",
    "def plot_box_dist(to_be_plotted, mean, median, title, xlabel):\n",
    "    f, axes = plt.subplots(2, 1, sharex='col', gridspec_kw= {\"height_ratios\": (0.2, 2)}, figsize = (5,5)) #gridspec_kw= {\"height_ratios\": (0.2, 2)})\n",
    "    \n",
    "    sns.boxplot(to_be_plotted, ax= axes[0])\n",
    "    axes[0].axvline(mean, color='r', linestyle='--')\n",
    "    axes[0].axvline(median, color='g', linestyle='-')\n",
    "\n",
    "    sns.distplot(to_be_plotted, ax= axes[1])\n",
    "    axes[1].axvline(mean, color='r', linestyle='--')\n",
    "    axes[1].axvline(median, color='g', linestyle='-')\n",
    "\n",
    "    plt.legend({'Mean':mean,'Median':median})\n",
    "\n",
    "    axes[0].set(xlabel='', title = title)\n",
    "    axes[1].set(xlabel = xlabel)\n",
    "\n",
    "    plt.show()"
   ]
  },
  {
   "cell_type": "code",
   "execution_count": null,
   "metadata": {},
   "outputs": [],
   "source": [
    "\"\"\"\n",
    "double_plot_box_dist: does a double box plot with distribution with a shared x axis. \n",
    "\"\"\"\n",
    "def double_plot_box_dist(to_be_plotted1, to_be_plotted2,means, medians, titles, xlabels):\n",
    "    f, axes = plt.subplots(2, 2, sharex='col', gridspec_kw= {\"height_ratios\": (0.2, 2)}, figsize = (20,8))\n",
    "\n",
    "    sns.boxplot(to_be_plotted1, ax= axes[0,0])\n",
    "    axes[0,0].axvline(means[0], color='r', linestyle='--')\n",
    "    axes[0,0].axvline(medians[0], color='g', linestyle='-')\n",
    "\n",
    "    sns.distplot(to_be_plotted1, ax= axes[1,0])\n",
    "    axes[1,0].axvline(means[0], color='r', linestyle='--')\n",
    "    axes[1,0].axvline(medians[0], color='g', linestyle='-')\n",
    "\n",
    "    sns.boxplot(to_be_plotted2, ax=axes[0,1])\n",
    "    axes[0,1].axvline(means[1], color='r', linestyle='--')\n",
    "    axes[0,1].axvline(medians[1], color='g', linestyle='-')\n",
    "\n",
    "    sns.distplot(to_be_plotted2, ax= axes[1,1])\n",
    "    axes[1,1].axvline(means[1], color='r', linestyle='--')\n",
    "    axes[1,1].axvline(medians[1], color='g', linestyle='-')\n",
    "\n",
    "    plt.legend({'Mean':mean,'Median':median})\n",
    "\n",
    "    axes[0,0].set(xlabel='', title = titles[0])\n",
    "    axes[0,1].set(xlabel='', title = titles[1])\n",
    "\n",
    "    axes[1,0].set(xlabel= xlabels[0])\n",
    "    axes[1,1].set(xlabel= xlabels[1])\n",
    "    \n",
    "\n",
    "    plt.show()"
   ]
  },
  {
   "cell_type": "code",
   "execution_count": null,
   "metadata": {},
   "outputs": [],
   "source": [
    "\"\"\"\n",
    "double_categorical_scatter: does a double categorical scatter plot. \n",
    "\"\"\"\n",
    "def double_categorical_scatter(to_be_plotted1x, to_be_plotted1y, to_be_plotted2x, to_be_plotted2y, titles, add_mean = False):\n",
    "    fig, axs = plt.subplots(1,2, figsize = (18,6))\n",
    "    \n",
    "    sns.swarmplot(x = to_be_plotted1x, y = to_be_plotted1y, ax = axs[0])\n",
    "    if add_mean: \n",
    "        axs[0].axhline(to_be_plotted1y.mean(), color='r', linestyle='--')\n",
    "    \n",
    "    sns.swarmplot(x = to_be_plotted2x, y = to_be_plotted2y, ax = axs[1])\n",
    "    if add_mean: \n",
    "        axs[1].axhline(to_be_plotted2y.mean(), color='r', linestyle='--')\n",
    "        plt.legend({'Mean': mean})\n",
    "    \n",
    "    \n",
    "    #Rotate labels: \n",
    "    axs[0].set_xticklabels(axs[0].get_xticklabels(), rotation=45, horizontalalignment='right')\n",
    "    axs[1].set_xticklabels(axs[1].get_xticklabels(), rotation=45, horizontalalignment='right')\n",
    "\n",
    "    axs[0].set(title = titles[0])\n",
    "    axs[1].set(title =  titles[1])\n"
   ]
  },
  {
   "cell_type": "markdown",
   "metadata": {},
   "source": [
    "#### What did people buy the most ? \n",
    "Use dataset with new labelled product info. "
   ]
  },
  {
   "cell_type": "code",
   "execution_count": null,
   "metadata": {},
   "outputs": [],
   "source": [
    "#Load the dataset with updated product labels: \n",
    "labelled_prod = pd.read_csv('saved_structures/updated_prod.csv', sep = '\\t')\n",
    "\n",
    "#Drop columns we are not interested in\n",
    "labelled_prod = labelled_prod.set_index('PRODUCT_ID').drop(['MANUFACTURER','BRAND','CURR_SIZE_OF_PRODUCT'], axis = 1)\n",
    "\n",
    "print(labelled_prod.head(4))"
   ]
  },
  {
   "cell_type": "markdown",
   "metadata": {},
   "source": [
    "**Reminder**: in our newly labelled dataset the labels and departments are the following: "
   ]
  },
  {
   "cell_type": "code",
   "execution_count": null,
   "metadata": {},
   "outputs": [],
   "source": [
    "#Departments: \n",
    "cat_count_plot(labelled_prod['DEPARTMENT'], 'Number of occurences per department in product data')\n",
    "\n",
    "#Labels:\n",
    "cat_count_plot(labelled_prod['LABEL'], 'Number of occurences per label in product data')"
   ]
  },
  {
   "cell_type": "markdown",
   "metadata": {},
   "source": [
    "**What about our transaction data ?** <br>\n",
    "We assume that most transactions fall in the department of grocery and drug GM (general merchandise). Let's see if we're right."
   ]
  },
  {
   "cell_type": "code",
   "execution_count": null,
   "metadata": {},
   "outputs": [],
   "source": [
    "#We assume that most transactions fall in the department of grocery and drug GM. Let's see if we're right. \n",
    "labelled_trans = trans_initial_clean.join(other = labelled_prod, on = 'PRODUCT_ID').dropna()\n",
    "\n",
    "cat_count_plot(labelled_trans['DEPARTMENT'], 'Number of occurences per department in our transaction data')\n",
    "cat_count_plot(labelled_trans['LABEL'], 'Number of occurences per label in our transaction data')"
   ]
  },
  {
   "cell_type": "markdown",
   "metadata": {},
   "source": [
    "**Comment on graph**: Like we predicted, most of the transactions that occured during the two year study were groceries, drug and general merchandise or Produce. Here we need to point out the \"FAST FOOD AND SNACKS\" is a label for everything food related that is not fresh produce (vegetables, dairy, meat, etc) in groceries like Honey, Cookies, Muffines, pre-made dinners, dips, etc. It's of course also a label for fast food from the deli. We can see that in the next table: \n",
    "\n",
    "**The label could have a better name, have to rethink it maybe. **"
   ]
  },
  {
   "cell_type": "code",
   "execution_count": null,
   "metadata": {},
   "outputs": [],
   "source": [
    "labelled_prod[labelled_prod['LABEL'] == 'FAST FOOD & SNACKS'].sample(10)"
   ]
  },
  {
   "cell_type": "markdown",
   "metadata": {},
   "source": [
    "Because we want to look at how much households spend on groceries we're going to keep only transactions that are in the department of drug and general merchandise, groceries or produce (meat, deli and packaged meat included). We defined general merchandise as a broad catchall term for pretty much everything that's not groceries – from hearing aid batteries to major appliances. "
   ]
  },
  {
   "cell_type": "code",
   "execution_count": null,
   "metadata": {},
   "outputs": [],
   "source": [
    "#Filter transaction data to contain only the major departments: \n",
    "list_of_departments =['GROCERY','DRUG GM','PRODUCE','MEAT','MEAT-PCKGD','DELI']\n",
    "\n",
    "filtered_trans = labelled_trans[labelled_trans['DEPARTMENT'].apply(lambda x: x in list_of_departments)]\n",
    "\n",
    "cat_count_plot(filtered_trans['DEPARTMENT'], 'Number of occurences per department in our filtered transaction data')\n",
    "cat_count_plot(filtered_trans['LABEL'], 'Number of occurences per label in our filtered transaction data')\n"
   ]
  },
  {
   "cell_type": "code",
   "execution_count": null,
   "metadata": {},
   "outputs": [],
   "source": [
    "#We rename the dataset of transactions here because that's the name we've used everywhere else in the code below. \n",
    "trans_clean = filtered_trans\n",
    "trans_clean_hous_ind = filtered_trans['household_key'].sort_values().unique()\n",
    "trans_clean.head(4)"
   ]
  },
  {
   "cell_type": "markdown",
   "metadata": {},
   "source": [
    "### Question: How often did households go shopping ? "
   ]
  },
  {
   "cell_type": "markdown",
   "metadata": {},
   "source": [
    "**Functions for this question:**"
   ]
  },
  {
   "cell_type": "code",
   "execution_count": null,
   "metadata": {},
   "outputs": [],
   "source": [
    "\"\"\"\n",
    "trans_per_year: creates a dataframe with the total number of transactions per year for each household. \n",
    "\"\"\"\n",
    "def trans_per_year(trans_clean_year_i, trans_clean_hous_ind_i):\n",
    "    grouped_trans_yeari = trans_clean_year_i.groupby(['household_key','BASKET_ID']).size()\n",
    "    \n",
    "    purch_per_hous_yeari = pd.DataFrame(index = trans_clean_hous_ind_i)\n",
    "    \n",
    "    total_transactioni = [len(grouped_trans_yeari.loc[i]) for i in trans_clean_hous_ind_i]\n",
    "    \n",
    "    purch_per_hous_yeari['total purchase per year'] = total_transactioni\n",
    "    \n",
    "    return purch_per_hous_yeari"
   ]
  },
  {
   "cell_type": "markdown",
   "metadata": {},
   "source": [
    "#### Q: how often did households go shopping in total in two years? "
   ]
  },
  {
   "cell_type": "code",
   "execution_count": null,
   "metadata": {},
   "outputs": [],
   "source": [
    "#Number of total purchases by households in two years: \n",
    "grouped_trans = trans_clean.groupby(['household_key', 'BASKET_ID']).size()\n",
    "\n",
    "purchases_per_household = pd.DataFrame(index = trans_clean['household_key'].sort_values().unique())\n",
    "purchases_per_household.index.name = \"household_key\"\n",
    "\n",
    "purchases_per_household['total of purchases in two years'] = [len(grouped_trans.loc[i]) for i in trans_clean_hous_ind]\n",
    "\n",
    "#Plot distribution: \n",
    "mean = purchases_per_household['total of purchases in two years'].mean()\n",
    "median =purchases_per_household['total of purchases in two years'].median()\n",
    "\n",
    "#plot_box_dist(purchases_per_household, mean, median, 'Distribution of total purchaes over two years per household', 'Purchases in two years')\n",
    "\n",
    "print('The mean of total purchases in two years is %d purchases' %purchases_per_household['total of purchases in two years'].mean())\n",
    "print('The median of total purchases in two years is %d purchases' %purchases_per_household['total of purchases in two years'].median())\n"
   ]
  },
  {
   "cell_type": "markdown",
   "metadata": {},
   "source": [
    "#### Q: How often did people go shopping per year?\n",
    "We make the assumption here that a year is 51 weeks. We could have also looked at the days but weeks was easier as there are 102 weeks in the dataset. "
   ]
  },
  {
   "cell_type": "code",
   "execution_count": null,
   "metadata": {},
   "outputs": [],
   "source": [
    "#Households per year: \n",
    "trans_clean_year_1 = trans_clean[trans_clean['WEEK_NO'].apply(lambda x : x <= 51)]\n",
    "trans_clean_year_2 = trans_clean[trans_clean['WEEK_NO'].apply(lambda x : x > 51)]\n",
    "\n",
    "#Get the household indices: \n",
    "trans_clean_hous_ind_1 = trans_clean_year_1['household_key'].sort_values().unique()\n",
    "trans_clean_hous_ind_2 = trans_clean_year_2['household_key'].sort_values().unique()\n",
    "\n",
    "purch_per_household_year1 = trans_per_year(trans_clean_year_1, trans_clean_hous_ind_1)\n",
    "\n",
    "purch_per_household_year2 = trans_per_year(trans_clean_year_2, trans_clean_hous_ind_2)\n",
    "\n",
    "means = [purch_per_household_year1['total purchase per year'].mean(), purch_per_household_year2['total purchase per year'].mean() ]\n",
    "medians = [purch_per_household_year1['total purchase per year'].median(), purch_per_household_year2['total purchase per year'].median() ]\n",
    "\n",
    "print('Mean of total purchases in the first year per household is %d purchases per year' %means[0])\n",
    "print('Median of total purchases in the first year per household is %d purchases per year' %medians[0])\n",
    "print('\\n')\n",
    "print('Mean of total purchases in the second year per household is %d purchases per year' %means[1])\n",
    "print('Median of total purchases in the second year per household is %d purchases per year' %medians[1])\n",
    "\n",
    "#Plot distribution if we want to look at them: \n",
    "\n",
    "titles = ['Distribution of total purchases over the first year per household','Distribution of total purchaes over the second year per household']\n",
    "\n",
    "xlabels = ['Number of total purchases in the first year', 'Number of total purchases in the second year']\n",
    "\n",
    "double_plot_box_dist(purch_per_household_year1, purch_per_household_year2, means, medians,titles, xlabels)"
   ]
  },
  {
   "cell_type": "markdown",
   "metadata": {},
   "source": [
    "**Note** : Half of the households went shopping less than every week per year. But this, as we look at below, can be explained by the fact that the participation length in the study by households varies greatly. Mostly that households did not participate a full year in the study. "
   ]
  },
  {
   "cell_type": "markdown",
   "metadata": {},
   "source": [
    "**Conclusion for this part**: We learnt that, though the mean of households goes shopping approximately once per week, half of the households goes shopping less than once per week (through the median). It would be interesting to look at the composition/income of these families. It would also be interesting to look at the families that go shopping a lot. "
   ]
  },
  {
   "cell_type": "markdown",
   "metadata": {},
   "source": [
    "### Question: How much do families spend? "
   ]
  },
  {
   "cell_type": "markdown",
   "metadata": {},
   "source": [
    "**Functions for this question:**"
   ]
  },
  {
   "cell_type": "code",
   "execution_count": null,
   "metadata": {},
   "outputs": [],
   "source": [
    "\"\"\"\n",
    "spending_per_household_per_trans: creates a new dataframe with the spending per household \n",
    "\"\"\"\n",
    "def spending_per_household_per_trans(trans_clean):\n",
    "    \n",
    "    grouped = trans_clean.groupby(['household_key', 'BASKET_ID']).sum()\n",
    "    grouped_count = trans_clean.groupby(['household_key', 'BASKET_ID']).size()\n",
    "\n",
    "    grouped_trans_spent = pd.DataFrame(grouped[['SALES_VALUE','QUANTITY']])\n",
    "\n",
    "    grouped_trans_spent['WEEK_NO'] = grouped['WEEK_NO']/grouped_count\n",
    "    grouped_trans_spent['TRANS_TIME'] = grouped['TRANS_TIME']/grouped_count\n",
    "    grouped_trans_spent['DAY'] = grouped['DAY']/grouped_count\n",
    "\n",
    "    return grouped_trans_spent"
   ]
  },
  {
   "cell_type": "code",
   "execution_count": null,
   "metadata": {},
   "outputs": [],
   "source": [
    "\"\"\"\n",
    "bud_total_per_year: calculates the total budget per family over a year. \n",
    "\"\"\"\n",
    "def bud_total_per_year(grouped_trans_spent, trans_clean_hous_ind):\n",
    "    bud_total = [grouped_trans_spent.loc[i]['SALES_VALUE'].sum() for i in trans_clean_hous_ind]\n",
    "    \n",
    "    df = pd.DataFrame(index = trans_clean_hous_ind, data = {'yearly spending': bud_total})\n",
    "    \n",
    "    df.index.name = 'household_key'\n",
    "    \n",
    "    return df"
   ]
  },
  {
   "cell_type": "markdown",
   "metadata": {},
   "source": [
    "#### Q: What is the participation rate in the study ? \n",
    "E.g. did all households participate during two years ? "
   ]
  },
  {
   "cell_type": "code",
   "execution_count": null,
   "metadata": {},
   "outputs": [],
   "source": [
    "#Create the dataframes of spending per household (how much they paid for each purchase): \n",
    "grouped_trans_spent_total = spending_per_household_per_trans(trans_clean)\n",
    "\n",
    "grouped_trans_spent_year1 = spending_per_household_per_trans(trans_clean_year_1)\n",
    "\n",
    "grouped_trans_spent_year2 = spending_per_household_per_trans(trans_clean_year_2)\n",
    "\n",
    "print(grouped_trans_spent_year1.head(4))"
   ]
  },
  {
   "cell_type": "code",
   "execution_count": null,
   "metadata": {},
   "outputs": [],
   "source": [
    "#Check if all households are present both years: \n",
    "missing_households_year1 = set(list(range(1,2501))).difference(set(trans_clean_year_1['household_key'].unique()))\n",
    "missing_households_year2 = set(list(range(1,2501))).difference(set(trans_clean_year_2['household_key'].unique()))\n",
    "\n",
    "print(\"The following households are not represented in the first year transaction data: \", missing_households_year1)\n",
    "print(\"The following households are not represented in the second year transaction data: \", missing_households_year2)"
   ]
  },
  {
   "cell_type": "code",
   "execution_count": null,
   "metadata": {},
   "outputs": [],
   "source": [
    "participation_length = [len(grouped_trans_spent_total.loc[i]['WEEK_NO'].unique()) for i in trans_clean_hous_ind]\n",
    "\n",
    "#Create a pandas dataframe with participation length per household key: \n",
    "participation_per_hh = pd.DataFrame(index = trans_clean_hous_ind, data = {'participation_length': participation_length})\n",
    "\n",
    "#Plot participation: \n",
    "plot_box_dist(participation_length, np.mean(participation_length), np.median(participation_length),'Distribution of participation duration in the study', 'Lenght of participation [weeks]' )"
   ]
  },
  {
   "cell_type": "code",
   "execution_count": null,
   "metadata": {},
   "outputs": [],
   "source": [
    "print(f\"There were {len(participation_per_hh[participation_per_hh == 100]):n} households that participated two years.\")"
   ]
  },
  {
   "cell_type": "markdown",
   "metadata": {},
   "source": [
    "**Comment on graph**:  We realise that some households were not present in the first year and some other dropped out of the study in the second year. But actually, we see that most households only particpated between 20 and 80 weeks. Only 4 households did over 100 weeks. This could also explain why some households went shoppig less than once per week. They probably went also shopping elsewehere. Thus we have to be really careful about that."
   ]
  },
  {
   "cell_type": "markdown",
   "metadata": {},
   "source": [
    "#### Q: How much did families spend in total over the years and per year?: "
   ]
  },
  {
   "cell_type": "code",
   "execution_count": null,
   "metadata": {},
   "outputs": [],
   "source": [
    "#Dataframes of how much families spent per year (for year 1, 2 and for the mean of both years): \n",
    "budget_first_year = bud_total_per_year(grouped_trans_spent_year1, trans_clean_hous_ind_1)\n",
    "\n",
    "budget_second_year = bud_total_per_year(grouped_trans_spent_year2, trans_clean_hous_ind_2)\n",
    "\n",
    "#Dataframes of mean yearly spending: \n",
    "mean_yearly_spend = budget_first_year.join(budget_second_year, lsuffix = '_1')\n",
    "mean_yearly_spend['mean yearly spending'] = mean_yearly_spend.mean(axis = 1)\n",
    "mean_yearly_spend = mean_yearly_spend.drop(['yearly spending', 'yearly spending_1'], axis = 1)\n",
    "\n",
    "mean1 = budget_first_year['yearly spending'].mean()\n",
    "median1 = budget_first_year['yearly spending'].median()\n",
    "\n",
    "mean2 = budget_second_year['yearly spending'].mean()\n",
    "median2 = budget_second_year['yearly spending'].median()\n",
    "\n",
    "print('Mean of budget in the first year per household is '+f\"{round(mean1, 2):,}\"+' dollars per year' )\n",
    "print('Median of budget in the first year per household is '+f\"{round(median1, 2):,}\"+' dollars per year' )\n",
    "print('\\n')\n",
    "print('Mean of budget in the second year per household is '+f\"{round(mean2, 2):,}\"+' dollars per year' )\n",
    "print('Median of budget in the second year per household is '+f\"{round(median2, 2):,}\"+' dollars per year' )\n",
    "         \n",
    "titles = ['Amount spent per household in the first year', 'Amount spent per household in the second year']\n",
    "xlabels = ['Amount spent per year','Amount spent per year' ]\n",
    "\n",
    "double_plot_box_dist(budget_first_year['yearly spending'], budget_second_year['yearly spending'], [mean1, mean2], [median1, median2],titles, xlabels)"
   ]
  },
  {
   "cell_type": "code",
   "execution_count": null,
   "metadata": {},
   "outputs": [],
   "source": [
    "print(f\"There were {len(budget_first_year[budget_first_year['yearly spending'] > 4000]):n} families with a budget over 4000 dollars in the first year and {len(budget_second_year[budget_second_year['yearly spending'] > 4000]):n} in the second year.\")"
   ]
  },
  {
   "cell_type": "markdown",
   "metadata": {},
   "source": [
    "#### Comment on graphs:\n",
    "Most families during the two years spent between ~400 dollars to 2000 dollars per year. We see though that there are around 200 outlier families per year that spent over 4000 dollars. It would be interesting to see if those are families with higher income or something else that demographically differentiates them from the rest. But first as 400 dollars per year does not make a lot of sense, we need to have an idee of how much households spent per week in average as it is easier to relate to than yearly spending. "
   ]
  },
  {
   "cell_type": "markdown",
   "metadata": {},
   "source": [
    "#### Q: How much did households spend per week?  \n",
    "We are going to look at how much households spend per week on total transactions. "
   ]
  },
  {
   "cell_type": "markdown",
   "metadata": {},
   "source": [
    "We define average weekly spending as the total amount of money spent per household divided by the number of weeks they participated. <br>\n",
    "** Good way ? Or need to define another way ? **"
   ]
  },
  {
   "cell_type": "code",
   "execution_count": null,
   "metadata": {},
   "outputs": [],
   "source": [
    "def df_weekly_spending(df_trans, index):\n",
    "    grouped_per_hh = spending_per_household_per_trans(df_trans)\n",
    "    \n",
    "    mean_per_fam = [grouped_per_hh.loc[i]['SALES_VALUE'].sum() / len(grouped_per_hh.loc[i]['WEEK_NO'].unique()) for i in index]\n",
    "    \n",
    "    mean_budget_week = pd.DataFrame(index = trans_clean_hous_ind, data = {'mean weekly spending': mean_per_fam})\n",
    "    \n",
    "    mean_budget_week.index.name = 'household_key'\n",
    "    \n",
    "    return mean_budget_week "
   ]
  },
  {
   "cell_type": "code",
   "execution_count": null,
   "metadata": {},
   "outputs": [],
   "source": [
    "mean_budget_week = df_weekly_spending(trans_clean, trans_clean_hous_ind)\n",
    "\n",
    "mean = [mean_yearly_spend['mean yearly spending'].mean(), mean_budget_week['mean weekly spending'].mean()]\n",
    "median = [mean_yearly_spend['mean yearly spending'].median(), mean_budget_week['mean weekly spending'].median()]\n",
    "\n",
    "print('Mean of weekly budget per family '+f\"{round(mean[1], 2):,}\"+' dollars per week' )\n",
    "print('Median of weekly budget per family is '+f\"{round(median[1], 2):,}\"+' dollars per week' )\n",
    "\n",
    "double_plot_box_dist(mean_yearly_spend['mean yearly spending'], mean_budget_week['mean weekly spending'], mean, median, ['Mean yearly amount per household','Weekly amount spent per household'], ['Yearly spending [$]', 'Weekly spending [$]'])"
   ]
  },
  {
   "cell_type": "code",
   "execution_count": null,
   "metadata": {},
   "outputs": [],
   "source": [
    "print(f\"There were {len(mean_budget_week[mean_budget_week['mean weekly spending'] < 50]):n} households with a budget under 50 dollars per week.\")"
   ]
  },
  {
   "cell_type": "code",
   "execution_count": null,
   "metadata": {},
   "outputs": [],
   "source": [
    "print(f\"There were {len(mean_budget_week[mean_budget_week['mean weekly spending'] > 120]):n} households with a budget over 120 dollars per week.\")"
   ]
  },
  {
   "cell_type": "markdown",
   "metadata": {},
   "source": [
    "**Comment on graph**: We notice that most households spend between \\\\$50-100 per week on purchases. There are still 144 households that have a weekly amount of over \\\\$120. We notice that a lot of households spent less than \\\\$50 per week. That seems to low for a weekly budget as the weekly amount set by \"[Business insider:]( https://www.businessinsider.com/what-americans-spend-on-groceries-every-month-2019-4?r=US&IR=T#22-dallas-fort-worth-1)\" for the US is around \\\\$70. Let's have a look at what households spend according to their income: "
   ]
  },
  {
   "cell_type": "markdown",
   "metadata": {},
   "source": [
    "#### Q: Can we see a relation between spending and income? \n"
   ]
  },
  {
   "cell_type": "code",
   "execution_count": null,
   "metadata": {},
   "outputs": [],
   "source": [
    "#Load the clean demographic dataset from Marco: \n",
    "demographic_df = pd.read_csv('saved_structures/hh_demographic_fix_hhcomp.csv', sep='\\t')\n",
    "\n",
    "demographic_df = demographic_df.set_index('household_key')\n",
    "\n",
    "#Take care of categorical income and household size: \n",
    "demographic_df['INCOME_DESC'] = pd.Categorical(demographic_df['INCOME_DESC'],\n",
    "                      ordered = True,\n",
    "                      categories = ordered_income)\n",
    "\n",
    "ordered_hh_size= ['1','2','3','4','5+']\n",
    "demographic_df['HOUSEHOLD_SIZE_DESC'] = pd.Categorical(demographic_df['HOUSEHOLD_SIZE_DESC'],\n",
    "                      ordered = True,\n",
    "                      categories = ordered_hh_size)\n",
    "\n",
    "print(demographic_df.head(4))"
   ]
  },
  {
   "cell_type": "markdown",
   "metadata": {},
   "source": [
    "We create a new demographic dataframe where a column with mean yearly and weekly budget added. We note though that there are only 759 demographic entries. That means that we can only look at the demographic information of part of the households above as for transactions we considered 2'500 households. "
   ]
  },
  {
   "cell_type": "code",
   "execution_count": null,
   "metadata": {},
   "outputs": [],
   "source": [
    "#Create dataframe with weekly and yearly spending:\n",
    "#The yearly spending is the mean over the two years\n",
    "\n",
    "hh_spending = mean_budget_week.join(mean_yearly_spend).dropna()\n",
    "\n",
    "hh_spending = hh_spending.join(demographic_df).dropna()\n",
    "\n",
    "print(f\"Note: There are {len(hh_spending.index):n} in this new dataframe not 2500 households\")\n",
    "\n",
    "#Save to csv: \n",
    "if not os.path.exists(\"saved_structures\"):\n",
    "    os.makedirs(\"saved_structures\")\n",
    "hh_spending.to_csv(\"saved_structures/hh_spending.csv\", sep ='\\t', index=False)\n",
    "\n",
    "print(hh_spending.head(4))"
   ]
  },
  {
   "cell_type": "markdown",
   "metadata": {},
   "source": [
    "We are now going to plot the weekly and yearly spending versus income for each income category: "
   ]
  },
  {
   "cell_type": "code",
   "execution_count": null,
   "metadata": {},
   "outputs": [],
   "source": [
    "titles = ['Yearly spending versus income', 'Weekly spending versus income']\n",
    "\n",
    "print(f\"The mean of yearly spending per household is {hh_spending['mean yearly spending'].mean():n}.\")\n",
    "print(f\"The mean of weekly spending per household is {hh_spending['mean weekly spending'].mean():n}.\")\n",
    "\n",
    "double_categorical_scatter(hh_spending['INCOME_DESC'], hh_spending['mean yearly spending'], hh_spending['INCOME_DESC'], hh_spending['mean weekly spending'], titles, add_mean = True)"
   ]
  },
  {
   "cell_type": "markdown",
   "metadata": {},
   "source": [
    "**Comment** : We note that weekly spending and income does not augment linearly. We might have thought that a higher income creates higher spending habits but from what we see here it does not seem like it. Though for high incomes we would need to look at partcipation rate of outliers. It seems weird that households with over 250+K spent under 50 dollars weekly. Same for households under 15K spending weekly amounts of 200$. "
   ]
  },
  {
   "cell_type": "markdown",
   "metadata": {},
   "source": [
    "**Q: did households with low weekly spending not partcipate in the study for a long time ?** <br>\n",
    "This might indicate that those households did not participate a lot in the study and that their data cannot be considered. "
   ]
  },
  {
   "cell_type": "code",
   "execution_count": null,
   "metadata": {},
   "outputs": [],
   "source": [
    "#Create a new dataframe with participation length added to demographic data: \n",
    "participation_hh_dem = participation_per_hh.join(hh_spending).dropna()\n",
    "\n",
    "#Look at households that spend under 25 dollars per week:\n",
    "under25 = participation_hh_dem[participation_hh_dem['mean weekly spending'] <= 25]\n",
    "\n",
    "#Plot participation versus income: \n",
    "titles = ['Income versus mean weekly spending for households with low spending','Income versus study participation length for households with low spending']\n",
    "double_categorical_scatter(under25['INCOME_DESC'], under25['mean weekly spending'], under25 ['INCOME_DESC'], under25 ['participation_length'], titles)"
   ]
  },
  {
   "cell_type": "markdown",
   "metadata": {},
   "source": [
    "**Comment on graph**: We note that households with low weekly spending still participated for at least around 40 weeks so we cannot say that those households just partcipated once and did it badly. But still, some households with 35-49K income spent below 12 dollars per week. This means that those households did their purchases elsewhere as well. To get an idea of usual grocery spending habits, we use statistics available online: <br>\n",
    "\n",
    "According to the [Bureau of Labor statistics:](https://www.thestreet.com/personal-finance/average-cost-of-food-14845479)\n",
    "- Food spending: more than \\\\$7'7000 per year on groceries and more .\n",
    "    - one member household : \\\\$4,425\n",
    "    - Two members : \\\\$7,865\n",
    "    - Four members : \\\\$10,995\n",
    "- Income levels: attention groceries do not include eating-out ! \n",
    "    - lowest 20%: Mean Income of \\\\$11,394 -> \\\\$2,582 on groceries per year. **On what kind of produce do they spend it ?**\n",
    "    - second 20%: Mean income \\\\$29,821 -> \\\\$3,622 on groceries per year. \n",
    "    - third 20%: Mean income \\\\$52,431 -> \\\\$4,038 on groceries per year. \n",
    "    - fourth 20%: Mean Income of \\\\$86,363 -> \\\\$4,893 on groceries\n",
    "    - top 20%: Mean Income of \\\\$188,103 -> \\\\$6,677 on groceries\n",
    "    \n",
    "<br>\n",
    "So we know that in our data, every household (in the lower income tier) should have spent at least around \\$2500 dollars per year. Households that spent less than that did not participate in the study fully and bought groceries elsewhere. If we want to look for trends between demographic data and shopping habits, we cannot take those households into account as they don't represent normal spending habits. "
   ]
  },
  {
   "cell_type": "markdown",
   "metadata": {},
   "source": [
    "#### Q:  How many households seem regular loyal shoppers ? \n",
    "By regular we mean that they might do most of their shopping at this retailer. "
   ]
  },
  {
   "cell_type": "markdown",
   "metadata": {},
   "source": [
    "We make the assumption that to be a \"regular\" shopper, they should spend at least \\\\$2500 per year. We set the same bound for everyone for the moment just in case we have some really frugal households in higher income categories. "
   ]
  },
  {
   "cell_type": "code",
   "execution_count": null,
   "metadata": {},
   "outputs": [],
   "source": [
    "#Remove in the dataset: \n",
    "filtered_income = participation_hh_dem[participation_hh_dem['mean yearly spending'] >= 2500]\n",
    "\n",
    "print(f\"We lost {len(participation_hh_dem.index) - len(filtered_income.index):d} households by filtering.\")\n",
    "print(f\"We have {len(filtered_income.index):d} households left after filtering.\")"
   ]
  },
  {
   "cell_type": "code",
   "execution_count": null,
   "metadata": {},
   "outputs": [],
   "source": [
    "titles1 = ['Income versus mean yearly spending for households with spending > 2500','Income versus study participation length for households with spending > 2500']\n",
    "double_categorical_scatter(filtered_income['INCOME_DESC'], filtered_income['mean yearly spending'], filtered_income['INCOME_DESC'], filtered_income['participation_length'], titles)\n",
    "\n",
    "titles2 = ['Age versus mean yearly spending for households with spending >2500','Household size versus yearly spending for households with spending > 2500']\n",
    "double_categorical_scatter(filtered_income['AGE_DESC'], filtered_income['mean yearly spending'], filtered_income['HOUSEHOLD_SIZE_DESC'], filtered_income['mean yearly spending'], titles)"
   ]
  },
  {
   "cell_type": "markdown",
   "metadata": {},
   "source": [
    "**Comment**: We don't have that many \"regular\" shoppers but at least we can see that most of those households participated for more than a year. We can also see that there are some outliers, like households with income under 15K that spent around 8K per year on groceries. That seems like a missclassification. Also there are families of 5+ that spent less than 3K/year, these are probably also families that shop elsewhere in addition. <br>\n",
    "To do: \n",
    "- classify as regular or not ? \n",
    "- create new df with house id and weekly/yearly amount spent/quantity per label to see aht they buy"
   ]
  },
  {
   "cell_type": "markdown",
   "metadata": {},
   "source": [
    "### What are the shopping trends of these households ? \n",
    "- what did they buy weekly of each label\n",
    "- how much did they spend on each label per week"
   ]
  },
  {
   "cell_type": "code",
   "execution_count": null,
   "metadata": {},
   "outputs": [],
   "source": [
    "#We have two interesting dataframes: \n",
    "#The demographic data for each household and their weekly spending, yearly spending and participation in the study.  \n",
    "#print(participation_hh_dem.head(4))\n",
    "\n",
    "#The transactions of all households and the labels of each product.\n",
    "#print(trans_clean.head(4))\n",
    "\n",
    "print(f\"There are {len(trans_clean['LABEL'].unique()):n} unique labels\")"
   ]
  },
  {
   "cell_type": "markdown",
   "metadata": {},
   "source": [
    "Create a table with demographic data and number of weekly purchases for each produce label to get an idea of their average grocery shopping carts. "
   ]
  },
  {
   "cell_type": "code",
   "execution_count": null,
   "metadata": {},
   "outputs": [],
   "source": [
    "\"\"\"\n",
    "create_weekly_cart_df: creates a dataframe with average weekly quantities of each label for each household \n",
    "\"\"\"\n",
    "def create_weekly_cart_df(trans_clean):\n",
    "    grouped_per_label = pd.DataFrame(trans_clean.groupby(['LABEL','household_key']).sum())\n",
    "    \n",
    "    index = trans_clean['household_key'].sort_values().unique()\n",
    "\n",
    "    weekly_cart_df = pd.DataFrame(index = index)\n",
    "    weekly_cart_df.index.name = 'household_key'\n",
    "\n",
    "    for label in trans_clean['LABEL'].unique(): \n",
    "        data = [grouped_label.loc[label, i]/(participation_per_hh['participation_length'][i])  for i in grouped_label.loc[label].index]\n",
    "        \n",
    "        intermediary_df = pd.DataFrame(index = grouped_label.loc[label].index, data = {label +'_QUANT': data})\n",
    "\n",
    "        weekly_cart_df = weekly_cart_df.join(intermediary_df)\n",
    "\n",
    "    #Fill NaN values with 0.0:\n",
    "    weekly_cart_df = weekly_cart_df.fillna(0.0)\n",
    "    \n",
    "    return weekly_cart_df"
   ]
  },
  {
   "cell_type": "code",
   "execution_count": null,
   "metadata": {},
   "outputs": [],
   "source": [
    "weekly_cart_df = create_weekly_cart_df(trans_clean)\n",
    "weekly_cart_df.head(4)"
   ]
  },
  {
   "cell_type": "code",
   "execution_count": null,
   "metadata": {},
   "outputs": [],
   "source": []
  }
 ],
 "metadata": {
  "kernelspec": {
   "display_name": "Python 3",
   "language": "python",
   "name": "python3"
  },
  "language_info": {
   "codemirror_mode": {
    "name": "ipython",
    "version": 3
   },
   "file_extension": ".py",
   "mimetype": "text/x-python",
   "name": "python",
   "nbconvert_exporter": "python",
   "pygments_lexer": "ipython3",
   "version": "3.7.4"
  }
 },
 "nbformat": 4,
 "nbformat_minor": 2
}
