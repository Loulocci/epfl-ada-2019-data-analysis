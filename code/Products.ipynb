{
 "cells": [
  {
   "cell_type": "markdown",
   "metadata": {},
   "source": [
    "# PRODUCTS"
   ]
  },
  {
   "cell_type": "markdown",
   "metadata": {},
   "source": [
    "**A. CLEAN UP AND PREPARE PRODUCT DATA**"
   ]
  },
  {
   "cell_type": "markdown",
   "metadata": {},
   "source": [
    "A.1 Load and plot"
   ]
  },
  {
   "cell_type": "code",
   "execution_count": null,
   "metadata": {},
   "outputs": [],
   "source": [
    "%matplotlib inline\n",
    "import pandas as pd\n",
    "\n",
    "import matplotlib.pyplot as plt\n",
    "\n",
    "import os\n",
    "\n",
    "# pip install fuzzywuzzy\n",
    "from fuzzywuzzy import fuzz\n",
    "\n",
    "from operator import itemgetter\n",
    "\n",
    "import re\n",
    "\n",
    "import seaborn as sns\n",
    "\n",
    "#Website object lists : https://7esl.com/tools-and-equipment/#Technological_Gadgets"
   ]
  },
  {
   "cell_type": "code",
   "execution_count": null,
   "metadata": {},
   "outputs": [],
   "source": [
    "os.getcwd()"
   ]
  },
  {
   "cell_type": "code",
   "execution_count": null,
   "metadata": {},
   "outputs": [],
   "source": [
    "#load the data\n",
    "hh_demographic = pd.read_csv('../data/dunnhumby_complete_csv/hh_demographic.csv', sep = ',')\n",
    "\n",
    "transaction_data = pd.read_csv('../data/dunnhumby_complete_csv/transaction_data.csv', sep = ',')\n",
    "\n",
    "product = pd.read_csv('../data/dunnhumby_complete_csv/product.csv', sep = ',')\n",
    "\n",
    "# This is a list a created. It is a small file, I pushed it in data in order you can have it at home\n",
    "ObjectLabels = pd.read_csv('../data/dunnhumby_complete_csv/GroceryLists.csv', sep = ',')\n",
    "ObjectLabels.columns = ['ITEM','LABEL']"
   ]
  },
  {
   "cell_type": "markdown",
   "metadata": {},
   "source": [
    "First we get interested by the different departments in the commercial center. We reorder the departments and plot the number of different products we can find per department. "
   ]
  },
  {
   "cell_type": "code",
   "execution_count": null,
   "metadata": {},
   "outputs": [],
   "source": [
    "# REORDERING PART\n",
    "ordered_manufacturer= product.MANUFACTURER.astype(int).sort_values()\n",
    "ordered_manufacturer= ordered_manufacturer.unique()\n",
    "\n",
    "product['MANUFACTURER'] = pd.Categorical(product['MANUFACTURER'],\n",
    "                      ordered = True,\n",
    "                      categories = ordered_manufacturer)\n",
    "\n",
    "print ('The order of the manufacturer categories is :', ordered_manufacturer)\n",
    "\n",
    "# remove empty products\n",
    "product= product.drop(product[product['DEPARTMENT']== ' '].index)"
   ]
  },
  {
   "cell_type": "code",
   "execution_count": null,
   "metadata": {},
   "outputs": [],
   "source": [
    "# We drop weird department data. These data are either incomprehensible or appear to be inaccurate\n",
    "product= product.drop(product[product['DEPARTMENT']== ' '].index)\n",
    "product= product.drop(product[product['DEPARTMENT']== 'PHOTO'].index)\n",
    "product= product.drop(product[product['DEPARTMENT']== 'VIDEO'].index)\n",
    "product= product.drop(product[product['DEPARTMENT']== 'MISC. TRANS.'].index)\n",
    "product= product.drop(product[product['DEPARTMENT']== 'MISC SALES TRAN'].index)\n",
    "product= product.drop(product[product['DEPARTMENT']== 'MEAT-WHSE'].index)\n",
    "# this department is the coupon store. Our study does not take into account the coupons\n",
    "product= product.drop(product[product['DEPARTMENT']== 'COUP/STR & MFG'].index)"
   ]
  },
  {
   "cell_type": "code",
   "execution_count": null,
   "metadata": {},
   "outputs": [],
   "source": [
    "#we create the LABEL column in the product dataframe\n",
    "product['LABEL'] = product['DEPARTMENT']\n",
    "product.head(4)"
   ]
  },
  {
   "cell_type": "code",
   "execution_count": null,
   "metadata": {},
   "outputs": [],
   "source": [
    "department= product.groupby(['DEPARTMENT']).count()\n",
    "\n",
    "#PLOT THE NUMBER OF DIFFERENT PRODUCTS PER DEPARTMENT\n",
    "\n",
    "fig = plt.figure(figsize=(20,10))\n",
    "\n",
    "# Divide the figure into a 2x1 grid, and give me the first section\n",
    "ax1 = fig.add_subplot(231)\n",
    "\n",
    "# Divide the figure into a 2x1 grid, and give me the second section\n",
    "ax2 = fig.add_subplot(232)\n",
    "\n",
    "ax3 = fig.add_subplot(233)\n",
    "\n",
    "ax4 = fig.add_subplot(234)\n",
    "\n",
    "ax5 = fig.add_subplot(235)\n",
    "\n",
    "ax6 = fig.add_subplot(236)\n",
    "\n",
    "department[(department.BRAND>0) & (department.BRAND<=2)].BRAND.sort_values().plot.bar(ax=ax1)\n",
    "department[(department.BRAND>2) & (department.BRAND<=5)].BRAND.sort_values().plot.bar(ax=ax2)\n",
    "department[(department.BRAND>5) & (department.BRAND<=20)].BRAND.sort_values().plot.bar(ax=ax3)\n",
    "department[(department.BRAND>20) & (department.BRAND<=500)].BRAND.sort_values().plot.bar(ax=ax4)\n",
    "department[(department.BRAND>500) & (department.BRAND<=4000)].BRAND.sort_values().plot.bar(ax=ax5)\n",
    "department[department.BRAND>4000].BRAND.sort_values().plot.bar(ax=ax6)\n",
    "\n",
    "fig.subplots_adjust(hspace=1)\n",
    "fig.subplots_adjust(wspace=0.4)\n"
   ]
  },
  {
   "cell_type": "markdown",
   "metadata": {},
   "source": [
    "As we can see in the previous barplots, the departments with the highest number of referenced products in this study are the grocery with almost 40000 products, and the drug GM (which is probably a drug store) with more than 30000 products. We are going to focus on these 2 mains stores in a first time."
   ]
  },
  {
   "cell_type": "markdown",
   "metadata": {},
   "source": [
    "**B. GROCERY DATA PREPROCESSING**"
   ]
  },
  {
   "cell_type": "markdown",
   "metadata": {},
   "source": [
    "In this part we are interested to clean up and categorize the different products from the grocery store. We want to explain what purpose they serve (food, households, & hygien products, pet products etc.). We create a special Grocery dataframe for this purpose."
   ]
  },
  {
   "cell_type": "code",
   "execution_count": null,
   "metadata": {},
   "outputs": [],
   "source": [
    "#we extract the grocery product data which is the main supermarket in the commercial center\n",
    "Grocery= pd.DataFrame(product[product['DEPARTMENT'] == 'GROCERY'])\n",
    "Grocery.head()"
   ]
  },
  {
   "cell_type": "markdown",
   "metadata": {},
   "source": [
    "The only product descriptions provided by the Grocery data are few words descriptions found in COMMODITY_DESC and SUB_COMMODITY_DESC columns. These descriptions are not standardized, no categories arise from them. \n",
    "\n",
    "In a first time, we want to categorize the words in the descriptions using different labels (produce, households, technology ...). To do so we create a function called \"LabelizeProduct\". This function first recognizes the different words or words sequences in the description. These words or words sequences are associated with a certain label in a list of shopping items (\"GroceryList.csv\"). In a second time, based on the fuzzywuzzy librairy, the \"LabelizeProduct\" gives a score with comparing the description and the shopping item corresponding to words sequence identified. Finally, the functions keep the label for which the score is the highest. "
   ]
  },
  {
   "cell_type": "code",
   "execution_count": null,
   "metadata": {},
   "outputs": [],
   "source": [
    "# This function is able to categorize the products given in data with looking at a labelled list of words. \n",
    "#This labelled list of words is a lexique of grocery and shopping words. The threshold is the smallest \n",
    "#fuzzywuzzy score accepted to declare a match. (fuzzywuzzy gives a score of string matching over 100 )\n",
    "\n",
    "# data is the  dataset to categorize, dataCol is the column of the dataset to categorize, \n",
    "#threshold is the minimal fuzzywuzzy score accepted. If score lower than threshold, \n",
    "#the item is categorized as 'not found'. \n",
    "#wordList is the list of words associated with a Label. wordList : ['ITEM','LABEL']\n",
    "def LabelizeProduct(data, dataCol, threshold, wordList) :\n",
    "    \n",
    "    Out = pd.DataFrame(index = data.index, columns = ['Item','Ratio','Label'])\n",
    "    \n",
    "    #count to show progression when running (can take few minutes)\n",
    "    loopCounter = 0\n",
    "    # iterate on the index of the dataset to categorize\n",
    "    for indexCOM in data.index :\n",
    "        \n",
    "        if (loopCounter%100 == 0): \n",
    "            print(loopCounter)\n",
    "        \n",
    "        # the item to categorize in the dataCol\n",
    "        item = dataCol.loc[indexCOM]\n",
    "        #a vector to keep all the matches within the grocerylist.csv\n",
    "        match = []\n",
    "        #set the output table\n",
    "        Out.Item[indexCOM] = item\n",
    "        Out.Label[indexCOM] = 'not found'\n",
    "        Out.Ratio[indexCOM]= 0\n",
    "        \n",
    "        #iterate on the wordList's items (belonging to a certain label)\n",
    "        for index,label in enumerate(wordList.LABEL) :\n",
    "            \n",
    "            # get all the separated words in the wordList item\n",
    "            line = re.split(' |&|/',wordList.ITEM[index])\n",
    "            \n",
    "            #iterate on the separated words in the wordList item\n",
    "            for word in line:\n",
    "                #manage case (everything in lowercase)\n",
    "                lword= word.lower()\n",
    "                litem = item.lower()\n",
    "\n",
    "                # if we find the word from wordList item, in the description of the data:\n",
    "                # we calculate the fuzzywuzzy ratio(%) and we append the match in the match vector\n",
    "                if litem.find(lword)!= -1:\n",
    "                    ratio = fuzz.token_sort_ratio(str.lower(item), str.lower(lword))\n",
    "                    match.append((indexCOM,line,ratio,label))\n",
    "                    \n",
    "        # if the match vector is not empty, then we attribute the label corresponding to the max ratio \n",
    "        #to the description            \n",
    "        if (match) and (max(match,key=itemgetter(2))[2]>= threshold)  :\n",
    "            Out.Label[indexCOM] = max(match,key=itemgetter(2))[3]\n",
    "            Out.Ratio[indexCOM]= max(match,key=itemgetter(2))[2]\n",
    "            \n",
    "        loopCounter += 1\n",
    "            \n",
    "    return Out"
   ]
  },
  {
   "cell_type": "markdown",
   "metadata": {},
   "source": [
    "We use our new function \"LabelizeProduct\" to find the main categories in the Grocery department."
   ]
  },
  {
   "cell_type": "code",
   "execution_count": null,
   "metadata": {},
   "outputs": [],
   "source": [
    "LabelledSUB = LabelizeProduct(Grocery, Grocery.SUB_COMMODITY_DESC, 0, ObjectLabels)"
   ]
  },
  {
   "cell_type": "code",
   "execution_count": null,
   "metadata": {},
   "outputs": [],
   "source": [
    "Labelled = LabelizeProduct(Grocery, Grocery.COMMODITY_DESC, 0, ObjectLabels) "
   ]
  },
  {
   "cell_type": "code",
   "execution_count": null,
   "metadata": {},
   "outputs": [],
   "source": [
    "Labelled['RatioSUB']= LabelledSUB.Ratio\n",
    "Labelled['LabelSUB']= LabelledSUB.Label"
   ]
  },
  {
   "cell_type": "code",
   "execution_count": null,
   "metadata": {},
   "outputs": [],
   "source": [
    "# we would like to estimate the error\n",
    "\n",
    "# number of item where SUB_COMMODITY_DESC and COMMODITY_DESC have a different label. (Knowing the the label kept \n",
    "# at the end is the one with the highest score \n",
    "Labelled[Labelled['Label']!=Labelled['LabelSUB']].count()\n",
    "\n",
    "# total of not found for both SUB_COMMODITY_DESC and COMMODITY_DESC\n",
    "Labelled[(Labelled['Label'] == 'not found') & (Labelled['LabelSUB'] == 'not found')].count()\n",
    "\n",
    "# Total number of highest score lower than 20. Most often it is because we compare a small word to \n",
    "# a whole item description (several words).  \n",
    "Labelled[(Labelled['Ratio']<20) & (Labelled['RatioSUB'] < 20)].count()\n",
    "Labelled[(Labelled['Ratio']<20) & (Labelled['RatioSUB'] < 20)]"
   ]
  },
  {
   "cell_type": "markdown",
   "metadata": {},
   "source": [
    "We create a second function \"putLabel\" that sets the label with the highest fuzzy ratio in between the dataset's columns that were categorized (here COMMODITY_DESC and SUB_COMMODITY_DESC) in the main data set (here Grocery). "
   ]
  },
  {
   "cell_type": "code",
   "execution_count": null,
   "metadata": {},
   "outputs": [],
   "source": [
    "# this is the function that put the Labels in the main data Table. It compares the labels thanks to the fuzzy scores\n",
    "#for 2 different labelledData (ex: grocery labelled for COMMODITY and SUB_COMMODITY) and chooses the best one. \n",
    "def putLabel(LabelledData, data) :\n",
    "    for line in LabelledData.index : \n",
    "\n",
    "        maxRatio = max(LabelledData.Ratio.loc[line],LabelledData.RatioSUB.loc[line])\n",
    "        if LabelledData.Ratio.loc[line] == maxRatio :\n",
    "            data['LABEL'].loc[line] = LabelledData.Label.loc[line]\n",
    "        elif LabelledData.RatioSUB.loc[line] == maxRatio :\n",
    "            data['LABEL'].loc[line] = LabelledData.LabelSUB.loc[line]\n",
    "    return 0"
   ]
  },
  {
   "cell_type": "code",
   "execution_count": null,
   "metadata": {},
   "outputs": [],
   "source": [
    "# put the labels in the main data set Grocery and show results\n",
    "putLabel(Labelled, Grocery)\n",
    "LabelCount= Grocery.groupby('LABEL').count()\n",
    "LabelCount.BRAND.sort_values().plot.bar()"
   ]
  },
  {
   "cell_type": "code",
   "execution_count": null,
   "metadata": {},
   "outputs": [],
   "source": [
    "Grocery.to_csv('Grocery.csv')"
   ]
  },
  {
   "cell_type": "markdown",
   "metadata": {},
   "source": [
    "As we can see in the following table the Grocery store product have been Labelled. Error of classification are possible (even if low rate --> to estimate, HOW ?). Indeed the \"LabelizeProduct\" recognizes words that are provided in the \"wordList\" to the function. The accuracy of the classification relies on the thoroughness of this word list. Moreover if the word list does not contain enough words, the quantity of 'not found' increases drastically."
   ]
  },
  {
   "cell_type": "code",
   "execution_count": null,
   "metadata": {},
   "outputs": [],
   "source": [
    "Grocery.groupby('LABEL').count()"
   ]
  },
  {
   "cell_type": "markdown",
   "metadata": {},
   "source": [
    "**C. LET'S DO IT AGAIN WITH DRUG GM**"
   ]
  },
  {
   "cell_type": "code",
   "execution_count": null,
   "metadata": {},
   "outputs": [],
   "source": [
    "#we extract the drug gm product data which is the second main store in the commercial center\n",
    "DrugGM= pd.DataFrame(product[product['DEPARTMENT'] == 'DRUG GM'])\n",
    "DrugGM.head()"
   ]
  },
  {
   "cell_type": "code",
   "execution_count": null,
   "metadata": {},
   "outputs": [],
   "source": [
    "# use LabelizeProduct to label the COMMODITY_DESC column from Drug GM department\n",
    "LabelledDGM = LabelizeProduct(DrugGM, DrugGM.COMMODITY_DESC, 0,ObjectLabels) "
   ]
  },
  {
   "cell_type": "code",
   "execution_count": null,
   "metadata": {},
   "outputs": [],
   "source": [
    "# use LabelizeProduct to label the SUB_COMMODITY_DESC column from Drug GM department\n",
    "LabelledSUBDGM = LabelizeProduct(DrugGM, DrugGM.SUB_COMMODITY_DESC, 0,ObjectLabels) "
   ]
  },
  {
   "cell_type": "code",
   "execution_count": null,
   "metadata": {},
   "outputs": [],
   "source": [
    "# put the labels in the main data set Drug GM\n",
    "LabelledDGM['RatioSUB']= LabelledSUBDGM.Ratio\n",
    "LabelledDGM['LabelSUB']= LabelledSUBDGM.Label\n",
    "putLabel(LabelledDGM, DrugGM)"
   ]
  },
  {
   "cell_type": "code",
   "execution_count": null,
   "metadata": {},
   "outputs": [],
   "source": [
    "# show results\n",
    "LabelDGMCount= DrugGM.groupby('LABEL').count()\n",
    "LabelDGMCount.BRAND.sort_values().plot.bar()"
   ]
  },
  {
   "cell_type": "code",
   "execution_count": null,
   "metadata": {},
   "outputs": [],
   "source": [
    "# we would like to estimate the error\n",
    "\n",
    "# number of item where SUB_COMMODITY_DESC and COMMODITY_DESC have a different label. (Knowing the the label kept \n",
    "# at the end is the one with the highest score  \n",
    "LabelledDGM[LabelledDGM['Label']!=LabelledDGM['LabelSUB']].count()\n",
    "\n",
    "# total of not found for both SUB_COMMODITY_DESC and COMMODITY_DESC\n",
    "LabelledDGM[(LabelledDGM['Label'] == 'not found') & (LabelledDGM['LabelSUB'] == 'not found')].count()\n",
    "\n",
    "# Total number of highest score lower than 20. Most often it is because we compare a small word to \n",
    "# a whole item description (several words).  \n",
    "LabelledDGM[(LabelledDGM['Ratio']<20) & (LabelledDGM['RatioSUB'] < 20)].count()\n",
    "LabelledDGM[(LabelledDGM['Ratio']<60) & (LabelledDGM['RatioSUB'] < 20)]"
   ]
  },
  {
   "cell_type": "markdown",
   "metadata": {},
   "source": [
    "**D. ALL THE OTHER SHOPS: DELI, PRODUCE, NUTRITION, COSMETICS etc.**"
   ]
  },
  {
   "cell_type": "markdown",
   "metadata": {},
   "source": [
    "The shop DELI needs also to be categorized. Since all the other shops are specialized the labels are easy to infer. Indeed it corresponds to the shop specialization. We also put the computed Label in the main dataset product (Grocery, Drug GM and DELI). "
   ]
  },
  {
   "cell_type": "code",
   "execution_count": null,
   "metadata": {},
   "outputs": [],
   "source": [
    "# categorize the data in DELI\n",
    "DELI = product[product['DEPARTMENT'] == 'DELI']\n",
    "LabelledDELI = LabelizeProduct(DELI, DELI.COMMODITY_DESC, 0,ObjectLabels)\n",
    "LabelledSUBDELI = LabelizeProduct(DELI, DELI.SUB_COMMODITY_DESC, 0,ObjectLabels)"
   ]
  },
  {
   "cell_type": "code",
   "execution_count": null,
   "metadata": {},
   "outputs": [],
   "source": [
    "#add DELI labels in the product dataframe and show results\n",
    "LabelledDELI['RatioSUB']= LabelledSUBDELI.Ratio\n",
    "LabelledDELI['LabelSUB']= LabelledSUBDELI.Label\n",
    "putLabel(LabelledDELI, DELI)"
   ]
  },
  {
   "cell_type": "code",
   "execution_count": null,
   "metadata": {},
   "outputs": [],
   "source": [
    "DELILabelCount= DELI.groupby('LABEL').count()\n",
    "DELILabelCount.BRAND.sort_values().plot.bar()"
   ]
  },
  {
   "cell_type": "code",
   "execution_count": null,
   "metadata": {},
   "outputs": [],
   "source": [
    "# we standardize some labels for the seek of the vizualization. \n",
    "# I had trouble with the label setting in the main data set product. This is a shitty implementation but working. \n",
    "#I have to figure it out\n",
    "\n",
    "product.DEPARTMENT.loc[product['DEPARTMENT']== 'DAIRY DELI'] = 'DELI'\n",
    "\n",
    "product.LABEL.loc[product['DEPARTMENT']== 'MEAT'] = 'MEAT & SEAFOOD'\n",
    "product.LABEL.loc[product['DEPARTMENT']== 'MEAT-PCKGD'] = 'MEAT & SEAFOOD'\n",
    "product.LABEL.loc[product['DEPARTMENT']== 'SEAFOOD'] = 'MEAT & SEAFOOD'\n",
    "product.LABEL.loc[product['DEPARTMENT']== 'SEAFOOD-PCKGD'] = 'MEAT & SEAFOOD'\n",
    "product.LABEL.loc[product['DEPARTMENT']== 'FROZEN GROCERY'] = 'FROZEN'\n",
    "product.LABEL.loc[product['DEPARTMENT']== 'PHARMACY SUPPLY'] = 'PHARMACY'\n",
    "product.LABEL.loc[product['DEPARTMENT']== 'PORK'] = 'MEAT & SEAFOOD'\n",
    "product.LABEL.loc[product['DEPARTMENT']== 'RX'] = 'PHARMACY'\n",
    "product.LABEL.loc[product['DEPARTMENT']== 'HOUSEWARES'] = 'not found'\n",
    "product.LABEL.loc[product['DEPARTMENT']== 'ELECT &PLUMBING'] = 'not found'\n",
    "product.LABEL.loc[product['DEPARTMENT']== 'HBC'] = 'not found'\n",
    "product.LABEL.loc[product['DEPARTMENT']== 'DELI/SNACK BAR'] = 'not found'\n",
    "product.LABEL.loc[product['DEPARTMENT']== 'CHARITABLE CONT'] = 'not found'\n",
    "product.LABEL.loc[product['DEPARTMENT']== 'PROD-WHS SALES'] = 'not found'\n",
    "product.LABEL.loc[product['DEPARTMENT']== 'GM MERCH EXP'] = 'not found'\n",
    "product.LABEL.loc[product['DEPARTMENT']== 'CNTRL/STORE SUP'] = 'not found'\n",
    "product.LABEL.loc[product['DEPARTMENT']== 'GRO BAKERY'] = 'BAKERY'\n",
    "product.LABEL.loc[product['DEPARTMENT']== 'PASTRY'] = 'BAKERY'\n",
    "product.LABEL.loc[product['DEPARTMENT']== 'AUTOMOTIVE'] = 'STATIONERY'\n",
    "product.LABEL.loc[product['DEPARTMENT']== 'POSTAL CENTER'] = 'FAST FOOD & SNACKS'\n",
    "product.LABEL.loc[product['DEPARTMENT']== 'CHEF SHOPPE'] = 'FAST FOOD & SNACKS'\n",
    "product.LABEL.loc[product['DEPARTMENT']== 'TRAVEL & LEISUR'] = 'PRODUCE'\n",
    "product.LABEL.loc[product['DEPARTMENT']== 'SALAD BAR'] = 'RESTAURANT'\n",
    "product.LABEL.loc[product['DEPARTMENT']== 'GARDEN CENTER'] = 'FLORAL'\n",
    "product.LABEL.loc[product['DEPARTMENT']== 'KIOSK-GAS'] = 'GASOLINE'\n",
    "\n",
    "product.LABEL.loc[product['DEPARTMENT'] == 'GROCERY'] = Grocery.LABEL\n",
    "product.LABEL.loc[product['DEPARTMENT'] == 'DRUG GM'] = DrugGM.LABEL\n",
    "product.LABEL.loc[product['DEPARTMENT'] == 'DELI'] = DELI.LABEL\n",
    "\n",
    "product.LABEL.unique()"
   ]
  },
  {
   "cell_type": "markdown",
   "metadata": {},
   "source": [
    "We produce a final plot to show our results."
   ]
  },
  {
   "cell_type": "code",
   "execution_count": null,
   "metadata": {},
   "outputs": [],
   "source": [
    "ProductLabels= product.groupby('LABEL').count()\n",
    "ProductLabels2= product.groupby(by= ['DEPARTMENT','LABEL']).count()\n",
    "ProductDepartment= product.groupby(by= ['LABEL','DEPARTMENT']).count()\n",
    "#ProductLabels2 = ProductLabels2.drop(ProductLabels2[ProductLabels2['BRAND'] <=10].index)\n",
    "\n",
    "#palette : \n",
    "my_palette = [\"maroon\",\"firebrick\",\"crimson\", \"orangered\",\"chocolate\", \"peru\",\"sandybrown\",\"rosybrown\",\"darkturquoise\"\n",
    "        ,\"c\",\"cadetblue\",\"powderblue\",\"aquamarine\",\"springgreen\",\"limegreen\",\"green\",\"darkkhaki\"]\n",
    "sns.set_palette(my_palette)\n",
    "\n",
    "\n",
    "fig = plt.figure(figsize=(20,8))\n",
    "\n",
    "# Divide the figure into a 2x1 grid, and give  the first section\n",
    "ax1 = fig.add_subplot(121)\n",
    "\n",
    "# Divide the figure into a 2x1 grid, and give the second section\n",
    "ax2 = fig.add_subplot(122)\n",
    "\n",
    "ProductDepartment.BRAND[ProductDepartment['BRAND']>500].unstack().plot.bar(color=sns.color_palette(\"Paired\"),ax= ax1,stacked = True)\n",
    "ProductLabels2.loc[['DRUG GM','GROCERY','DELI']].BRAND.unstack().plot.bar(color=sns.color_palette(),ax= ax2,stacked = True)\n",
    "\n",
    "\n",
    "fig.subplots_adjust(hspace=1.3)\n",
    "fig.subplots_adjust(wspace=0.2)\n"
   ]
  },
  {
   "cell_type": "markdown",
   "metadata": {},
   "source": [
    "In the left barplot we observe where we can find the different product types. In x-axis displays the product type and the color label gives the shop (DEPARTMENT) where the product can be found. For example we can see that the households product are mainly found in the drug store (DRUG GM), and most of the meat and seafood products are found in the meat and meat-pckgd shops. \n",
    "\n",
    "The right barplot shows the proportions of the different products types, that we can find in the \"unspecialized\" shops (Deli, the grocery, and the drug store). For example we can see that Deli sales only food products, whereas the drug store proposes an important variety of household products."
   ]
  }
 ],
 "metadata": {
  "kernelspec": {
   "display_name": "Python 3",
   "language": "python",
   "name": "python3"
  },
  "language_info": {
   "codemirror_mode": {
    "name": "ipython",
    "version": 3
   },
   "file_extension": ".py",
   "mimetype": "text/x-python",
   "name": "python",
   "nbconvert_exporter": "python",
   "pygments_lexer": "ipython3",
   "version": "3.7.4"
  }
 },
 "nbformat": 4,
 "nbformat_minor": 2
}
