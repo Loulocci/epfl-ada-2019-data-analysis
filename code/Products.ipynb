{
 "cells": [
  {
   "cell_type": "markdown",
   "metadata": {},
   "source": [
    "# PRODUCTS"
   ]
  },
  {
   "cell_type": "markdown",
   "metadata": {},
   "source": [
    "**A. CLEAN UP AND PREPARE PRODUCT DATA**"
   ]
  },
  {
   "cell_type": "markdown",
   "metadata": {},
   "source": [
    "A.1 Load and plot"
   ]
  },
  {
   "cell_type": "code",
   "execution_count": null,
   "metadata": {},
   "outputs": [],
   "source": [
    "%matplotlib inline\n",
    "import pandas as pd\n",
    "\n",
    "import matplotlib.pyplot as plt\n",
    "\n",
    "import os"
   ]
  },
  {
   "cell_type": "code",
   "execution_count": null,
   "metadata": {},
   "outputs": [],
   "source": [
    "os.getcwd()"
   ]
  },
  {
   "cell_type": "code",
   "execution_count": null,
   "metadata": {},
   "outputs": [],
   "source": [
    "#load the data\n",
    "hh_demographic = pd.read_csv('../data/dunnhumby_complete_csv/hh_demographic.csv', sep = ',')\n",
    "\n",
    "transaction_data = pd.read_csv('../data/dunnhumby_complete_csv/transaction_data.csv', sep = ',')\n",
    "\n",
    "product = pd.read_csv('../data/dunnhumby_complete_csv/product.csv', sep = ',')"
   ]
  },
  {
   "cell_type": "code",
   "execution_count": null,
   "metadata": {},
   "outputs": [],
   "source": [
    "product.head(4)"
   ]
  },
  {
   "cell_type": "markdown",
   "metadata": {},
   "source": [
    "First we get interested by the different departments in the commercial center. We reorder the departments and plot the number of products we can find per department. "
   ]
  },
  {
   "cell_type": "code",
   "execution_count": null,
   "metadata": {},
   "outputs": [],
   "source": [
    "# REORDERING PART\n",
    "ordered_manufacturer= product.MANUFACTURER.astype(int).sort_values()\n",
    "ordered_manufacturer= ordered_manufacturer.unique()\n",
    "\n",
    "product['MANUFACTURER'] = pd.Categorical(product['MANUFACTURER'],\n",
    "                      ordered = True,\n",
    "                      categories = ordered_manufacturer)\n",
    "\n",
    "print ('The order of the manufacturer categories is :', ordered_manufacturer)"
   ]
  },
  {
   "cell_type": "code",
   "execution_count": null,
   "metadata": {},
   "outputs": [],
   "source": [
    "ordered_department= ['GROCERY','FROZEN GROCERY','GRO BAKERY','PASTRY',\n",
    "        'SEAFOOD','SEAFOOD-PCKGD','MEAT', 'MEAT-PCKGD','MEAT-WHSE','PORK','SPIRITS','NUTRITION',\n",
    "       'PRODUCE','CHEF SHOPPE','RESTAURANT','SALAD BAR','DELI', 'DAIRY DELI','DELI/SNACK BAR',\n",
    "    'DRUG GM','COSMETICS','PHARMACY SUPPLY','GARDEN CENTER','FLORAL', 'TRAVEL & LEISUR', \n",
    "    'POSTAL CENTER', 'PHOTO', 'VIDEO','VIDEO RENTAL','TOYS','HOUSEWARES', \n",
    "    'KIOSK-GAS', 'ELECT &PLUMBING','AUTOMOTIVE','GM MERCH EXP','COUP/STR & MFG', \n",
    "     'CHARITABLE CONT', 'RX','PROD-WHS SALES', 'HBC','CNTRL/STORE SUP','MISC. TRANS.', 'MISC SALES TRAN',' ']\n",
    "\n",
    "product['DEPARTMENT'] = pd.Categorical(product['DEPARTMENT'],\n",
    "                      ordered = True,\n",
    "                      categories = ordered_department)\n",
    "\n",
    "print ('The order of the department categories is :', ordered_department)"
   ]
  },
  {
   "cell_type": "code",
   "execution_count": null,
   "metadata": {},
   "outputs": [],
   "source": [
    "department= product.groupby(['DEPARTMENT']).count()\n",
    "\n",
    "#PLOT THE NUMBER OF PRODUCTS PER DEPARTMENT\n",
    "\n",
    "fig = plt.figure(figsize=(20,10))\n",
    "\n",
    "# Divide the figure into a 2x1 grid, and give me the first section\n",
    "ax1 = fig.add_subplot(231)\n",
    "\n",
    "# Divide the figure into a 2x1 grid, and give me the second section\n",
    "ax2 = fig.add_subplot(232)\n",
    "\n",
    "ax3 = fig.add_subplot(233)\n",
    "\n",
    "ax4 = fig.add_subplot(234)\n",
    "\n",
    "ax5 = fig.add_subplot(235)\n",
    "\n",
    "ax6 = fig.add_subplot(236)\n",
    "\n",
    "department[(department.BRAND>0) & (department.BRAND<=2)].BRAND.sort_values().plot.bar(ax=ax1)\n",
    "department[(department.BRAND>2) & (department.BRAND<=5)].BRAND.sort_values().plot.bar(ax=ax2)\n",
    "department[(department.BRAND>5) & (department.BRAND<=20)].BRAND.sort_values().plot.bar(ax=ax3)\n",
    "department[(department.BRAND>20) & (department.BRAND<=500)].BRAND.sort_values().plot.bar(ax=ax4)\n",
    "department[(department.BRAND>500) & (department.BRAND<=4000)].BRAND.sort_values().plot.bar(ax=ax5)\n",
    "department[department.BRAND>4000].BRAND.sort_values().plot.bar(ax=ax6)\n",
    "\n",
    "fig.subplots_adjust(hspace=1)\n",
    "fig.subplots_adjust(wspace=0.4)\n"
   ]
  },
  {
   "cell_type": "markdown",
   "metadata": {},
   "source": [
    "As we can see in the previous barplots, the departments with the highest number of referenced products in this study are the grocery with almost 40000 products, and the drug GM (which is probably a drug store) with more than 30000 products. We are going to focus on these 2 mains stores in a first time."
   ]
  },
  {
   "cell_type": "markdown",
   "metadata": {},
   "source": [
    "**A. GROCERY DATA PREPROCESSING**"
   ]
  },
  {
   "cell_type": "markdown",
   "metadata": {},
   "source": [
    "In this part we are interested to clean up and categorize the different products from the grocery store. We want to explain what purpose they serve (food, sanitary & hygien products, pet products). We create a special Grocery dataframe for this purpose."
   ]
  },
  {
   "cell_type": "code",
   "execution_count": null,
   "metadata": {},
   "outputs": [],
   "source": [
    "#we extract the grocery product data which is the main supermarket in the commercial center\n",
    "Grocery= pd.DataFrame(product[product['DEPARTMENT'] == 'GROCERY'])\n",
    "Grocery.head()"
   ]
  },
  {
   "cell_type": "markdown",
   "metadata": {},
   "source": [
    "The only product descriptions provided by the Grocery data are few words description found in COMMODITY_DESC and SUB_COMMODITY_DESC columns. These descriptions are not standardized, no categories arise from them. In a first time, we extract and class the description words in different categories (food, sanitary, pet or other)."
   ]
  },
  {
   "cell_type": "code",
   "execution_count": null,
   "metadata": {},
   "outputs": [],
   "source": [
    "# We create a table where all description words are extracted and separated as word 1, word 2, word 3 ... \n",
    "#from the same description line. Here we look at the words in COMMODITY_DESC\n",
    "\n",
    "split = Grocery['COMMODITY_DESC'].str.split(' |\\/').tolist()\n",
    "words = pd.DataFrame.from_records(split, index= Grocery.index, columns=[\"w1\",\"w2\",\"w3\",\"w4\",\"w5\",\"w6\"])\n",
    "\n",
    "# we show the number of occurrence for each first word. For example the word AIR occures 414 times as the first \n",
    "#word of a description\n",
    "\n",
    "words.groupby('w1').count()"
   ]
  },
  {
   "cell_type": "code",
   "execution_count": null,
   "metadata": {},
   "outputs": [],
   "source": [
    "# here are all the unique first words \n",
    "words.w1.unique()"
   ]
  },
  {
   "cell_type": "markdown",
   "metadata": {},
   "source": [
    "Once we have extracted these first words of the descriptions, we assign them to the different categories."
   ]
  },
  {
   "cell_type": "code",
   "execution_count": null,
   "metadata": {},
   "outputs": [],
   "source": [
    "FoodW1 = ['FRZN', 'FRUIT', 'COOKIES', 'SPICES','CHEESE','COFFEE','BAKED', 'VEGETABLES','CONDIMENTS', 'BAKING',\n",
    "    'PICKLE','SOUP','FROZEN', 'EGGS','REFRGRATD', 'HOT', 'COLD', 'SUGARS', 'SEAFOOD','CANNED','BEANS', 'CRACKERS',\n",
    "     'BUTTER', 'WATER','MILK','TEAS', 'PASTA', 'MOLASSES','MEAT', 'SALD', 'LIQUOR', 'SNACK', 'BEERS', 'YOGURT',\n",
    "    'COCOA', 'FLOUR', 'SYRUPS','OLIVES','ISOTONIC']\n",
    "        \n",
    "OtherW1 = ['ICE','PNT','AIR','SHORTENING','PAPER','HISPANIC','DINNER','HOUSEHOLD','FD','DRY','FLUID','BAG',\n",
    "         'CONVENIENT', 'SOFT','WAREHOUSE','PWDR','MISC.','BLEACH','DOMESTIC',\n",
    "       'MISC', 'COUPON', 'IMPORTED', 'RESTRICTED', 'NEW','BOTTLE']        \n",
    "\n",
    "PetW1 = ['CAT','DOG','PET','BIRD']\n",
    "\n",
    "SanitaryW1 = ['FACIAL','LAUNDRY','BATH','DISHWASH']\n"
   ]
  },
  {
   "cell_type": "markdown",
   "metadata": {},
   "source": [
    "Then we reproduce it for the second and third words of the descriptions. The descriptions can have up to 6 words but the 3 first words are sufficient to determine the product category."
   ]
  },
  {
   "cell_type": "code",
   "execution_count": null,
   "metadata": {},
   "outputs": [],
   "source": [
    "words.w2.unique()"
   ]
  },
  {
   "cell_type": "code",
   "execution_count": null,
   "metadata": {},
   "outputs": [],
   "source": [
    "FoodW2 = ['BREAD','SAUCES', 'VEGETABLE','FRUITS', 'WRAPS','SWEET','RELISH','PIZZA', 'DOUGH', 'CEREAL', \n",
    "        'SWEETNERS', 'JUICES', 'SNACKS','BRKFST', 'DRINKS', 'MEAT','NOODLES', 'SAUCE', 'FOOD', 'SYRUP','PIE',\n",
    "        'NUTS', 'ALES','FOODS','BREAKFAST','DAIRY','TOPPINGS','POTATOES','CHICKEN', 'WINE','DIET', 'SEED', \n",
    "        'SEAFOOD']\n",
    "\n",
    "OtherW2 =['ICE', '-', 'CONES', '&', 'BTR', 'CREAM','OIL','HOUSEWARES','MXS:DRY','NEEDS','MIX', \n",
    "          'MIXES','BN', 'TISS','MISC','BY-PRODUCTS','JCE', 'ADDITIVES','DRSNG','NOVELTIES', 'CRYSTL', 'AGE', \n",
    "          'DEPOSITS']\n",
    "\n",
    "SanitaryW2=['CARE','CLEANG','DETERGENTS','TISSUES','TOWELS','LITTER']"
   ]
  },
  {
   "cell_type": "code",
   "execution_count": null,
   "metadata": {},
   "outputs": [],
   "source": [
    "words.w3.unique()"
   ]
  },
  {
   "cell_type": "code",
   "execution_count": null,
   "metadata": {},
   "outputs": [],
   "source": [
    "FoodW3 = ['JELLY', 'MILK', 'BUNS', 'VEG','DESSERTS', 'CANNED','MEAT','FOODS','PASTA',\n",
    "       'PANCAKE', 'SNDWCH', 'DOUGH', 'DRNKS', 'WTR', 'GRAVY', 'DRNK',\n",
    "       'MEALS']\n",
    "\n",
    "OtherW3 =['SHELF', 'EXTRACTS','NEEDS',\n",
    "       'BAGS','PKLD', 'PRODUCTS', 'GOODS', 'DNR','BKD', 'WHLSM','CARBONATED','CONC','SUPPLIES', 'ITEMS']"
   ]
  },
  {
   "cell_type": "code",
   "execution_count": null,
   "metadata": {},
   "outputs": [],
   "source": [
    "#Initialize the categories to the grocery dataframe\n",
    "\n",
    "Grocery['IsFood'] = False\n",
    "Grocery['IsPet'] = False\n",
    "Grocery['IsSanitary'] = False\n",
    "Grocery['IsOther'] = False"
   ]
  },
  {
   "cell_type": "markdown",
   "metadata": {},
   "source": [
    "For each word in the words dataframe we check to which category the word belongs. A boolean is turned as True in the column of their category.\n",
    "We do this for each first word, then each second word, and finally for each third word. It is possible that first word belongs to a category and second word belongs to another category for example. It will be fixed when filling the grocery dataframe with the categories for each product."
   ]
  },
  {
   "cell_type": "code",
   "execution_count": null,
   "metadata": {},
   "outputs": [],
   "source": [
    "words['IsFoodW1'] = words.w1.isin(FoodW1)\n",
    "words['IsSanitaryW1'] = words.w1.isin(SanitaryW1)\n",
    "words['IsPetW1'] = words.w1.isin(PetW1)\n",
    "words['IsOtherW1'] = words.w1.isin(OtherW1)\n",
    "\n",
    "words['IsFoodW2'] = words.w2.isin(FoodW2)\n",
    "words['IsSanitaryW2'] = words.w2.isin(SanitaryW2)\n",
    "words['IsOtherW2'] = words.w2.isin(OtherW2)\n",
    "\n",
    "words['IsFoodW3'] = words.w3.isin(FoodW3)\n",
    "words['IsOtherW3'] = words.w3.isin(OtherW3)"
   ]
  },
  {
   "cell_type": "code",
   "execution_count": null,
   "metadata": {},
   "outputs": [],
   "source": [
    "# We look at the words dataframe after filling with word's categories\n",
    "words.head()"
   ]
  },
  {
   "cell_type": "markdown",
   "metadata": {},
   "source": [
    "Finally we create a loop to assign the right categorie to each product in the grocery dataframe."
   ]
  },
  {
   "cell_type": "code",
   "execution_count": null,
   "metadata": {},
   "outputs": [],
   "source": [
    "# a loop to check if we have non concordance. Everything seems fine. With looking at the three first words \n",
    "# we can determine the type of product : food, pet, sanitary or other.\n",
    "\n",
    "#uncomment to check :\n",
    "\n",
    "#for i in words.index : \n",
    "#    if (words['IsOtherW1'].loc[i]) and (words['IsOtherW2'].loc[i]) and (words['IsOtherW3'].loc[i]) :\n",
    "#        print(words.loc[i])"
   ]
  },
  {
   "cell_type": "code",
   "execution_count": null,
   "metadata": {},
   "outputs": [],
   "source": [
    "#now we need to fill the Grocery table with the type of elements :\n",
    "\n",
    "for i in Grocery.index : \n",
    "    if (words['IsOtherW1'].loc[i]) and (words['IsOtherW2'].loc[i]) and (words['IsOtherW3'].loc[i]) :\n",
    "        Grocery.IsFood.loc[i] = False\n",
    "        Grocery.IsPet.loc[i] = False\n",
    "        Grocery.IsSanitary.loc[i] = False\n",
    "        Grocery.IsOther.loc[i] = True\n",
    "        \n",
    "    elif (words['IsPetW1'].loc[i]) :\n",
    "        Grocery.IsFood.loc[i] = False\n",
    "        Grocery.IsPet.loc[i] = True\n",
    "        Grocery.IsSanitary.loc[i] = False\n",
    "        Grocery.IsOther.loc[i] = False\n",
    "    \n",
    "    elif (words['IsFoodW1'].loc[i]) or (words['IsFoodW2'].loc[i]) or (words['IsFoodW3'].loc[i]) :\n",
    "        Grocery.IsFood.loc[i] = True\n",
    "        Grocery.IsPet.loc[i] = False\n",
    "        Grocery.IsSanitary.loc[i] = False\n",
    "        Grocery.IsOther.loc[i] = False\n",
    "        \n",
    "    elif (words['IsSanitaryW1'].loc[i]) or (words['IsSanitaryW2'].loc[i]):\n",
    "        Grocery.IsFood.loc[i] = False\n",
    "        Grocery.IsPet.loc[i] = False\n",
    "        Grocery.IsSanitary.loc[i] = True\n",
    "        Grocery.IsOther.loc[i] = False"
   ]
  },
  {
   "cell_type": "code",
   "execution_count": null,
   "metadata": {},
   "outputs": [],
   "source": [
    "Grocery.head(4)"
   ]
  },
  {
   "cell_type": "code",
   "execution_count": null,
   "metadata": {},
   "outputs": [],
   "source": [
    "Grocery.groupby('IsFood').count()\n",
    "Grocery.groupby('IsPet').count()\n",
    "Grocery.groupby('IsSanitary').count()\n",
    "Grocery.groupby('IsOther').count()"
   ]
  },
  {
   "cell_type": "markdown",
   "metadata": {},
   "source": [
    "As shown above with groupBy function, the category with the highest number of products is the Food category, with 31886 products. We find 1887 for the pet products, and 2074 sanitary products (hygien and cleaning). Only 17 products are classified as other."
   ]
  },
  {
   "cell_type": "code",
   "execution_count": null,
   "metadata": {},
   "outputs": [],
   "source": [
    "Grocery.to_csv('Grocery.csv')"
   ]
  },
  {
   "cell_type": "markdown",
   "metadata": {},
   "source": [
    "**B. LET'S DO IT AGAIN WITH DRUG GM**"
   ]
  },
  {
   "cell_type": "code",
   "execution_count": null,
   "metadata": {},
   "outputs": [],
   "source": [
    "#we extract the drug gm product data which is the second main store in the commercial center\n",
    "DrugGM= pd.DataFrame(product[product['DEPARTMENT'] == 'DRUG GM'])\n",
    "DrugGM.head()"
   ]
  },
  {
   "cell_type": "code",
   "execution_count": null,
   "metadata": {},
   "outputs": [],
   "source": [
    "# We create a table where all description words are extracted and separated as word 1, word 2, word 3 ... \n",
    "#from the same description line. Here we look at the words in COMMODITY_DESC\n",
    "\n",
    "split = DrugGM['COMMODITY_DESC'].str.split(' |\\/').tolist()\n",
    "wordsDGM= pd.DataFrame.from_records(split, index= DrugGM.index, columns=[\"w1\",\"w2\",\"w3\",\"w4\",\"w5\"])\n",
    "\n",
    "# we show the number of occurrence for each first word. For example the word AIR occures 414 times as the first \n",
    "#word of a description\n",
    "\n",
    "wordsDGM.groupby('w1').count()"
   ]
  },
  {
   "cell_type": "code",
   "execution_count": null,
   "metadata": {},
   "outputs": [],
   "source": [
    "wordsDGM.w1.unique()"
   ]
  },
  {
   "cell_type": "code",
   "execution_count": null,
   "metadata": {},
   "outputs": [],
   "source": [
    "\n",
    "SmallStuffW1 = ['ELECTRICAL','BATTERIES','CHARCOAL','HARDWARE','FILM', \n",
    "          'FIREWORKS','CANDLES' 'APPAREL', 'TOYS', 'GLASSWARE','HOSIERY','SHOE','COOKWARE',\n",
    "        'GLASSES','PROPANE', 'WATCHES', 'TICKETS','CANDY','COFFEE']        \n",
    "\n",
    "OtherW1 = ['FIRST','KITCHEN','COLD','BABY', 'FEMININE','DIETARY','SPRING', 'HAND','ORAL', 'INFANT','PLASTIC', \n",
    "           'FOOT','DISPOSIBLE', 'AUDIO', 'EYE', 'AUTOMOTIVE','OVERNIGHT', 'PERSONAL','LAWN', 'HALLOWEEN', 'SEWING',\n",
    "           'COUPON', 'J-HOOKS', 'FAMILY', 'EASTER','PREPAID', 'HOME', 'IN-STORE', 'ADULT', 'DOMESTIC',\n",
    "       'FALL','NATURAL', 'ETHNIC', 'CHRISTMAS', 'CONTINUITIES','PORTABLE', 'VALENTINE','MISCELLANEOUS', 'DOLLAR', \n",
    "           'FRAGRANCES', 'SPORTS', 'LONG', 'FD']\n",
    "\n",
    "SmokeW1 = ['CIGARETTES','TOBACCO','SMOKING','CIGARS']\n",
    "\n",
    "StationneryW1 = ['MAGAZINE','STATIONERY','NEWSPAPER', 'BOOKSTORE', 'GREETING']\n",
    "\n",
    "PharmacyW1 = ['VITAMINS','ANALGESICS','LAXATIVES']\n",
    "\n",
    "\n",
    "SanitaryW1 = ['SOAP','HAIR', 'SHAVING', 'INSECTICIDES','IRONING','DEODORANTS', 'BROOMS', 'ANTACIDS','SINUS', \n",
    "              'SUNTAN', 'DIAPERS']\n"
   ]
  },
  {
   "cell_type": "code",
   "execution_count": null,
   "metadata": {},
   "outputs": [],
   "source": [
    "wordsDGM.w2.unique()"
   ]
  },
  {
   "cell_type": "code",
   "execution_count": null,
   "metadata": {},
   "outputs": [],
   "source": [
    "SmallStuffW1 = ['GADGETS','SUPPPLIES', 'SOCKS', 'CARDS','FOODS','HOUSEWARES','ACCESSORIES', 'FOILWARE','VIDEO',\n",
    "                'WIRELESS&ACCESSORIES','ELECTRIC','FURNISHINGS',  'CALCULATORS',]        \n",
    "\n",
    "OtherW1 = ['AID', '&', 'AND', 'HBC', '-','SUMMER','FORMULA','OTHER',  'PRODUCTS', 'PHOTOFINISHING',\n",
    "       'CESSATIONS', 'MISC', 'PLANNING', 'FREEZING','GOODS', 'PERSONAL', 'VISION','VALUE',\n",
    "       'MEMORABLILIA', 'DISTANCE', 'WRAPS']\n",
    "\n",
    "SmokeW1 = ['FILTERS',]\n",
    "\n",
    "StationneryW1 = []\n",
    "\n",
    "PharmacyW1 = ['INCONTINENCE',]\n",
    "\n",
    "\n",
    "SanitaryW1 = [ 'CARE','BODY', 'HYGIENE', 'SUPPLIES','HEALTH', ]\n",
    "    "
   ]
  },
  {
   "cell_type": "code",
   "execution_count": null,
   "metadata": {},
   "outputs": [],
   "source": [
    "wordsDGM.w3.unique()"
   ]
  },
  {
   "cell_type": "code",
   "execution_count": null,
   "metadata": {},
   "outputs": [],
   "source": []
  }
 ],
 "metadata": {
  "kernelspec": {
   "display_name": "Python 3",
   "language": "python",
   "name": "python3"
  },
  "language_info": {
   "codemirror_mode": {
    "name": "ipython",
    "version": 3
   },
   "file_extension": ".py",
   "mimetype": "text/x-python",
   "name": "python",
   "nbconvert_exporter": "python",
   "pygments_lexer": "ipython3",
   "version": "3.7.4"
  }
 },
 "nbformat": 4,
 "nbformat_minor": 2
}
