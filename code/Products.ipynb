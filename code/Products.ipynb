{
 "cells": [
  {
   "cell_type": "markdown",
   "metadata": {},
   "source": [
    "# PRODUCTS"
   ]
  },
  {
   "cell_type": "markdown",
   "metadata": {},
   "source": [
    "**A. CLEAN UP AND PREPARE PRODUCT DATA**"
   ]
  },
  {
   "cell_type": "markdown",
   "metadata": {},
   "source": [
    "A.1 Load and plot"
   ]
  },
  {
   "cell_type": "code",
   "execution_count": 1,
   "metadata": {},
   "outputs": [],
   "source": [
    "%matplotlib inline\n",
    "import pandas as pd\n",
    "\n",
    "import matplotlib.pyplot as plt\n",
    "\n",
    "import os"
   ]
  },
  {
   "cell_type": "code",
   "execution_count": 2,
   "metadata": {},
   "outputs": [
    {
     "data": {
      "text/plain": [
       "'/Users/lou/Documents/Travail/master 2/ADA/epfl-ada-2019-project-bubble582/code'"
      ]
     },
     "execution_count": 2,
     "metadata": {},
     "output_type": "execute_result"
    }
   ],
   "source": [
    "os.getcwd()"
   ]
  },
  {
   "cell_type": "code",
   "execution_count": 3,
   "metadata": {},
   "outputs": [],
   "source": [
    "#load the data\n",
    "hh_demographic = pd.read_csv('../data/dunnhumby_complete_csv/hh_demographic.csv', sep = ',')\n",
    "\n",
    "transaction_data = pd.read_csv('../data/dunnhumby_complete_csv/transaction_data.csv', sep = ',')\n",
    "\n",
    "product = pd.read_csv('../data/dunnhumby_complete_csv/product.csv', sep = ',')"
   ]
  },
  {
   "cell_type": "code",
   "execution_count": 4,
   "metadata": {},
   "outputs": [
    {
     "data": {
      "text/html": [
       "<div>\n",
       "<style scoped>\n",
       "    .dataframe tbody tr th:only-of-type {\n",
       "        vertical-align: middle;\n",
       "    }\n",
       "\n",
       "    .dataframe tbody tr th {\n",
       "        vertical-align: top;\n",
       "    }\n",
       "\n",
       "    .dataframe thead th {\n",
       "        text-align: right;\n",
       "    }\n",
       "</style>\n",
       "<table border=\"1\" class=\"dataframe\">\n",
       "  <thead>\n",
       "    <tr style=\"text-align: right;\">\n",
       "      <th></th>\n",
       "      <th>PRODUCT_ID</th>\n",
       "      <th>MANUFACTURER</th>\n",
       "      <th>DEPARTMENT</th>\n",
       "      <th>BRAND</th>\n",
       "      <th>COMMODITY_DESC</th>\n",
       "      <th>SUB_COMMODITY_DESC</th>\n",
       "      <th>CURR_SIZE_OF_PRODUCT</th>\n",
       "    </tr>\n",
       "  </thead>\n",
       "  <tbody>\n",
       "    <tr>\n",
       "      <td>0</td>\n",
       "      <td>25671</td>\n",
       "      <td>2</td>\n",
       "      <td>GROCERY</td>\n",
       "      <td>National</td>\n",
       "      <td>FRZN ICE</td>\n",
       "      <td>ICE - CRUSHED/CUBED</td>\n",
       "      <td>22 LB</td>\n",
       "    </tr>\n",
       "    <tr>\n",
       "      <td>1</td>\n",
       "      <td>26081</td>\n",
       "      <td>2</td>\n",
       "      <td>MISC. TRANS.</td>\n",
       "      <td>National</td>\n",
       "      <td>NO COMMODITY DESCRIPTION</td>\n",
       "      <td>NO SUBCOMMODITY DESCRIPTION</td>\n",
       "      <td></td>\n",
       "    </tr>\n",
       "    <tr>\n",
       "      <td>2</td>\n",
       "      <td>26093</td>\n",
       "      <td>69</td>\n",
       "      <td>PASTRY</td>\n",
       "      <td>Private</td>\n",
       "      <td>BREAD</td>\n",
       "      <td>BREAD:ITALIAN/FRENCH</td>\n",
       "      <td></td>\n",
       "    </tr>\n",
       "    <tr>\n",
       "      <td>3</td>\n",
       "      <td>26190</td>\n",
       "      <td>69</td>\n",
       "      <td>GROCERY</td>\n",
       "      <td>Private</td>\n",
       "      <td>FRUIT - SHELF STABLE</td>\n",
       "      <td>APPLE SAUCE</td>\n",
       "      <td>50 OZ</td>\n",
       "    </tr>\n",
       "  </tbody>\n",
       "</table>\n",
       "</div>"
      ],
      "text/plain": [
       "   PRODUCT_ID  MANUFACTURER    DEPARTMENT     BRAND            COMMODITY_DESC  \\\n",
       "0       25671             2       GROCERY  National                  FRZN ICE   \n",
       "1       26081             2  MISC. TRANS.  National  NO COMMODITY DESCRIPTION   \n",
       "2       26093            69        PASTRY   Private                     BREAD   \n",
       "3       26190            69       GROCERY   Private      FRUIT - SHELF STABLE   \n",
       "\n",
       "            SUB_COMMODITY_DESC CURR_SIZE_OF_PRODUCT  \n",
       "0          ICE - CRUSHED/CUBED                22 LB  \n",
       "1  NO SUBCOMMODITY DESCRIPTION                       \n",
       "2         BREAD:ITALIAN/FRENCH                       \n",
       "3                  APPLE SAUCE                50 OZ  "
      ]
     },
     "execution_count": 4,
     "metadata": {},
     "output_type": "execute_result"
    }
   ],
   "source": [
    "product.head(4)"
   ]
  },
  {
   "cell_type": "markdown",
   "metadata": {},
   "source": [
    "First we get interested by the different departments in the commercial center. We reorder the departments and plot the number of products we can find per department. "
   ]
  },
  {
   "cell_type": "code",
   "execution_count": 5,
   "metadata": {},
   "outputs": [
    {
     "name": "stdout",
     "output_type": "stream",
     "text": [
      "The order of the manufacturer categories is : [   1    2    3 ... 6475 6476 6477]\n"
     ]
    }
   ],
   "source": [
    "# REORDERING PART\n",
    "ordered_manufacturer= product.MANUFACTURER.astype(int).sort_values()\n",
    "ordered_manufacturer= ordered_manufacturer.unique()\n",
    "\n",
    "product['MANUFACTURER'] = pd.Categorical(product['MANUFACTURER'],\n",
    "                      ordered = True,\n",
    "                      categories = ordered_manufacturer)\n",
    "\n",
    "print ('The order of the manufacturer categories is :', ordered_manufacturer)"
   ]
  },
  {
   "cell_type": "code",
   "execution_count": 6,
   "metadata": {},
   "outputs": [
    {
     "name": "stdout",
     "output_type": "stream",
     "text": [
      "The order of the department categories is : ['GROCERY', 'FROZEN GROCERY', 'GRO BAKERY', 'PASTRY', 'SEAFOOD', 'SEAFOOD-PCKGD', 'MEAT', 'MEAT-PCKGD', 'MEAT-WHSE', 'PORK', 'SPIRITS', 'NUTRITION', 'PRODUCE', 'CHEF SHOPPE', 'RESTAURANT', 'SALAD BAR', 'DELI', 'DAIRY DELI', 'DELI/SNACK BAR', 'DRUG GM', 'COSMETICS', 'PHARMACY SUPPLY', 'GARDEN CENTER', 'FLORAL', 'TRAVEL & LEISUR', 'POSTAL CENTER', 'PHOTO', 'VIDEO', 'VIDEO RENTAL', 'TOYS', 'HOUSEWARES', 'KIOSK-GAS', 'ELECT &PLUMBING', 'AUTOMOTIVE', 'GM MERCH EXP', 'COUP/STR & MFG', 'CHARITABLE CONT', 'RX', 'PROD-WHS SALES', 'HBC', 'CNTRL/STORE SUP', 'MISC. TRANS.', 'MISC SALES TRAN', ' ']\n"
     ]
    }
   ],
   "source": [
    "ordered_department= ['GROCERY','FROZEN GROCERY','GRO BAKERY','PASTRY',\n",
    "        'SEAFOOD','SEAFOOD-PCKGD','MEAT', 'MEAT-PCKGD','MEAT-WHSE','PORK','SPIRITS','NUTRITION',\n",
    "       'PRODUCE','CHEF SHOPPE','RESTAURANT','SALAD BAR','DELI', 'DAIRY DELI','DELI/SNACK BAR',\n",
    "    'DRUG GM','COSMETICS','PHARMACY SUPPLY','GARDEN CENTER','FLORAL', 'TRAVEL & LEISUR', \n",
    "    'POSTAL CENTER', 'PHOTO', 'VIDEO','VIDEO RENTAL','TOYS','HOUSEWARES', \n",
    "    'KIOSK-GAS', 'ELECT &PLUMBING','AUTOMOTIVE','GM MERCH EXP','COUP/STR & MFG', \n",
    "     'CHARITABLE CONT', 'RX','PROD-WHS SALES', 'HBC','CNTRL/STORE SUP','MISC. TRANS.', 'MISC SALES TRAN',' ']\n",
    "\n",
    "product['DEPARTMENT'] = pd.Categorical(product['DEPARTMENT'],\n",
    "                      ordered = True,\n",
    "                      categories = ordered_department)\n",
    "\n",
    "print ('The order of the department categories is :', ordered_department)"
   ]
  },
  {
   "cell_type": "code",
   "execution_count": 7,
   "metadata": {},
   "outputs": [
    {
     "data": {
      "image/png": "[encoded data removed]",
      "text/plain": [
       "<Figure size 1440x720 with 6 Axes>"
      ]
     },
     "metadata": {
      "needs_background": "light"
     },
     "output_type": "display_data"
    }
   ],
   "source": [
    "department= product.groupby(['DEPARTMENT']).count()\n",
    "\n",
    "#PLOT THE NUMBER OF PRODUCTS PER DEPARTMENT\n",
    "\n",
    "fig = plt.figure(figsize=(20,10))\n",
    "\n",
    "# Divide the figure into a 2x1 grid, and give me the first section\n",
    "ax1 = fig.add_subplot(231)\n",
    "\n",
    "# Divide the figure into a 2x1 grid, and give me the second section\n",
    "ax2 = fig.add_subplot(232)\n",
    "\n",
    "ax3 = fig.add_subplot(233)\n",
    "\n",
    "ax4 = fig.add_subplot(234)\n",
    "\n",
    "ax5 = fig.add_subplot(235)\n",
    "\n",
    "ax6 = fig.add_subplot(236)\n",
    "\n",
    "department[(department.BRAND>0) & (department.BRAND<=2)].BRAND.sort_values().plot.bar(ax=ax1)\n",
    "department[(department.BRAND>2) & (department.BRAND<=5)].BRAND.sort_values().plot.bar(ax=ax2)\n",
    "department[(department.BRAND>5) & (department.BRAND<=20)].BRAND.sort_values().plot.bar(ax=ax3)\n",
    "department[(department.BRAND>20) & (department.BRAND<=500)].BRAND.sort_values().plot.bar(ax=ax4)\n",
    "department[(department.BRAND>500) & (department.BRAND<=4000)].BRAND.sort_values().plot.bar(ax=ax5)\n",
    "department[department.BRAND>4000].BRAND.sort_values().plot.bar(ax=ax6)\n",
    "\n",
    "fig.subplots_adjust(hspace=1)\n",
    "fig.subplots_adjust(wspace=0.4)\n"
   ]
  },
  {
   "cell_type": "markdown",
   "metadata": {},
   "source": [
    "As we can see in the previous barplots, the departments with the highest number of referenced products in this study are the grocery with almost 40000 products, and the drug GM (which is probably a drug store) with more than 30000 products. We are going to focus on these 2 mains stores in a first time."
   ]
  },
  {
   "cell_type": "markdown",
   "metadata": {},
   "source": [
    "**A. GROCERY DATA PREPROCESSING**"
   ]
  },
  {
   "cell_type": "markdown",
   "metadata": {},
   "source": [
    "In this part we are interested to clean up and categorize the different products from the grocery store. We want to explain what purpose they serve (food, sanitary & hygien products, pet products). We create a special Grocery dataframe for this purpose."
   ]
  },
  {
   "cell_type": "code",
   "execution_count": 9,
   "metadata": {},
   "outputs": [
    {
     "data": {
      "text/html": [
       "<div>\n",
       "<style scoped>\n",
       "    .dataframe tbody tr th:only-of-type {\n",
       "        vertical-align: middle;\n",
       "    }\n",
       "\n",
       "    .dataframe tbody tr th {\n",
       "        vertical-align: top;\n",
       "    }\n",
       "\n",
       "    .dataframe thead th {\n",
       "        text-align: right;\n",
       "    }\n",
       "</style>\n",
       "<table border=\"1\" class=\"dataframe\">\n",
       "  <thead>\n",
       "    <tr style=\"text-align: right;\">\n",
       "      <th></th>\n",
       "      <th>PRODUCT_ID</th>\n",
       "      <th>MANUFACTURER</th>\n",
       "      <th>DEPARTMENT</th>\n",
       "      <th>BRAND</th>\n",
       "      <th>COMMODITY_DESC</th>\n",
       "      <th>SUB_COMMODITY_DESC</th>\n",
       "      <th>CURR_SIZE_OF_PRODUCT</th>\n",
       "    </tr>\n",
       "  </thead>\n",
       "  <tbody>\n",
       "    <tr>\n",
       "      <td>0</td>\n",
       "      <td>25671</td>\n",
       "      <td>2</td>\n",
       "      <td>GROCERY</td>\n",
       "      <td>National</td>\n",
       "      <td>FRZN ICE</td>\n",
       "      <td>ICE - CRUSHED/CUBED</td>\n",
       "      <td>22 LB</td>\n",
       "    </tr>\n",
       "    <tr>\n",
       "      <td>3</td>\n",
       "      <td>26190</td>\n",
       "      <td>69</td>\n",
       "      <td>GROCERY</td>\n",
       "      <td>Private</td>\n",
       "      <td>FRUIT - SHELF STABLE</td>\n",
       "      <td>APPLE SAUCE</td>\n",
       "      <td>50 OZ</td>\n",
       "    </tr>\n",
       "    <tr>\n",
       "      <td>4</td>\n",
       "      <td>26355</td>\n",
       "      <td>69</td>\n",
       "      <td>GROCERY</td>\n",
       "      <td>Private</td>\n",
       "      <td>COOKIES/CONES</td>\n",
       "      <td>SPECIALTY COOKIES</td>\n",
       "      <td>14 OZ</td>\n",
       "    </tr>\n",
       "    <tr>\n",
       "      <td>5</td>\n",
       "      <td>26426</td>\n",
       "      <td>69</td>\n",
       "      <td>GROCERY</td>\n",
       "      <td>Private</td>\n",
       "      <td>SPICES &amp; EXTRACTS</td>\n",
       "      <td>SPICES &amp; SEASONINGS</td>\n",
       "      <td>2.5 OZ</td>\n",
       "    </tr>\n",
       "    <tr>\n",
       "      <td>6</td>\n",
       "      <td>26540</td>\n",
       "      <td>69</td>\n",
       "      <td>GROCERY</td>\n",
       "      <td>Private</td>\n",
       "      <td>COOKIES/CONES</td>\n",
       "      <td>TRAY PACK/CHOC CHIP COOKIES</td>\n",
       "      <td>16 OZ</td>\n",
       "    </tr>\n",
       "  </tbody>\n",
       "</table>\n",
       "</div>"
      ],
      "text/plain": [
       "   PRODUCT_ID MANUFACTURER DEPARTMENT     BRAND        COMMODITY_DESC  \\\n",
       "0       25671            2    GROCERY  National              FRZN ICE   \n",
       "3       26190           69    GROCERY   Private  FRUIT - SHELF STABLE   \n",
       "4       26355           69    GROCERY   Private         COOKIES/CONES   \n",
       "5       26426           69    GROCERY   Private     SPICES & EXTRACTS   \n",
       "6       26540           69    GROCERY   Private         COOKIES/CONES   \n",
       "\n",
       "            SUB_COMMODITY_DESC CURR_SIZE_OF_PRODUCT  \n",
       "0          ICE - CRUSHED/CUBED                22 LB  \n",
       "3                  APPLE SAUCE                50 OZ  \n",
       "4            SPECIALTY COOKIES                14 OZ  \n",
       "5          SPICES & SEASONINGS               2.5 OZ  \n",
       "6  TRAY PACK/CHOC CHIP COOKIES                16 OZ  "
      ]
     },
     "execution_count": 9,
     "metadata": {},
     "output_type": "execute_result"
    }
   ],
   "source": [
    "#we extract the grocery product data which is the main supermarket in the commercial center\n",
    "Grocery= pd.DataFrame(product[product['DEPARTMENT'] == 'GROCERY'])\n",
    "Grocery.head()"
   ]
  },
  {
   "cell_type": "markdown",
   "metadata": {},
   "source": [
    "The only product descriptions provided by the Grocery data are few words description found in COMMODITY_DESC and SUB_COMMODITY_DESC columns. These descriptions are not standardized, no categories arise from them. In a first time, we extract and class the description words in different categories (food, sanitary, pet or other)."
   ]
  },
  {
   "cell_type": "code",
   "execution_count": 26,
   "metadata": {},
   "outputs": [
    {
     "data": {
      "text/html": [
       "<div>\n",
       "<style scoped>\n",
       "    .dataframe tbody tr th:only-of-type {\n",
       "        vertical-align: middle;\n",
       "    }\n",
       "\n",
       "    .dataframe tbody tr th {\n",
       "        vertical-align: top;\n",
       "    }\n",
       "\n",
       "    .dataframe thead th {\n",
       "        text-align: right;\n",
       "    }\n",
       "</style>\n",
       "<table border=\"1\" class=\"dataframe\">\n",
       "  <thead>\n",
       "    <tr style=\"text-align: right;\">\n",
       "      <th></th>\n",
       "      <th>w2</th>\n",
       "      <th>w3</th>\n",
       "      <th>w4</th>\n",
       "      <th>w5</th>\n",
       "      <th>w6</th>\n",
       "    </tr>\n",
       "    <tr>\n",
       "      <th>w1</th>\n",
       "      <th></th>\n",
       "      <th></th>\n",
       "      <th></th>\n",
       "      <th></th>\n",
       "      <th></th>\n",
       "    </tr>\n",
       "  </thead>\n",
       "  <tbody>\n",
       "    <tr>\n",
       "      <td>AIR</td>\n",
       "      <td>414</td>\n",
       "      <td>0</td>\n",
       "      <td>0</td>\n",
       "      <td>0</td>\n",
       "      <td>0</td>\n",
       "    </tr>\n",
       "    <tr>\n",
       "      <td>BAG</td>\n",
       "      <td>1523</td>\n",
       "      <td>0</td>\n",
       "      <td>0</td>\n",
       "      <td>0</td>\n",
       "      <td>0</td>\n",
       "    </tr>\n",
       "    <tr>\n",
       "      <td>BAKED</td>\n",
       "      <td>1851</td>\n",
       "      <td>1851</td>\n",
       "      <td>1169</td>\n",
       "      <td>0</td>\n",
       "      <td>0</td>\n",
       "    </tr>\n",
       "    <tr>\n",
       "      <td>BAKING</td>\n",
       "      <td>1097</td>\n",
       "      <td>0</td>\n",
       "      <td>0</td>\n",
       "      <td>0</td>\n",
       "      <td>0</td>\n",
       "    </tr>\n",
       "    <tr>\n",
       "      <td>BATH</td>\n",
       "      <td>185</td>\n",
       "      <td>0</td>\n",
       "      <td>0</td>\n",
       "      <td>0</td>\n",
       "      <td>0</td>\n",
       "    </tr>\n",
       "    <tr>\n",
       "      <td>...</td>\n",
       "      <td>...</td>\n",
       "      <td>...</td>\n",
       "      <td>...</td>\n",
       "      <td>...</td>\n",
       "      <td>...</td>\n",
       "    </tr>\n",
       "    <tr>\n",
       "      <td>TEAS</td>\n",
       "      <td>0</td>\n",
       "      <td>0</td>\n",
       "      <td>0</td>\n",
       "      <td>0</td>\n",
       "      <td>0</td>\n",
       "    </tr>\n",
       "    <tr>\n",
       "      <td>VEGETABLES</td>\n",
       "      <td>831</td>\n",
       "      <td>831</td>\n",
       "      <td>831</td>\n",
       "      <td>0</td>\n",
       "      <td>0</td>\n",
       "    </tr>\n",
       "    <tr>\n",
       "      <td>WAREHOUSE</td>\n",
       "      <td>298</td>\n",
       "      <td>0</td>\n",
       "      <td>0</td>\n",
       "      <td>0</td>\n",
       "      <td>0</td>\n",
       "    </tr>\n",
       "    <tr>\n",
       "      <td>WATER</td>\n",
       "      <td>435</td>\n",
       "      <td>435</td>\n",
       "      <td>435</td>\n",
       "      <td>435</td>\n",
       "      <td>0</td>\n",
       "    </tr>\n",
       "    <tr>\n",
       "      <td>YOGURT</td>\n",
       "      <td>0</td>\n",
       "      <td>0</td>\n",
       "      <td>0</td>\n",
       "      <td>0</td>\n",
       "      <td>0</td>\n",
       "    </tr>\n",
       "  </tbody>\n",
       "</table>\n",
       "<p>73 rows × 5 columns</p>\n",
       "</div>"
      ],
      "text/plain": [
       "              w2    w3    w4   w5  w6\n",
       "w1                                   \n",
       "AIR          414     0     0    0   0\n",
       "BAG         1523     0     0    0   0\n",
       "BAKED       1851  1851  1169    0   0\n",
       "BAKING      1097     0     0    0   0\n",
       "BATH         185     0     0    0   0\n",
       "...          ...   ...   ...  ...  ..\n",
       "TEAS           0     0     0    0   0\n",
       "VEGETABLES   831   831   831    0   0\n",
       "WAREHOUSE    298     0     0    0   0\n",
       "WATER        435   435   435  435   0\n",
       "YOGURT         0     0     0    0   0\n",
       "\n",
       "[73 rows x 5 columns]"
      ]
     },
     "execution_count": 26,
     "metadata": {},
     "output_type": "execute_result"
    }
   ],
   "source": [
    "# We create a table where all description words are extracted and separated as word 1, word 2, word 3 ... \n",
    "#from the same description line. Here we look at the words in COMMODITY_DESC\n",
    "\n",
    "split = Grocery['COMMODITY_DESC'].str.split(' |\\/').tolist()\n",
    "words = pd.DataFrame.from_records(split, index= Grocery.index, columns=[\"w1\",\"w2\",\"w3\",\"w4\",\"w5\",\"w6\"])\n",
    "\n",
    "# we show the number of occurrence for each first word. For example the word AIR occures 414 times as the first \n",
    "#word of a description\n",
    "\n",
    "words.groupby('w1').count()"
   ]
  },
  {
   "cell_type": "code",
   "execution_count": 27,
   "metadata": {
    "scrolled": true
   },
   "outputs": [
    {
     "data": {
      "text/plain": [
       "array(['FRZN', 'FRUIT', 'COOKIES', 'SPICES', 'PNT', 'ICE', 'AIR',\n",
       "       'CHEESE', 'SHORTENING', 'COFFEE', 'PAPER', 'BAKED', 'VEGETABLES',\n",
       "       'HISPANIC', 'DINNER', 'CONDIMENTS', 'BAKING', 'HOUSEHOLD', 'FD',\n",
       "       'DRY', 'PICKLE', 'FLUID', 'SOUP', 'FACIAL', 'FROZEN', 'EGGS',\n",
       "       'REFRGRATD', 'HOT', 'COLD', 'SUGARS', 'SEAFOOD', 'CANNED', 'BAG',\n",
       "       'BEANS', 'CRACKERS', 'CONVENIENT', 'SOFT', 'BUTTER', 'WATER',\n",
       "       'MILK', 'LAUNDRY', 'ISOTONIC', 'TEAS', 'PASTA', 'CAT', 'MOLASSES',\n",
       "       'BATH', 'MEAT', 'SALD', 'LIQUOR', 'SNACK', 'BEERS', 'YOGURT',\n",
       "       'DOG', 'WAREHOUSE', 'MARGARINES', 'PWDR', 'OLIVES', 'MISC.',\n",
       "       'COCOA', 'FLOUR', 'SYRUPS', 'BLEACH', 'DISHWASH', 'DOMESTIC',\n",
       "       'MISC', 'PET', 'COUPON', 'IMPORTED', 'RESTRICTED', 'BIRD', 'NEW',\n",
       "       'BOTTLE'], dtype=object)"
      ]
     },
     "execution_count": 27,
     "metadata": {},
     "output_type": "execute_result"
    }
   ],
   "source": [
    "# here are all the unique first words \n",
    "words.w1.unique()"
   ]
  },
  {
   "cell_type": "markdown",
   "metadata": {},
   "source": [
    "Once we have extracted these first words of the descriptions, we assign them to the different categories."
   ]
  },
  {
   "cell_type": "code",
   "execution_count": 28,
   "metadata": {},
   "outputs": [],
   "source": [
    "FoodW1 = ['FRZN', 'FRUIT', 'COOKIES', 'SPICES','CHEESE','COFFEE','BAKED', 'VEGETABLES','CONDIMENTS', 'BAKING',\n",
    "    'PICKLE','SOUP','FROZEN', 'EGGS','REFRGRATD', 'HOT', 'COLD', 'SUGARS', 'SEAFOOD','CANNED','BEANS', 'CRACKERS',\n",
    "     'BUTTER', 'WATER','MILK','TEAS', 'PASTA', 'MOLASSES','MEAT', 'SALD', 'LIQUOR', 'SNACK', 'BEERS', 'YOGURT',\n",
    "    'COCOA', 'FLOUR', 'SYRUPS','OLIVES','ISOTONIC']\n",
    "        \n",
    "OtherW1 = ['ICE','PNT','AIR','SHORTENING','PAPER','HISPANIC','DINNER','HOUSEHOLD','FD','DRY','FLUID','BAG',\n",
    "         'CONVENIENT', 'SOFT','WAREHOUSE','PWDR','MISC.','BLEACH','DOMESTIC',\n",
    "       'MISC', 'COUPON', 'IMPORTED', 'RESTRICTED', 'NEW','BOTTLE']        \n",
    "\n",
    "PetW1 = ['CAT','DOG','PET','BIRD']\n",
    "\n",
    "SanitaryW1 = ['FACIAL','LAUNDRY','BATH','DISHWASH']\n"
   ]
  },
  {
   "cell_type": "markdown",
   "metadata": {},
   "source": [
    "Then we reproduce it for the second and third words of the descriptions. The descriptions can have up to 6 words but the 3 first words are sufficient to determine the product category."
   ]
  },
  {
   "cell_type": "code",
   "execution_count": 14,
   "metadata": {},
   "outputs": [
    {
     "data": {
      "text/plain": [
       "array(['ICE', '-', 'CONES', '&', 'BTR', 'CREAM', 'CARE', None, 'OIL',\n",
       "       'HOUSEWARES', 'BREAD', 'MXS:DRY', 'SAUCES', 'VEGETABLE', 'NEEDS',\n",
       "       'FRUITS', 'CLEANG', 'WRAPS', 'MIX', 'RELISH', 'MIXES', 'MILK',\n",
       "       'SWEET', 'BN', 'TISS', 'PIZZA', 'DOUGH', 'CEREAL', 'SWEETNERS',\n",
       "       'JUICES', 'SNACKS', 'MISC', 'BRKFST', 'DRINKS', 'MEAT',\n",
       "       'BREAKFAST', 'BY-PRODUCTS', 'DETERGENTS', 'JCE', 'ADDITIVES',\n",
       "       'NOODLES', 'SAUCE', 'FOOD', 'SYRUP', 'TISSUES', 'PIE', 'DRSNG',\n",
       "       'NUTS', 'ALES', 'FOODS', 'NOVELTIES', 'CRYSTL', 'DAIRY',\n",
       "       'TOPPINGS', 'TOWELS', 'POTATOES', 'LITTER', 'CHICKEN', 'WINE',\n",
       "       'DIET', 'SEED', 'SEAFOOD', 'AGE', 'DEPOSITS'], dtype=object)"
      ]
     },
     "execution_count": 14,
     "metadata": {},
     "output_type": "execute_result"
    }
   ],
   "source": [
    "words.w2.unique()"
   ]
  },
  {
   "cell_type": "code",
   "execution_count": 15,
   "metadata": {},
   "outputs": [],
   "source": [
    "FoodW2 = ['BREAD','SAUCES', 'VEGETABLE','FRUITS', 'WRAPS','SWEET','RELISH','PIZZA', 'DOUGH', 'CEREAL', \n",
    "        'SWEETNERS', 'JUICES', 'SNACKS','BRKFST', 'DRINKS', 'MEAT','NOODLES', 'SAUCE', 'FOOD', 'SYRUP','PIE',\n",
    "        'NUTS', 'ALES','FOODS','BREAKFAST','DAIRY','TOPPINGS','POTATOES','CHICKEN', 'WINE','DIET', 'SEED', \n",
    "        'SEAFOOD']\n",
    "\n",
    "OtherW2 =['ICE', '-', 'CONES', '&', 'BTR', 'CREAM','OIL','HOUSEWARES','MXS:DRY','NEEDS','MIX', \n",
    "          'MIXES','BN', 'TISS','MISC','BY-PRODUCTS','JCE', 'ADDITIVES','DRSNG','NOVELTIES', 'CRYSTL', 'AGE', \n",
    "          'DEPOSITS']\n",
    "\n",
    "SanitaryW2=['CARE','CLEANG','DETERGENTS','TISSUES','TOWELS','LITTER']"
   ]
  },
  {
   "cell_type": "code",
   "execution_count": 16,
   "metadata": {},
   "outputs": [
    {
     "data": {
      "text/plain": [
       "array([None, 'SHELF', 'EXTRACTS', 'JELLY', 'MILK', 'BUNS', 'VEG', 'NEEDS',\n",
       "       'BAGS', 'DESSERTS', 'PKLD', 'PRODUCTS', 'GOODS', 'DNR', 'CANNED',\n",
       "       'BKD', 'WHLSM', 'MEAT', 'CARBONATED', 'FOODS', 'CONC', 'PASTA',\n",
       "       'PANCAKE', 'SNDWCH', 'DOUGH', 'DRNKS', 'WTR', 'GRAVY', 'DRNK',\n",
       "       'MEALS', 'SUPPLIES', 'ITEMS'], dtype=object)"
      ]
     },
     "execution_count": 16,
     "metadata": {},
     "output_type": "execute_result"
    }
   ],
   "source": [
    "words.w3.unique()"
   ]
  },
  {
   "cell_type": "code",
   "execution_count": 17,
   "metadata": {},
   "outputs": [],
   "source": [
    "FoodW3 = ['JELLY', 'MILK', 'BUNS', 'VEG','DESSERTS', 'CANNED','MEAT','FOODS','PASTA',\n",
    "       'PANCAKE', 'SNDWCH', 'DOUGH', 'DRNKS', 'WTR', 'GRAVY', 'DRNK',\n",
    "       'MEALS']\n",
    "\n",
    "OtherW3 =['SHELF', 'EXTRACTS','NEEDS',\n",
    "       'BAGS','PKLD', 'PRODUCTS', 'GOODS', 'DNR','BKD', 'WHLSM','CARBONATED','CONC','SUPPLIES', 'ITEMS']"
   ]
  },
  {
   "cell_type": "code",
   "execution_count": 18,
   "metadata": {},
   "outputs": [],
   "source": [
    "#Initialize the categories to the grocery dataframe\n",
    "\n",
    "Grocery['IsFood'] = False\n",
    "Grocery['IsPet'] = False\n",
    "Grocery['IsSanitary'] = False\n",
    "Grocery['IsOther'] = False"
   ]
  },
  {
   "cell_type": "markdown",
   "metadata": {},
   "source": [
    "For each word in the words dataframe we check to which category the word belongs. A boolean is turned as True in the column of their category.\n",
    "We do this for each first word, then each second word, and finally for each third word. It is possible that first word belongs to a category and second word belongs to another category for example. It will be fixed when filling the grocery dataframe with the categories for each product."
   ]
  },
  {
   "cell_type": "code",
   "execution_count": 29,
   "metadata": {
    "scrolled": true
   },
   "outputs": [],
   "source": [
    "words['IsFoodW1'] = words.w1.isin(FoodW1)\n",
    "words['IsSanitaryW1'] = words.w1.isin(SanitaryW1)\n",
    "words['IsPetW1'] = words.w1.isin(PetW1)\n",
    "words['IsOtherW1'] = words.w1.isin(OtherW1)\n",
    "\n",
    "words['IsFoodW2'] = words.w2.isin(FoodW2)\n",
    "words['IsSanitaryW2'] = words.w2.isin(SanitaryW2)\n",
    "words['IsOtherW2'] = words.w2.isin(OtherW2)\n",
    "\n",
    "words['IsFoodW3'] = words.w3.isin(FoodW3)\n",
    "words['IsOtherW3'] = words.w3.isin(OtherW3)"
   ]
  },
  {
   "cell_type": "code",
   "execution_count": 30,
   "metadata": {},
   "outputs": [
    {
     "data": {
      "text/html": [
       "<div>\n",
       "<style scoped>\n",
       "    .dataframe tbody tr th:only-of-type {\n",
       "        vertical-align: middle;\n",
       "    }\n",
       "\n",
       "    .dataframe tbody tr th {\n",
       "        vertical-align: top;\n",
       "    }\n",
       "\n",
       "    .dataframe thead th {\n",
       "        text-align: right;\n",
       "    }\n",
       "</style>\n",
       "<table border=\"1\" class=\"dataframe\">\n",
       "  <thead>\n",
       "    <tr style=\"text-align: right;\">\n",
       "      <th></th>\n",
       "      <th>w1</th>\n",
       "      <th>w2</th>\n",
       "      <th>w3</th>\n",
       "      <th>w4</th>\n",
       "      <th>w5</th>\n",
       "      <th>w6</th>\n",
       "      <th>IsFoodW1</th>\n",
       "      <th>IsSanitaryW1</th>\n",
       "      <th>IsPetW1</th>\n",
       "      <th>IsOtherW1</th>\n",
       "      <th>IsFoodW2</th>\n",
       "      <th>IsSanitaryW2</th>\n",
       "      <th>IsOtherW2</th>\n",
       "      <th>IsFoodW3</th>\n",
       "      <th>IsOtherW3</th>\n",
       "    </tr>\n",
       "  </thead>\n",
       "  <tbody>\n",
       "    <tr>\n",
       "      <td>0</td>\n",
       "      <td>FRZN</td>\n",
       "      <td>ICE</td>\n",
       "      <td>None</td>\n",
       "      <td>None</td>\n",
       "      <td>None</td>\n",
       "      <td>None</td>\n",
       "      <td>True</td>\n",
       "      <td>False</td>\n",
       "      <td>False</td>\n",
       "      <td>False</td>\n",
       "      <td>False</td>\n",
       "      <td>False</td>\n",
       "      <td>True</td>\n",
       "      <td>False</td>\n",
       "      <td>False</td>\n",
       "    </tr>\n",
       "    <tr>\n",
       "      <td>3</td>\n",
       "      <td>FRUIT</td>\n",
       "      <td>-</td>\n",
       "      <td>SHELF</td>\n",
       "      <td>STABLE</td>\n",
       "      <td>None</td>\n",
       "      <td>None</td>\n",
       "      <td>True</td>\n",
       "      <td>False</td>\n",
       "      <td>False</td>\n",
       "      <td>False</td>\n",
       "      <td>False</td>\n",
       "      <td>False</td>\n",
       "      <td>True</td>\n",
       "      <td>False</td>\n",
       "      <td>True</td>\n",
       "    </tr>\n",
       "    <tr>\n",
       "      <td>4</td>\n",
       "      <td>COOKIES</td>\n",
       "      <td>CONES</td>\n",
       "      <td>None</td>\n",
       "      <td>None</td>\n",
       "      <td>None</td>\n",
       "      <td>None</td>\n",
       "      <td>True</td>\n",
       "      <td>False</td>\n",
       "      <td>False</td>\n",
       "      <td>False</td>\n",
       "      <td>False</td>\n",
       "      <td>False</td>\n",
       "      <td>True</td>\n",
       "      <td>False</td>\n",
       "      <td>False</td>\n",
       "    </tr>\n",
       "    <tr>\n",
       "      <td>5</td>\n",
       "      <td>SPICES</td>\n",
       "      <td>&amp;</td>\n",
       "      <td>EXTRACTS</td>\n",
       "      <td>None</td>\n",
       "      <td>None</td>\n",
       "      <td>None</td>\n",
       "      <td>True</td>\n",
       "      <td>False</td>\n",
       "      <td>False</td>\n",
       "      <td>False</td>\n",
       "      <td>False</td>\n",
       "      <td>False</td>\n",
       "      <td>True</td>\n",
       "      <td>False</td>\n",
       "      <td>True</td>\n",
       "    </tr>\n",
       "    <tr>\n",
       "      <td>6</td>\n",
       "      <td>COOKIES</td>\n",
       "      <td>CONES</td>\n",
       "      <td>None</td>\n",
       "      <td>None</td>\n",
       "      <td>None</td>\n",
       "      <td>None</td>\n",
       "      <td>True</td>\n",
       "      <td>False</td>\n",
       "      <td>False</td>\n",
       "      <td>False</td>\n",
       "      <td>False</td>\n",
       "      <td>False</td>\n",
       "      <td>True</td>\n",
       "      <td>False</td>\n",
       "      <td>False</td>\n",
       "    </tr>\n",
       "  </tbody>\n",
       "</table>\n",
       "</div>"
      ],
      "text/plain": [
       "        w1     w2        w3      w4    w5    w6  IsFoodW1  IsSanitaryW1  \\\n",
       "0     FRZN    ICE      None    None  None  None      True         False   \n",
       "3    FRUIT      -     SHELF  STABLE  None  None      True         False   \n",
       "4  COOKIES  CONES      None    None  None  None      True         False   \n",
       "5   SPICES      &  EXTRACTS    None  None  None      True         False   \n",
       "6  COOKIES  CONES      None    None  None  None      True         False   \n",
       "\n",
       "   IsPetW1  IsOtherW1  IsFoodW2  IsSanitaryW2  IsOtherW2  IsFoodW3  IsOtherW3  \n",
       "0    False      False     False         False       True     False      False  \n",
       "3    False      False     False         False       True     False       True  \n",
       "4    False      False     False         False       True     False      False  \n",
       "5    False      False     False         False       True     False       True  \n",
       "6    False      False     False         False       True     False      False  "
      ]
     },
     "execution_count": 30,
     "metadata": {},
     "output_type": "execute_result"
    }
   ],
   "source": [
    "# We look at the words dataframe after filling with word's categories\n",
    "words.head()"
   ]
  },
  {
   "cell_type": "markdown",
   "metadata": {},
   "source": [
    "Finally we create a loop to assign the right categorie to each product in the grocery dataframe."
   ]
  },
  {
   "cell_type": "code",
   "execution_count": 31,
   "metadata": {},
   "outputs": [],
   "source": [
    "# a loop to check if we have non concordance. Everything seems fine. With looking at the three first words \n",
    "# we can determine the type of product : food, pet, sanitary or other.\n",
    "\n",
    "#uncomment to check :\n",
    "\n",
    "#for i in words.index : \n",
    "#    if (words['IsOtherW1'].loc[i]) and (words['IsOtherW2'].loc[i]) and (words['IsOtherW3'].loc[i]) :\n",
    "#        print(words.loc[i])"
   ]
  },
  {
   "cell_type": "code",
   "execution_count": 32,
   "metadata": {},
   "outputs": [],
   "source": [
    "#now we need to fill the Grocery table with the type of elements :\n",
    "\n",
    "for i in Grocery.index : \n",
    "    if (words['IsOtherW1'].loc[i]) and (words['IsOtherW2'].loc[i]) and (words['IsOtherW3'].loc[i]) :\n",
    "        Grocery.IsFood.loc[i] = False\n",
    "        Grocery.IsPet.loc[i] = False\n",
    "        Grocery.IsSanitary.loc[i] = False\n",
    "        Grocery.IsOther.loc[i] = True\n",
    "        \n",
    "    elif (words['IsPetW1'].loc[i]) :\n",
    "        Grocery.IsFood.loc[i] = False\n",
    "        Grocery.IsPet.loc[i] = True\n",
    "        Grocery.IsSanitary.loc[i] = False\n",
    "        Grocery.IsOther.loc[i] = False\n",
    "    \n",
    "    elif (words['IsFoodW1'].loc[i]) or (words['IsFoodW2'].loc[i]) or (words['IsFoodW3'].loc[i]) :\n",
    "        Grocery.IsFood.loc[i] = True\n",
    "        Grocery.IsPet.loc[i] = False\n",
    "        Grocery.IsSanitary.loc[i] = False\n",
    "        Grocery.IsOther.loc[i] = False\n",
    "        \n",
    "    elif (words['IsSanitaryW1'].loc[i]) or (words['IsSanitaryW2'].loc[i]):\n",
    "        Grocery.IsFood.loc[i] = False\n",
    "        Grocery.IsPet.loc[i] = False\n",
    "        Grocery.IsSanitary.loc[i] = True\n",
    "        Grocery.IsOther.loc[i] = False"
   ]
  },
  {
   "cell_type": "code",
   "execution_count": 34,
   "metadata": {},
   "outputs": [
    {
     "data": {
      "text/html": [
       "<div>\n",
       "<style scoped>\n",
       "    .dataframe tbody tr th:only-of-type {\n",
       "        vertical-align: middle;\n",
       "    }\n",
       "\n",
       "    .dataframe tbody tr th {\n",
       "        vertical-align: top;\n",
       "    }\n",
       "\n",
       "    .dataframe thead th {\n",
       "        text-align: right;\n",
       "    }\n",
       "</style>\n",
       "<table border=\"1\" class=\"dataframe\">\n",
       "  <thead>\n",
       "    <tr style=\"text-align: right;\">\n",
       "      <th></th>\n",
       "      <th>PRODUCT_ID</th>\n",
       "      <th>MANUFACTURER</th>\n",
       "      <th>DEPARTMENT</th>\n",
       "      <th>BRAND</th>\n",
       "      <th>COMMODITY_DESC</th>\n",
       "      <th>SUB_COMMODITY_DESC</th>\n",
       "      <th>CURR_SIZE_OF_PRODUCT</th>\n",
       "      <th>IsFood</th>\n",
       "      <th>IsPet</th>\n",
       "      <th>IsSanitary</th>\n",
       "      <th>IsOther</th>\n",
       "    </tr>\n",
       "  </thead>\n",
       "  <tbody>\n",
       "    <tr>\n",
       "      <td>0</td>\n",
       "      <td>25671</td>\n",
       "      <td>2</td>\n",
       "      <td>GROCERY</td>\n",
       "      <td>National</td>\n",
       "      <td>FRZN ICE</td>\n",
       "      <td>ICE - CRUSHED/CUBED</td>\n",
       "      <td>22 LB</td>\n",
       "      <td>True</td>\n",
       "      <td>False</td>\n",
       "      <td>False</td>\n",
       "      <td>False</td>\n",
       "    </tr>\n",
       "    <tr>\n",
       "      <td>3</td>\n",
       "      <td>26190</td>\n",
       "      <td>69</td>\n",
       "      <td>GROCERY</td>\n",
       "      <td>Private</td>\n",
       "      <td>FRUIT - SHELF STABLE</td>\n",
       "      <td>APPLE SAUCE</td>\n",
       "      <td>50 OZ</td>\n",
       "      <td>True</td>\n",
       "      <td>False</td>\n",
       "      <td>False</td>\n",
       "      <td>False</td>\n",
       "    </tr>\n",
       "    <tr>\n",
       "      <td>4</td>\n",
       "      <td>26355</td>\n",
       "      <td>69</td>\n",
       "      <td>GROCERY</td>\n",
       "      <td>Private</td>\n",
       "      <td>COOKIES/CONES</td>\n",
       "      <td>SPECIALTY COOKIES</td>\n",
       "      <td>14 OZ</td>\n",
       "      <td>True</td>\n",
       "      <td>False</td>\n",
       "      <td>False</td>\n",
       "      <td>False</td>\n",
       "    </tr>\n",
       "    <tr>\n",
       "      <td>5</td>\n",
       "      <td>26426</td>\n",
       "      <td>69</td>\n",
       "      <td>GROCERY</td>\n",
       "      <td>Private</td>\n",
       "      <td>SPICES &amp; EXTRACTS</td>\n",
       "      <td>SPICES &amp; SEASONINGS</td>\n",
       "      <td>2.5 OZ</td>\n",
       "      <td>True</td>\n",
       "      <td>False</td>\n",
       "      <td>False</td>\n",
       "      <td>False</td>\n",
       "    </tr>\n",
       "  </tbody>\n",
       "</table>\n",
       "</div>"
      ],
      "text/plain": [
       "   PRODUCT_ID MANUFACTURER DEPARTMENT     BRAND        COMMODITY_DESC  \\\n",
       "0       25671            2    GROCERY  National              FRZN ICE   \n",
       "3       26190           69    GROCERY   Private  FRUIT - SHELF STABLE   \n",
       "4       26355           69    GROCERY   Private         COOKIES/CONES   \n",
       "5       26426           69    GROCERY   Private     SPICES & EXTRACTS   \n",
       "\n",
       "    SUB_COMMODITY_DESC CURR_SIZE_OF_PRODUCT  IsFood  IsPet  IsSanitary  \\\n",
       "0  ICE - CRUSHED/CUBED                22 LB    True  False       False   \n",
       "3          APPLE SAUCE                50 OZ    True  False       False   \n",
       "4    SPECIALTY COOKIES                14 OZ    True  False       False   \n",
       "5  SPICES & SEASONINGS               2.5 OZ    True  False       False   \n",
       "\n",
       "   IsOther  \n",
       "0    False  \n",
       "3    False  \n",
       "4    False  \n",
       "5    False  "
      ]
     },
     "execution_count": 34,
     "metadata": {},
     "output_type": "execute_result"
    }
   ],
   "source": [
    "Grocery.head(4)"
   ]
  },
  {
   "cell_type": "code",
   "execution_count": 41,
   "metadata": {},
   "outputs": [
    {
     "data": {
      "text/html": [
       "<div>\n",
       "<style scoped>\n",
       "    .dataframe tbody tr th:only-of-type {\n",
       "        vertical-align: middle;\n",
       "    }\n",
       "\n",
       "    .dataframe tbody tr th {\n",
       "        vertical-align: top;\n",
       "    }\n",
       "\n",
       "    .dataframe thead th {\n",
       "        text-align: right;\n",
       "    }\n",
       "</style>\n",
       "<table border=\"1\" class=\"dataframe\">\n",
       "  <thead>\n",
       "    <tr style=\"text-align: right;\">\n",
       "      <th></th>\n",
       "      <th>PRODUCT_ID</th>\n",
       "      <th>MANUFACTURER</th>\n",
       "      <th>DEPARTMENT</th>\n",
       "      <th>BRAND</th>\n",
       "      <th>COMMODITY_DESC</th>\n",
       "      <th>SUB_COMMODITY_DESC</th>\n",
       "      <th>CURR_SIZE_OF_PRODUCT</th>\n",
       "      <th>IsFood</th>\n",
       "      <th>IsPet</th>\n",
       "      <th>IsSanitary</th>\n",
       "    </tr>\n",
       "    <tr>\n",
       "      <th>IsOther</th>\n",
       "      <th></th>\n",
       "      <th></th>\n",
       "      <th></th>\n",
       "      <th></th>\n",
       "      <th></th>\n",
       "      <th></th>\n",
       "      <th></th>\n",
       "      <th></th>\n",
       "      <th></th>\n",
       "      <th></th>\n",
       "    </tr>\n",
       "  </thead>\n",
       "  <tbody>\n",
       "    <tr>\n",
       "      <td>False</td>\n",
       "      <td>39004</td>\n",
       "      <td>39004</td>\n",
       "      <td>39004</td>\n",
       "      <td>39004</td>\n",
       "      <td>39004</td>\n",
       "      <td>39004</td>\n",
       "      <td>39004</td>\n",
       "      <td>39004</td>\n",
       "      <td>39004</td>\n",
       "      <td>39004</td>\n",
       "    </tr>\n",
       "    <tr>\n",
       "      <td>True</td>\n",
       "      <td>17</td>\n",
       "      <td>17</td>\n",
       "      <td>17</td>\n",
       "      <td>17</td>\n",
       "      <td>17</td>\n",
       "      <td>17</td>\n",
       "      <td>17</td>\n",
       "      <td>17</td>\n",
       "      <td>17</td>\n",
       "      <td>17</td>\n",
       "    </tr>\n",
       "  </tbody>\n",
       "</table>\n",
       "</div>"
      ],
      "text/plain": [
       "         PRODUCT_ID  MANUFACTURER  DEPARTMENT  BRAND  COMMODITY_DESC  \\\n",
       "IsOther                                                                \n",
       "False         39004         39004       39004  39004           39004   \n",
       "True             17            17          17     17              17   \n",
       "\n",
       "         SUB_COMMODITY_DESC  CURR_SIZE_OF_PRODUCT  IsFood  IsPet  IsSanitary  \n",
       "IsOther                                                                       \n",
       "False                 39004                 39004   39004  39004       39004  \n",
       "True                     17                    17      17     17          17  "
      ]
     },
     "execution_count": 41,
     "metadata": {},
     "output_type": "execute_result"
    }
   ],
   "source": [
    "Grocery.groupby('IsFood').count()\n",
    "Grocery.groupby('IsPet').count()\n",
    "Grocery.groupby('IsSanitary').count()\n",
    "Grocery.groupby('IsOther').count()"
   ]
  },
  {
   "cell_type": "markdown",
   "metadata": {},
   "source": [
    "As shown above with groupBy function, the category with the highest number of products is the Food category, with 31886 products. We find 1887 for the pet products, and 2074 sanitary products (hygien and cleaning). Only 17 products are classified as other."
   ]
  },
  {
   "cell_type": "code",
   "execution_count": 51,
   "metadata": {},
   "outputs": [],
   "source": [
    "Grocery.to_csv('Grocery.csv')"
   ]
  },
  {
   "cell_type": "markdown",
   "metadata": {},
   "source": [
    "**B. LET'S DO IT AGAIN WITH DRUG GM**"
   ]
  },
  {
   "cell_type": "code",
   "execution_count": 42,
   "metadata": {},
   "outputs": [
    {
     "data": {
      "text/html": [
       "<div>\n",
       "<style scoped>\n",
       "    .dataframe tbody tr th:only-of-type {\n",
       "        vertical-align: middle;\n",
       "    }\n",
       "\n",
       "    .dataframe tbody tr th {\n",
       "        vertical-align: top;\n",
       "    }\n",
       "\n",
       "    .dataframe thead th {\n",
       "        text-align: right;\n",
       "    }\n",
       "</style>\n",
       "<table border=\"1\" class=\"dataframe\">\n",
       "  <thead>\n",
       "    <tr style=\"text-align: right;\">\n",
       "      <th></th>\n",
       "      <th>PRODUCT_ID</th>\n",
       "      <th>MANUFACTURER</th>\n",
       "      <th>DEPARTMENT</th>\n",
       "      <th>BRAND</th>\n",
       "      <th>COMMODITY_DESC</th>\n",
       "      <th>SUB_COMMODITY_DESC</th>\n",
       "      <th>CURR_SIZE_OF_PRODUCT</th>\n",
       "    </tr>\n",
       "  </thead>\n",
       "  <tbody>\n",
       "    <tr>\n",
       "      <td>7</td>\n",
       "      <td>26601</td>\n",
       "      <td>69</td>\n",
       "      <td>DRUG GM</td>\n",
       "      <td>Private</td>\n",
       "      <td>VITAMINS</td>\n",
       "      <td>VITAMIN - MINERALS</td>\n",
       "      <td>300CT(1)</td>\n",
       "    </tr>\n",
       "    <tr>\n",
       "      <td>11</td>\n",
       "      <td>26889</td>\n",
       "      <td>32</td>\n",
       "      <td>DRUG GM</td>\n",
       "      <td>National</td>\n",
       "      <td>MAGAZINE</td>\n",
       "      <td>TV/MOVIE-MAGAZINE</td>\n",
       "      <td></td>\n",
       "    </tr>\n",
       "    <tr>\n",
       "      <td>20</td>\n",
       "      <td>27334</td>\n",
       "      <td>69</td>\n",
       "      <td>DRUG GM</td>\n",
       "      <td>Private</td>\n",
       "      <td>DIETARY AID PRODUCTS</td>\n",
       "      <td>DIET CNTRL LIQS NUTRITIONAL</td>\n",
       "      <td></td>\n",
       "    </tr>\n",
       "    <tr>\n",
       "      <td>108</td>\n",
       "      <td>29574</td>\n",
       "      <td>69</td>\n",
       "      <td>DRUG GM</td>\n",
       "      <td>Private</td>\n",
       "      <td>STATIONERY &amp; SCHOOL SUPPLIES</td>\n",
       "      <td>SCHOOL SUPPLIES</td>\n",
       "      <td>1 CT</td>\n",
       "    </tr>\n",
       "    <tr>\n",
       "      <td>110</td>\n",
       "      <td>29618</td>\n",
       "      <td>69</td>\n",
       "      <td>DRUG GM</td>\n",
       "      <td>Private</td>\n",
       "      <td>COLD AND FLU</td>\n",
       "      <td>COLD AND FLU - PSE</td>\n",
       "      <td>10 OZ</td>\n",
       "    </tr>\n",
       "  </tbody>\n",
       "</table>\n",
       "</div>"
      ],
      "text/plain": [
       "     PRODUCT_ID MANUFACTURER DEPARTMENT     BRAND  \\\n",
       "7         26601           69    DRUG GM   Private   \n",
       "11        26889           32    DRUG GM  National   \n",
       "20        27334           69    DRUG GM   Private   \n",
       "108       29574           69    DRUG GM   Private   \n",
       "110       29618           69    DRUG GM   Private   \n",
       "\n",
       "                   COMMODITY_DESC           SUB_COMMODITY_DESC  \\\n",
       "7                        VITAMINS           VITAMIN - MINERALS   \n",
       "11                       MAGAZINE            TV/MOVIE-MAGAZINE   \n",
       "20           DIETARY AID PRODUCTS  DIET CNTRL LIQS NUTRITIONAL   \n",
       "108  STATIONERY & SCHOOL SUPPLIES              SCHOOL SUPPLIES   \n",
       "110                  COLD AND FLU           COLD AND FLU - PSE   \n",
       "\n",
       "    CURR_SIZE_OF_PRODUCT  \n",
       "7               300CT(1)  \n",
       "11                        \n",
       "20                        \n",
       "108                 1 CT  \n",
       "110                10 OZ  "
      ]
     },
     "execution_count": 42,
     "metadata": {},
     "output_type": "execute_result"
    }
   ],
   "source": [
    "#we extract the drug gm product data which is the second main store in the commercial center\n",
    "DrugGM= pd.DataFrame(product[product['DEPARTMENT'] == 'DRUG GM'])\n",
    "DrugGM.head()"
   ]
  },
  {
   "cell_type": "code",
   "execution_count": 46,
   "metadata": {},
   "outputs": [
    {
     "data": {
      "text/html": [
       "<div>\n",
       "<style scoped>\n",
       "    .dataframe tbody tr th:only-of-type {\n",
       "        vertical-align: middle;\n",
       "    }\n",
       "\n",
       "    .dataframe tbody tr th {\n",
       "        vertical-align: top;\n",
       "    }\n",
       "\n",
       "    .dataframe thead th {\n",
       "        text-align: right;\n",
       "    }\n",
       "</style>\n",
       "<table border=\"1\" class=\"dataframe\">\n",
       "  <thead>\n",
       "    <tr style=\"text-align: right;\">\n",
       "      <th></th>\n",
       "      <th>w2</th>\n",
       "      <th>w3</th>\n",
       "      <th>w4</th>\n",
       "      <th>w5</th>\n",
       "    </tr>\n",
       "    <tr>\n",
       "      <th>w1</th>\n",
       "      <th></th>\n",
       "      <th></th>\n",
       "      <th></th>\n",
       "      <th></th>\n",
       "    </tr>\n",
       "  </thead>\n",
       "  <tbody>\n",
       "    <tr>\n",
       "      <td>ADULT</td>\n",
       "      <td>55</td>\n",
       "      <td>0</td>\n",
       "      <td>0</td>\n",
       "      <td>0</td>\n",
       "    </tr>\n",
       "    <tr>\n",
       "      <td>ANALGESICS</td>\n",
       "      <td>0</td>\n",
       "      <td>0</td>\n",
       "      <td>0</td>\n",
       "      <td>0</td>\n",
       "    </tr>\n",
       "    <tr>\n",
       "      <td>ANTACIDS</td>\n",
       "      <td>0</td>\n",
       "      <td>0</td>\n",
       "      <td>0</td>\n",
       "      <td>0</td>\n",
       "    </tr>\n",
       "    <tr>\n",
       "      <td>APPAREL</td>\n",
       "      <td>0</td>\n",
       "      <td>0</td>\n",
       "      <td>0</td>\n",
       "      <td>0</td>\n",
       "    </tr>\n",
       "    <tr>\n",
       "      <td>AUDIO</td>\n",
       "      <td>513</td>\n",
       "      <td>513</td>\n",
       "      <td>0</td>\n",
       "      <td>0</td>\n",
       "    </tr>\n",
       "    <tr>\n",
       "      <td>...</td>\n",
       "      <td>...</td>\n",
       "      <td>...</td>\n",
       "      <td>...</td>\n",
       "      <td>...</td>\n",
       "    </tr>\n",
       "    <tr>\n",
       "      <td>TOBACCO</td>\n",
       "      <td>91</td>\n",
       "      <td>0</td>\n",
       "      <td>0</td>\n",
       "      <td>0</td>\n",
       "    </tr>\n",
       "    <tr>\n",
       "      <td>TOYS</td>\n",
       "      <td>841</td>\n",
       "      <td>841</td>\n",
       "      <td>0</td>\n",
       "      <td>0</td>\n",
       "    </tr>\n",
       "    <tr>\n",
       "      <td>VALENTINE</td>\n",
       "      <td>0</td>\n",
       "      <td>0</td>\n",
       "      <td>0</td>\n",
       "      <td>0</td>\n",
       "    </tr>\n",
       "    <tr>\n",
       "      <td>VITAMINS</td>\n",
       "      <td>0</td>\n",
       "      <td>0</td>\n",
       "      <td>0</td>\n",
       "      <td>0</td>\n",
       "    </tr>\n",
       "    <tr>\n",
       "      <td>WATCHES</td>\n",
       "      <td>25</td>\n",
       "      <td>25</td>\n",
       "      <td>0</td>\n",
       "      <td>0</td>\n",
       "    </tr>\n",
       "  </tbody>\n",
       "</table>\n",
       "<p>85 rows × 4 columns</p>\n",
       "</div>"
      ],
      "text/plain": [
       "             w2   w3  w4  w5\n",
       "w1                          \n",
       "ADULT        55    0   0   0\n",
       "ANALGESICS    0    0   0   0\n",
       "ANTACIDS      0    0   0   0\n",
       "APPAREL       0    0   0   0\n",
       "AUDIO       513  513   0   0\n",
       "...         ...  ...  ..  ..\n",
       "TOBACCO      91    0   0   0\n",
       "TOYS        841  841   0   0\n",
       "VALENTINE     0    0   0   0\n",
       "VITAMINS      0    0   0   0\n",
       "WATCHES      25   25   0   0\n",
       "\n",
       "[85 rows x 4 columns]"
      ]
     },
     "execution_count": 46,
     "metadata": {},
     "output_type": "execute_result"
    }
   ],
   "source": [
    "# We create a table where all description words are extracted and separated as word 1, word 2, word 3 ... \n",
    "#from the same description line. Here we look at the words in COMMODITY_DESC\n",
    "\n",
    "split = DrugGM['COMMODITY_DESC'].str.split(' |\\/').tolist()\n",
    "wordsDGM= pd.DataFrame.from_records(split, index= DrugGM.index, columns=[\"w1\",\"w2\",\"w3\",\"w4\",\"w5\"])\n",
    "\n",
    "# we show the number of occurrence for each first word. For example the word AIR occures 414 times as the first \n",
    "#word of a description\n",
    "\n",
    "wordsDGM.groupby('w1').count()"
   ]
  },
  {
   "cell_type": "code",
   "execution_count": 47,
   "metadata": {},
   "outputs": [
    {
     "data": {
      "text/plain": [
       "array(['VITAMINS', 'MAGAZINE', 'DIETARY', 'STATIONERY', 'COLD', 'BABY',\n",
       "       'SOAP', 'KITCHEN', 'CANDY', 'HAIR', 'SHAVING', 'FIRST',\n",
       "       'NEWSPAPER', 'INSECTICIDES', 'ELECTRICAL', 'IRONING', 'ANALGESICS',\n",
       "       'HOSIERY', 'BATTERIES', 'BOOKSTORE', 'SPRING', 'CHARCOAL', 'HAND',\n",
       "       'ORAL', 'INFANT', 'DEODORANTS', 'FEMININE', 'COFFEE', 'BROOMS',\n",
       "       'GREETING', 'HARDWARE', 'ANTACIDS', 'CIGARETTES', 'SINUS',\n",
       "       'TOBACCO', 'FILM', 'PLASTIC', 'FOOT', 'SHOE', 'FIREWORKS',\n",
       "       'SUNTAN', 'CANDLES', 'COOKWARE', 'DISPOSIBLE', 'AUDIO', 'EYE',\n",
       "       'AUTOMOTIVE', 'LAXATIVES', 'OVERNIGHT', 'PERSONAL', 'DIAPERS',\n",
       "       'SMOKING', 'COUPON', 'J-HOOKS', 'FAMILY', 'EASTER', 'CIGARS',\n",
       "       'APPAREL', 'PREPAID', 'HOME', 'IN-STORE', 'ADULT', 'DOMESTIC',\n",
       "       'FALL', 'TOYS', 'LAWN', 'GLASSWARE', 'HALLOWEEN', 'SEWING',\n",
       "       'NATURAL', 'ETHNIC', 'GLASSES', 'CHRISTMAS', 'CONTINUITIES',\n",
       "       'PORTABLE', 'VALENTINE', 'PROPANE', 'WATCHES', 'TICKETS',\n",
       "       'MISCELLANEOUS', 'DOLLAR', 'FRAGRANCES', 'SPORTS', 'LONG', 'FD'],\n",
       "      dtype=object)"
      ]
     },
     "execution_count": 47,
     "metadata": {},
     "output_type": "execute_result"
    }
   ],
   "source": [
    "wordsDGM.w1.unique()"
   ]
  },
  {
   "cell_type": "code",
   "execution_count": 58,
   "metadata": {},
   "outputs": [],
   "source": [
    "\n",
    "SmallStuffW1 = ['ELECTRICAL','BATTERIES','CHARCOAL','HARDWARE','FILM', \n",
    "          'FIREWORKS','CANDLES' 'APPAREL', 'TOYS', 'GLASSWARE','HOSIERY','SHOE','COOKWARE',\n",
    "        'GLASSES','PROPANE', 'WATCHES', 'TICKETS','CANDY','COFFEE']        \n",
    "\n",
    "OtherW1 = ['FIRST','KITCHEN','COLD','BABY', 'FEMININE','DIETARY','SPRING', 'HAND','ORAL', 'INFANT','PLASTIC', \n",
    "           'FOOT','DISPOSIBLE', 'AUDIO', 'EYE', 'AUTOMOTIVE','OVERNIGHT', 'PERSONAL','LAWN', 'HALLOWEEN', 'SEWING',\n",
    "           'COUPON', 'J-HOOKS', 'FAMILY', 'EASTER','PREPAID', 'HOME', 'IN-STORE', 'ADULT', 'DOMESTIC',\n",
    "       'FALL','NATURAL', 'ETHNIC', 'CHRISTMAS', 'CONTINUITIES','PORTABLE', 'VALENTINE','MISCELLANEOUS', 'DOLLAR', \n",
    "           'FRAGRANCES', 'SPORTS', 'LONG', 'FD']\n",
    "\n",
    "SmokeW1 = ['CIGARETTES','TOBACCO','SMOKING','CIGARS']\n",
    "\n",
    "StationneryW1 = ['MAGAZINE','STATIONERY','NEWSPAPER', 'BOOKSTORE', 'GREETING']\n",
    "\n",
    "PharmacyW1 = ['VITAMINS','ANALGESICS','LAXATIVES']\n",
    "\n",
    "\n",
    "SanitaryW1 = ['SOAP','HAIR', 'SHAVING', 'INSECTICIDES','IRONING','DEODORANTS', 'BROOMS', 'ANTACIDS','SINUS', \n",
    "              'SUNTAN', 'DIAPERS']\n"
   ]
  },
  {
   "cell_type": "code",
   "execution_count": 53,
   "metadata": {},
   "outputs": [
    {
     "data": {
      "text/plain": [
       "array([None, 'AID', '&', 'AND', 'HBC', '-', 'GADGETS', 'CARE',\n",
       "       'SUPPPLIES', 'SOCKS', 'SUMMER', 'BODY', 'HYGIENE', 'FORMULA',\n",
       "       'FILTERS', 'CARDS', 'SUPPLIES', 'FOODS', 'OTHER', 'HOUSEWARES',\n",
       "       'ACCESSORIES', 'FOILWARE', 'VIDEO', 'PRODUCTS', 'PHOTOFINISHING',\n",
       "       'CESSATIONS', 'MISC', 'PLANNING', 'WIRELESS&ACCESSORIES',\n",
       "       'FREEZING', 'INCONTINENCE', 'GOODS', 'PERSONAL', 'VISION', '',\n",
       "       'ELECTRIC', 'FURNISHINGS', 'CALCULATORS', 'HEALTH', 'VALUE',\n",
       "       'MEMORABLILIA', 'DISTANCE', 'WRAPS'], dtype=object)"
      ]
     },
     "execution_count": 53,
     "metadata": {},
     "output_type": "execute_result"
    }
   ],
   "source": [
    "wordsDGM.w2.unique()"
   ]
  },
  {
   "cell_type": "code",
   "execution_count": 59,
   "metadata": {},
   "outputs": [],
   "source": [
    "SmallStuffW1 = ['GADGETS','SUPPPLIES', 'SOCKS', 'CARDS','FOODS','HOUSEWARES','ACCESSORIES', 'FOILWARE','VIDEO',\n",
    "                'WIRELESS&ACCESSORIES','ELECTRIC','FURNISHINGS',  'CALCULATORS',]        \n",
    "\n",
    "OtherW1 = ['AID', '&', 'AND', 'HBC', '-','SUMMER','FORMULA','OTHER',  'PRODUCTS', 'PHOTOFINISHING',\n",
    "       'CESSATIONS', 'MISC', 'PLANNING', 'FREEZING','GOODS', 'PERSONAL', 'VISION','VALUE',\n",
    "       'MEMORABLILIA', 'DISTANCE', 'WRAPS']\n",
    "\n",
    "SmokeW1 = ['FILTERS',]\n",
    "\n",
    "StationneryW1 = []\n",
    "\n",
    "PharmacyW1 = ['INCONTINENCE',]\n",
    "\n",
    "\n",
    "SanitaryW1 = [ 'CARE','BODY', 'HYGIENE', 'SUPPLIES','HEALTH', ]\n",
    "    "
   ]
  },
  {
   "cell_type": "code",
   "execution_count": 63,
   "metadata": {},
   "outputs": [
    {
     "data": {
      "text/plain": [
       "array([None, 'PRODUCTS', 'SCHOOL', 'FLU', 'LIQUID', 'PACKAGED',\n",
       "       'CHECKLANE', 'CHEMICALS', 'SEASONAL', 'LIGHTER', 'FACIAL', 'MOPS',\n",
       "       'WRAP', 'ALLERGY', 'CAMERA', 'BAKEWARE', 'EAR', 'APPLIANCES',\n",
       "       'ACCESSORIES', 'DISPOSABLES', 'ITEMS', '&', 'WINTER', 'GAMES',\n",
       "       'GARDEN', 'DINNERWARE', 'CARE', 'AIDS', 'LOBBY', 'CALLING', 'BAGS'],\n",
       "      dtype=object)"
      ]
     },
     "execution_count": 63,
     "metadata": {},
     "output_type": "execute_result"
    }
   ],
   "source": [
    "wordsDGM.w3.unique()"
   ]
  },
  {
   "cell_type": "code",
   "execution_count": null,
   "metadata": {},
   "outputs": [],
   "source": []
  }
 ],
 "metadata": {
  "kernelspec": {
   "display_name": "Python 3",
   "language": "python",
   "name": "python3"
  },
  "language_info": {
   "codemirror_mode": {
    "name": "ipython",
    "version": 3
   },
   "file_extension": ".py",
   "mimetype": "text/x-python",
   "name": "python",
   "nbconvert_exporter": "python",
   "pygments_lexer": "ipython3",
   "version": "3.7.4"
  }
 },
 "nbformat": 4,
 "nbformat_minor": 2
}
