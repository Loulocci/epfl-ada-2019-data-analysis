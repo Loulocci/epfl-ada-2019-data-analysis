{
 "cells": [
  {
   "cell_type": "markdown",
   "metadata": {},
   "source": [
    "# PRODUCTS"
   ]
  },
  {
   "cell_type": "markdown",
   "metadata": {},
   "source": [
    "**A. CLEAN UP AND PREPARE PRODUCT DATA**"
   ]
  },
  {
   "cell_type": "markdown",
   "metadata": {},
   "source": [
    "A.1 Load and plot"
   ]
  },
  {
   "cell_type": "code",
   "execution_count": null,
   "metadata": {},
   "outputs": [],
   "source": [
    "%matplotlib inline\n",
    "import pandas as pd\n",
    "import matplotlib.pyplot as plt\n",
    "import os\n",
    "\n",
    "# pip install fuzzywuzzy\n",
    "from fuzzywuzzy import fuzz\n",
    "from operator import itemgetter\n",
    "import re\n",
    "import seaborn as sns\n",
    "from ipywidgets import IntProgress\n",
    "from IPython.display import display\n",
    "import time\n",
    "\n",
    "#Website object lists : https://7esl.com/tools-and-equipment/#Technological_Gadgets"
   ]
  },
  {
   "cell_type": "code",
   "execution_count": null,
   "metadata": {},
   "outputs": [],
   "source": [
    "os.getcwd()"
   ]
  },
  {
   "cell_type": "code",
   "execution_count": null,
   "metadata": {},
   "outputs": [],
   "source": [
    "#load the data\n",
    "hh_demographic = pd.read_csv('../data/dunnhumby_complete_csv/hh_demographic.csv', sep = ',')\n",
    "\n",
    "transaction_data = pd.read_csv('../data/dunnhumby_complete_csv/transaction_data.csv', sep = ',')\n",
    "\n",
    "product = pd.read_csv('../data/dunnhumby_complete_csv/product.csv', sep = ',')\n",
    "\n",
    "# This is a list a created. It is a small file, I pushed it in data in order you can have it at home\n",
    "ObjectLabels = pd.read_csv('../data/dunnhumby_complete_csv/GroceryLists.csv', sep = ',')\n",
    "ObjectLabels.columns = ['ITEM','LABEL']"
   ]
  },
  {
   "cell_type": "markdown",
   "metadata": {},
   "source": [
    "First we get interested by the different departments in the commercial center. We reorder the departments and plot the number of different products we can find per department. "
   ]
  },
  {
   "cell_type": "code",
   "execution_count": null,
   "metadata": {},
   "outputs": [],
   "source": [
    "# REORDERING PART: \n",
    "ordered_manufacturer= product.MANUFACTURER.astype(int).sort_values()\n",
    "ordered_manufacturer= ordered_manufacturer.unique()\n",
    "\n",
    "product['MANUFACTURER'] = pd.Categorical(product['MANUFACTURER'],\n",
    "                      ordered = True,\n",
    "                      categories = ordered_manufacturer)\n",
    "\n",
    "#Drop unwanted products: \n",
    "unwanted_departments = ['','PHOTO', 'VIDEO', 'MISC. TRANS.', 'MISC SALES TRAN','MEAT-WHSE', 'COUP/STR & MFG']\n",
    "product = product[product['DEPARTMENT'].apply(lambda x: x not in unwanted_departments)]\n",
    "\n",
    "print ('The order of the manufacturer categories is :', ordered_manufacturer)"
   ]
  },
  {
   "cell_type": "code",
   "execution_count": null,
   "metadata": {},
   "outputs": [],
   "source": [
    "#We create the LABEL column in the product dataframe to use later: \n",
    "product['LABEL'] = product['DEPARTMENT']\n",
    "product.head(4)"
   ]
  },
  {
   "cell_type": "code",
   "execution_count": null,
   "metadata": {},
   "outputs": [],
   "source": [
    "#Plot the number of products per department: \n",
    "department = product.groupby(['DEPARTMENT']).count()\n",
    "\n",
    "fig, axs = plt.subplots(1,1, figsize = (18,6))\n",
    "sns.countplot(product['DEPARTMENT'], ax = axs)\n",
    "axs.set_xticklabels(axs.get_xticklabels(), rotation = 45, horizontalalignment = 'right')\n",
    "axs.set(title = 'Number of occurences per department in product data')"
   ]
  },
  {
   "cell_type": "markdown",
   "metadata": {},
   "source": [
    "As we can see in the previous barplots, the departments with the highest number of referenced products in this study are the grocery with almost 40000 products, and the drug GM (which is probably a drug store) with more than 30000 products. We are going to focus on these 2 mains stores in a first time."
   ]
  },
  {
   "cell_type": "markdown",
   "metadata": {},
   "source": [
    "**B. GROCERY DATA PREPROCESSING**"
   ]
  },
  {
   "cell_type": "markdown",
   "metadata": {},
   "source": [
    "In this part we are interested to clean up and categorize the different products from the grocery store. We want to explain what purpose they serve (food, households, & hygien products, pet products etc.). We create a special Grocery dataframe for this purpose."
   ]
  },
  {
   "cell_type": "code",
   "execution_count": null,
   "metadata": {},
   "outputs": [],
   "source": [
    "#we extract the grocery product data which is the main supermarket in the commercial center\n",
    "Grocery= pd.DataFrame(product[product['DEPARTMENT'] == 'GROCERY'])\n",
    "Grocery.head(4)"
   ]
  },
  {
   "cell_type": "markdown",
   "metadata": {},
   "source": [
    "The only product descriptions provided by the Grocery data are few words descriptions found in COMMODITY_DESC and SUB_COMMODITY_DESC columns. These descriptions are not standardized, no categories arise from them. \n",
    "\n",
    "In a first time, we want to categorize the words in the descriptions using different labels (produce, households, technology ...). To do so we create a function called \"LabelizeProduct\". This function first recognizes the different words or words sequences in the description. These words or words sequences are associated with a certain label in a list of shopping items (\"GroceryList.csv\"). In a second time, based on the fuzzywuzzy librairy, the \"LabelizeProduct\" gives a score with comparing the description and the shopping item corresponding to words sequence identified. Finally, the functions keep the label for which the score is the highest. "
   ]
  },
  {
   "cell_type": "code",
   "execution_count": null,
   "metadata": {},
   "outputs": [],
   "source": [
    "\"\"\"\n",
    "LabelizeProduct: This function is able to categorize the products \n",
    "given in data with looking at a labelled list of words. This labelled list of words is a lexique of grocery and shopping words. \n",
    "\n",
    "@input: \n",
    "- threshold is the smallest fuzzywuzzy score accepted to declare a match. \n",
    "    (fuzzywuzzy gives a score of string matching over 100). If score lower than threshold, the item is categorized as 'not found'. \n",
    "- data: the  dataset to categorize, dataCol is the column of the dataset to categorize\n",
    "- wordList: the list of words associated with a Label. wordList : ['ITEM','LABEL']\n",
    "\n",
    "@output: ?\n",
    "\"\"\"\n",
    "def LabelizeProduct(data, dataCol, threshold, wordList) :\n",
    "    #Progress bar: \n",
    "    max_count = len(data.index)\n",
    "    \n",
    "    f = IntProgress(min = 0, max = max_count) # instantiate the bar\n",
    "    \n",
    "    display(f) # display the bar\n",
    "    \n",
    "    Out = pd.DataFrame(index = data.index, columns = ['Item','Ratio','Label'])\n",
    "    \n",
    "    #count to show progression when running (can take few minutes)\n",
    "    loopCounter = 0\n",
    "    \n",
    "    # iterate on the index of the dataset to categorize\n",
    "    for indexCOM in data.index :\n",
    "        \"\"\"\n",
    "        if (loopCounter%100 == 0): \n",
    "            print(loopCounter)\n",
    "        \"\"\"\n",
    "        \n",
    "        # the item to categorize in the dataCol\n",
    "        item = dataCol.loc[indexCOM]\n",
    "        #a vector to keep all the matches within the grocerylist.csv\n",
    "        match = []\n",
    "        #set the output table\n",
    "        Out.Item[indexCOM] = item\n",
    "        Out.Label[indexCOM] = 'not found'\n",
    "        Out.Ratio[indexCOM]= 0\n",
    "        \n",
    "        #iterate on the wordList's items (belonging to a certain label)\n",
    "        for index,label in enumerate(wordList.LABEL) :\n",
    "            \n",
    "            # get all the separated words in the wordList item\n",
    "            line = re.split(' |&|/',wordList.ITEM[index])\n",
    "            \n",
    "            #iterate on the separated words in the wordList item\n",
    "            for word in line:\n",
    "                #manage case (everything in lowercase)\n",
    "                lword= word.lower()\n",
    "                litem = item.lower()\n",
    "\n",
    "                # if we find the word from wordList item, in the description of the data:\n",
    "                # we calculate the fuzzywuzzy ratio(%) and we append the match in the match vector\n",
    "                if litem.find(lword)!= -1:\n",
    "                    ratio = fuzz.token_sort_ratio(str.lower(item), str.lower(lword))\n",
    "                    match.append((indexCOM,line,ratio,label))\n",
    "                    \n",
    "        # if the match vector is not empty, then we attribute the label corresponding to the max ratio \n",
    "        #to the description            \n",
    "        if (match) and (max(match,key=itemgetter(2))[2]>= threshold)  :\n",
    "            Out.Label[indexCOM] = max(match,key=itemgetter(2))[3]\n",
    "            Out.Ratio[indexCOM]= max(match,key=itemgetter(2))[2]\n",
    "            \n",
    "        f.value += 1\n",
    "        loopCounter += 1\n",
    "            \n",
    "    return Out"
   ]
  },
  {
   "cell_type": "markdown",
   "metadata": {},
   "source": [
    "We use our new function \"LabelizeProduct\" to find the main categories in the Grocery department."
   ]
  },
  {
   "cell_type": "code",
   "execution_count": null,
   "metadata": {},
   "outputs": [],
   "source": [
    "LabelledSUB = LabelizeProduct(Grocery, Grocery.SUB_COMMODITY_DESC, 0, ObjectLabels)\n",
    "Labelled = LabelizeProduct(Grocery, Grocery.COMMODITY_DESC, 0, ObjectLabels) "
   ]
  },
  {
   "cell_type": "code",
   "execution_count": null,
   "metadata": {},
   "outputs": [],
   "source": [
    "#Create two columns for the score of each label from the commodity and sub_commodity. \n",
    "Labelled['RatioSUB']= LabelledSUB.Ratio\n",
    "Labelled['LabelSUB']= LabelledSUB.Label"
   ]
  },
  {
   "cell_type": "code",
   "execution_count": null,
   "metadata": {},
   "outputs": [],
   "source": [
    "#Estimate the error: \n",
    "\n",
    "# number of item where SUB_COMMODITY_DESC and COMMODITY_DESC have a different label. (Knowing the the label kept \n",
    "# at the end is the one with the highest score \n",
    "Labelled[Labelled['Label']!= Labelled['LabelSUB']].count()\n",
    "\n",
    "# total of not found for both SUB_COMMODITY_DESC and COMMODITY_DESC\n",
    "Labelled[(Labelled['Label'] == 'not found') & (Labelled['LabelSUB'] == 'not found')].count()\n",
    "\n",
    "# Total number of highest score lower than 20. Most often it is because we compare a small word to \n",
    "# a whole item description (several words).  \n",
    "Labelled[(Labelled['Ratio']<20) & (Labelled['RatioSUB'] < 20)].count()\n",
    "Labelled[(Labelled['Ratio']<20) & (Labelled['RatioSUB'] < 20)]"
   ]
  },
  {
   "cell_type": "markdown",
   "metadata": {},
   "source": [
    "We create a second function \"putLabel\" that sets the label with the highest fuzzy ratio in between the dataset's columns that were categorized (here COMMODITY_DESC and SUB_COMMODITY_DESC) in the main data set (here Grocery). "
   ]
  },
  {
   "cell_type": "code",
   "execution_count": null,
   "metadata": {},
   "outputs": [],
   "source": [
    "\"\"\"\n",
    "putLabel: his is the function that put the Labels in the main data Table. It compares the \n",
    "labels thanks to the fuzzy scores for 2 different labelledData \n",
    "(ex: grocery labelled for COMMODITY and SUB_COMMODITY) and chooses the best one.\n",
    "\n",
    "@input: \n",
    "- LabelledData: ? \n",
    "- data: ?\n",
    "\n",
    "@output:? \n",
    "\"\"\"\n",
    "def putLabel(LabelledData, data) :\n",
    "    #Progress bar: \n",
    "    max_count = len(LabelledData.index)\n",
    "    \n",
    "    f = IntProgress(min = 0, max = max_count) # instantiate the bar\n",
    "    \n",
    "    for line in LabelledData.index : \n",
    "\n",
    "        maxRatio = max(LabelledData.Ratio.loc[line], LabelledData.RatioSUB.loc[line])\n",
    "        if LabelledData.Ratio.loc[line] == maxRatio :\n",
    "            data['LABEL'].loc[line] = LabelledData.Label.loc[line]\n",
    "        \n",
    "        elif LabelledData.RatioSUB.loc[line] == maxRatio :\n",
    "            data['LABEL'].loc[line] = LabelledData.LabelSUB.loc[line]\n",
    "        \n",
    "        f.value += 1\n",
    "    return 0"
   ]
  },
  {
   "cell_type": "code",
   "execution_count": null,
   "metadata": {},
   "outputs": [],
   "source": [
    "#Put the labels in the main data set Grocery and show results: \n",
    "putLabel(Labelled, Grocery)\n",
    "\n",
    "#Plot: \n",
    "LabelCount = Grocery.groupby('LABEL').count()\n",
    "LabelCount.BRAND.sort_values().plot.bar()"
   ]
  },
  {
   "cell_type": "code",
   "execution_count": null,
   "metadata": {},
   "outputs": [],
   "source": [
    "#Save to csv: \n",
    "if not os.path.exists(\"saved_structures\"):\n",
    "    os.makedirs(\"saved_structures\")\n",
    "\n",
    "Grocery.to_csv(\"saved_structures/'Grocery.csv\", sep='\\t', index=False)"
   ]
  },
  {
   "cell_type": "markdown",
   "metadata": {},
   "source": [
    "As we can see in the following table the Grocery store product have been Labelled. Error of classification are possible (even if low rate --> to estimate, HOW ?). Indeed the \"LabelizeProduct\" recognizes words that are provided in the \"wordList\" to the function. The accuracy of the classification relies on the thoroughness of this word list. Moreover if the word list does not contain enough words, the quantity of 'not found' increases drastically."
   ]
  },
  {
   "cell_type": "code",
   "execution_count": null,
   "metadata": {},
   "outputs": [],
   "source": [
    "Grocery.groupby('LABEL').count()"
   ]
  },
  {
   "cell_type": "markdown",
   "metadata": {},
   "source": [
    "**C. LET'S DO IT AGAIN WITH DRUG GM**\n",
    "**Question** what is drug gm? If you're a retailer, the products you sell fall into one of two broad merchandise categories. One is groceries and food products, and the other is general merchandise, which is a broad catchall term for pretty much everything that's not groceries – from hearing aid batteries to major appliances. Some definitions go a bit further in describing who is or is not a general merchandise retailer, excluding things like building supplies or secondhand goods. Link: https://smallbusiness.chron.com/meaning-general-merchandise-68673.html"
   ]
  },
  {
   "cell_type": "code",
   "execution_count": null,
   "metadata": {},
   "outputs": [],
   "source": [
    "#We extract the drug gm product data which is the second main store in the commercial center\n",
    "DrugGM = pd.DataFrame(product[product['DEPARTMENT'] == 'DRUG GM'])\n",
    "DrugGM.head(4)"
   ]
  },
  {
   "cell_type": "code",
   "execution_count": null,
   "metadata": {},
   "outputs": [],
   "source": [
    "#Use LabelizeProduct to label the COMMODITY_DESC column from Drug GM department\n",
    "LabelledDGM = LabelizeProduct(DrugGM, DrugGM.COMMODITY_DESC, 0,ObjectLabels) \n",
    "\n",
    "#Use LabelizeProduct to label the SUB_COMMODITY_DESC column from Drug GM department\n",
    "LabelledSUBDGM = LabelizeProduct(DrugGM, DrugGM.SUB_COMMODITY_DESC, 0,ObjectLabels) "
   ]
  },
  {
   "cell_type": "code",
   "execution_count": null,
   "metadata": {},
   "outputs": [],
   "source": [
    "#Put the labels in the main data set Drug GM\n",
    "LabelledDGM['RatioSUB'] = LabelledSUBDGM.Ratio\n",
    "LabelledDGM['LabelSUB'] = LabelledSUBDGM.Label\n",
    "\n",
    "putLabel(LabelledDGM, DrugGM)"
   ]
  },
  {
   "cell_type": "code",
   "execution_count": null,
   "metadata": {},
   "outputs": [],
   "source": [
    "# show results\n",
    "LabelDGMCount= DrugGM.groupby('LABEL').count()\n",
    "LabelDGMCount.BRAND.sort_values().plot.bar()"
   ]
  },
  {
   "cell_type": "code",
   "execution_count": null,
   "metadata": {},
   "outputs": [],
   "source": [
    "#We would like to estimate the error\n",
    "\n",
    "# number of item where SUB_COMMODITY_DESC and COMMODITY_DESC have a different label. (Knowing the the label kept \n",
    "# at the end is the one with the highest score  \n",
    "LabelledDGM[LabelledDGM['Label']!=LabelledDGM['LabelSUB']].count()\n",
    "\n",
    "# total of not found for both SUB_COMMODITY_DESC and COMMODITY_DESC\n",
    "LabelledDGM[(LabelledDGM['Label'] == 'not found') & (LabelledDGM['LabelSUB'] == 'not found')].count()\n",
    "\n",
    "# Total number of highest score lower than 20. Most often it is because we compare a small word to \n",
    "# a whole item description (several words).  \n",
    "LabelledDGM[(LabelledDGM['Ratio']<20) & (LabelledDGM['RatioSUB'] < 20)].count()\n",
    "LabelledDGM[(LabelledDGM['Ratio']<60) & (LabelledDGM['RatioSUB'] < 20)]"
   ]
  },
  {
   "cell_type": "markdown",
   "metadata": {},
   "source": [
    "**D. ALL THE OTHER SHOPS: DELI, PRODUCE, NUTRITION, COSMETICS etc.**"
   ]
  },
  {
   "cell_type": "markdown",
   "metadata": {},
   "source": [
    "The shop DELI needs also to be categorized. Since all the other shops are specialized the labels are easy to infer. Indeed it corresponds to the shop specialization. We also put the computed Label in the main dataset product (Grocery, Drug GM and DELI). "
   ]
  },
  {
   "cell_type": "code",
   "execution_count": null,
   "metadata": {},
   "outputs": [],
   "source": [
    "# categorize the data in DELI\n",
    "DELI = product[product['DEPARTMENT'] == 'DELI']\n",
    "LabelledDELI = LabelizeProduct(DELI, DELI.COMMODITY_DESC, 0, ObjectLabels)\n",
    "LabelledSUBDELI = LabelizeProduct(DELI, DELI.SUB_COMMODITY_DESC, 0, ObjectLabels)"
   ]
  },
  {
   "cell_type": "code",
   "execution_count": null,
   "metadata": {},
   "outputs": [],
   "source": [
    "#add DELI labels in the product dataframe and show results\n",
    "LabelledDELI['RatioSUB'] = LabelledSUBDELI.Ratio\n",
    "LabelledDELI['LabelSUB'] = LabelledSUBDELI.Label\n",
    "putLabel(LabelledDELI, DELI)"
   ]
  },
  {
   "cell_type": "code",
   "execution_count": null,
   "metadata": {},
   "outputs": [],
   "source": [
    "DELILabelCount = DELI.groupby('LABEL').count()\n",
    "DELILabelCount.BRAND.sort_values().plot.bar()"
   ]
  },
  {
   "cell_type": "code",
   "execution_count": null,
   "metadata": {},
   "outputs": [],
   "source": [
    "#We standardize some labels for the seek of the vizualization. \n",
    "# I had trouble with the label setting in the main data set product. This is a shitty implementation but working. \n",
    "#I have to figure it out\n",
    "\n",
    "product.DEPARTMENT.loc[product['DEPARTMENT']== 'DAIRY DELI'] = 'DELI'\n",
    "\n",
    "product.LABEL.loc[product['DEPARTMENT']== 'MEAT'] = 'MEAT & SEAFOOD'\n",
    "product.LABEL.loc[product['DEPARTMENT']== 'MEAT-PCKGD'] = 'MEAT & SEAFOOD'\n",
    "product.LABEL.loc[product['DEPARTMENT']== 'SEAFOOD'] = 'MEAT & SEAFOOD'\n",
    "product.LABEL.loc[product['DEPARTMENT']== 'SEAFOOD-PCKGD'] = 'MEAT & SEAFOOD'\n",
    "product.LABEL.loc[product['DEPARTMENT']== 'FROZEN GROCERY'] = 'FROZEN'\n",
    "product.LABEL.loc[product['DEPARTMENT']== 'PHARMACY SUPPLY'] = 'PHARMACY'\n",
    "product.LABEL.loc[product['DEPARTMENT']== 'PORK'] = 'MEAT & SEAFOOD'\n",
    "product.LABEL.loc[product['DEPARTMENT']== 'RX'] = 'PHARMACY'\n",
    "product.LABEL.loc[product['DEPARTMENT']== 'HOUSEWARES'] = 'not found'\n",
    "product.LABEL.loc[product['DEPARTMENT']== 'ELECT &PLUMBING'] = 'not found'\n",
    "product.LABEL.loc[product['DEPARTMENT']== 'HBC'] = 'not found'\n",
    "product.LABEL.loc[product['DEPARTMENT']== 'DELI/SNACK BAR'] = 'not found'\n",
    "product.LABEL.loc[product['DEPARTMENT']== 'CHARITABLE CONT'] = 'not found'\n",
    "product.LABEL.loc[product['DEPARTMENT']== 'PROD-WHS SALES'] = 'not found'\n",
    "product.LABEL.loc[product['DEPARTMENT']== 'GM MERCH EXP'] = 'not found'\n",
    "product.LABEL.loc[product['DEPARTMENT']== 'CNTRL/STORE SUP'] = 'not found'\n",
    "product.LABEL.loc[product['DEPARTMENT']== 'GRO BAKERY'] = 'BAKERY'\n",
    "product.LABEL.loc[product['DEPARTMENT']== 'PASTRY'] = 'BAKERY'\n",
    "product.LABEL.loc[product['DEPARTMENT']== 'AUTOMOTIVE'] = 'STATIONERY'\n",
    "product.LABEL.loc[product['DEPARTMENT']== 'POSTAL CENTER'] = 'FAST FOOD & SNACKS'\n",
    "product.LABEL.loc[product['DEPARTMENT']== 'CHEF SHOPPE'] = 'FAST FOOD & SNACKS'\n",
    "product.LABEL.loc[product['DEPARTMENT']== 'TRAVEL & LEISUR'] = 'PRODUCE'\n",
    "product.LABEL.loc[product['DEPARTMENT']== 'SALAD BAR'] = 'RESTAURANT'\n",
    "product.LABEL.loc[product['DEPARTMENT']== 'GARDEN CENTER'] = 'FLORAL'\n",
    "product.LABEL.loc[product['DEPARTMENT']== 'KIOSK-GAS'] = 'GASOLINE'\n",
    "\n",
    "product.LABEL.loc[product['DEPARTMENT'] == 'GROCERY'] = Grocery.LABEL\n",
    "product.LABEL.loc[product['DEPARTMENT'] == 'DRUG GM'] = DrugGM.LABEL\n",
    "product.LABEL.loc[product['DEPARTMENT'] == 'DELI'] = DELI.LABEL\n",
    "\n",
    "product.LABEL.unique()"
   ]
  },
  {
   "cell_type": "markdown",
   "metadata": {},
   "source": [
    "We produce a final plot to show our results."
   ]
  },
  {
   "cell_type": "code",
   "execution_count": null,
   "metadata": {},
   "outputs": [],
   "source": [
    "ProductLabels = product.groupby('LABEL').count()\n",
    "ProductLabels2 = product.groupby(by = ['DEPARTMENT','LABEL']).count()\n",
    "ProductDepartment = product.groupby(by = ['LABEL','DEPARTMENT']).count()\n",
    "#ProductLabels2 = ProductLabels2.drop(ProductLabels2[ProductLabels2['BRAND'] <=10].index)\n",
    "\n",
    "#palette : \n",
    "my_palette = [\"maroon\",\"firebrick\",\"crimson\", \"orangered\",\"chocolate\", \"peru\",\"sandybrown\",\"rosybrown\",\"darkturquoise\"\n",
    "        ,\"c\",\"cadetblue\",\"powderblue\",\"aquamarine\",\"springgreen\",\"limegreen\",\"green\",\"darkkhaki\"]\n",
    "sns.set_palette(my_palette)\n",
    "\n",
    "\n",
    "fig = plt.figure(figsize = (20,8))\n",
    "\n",
    "# Divide the figure into a 2x1 grid, and give  the first section\n",
    "ax1 = fig.add_subplot(121)\n",
    "\n",
    "# Divide the figure into a 2x1 grid, and give the second section\n",
    "ax2 = fig.add_subplot(122)\n",
    "\n",
    "ProductDepartment.BRAND[ProductDepartment['BRAND'] > 500].unstack().plot.bar(color = sns.color_palette(\"Paired\"),ax = ax1,stacked = True)\n",
    "ProductLabels2.loc[['DRUG GM','GROCERY','DELI']].BRAND.unstack().plot.bar(color = sns.color_palette(),ax = ax2,stacked = True)\n",
    "\n",
    "\n",
    "fig.subplots_adjust(hspace = 1.3)\n",
    "fig.subplots_adjust(wspace = 0.2)\n"
   ]
  },
  {
   "cell_type": "code",
   "execution_count": null,
   "metadata": {},
   "outputs": [],
   "source": [
    "#Save to csv: \n",
    "if not os.path.exists(\"saved_structures\"):\n",
    "    os.makedirs(\"saved_structures\")\n",
    "product.to_csv(\"saved_structures/hh_spending.csv\", sep='\\t', index=False)\n",
    "\n",
    "product.to_csv('updated_prod.csv', sep = '\\t', index = 'False')\n",
    "\n",
    "product_csv = pd.read_csv('updated_prod.csv', sep = '\\t',)\n",
    "product_csv"
   ]
  },
  {
   "cell_type": "markdown",
   "metadata": {},
   "source": [
    "In the left barplot we observe where we can find the different product types. In x-axis displays the product type and the color label gives the shop (DEPARTMENT) where the product can be found. For example we can see that the households product are mainly found in the drug store (DRUG GM), and most of the meat and seafood products are found in the meat and meat-pckgd shops. \n",
    "\n",
    "The right barplot shows the proportions of the different products types, that we can find in the \"unspecialized\" shops (Deli, the grocery, and the drug store). For example we can see that Deli sales only food products, whereas the drug store proposes an important variety of household products."
   ]
  }
 ],
 "metadata": {
  "kernelspec": {
   "display_name": "Python 3",
   "language": "python",
   "name": "python3"
  },
  "language_info": {
   "codemirror_mode": {
    "name": "ipython",
    "version": 3
   },
   "file_extension": ".py",
   "mimetype": "text/x-python",
   "name": "python",
   "nbconvert_exporter": "python",
   "pygments_lexer": "ipython3",
   "version": "3.7.4"
  }
 },
 "nbformat": 4,
 "nbformat_minor": 2
}
