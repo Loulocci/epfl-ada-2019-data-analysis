{
 "cells": [
  {
   "cell_type": "markdown",
   "metadata": {},
   "source": [
    "# PRODUCTS"
   ]
  },
  {
   "cell_type": "markdown",
   "metadata": {},
   "source": [
    "**A. CLEAN UP AND PREPARE PRODUCT DATA**"
   ]
  },
  {
   "cell_type": "markdown",
   "metadata": {},
   "source": [
    "A.1 Load and plot"
   ]
  },
  {
   "cell_type": "code",
   "execution_count": null,
   "metadata": {},
   "outputs": [],
   "source": [
    "%matplotlib inline\n",
    "import pandas as pd\n",
    "\n",
    "import matplotlib.pyplot as plt\n",
    "\n",
    "import os"
   ]
  },
  {
   "cell_type": "code",
   "execution_count": null,
   "metadata": {},
   "outputs": [],
   "source": [
    "os.getcwd()"
   ]
  },
  {
   "cell_type": "code",
   "execution_count": null,
   "metadata": {},
   "outputs": [],
   "source": [
    "#load the data\n",
    "hh_demographic = pd.read_csv('../data/dunnhumby_complete_csv/hh_demographic.csv', sep = ',')\n",
    "\n",
    "transaction_data = pd.read_csv('../data/dunnhumby_complete_csv/transaction_data.csv', sep = ',')\n",
    "\n",
    "product = pd.read_csv('../data/dunnhumby_complete_csv/product.csv', sep = ',')"
   ]
  },
  {
   "cell_type": "code",
   "execution_count": null,
   "metadata": {},
   "outputs": [],
   "source": [
    "product.head(4)"
   ]
  },
  {
   "cell_type": "markdown",
   "metadata": {},
   "source": [
    "We reorder the manufacturer and department order :"
   ]
  },
  {
   "cell_type": "code",
   "execution_count": null,
   "metadata": {},
   "outputs": [],
   "source": [
    "ordered_manufacturer= product.MANUFACTURER.astype(int).sort_values()\n",
    "ordered_manufacturer= ordered_manufacturer.unique()\n",
    "\n",
    "product['MANUFACTURER'] = pd.Categorical(product['MANUFACTURER'],\n",
    "                      ordered = True,\n",
    "                      categories = ordered_manufacturer)\n",
    "\n",
    "print ('The order of the manufacturer categories is :', ordered_manufacturer)"
   ]
  },
  {
   "cell_type": "code",
   "execution_count": null,
   "metadata": {},
   "outputs": [],
   "source": [
    "ordered_department= ['GROCERY','FROZEN GROCERY','GRO BAKERY','PASTRY',\n",
    "        'SEAFOOD','SEAFOOD-PCKGD','MEAT', 'MEAT-PCKGD','MEAT-WHSE','PORK','SPIRITS','NUTRITION',\n",
    "       'PRODUCE','CHEF SHOPPE','RESTAURANT','SALAD BAR','DELI', 'DAIRY DELI','DELI/SNACK BAR',\n",
    "    'DRUG GM','COSMETICS','PHARMACY SUPPLY','GARDEN CENTER','FLORAL', 'TRAVEL & LEISUR', \n",
    "    'POSTAL CENTER', 'PHOTO', 'VIDEO','VIDEO RENTAL','TOYS','HOUSEWARES', \n",
    "    'KIOSK-GAS', 'ELECT &PLUMBING','AUTOMOTIVE','GM MERCH EXP','COUP/STR & MFG', \n",
    "     'CHARITABLE CONT', 'RX','PROD-WHS SALES', 'HBC','CNTRL/STORE SUP','MISC. TRANS.', 'MISC SALES TRAN',' ']\n",
    "\n",
    "product['DEPARTMENT'] = pd.Categorical(product['DEPARTMENT'],\n",
    "                      ordered = True,\n",
    "                      categories = ordered_department)\n",
    "\n",
    "print ('The order of the department categories is :', ordered_department)"
   ]
  },
  {
   "cell_type": "code",
   "execution_count": null,
   "metadata": {},
   "outputs": [],
   "source": [
    "department= product.groupby(['DEPARTMENT']).count()\n",
    "\n",
    "fig = plt.figure(figsize=(20,10))\n",
    "\n",
    "# Divide the figure into a 2x1 grid, and give me the first section\n",
    "ax1 = fig.add_subplot(231)\n",
    "\n",
    "# Divide the figure into a 2x1 grid, and give me the second section\n",
    "ax2 = fig.add_subplot(232)\n",
    "\n",
    "ax3 = fig.add_subplot(233)\n",
    "\n",
    "ax4 = fig.add_subplot(234)\n",
    "\n",
    "ax5 = fig.add_subplot(235)\n",
    "\n",
    "ax6 = fig.add_subplot(236)\n",
    "\n",
    "department[(department.BRAND>0) & (department.BRAND<=2)].BRAND.sort_values().plot.bar(ax=ax1)\n",
    "department[(department.BRAND>2) & (department.BRAND<=5)].BRAND.sort_values().plot.bar(ax=ax2)\n",
    "department[(department.BRAND>5) & (department.BRAND<=20)].BRAND.sort_values().plot.bar(ax=ax3)\n",
    "department[(department.BRAND>20) & (department.BRAND<=500)].BRAND.sort_values().plot.bar(ax=ax4)\n",
    "department[(department.BRAND>500) & (department.BRAND<=4000)].BRAND.sort_values().plot.bar(ax=ax5)\n",
    "department[department.BRAND>4000].BRAND.sort_values().plot.bar(ax=ax6)\n",
    "\n",
    "fig.subplots_adjust(hspace=1)\n",
    "fig.subplots_adjust(wspace=0.4)\n"
   ]
  },
  {
   "cell_type": "markdown",
   "metadata": {},
   "source": [
    "**We look at the product data and try to understand what they stand for:<br/>**\n",
    " 1) MEAT-PCKGD and SEAFOOD-PCKGD are prepared meat or seafood meals.<br/>\n",
    " 2) DRUG GM : the overall transactions from the small entrance DRUGSTORE when going to the supermarket.<br/>\n",
    " 3) GROCERY : the overall product bought in the grocery store, mostly food and some hygien and cleaning products.<br/> "
   ]
  },
  {
   "cell_type": "code",
   "execution_count": null,
   "metadata": {},
   "outputs": [],
   "source": [
    "# we try to understand what MEAT-PCKGD and SEAFOOD-PCKGD are : we can see that it is prepared meat or seafood meals.\n",
    "product[product['DEPARTMENT'] == 'MEAT-PCKGD'].SUB_COMMODITY_DESC.unique()\n",
    "product[product['DEPARTMENT'] == 'SEAFOOD-PCKGD'].SUB_COMMODITY_DESC.unique()\n",
    "\n",
    "# we try to understand what DRUG MG stands for : unfortunatly we can see that it contains products from a lot \n",
    "# of different categories like : food, hygien product, stationery products, toys etc. What I understand from it \n",
    "#is that it corresponds to the overall transactions from the small entrance DRUGSTORE when going to the supermarket \n",
    "product[product['DEPARTMENT'] == 'DRUG GM'].SUB_COMMODITY_DESC.unique()\n",
    "\n",
    "product[product['DEPARTMENT'] == 'GROCERY'].COMMODITY_DESC.unique()\n"
   ]
  },
  {
   "cell_type": "code",
   "execution_count": null,
   "metadata": {},
   "outputs": [],
   "source": [
    "#we extract the grocery product data which is the main supermarket in the commercial center\n",
    "Grocery= pd.DataFrame(product[product['DEPARTMENT'] == 'GROCERY'])\n",
    "Grocery.head()"
   ]
  },
  {
   "cell_type": "code",
   "execution_count": null,
   "metadata": {},
   "outputs": [],
   "source": [
    "split = Grocery['COMMODITY_DESC'].str.split(' |\\/').tolist()\n",
    "words = pd.DataFrame.from_records(split, index= Grocery.index, columns=[\"w1\",\"w2\",\"w3\",\"w4\",\"w5\",\"w6\"])\n",
    "words.groupby('w1').count()"
   ]
  },
  {
   "cell_type": "code",
   "execution_count": null,
   "metadata": {},
   "outputs": [],
   "source": [
    "words.w1.unique()"
   ]
  },
  {
   "cell_type": "code",
   "execution_count": null,
   "metadata": {},
   "outputs": [],
   "source": [
    "FoodW1 = ['FRZN', 'FRUIT', 'COOKIES', 'SPICES','CHEESE','COFFEE','BAKED', 'VEGETABLES','CONDIMENTS', 'BAKING',\n",
    "    'PICKLE','SOUP','FROZEN', 'EGGS','REFRGRATD', 'HOT', 'COLD', 'SUGARS', 'SEAFOOD','CANNED','BEANS', 'CRACKERS',\n",
    "     'BUTTER', 'WATER','MILK','TEAS', 'PASTA', 'MOLASSES','MEAT', 'SALD', 'LIQUOR', 'SNACK', 'BEERS', 'YOGURT',\n",
    "    'COCOA', 'FLOUR', 'SYRUPS','OLIVES','ISOTONIC']\n",
    "        \n",
    "OtherW1 = ['ICE','PNT','AIR','SHORTENING','PAPER','HISPANIC','DINNER','HOUSEHOLD','FD','DRY','FLUID','BAG',\n",
    "         'CONVENIENT', 'SOFT','WAREHOUSE','PWDR','MISC.','BLEACH','DOMESTIC',\n",
    "       'MISC', 'COUPON', 'IMPORTED', 'RESTRICTED', 'NEW','BOTTLE']        \n",
    "\n",
    "PetW1 = ['CAT','DOG','PET','BIRD']\n",
    "\n",
    "SanitaryW1 = ['FACIAL','LAUNDRY','BATH','DISHWASH']\n"
   ]
  },
  {
   "cell_type": "code",
   "execution_count": null,
   "metadata": {},
   "outputs": [],
   "source": [
    "words.w2.unique()"
   ]
  },
  {
   "cell_type": "code",
   "execution_count": null,
   "metadata": {},
   "outputs": [],
   "source": [
    "FoodW2 = ['BREAD','SAUCES', 'VEGETABLE','FRUITS', 'WRAPS','SWEET','RELISH','PIZZA', 'DOUGH', 'CEREAL', \n",
    "        'SWEETNERS', 'JUICES', 'SNACKS','BRKFST', 'DRINKS', 'MEAT','NOODLES', 'SAUCE', 'FOOD', 'SYRUP','PIE',\n",
    "        'NUTS', 'ALES','FOODS','BREAKFAST','DAIRY','TOPPINGS','POTATOES','CHICKEN', 'WINE','DIET', 'SEED', \n",
    "        'SEAFOOD']\n",
    "\n",
    "OtherW2 =['ICE', '-', 'CONES', '&', 'BTR', 'CREAM','OIL','HOUSEWARES','MXS:DRY','NEEDS','MIX', \n",
    "          'MIXES','BN', 'TISS','MISC','BY-PRODUCTS','JCE', 'ADDITIVES','DRSNG','NOVELTIES', 'CRYSTL', 'AGE', \n",
    "          'DEPOSITS']\n",
    "\n",
    "SanitaryW2=['CARE','CLEANG','DETERGENTS','TISSUES','TOWELS','LITTER']"
   ]
  },
  {
   "cell_type": "code",
   "execution_count": null,
   "metadata": {},
   "outputs": [],
   "source": [
    "words.w3.unique()"
   ]
  },
  {
   "cell_type": "code",
   "execution_count": null,
   "metadata": {},
   "outputs": [],
   "source": [
    "FoodW3 = ['JELLY', 'MILK', 'BUNS', 'VEG','DESSERTS', 'CANNED','MEAT','FOODS','PASTA',\n",
    "       'PANCAKE', 'SNDWCH', 'DOUGH', 'DRNKS', 'WTR', 'GRAVY', 'DRNK',\n",
    "       'MEALS']\n",
    "\n",
    "OtherW3 =['SHELF', 'EXTRACTS','NEEDS',\n",
    "       'BAGS','PKLD', 'PRODUCTS', 'GOODS', 'DNR','BKD', 'WHLSM','CARBONATED','CONC','SUPPLIES', 'ITEMS']"
   ]
  },
  {
   "cell_type": "code",
   "execution_count": null,
   "metadata": {},
   "outputs": [],
   "source": [
    "Grocery['IsFood'] = False\n",
    "Grocery['IsPet'] = False\n",
    "Grocery['IsSanitary'] = False\n",
    "Grocery['IsOther'] = False"
   ]
  },
  {
   "cell_type": "code",
   "execution_count": null,
   "metadata": {},
   "outputs": [],
   "source": [
    "Grocery.head(4)"
   ]
  },
  {
   "cell_type": "code",
   "execution_count": null,
   "metadata": {},
   "outputs": [],
   "source": [
    "words['IsFoodW1'] = words.w1.isin(FoodW1)\n",
    "words['IsSanitaryW1'] = words.w1.isin(SanitaryW1)\n",
    "words['IsPetW1'] = words.w1.isin(PetW1)\n",
    "words['IsOtherW1'] = words.w1.isin(OtherW1)\n",
    "\n",
    "words['IsFoodW2'] = words.w2.isin(FoodW2)\n",
    "words['IsSanitaryW2'] = words.w2.isin(SanitaryW2)\n",
    "words['IsOtherW2'] = words.w2.isin(OtherW2)\n",
    "\n",
    "words['IsFoodW3'] = words.w3.isin(FoodW3)\n",
    "words['IsOtherW3'] = words.w3.isin(OtherW3)\n"
   ]
  },
  {
   "cell_type": "code",
   "execution_count": null,
   "metadata": {},
   "outputs": [],
   "source": [
    "words.head()"
   ]
  },
  {
   "cell_type": "code",
   "execution_count": null,
   "metadata": {},
   "outputs": [],
   "source": [
    "# a loop to check if we have non concordance. Everything seems fine. With looking at the three first words \n",
    "# we can determine the type of product : food, pet, sanitary or other.\n",
    "\n",
    "#uncomment to check :\n",
    "\n",
    "#for i in words.index : \n",
    "#    if (words['IsOtherW1'].loc[i]) and (words['IsOtherW2'].loc[i]) and (words['IsOtherW3'].loc[i]) :\n",
    "#        print(words.loc[i])"
   ]
  },
  {
   "cell_type": "code",
   "execution_count": null,
   "metadata": {},
   "outputs": [],
   "source": [
    "#now we need to fill the Grocery table with the type of elements :\n",
    "\n",
    "for i in Grocery.index : \n",
    "    if (words['IsOtherW1'].loc[i]) and (words['IsOtherW2'].loc[i]) and (words['IsOtherW3'].loc[i]) :\n",
    "        Grocery.IsFood.loc[i] = False\n",
    "        Grocery.IsPet.loc[i] = False\n",
    "        Grocery.IsSanitary.loc[i] = False\n",
    "        Grocery.IsOther.loc[i] = True\n",
    "        \n",
    "    elif (words['IsPetW1'].loc[i]) :\n",
    "        Grocery.IsFood.loc[i] = False\n",
    "        Grocery.IsPet.loc[i] = True\n",
    "        Grocery.IsSanitary.loc[i] = False\n",
    "        Grocery.IsOther.loc[i] = False\n",
    "    \n",
    "    elif (words['IsFoodW1'].loc[i]) or (words['IsFoodW2'].loc[i]) or (words['IsFoodW3'].loc[i]) :\n",
    "        Grocery.IsFood.loc[i] = True\n",
    "        Grocery.IsPet.loc[i] = False\n",
    "        Grocery.IsSanitary.loc[i] = False\n",
    "        Grocery.IsOther.loc[i] = False\n",
    "        \n",
    "    elif (words['IsSanitaryW1'].loc[i]) or (words['IsSanitaryW2'].loc[i]):\n",
    "        Grocery.IsFood.loc[i] = False\n",
    "        Grocery.IsPet.loc[i] = False\n",
    "        Grocery.IsSanitary.loc[i] = True\n",
    "        Grocery.IsOther.loc[i] = False"
   ]
  },
  {
   "cell_type": "code",
   "execution_count": null,
   "metadata": {},
   "outputs": [],
   "source": [
    "Grocery.head(30)"
   ]
  },
  {
   "cell_type": "code",
   "execution_count": null,
   "metadata": {},
   "outputs": [],
   "source": [
    "Grocery.groupby('IsFood').count()"
   ]
  }
 ],
 "metadata": {
  "kernelspec": {
   "display_name": "Python 3",
   "language": "python",
   "name": "python3"
  },
  "language_info": {
   "codemirror_mode": {
    "name": "ipython",
    "version": 3
   },
   "file_extension": ".py",
   "mimetype": "text/x-python",
   "name": "python",
   "nbconvert_exporter": "python",
   "pygments_lexer": "ipython3",
   "version": "3.7.4"
  }
 },
 "nbformat": 4,
 "nbformat_minor": 2
}
