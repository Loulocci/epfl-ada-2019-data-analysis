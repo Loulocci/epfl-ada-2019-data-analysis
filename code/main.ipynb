{
 "cells": [
  {
   "cell_type": "markdown",
   "metadata": {},
   "source": [
    "# ADA Project : Dunnhumby dataset, Tell me what you buy and I will tell you who you are\n",
    "\n"
   ]
  },
  {
   "cell_type": "markdown",
   "metadata": {
    "toc": true
   },
   "source": [
    "<h1>Table of Contents<span class=\"tocSkip\"></span></h1>\n",
    "<div class=\"toc\"><ul class=\"toc-item\"><li><span><a href=\"#Abstract\" data-toc-modified-id=\"Abstract-1\"><span class=\"toc-item-num\">1&nbsp;&nbsp;</span>Abstract</a></span></li><li><span><a href=\"#Data-clean-up-and-overview-of-information-available:\" data-toc-modified-id=\"Data-clean-up-and-overview-of-information-available:-2\"><span class=\"toc-item-num\">2&nbsp;&nbsp;</span>Data clean up and overview of information available:</a></span><ul class=\"toc-item\"><li><span><a href=\"#Demographic-data:\" data-toc-modified-id=\"Demographic-data:-2.1\"><span class=\"toc-item-num\">2.1&nbsp;&nbsp;</span>Demographic data:</a></span></li><li><span><a href=\"#Product-data:\" data-toc-modified-id=\"Product-data:-2.2\"><span class=\"toc-item-num\">2.2&nbsp;&nbsp;</span>Product data:</a></span><ul class=\"toc-item\"><li><ul class=\"toc-item\"><li><span><a href=\"#Number-of-products:\" data-toc-modified-id=\"Number-of-products:-2.2.0.1\"><span class=\"toc-item-num\">2.2.0.1&nbsp;&nbsp;</span>Number of products:</a></span></li><li><span><a href=\"#Product-departments:\" data-toc-modified-id=\"Product-departments:-2.2.0.2\"><span class=\"toc-item-num\">2.2.0.2&nbsp;&nbsp;</span>Product departments:</a></span></li></ul></li></ul></li><li><span><a href=\"#Household-data:\" data-toc-modified-id=\"Household-data:-2.3\"><span class=\"toc-item-num\">2.3&nbsp;&nbsp;</span>Household data:</a></span><ul class=\"toc-item\"><li><span><a href=\"#Demographic-categories:\" data-toc-modified-id=\"Demographic-categories:-2.3.1\"><span class=\"toc-item-num\">2.3.1&nbsp;&nbsp;</span>Demographic categories:</a></span></li><li><span><a href=\"#Household-composition-inconsistencies:\" data-toc-modified-id=\"Household-composition-inconsistencies:-2.3.2\"><span class=\"toc-item-num\">2.3.2&nbsp;&nbsp;</span>Household composition inconsistencies:</a></span></li><li><span><a href=\"#Demographic-distributions:\" data-toc-modified-id=\"Demographic-distributions:-2.3.3\"><span class=\"toc-item-num\">2.3.3&nbsp;&nbsp;</span>Demographic distributions:</a></span></li></ul></li><li><span><a href=\"#Transaction-data:\" data-toc-modified-id=\"Transaction-data:-2.4\"><span class=\"toc-item-num\">2.4&nbsp;&nbsp;</span>Transaction data:</a></span><ul class=\"toc-item\"><li><span><a href=\"#Quick-overview:\" data-toc-modified-id=\"Quick-overview:-2.4.1\"><span class=\"toc-item-num\">2.4.1&nbsp;&nbsp;</span>Quick overview:</a></span><ul class=\"toc-item\"><li><span><a href=\"#Number-of-total-transactions:\" data-toc-modified-id=\"Number-of-total-transactions:-2.4.1.1\"><span class=\"toc-item-num\">2.4.1.1&nbsp;&nbsp;</span>Number of total transactions:</a></span></li><li><span><a href=\"#Number-of-total-purchase-occasions:\" data-toc-modified-id=\"Number-of-total-purchase-occasions:-2.4.1.2\"><span class=\"toc-item-num\">2.4.1.2&nbsp;&nbsp;</span>Number of total purchase occasions:</a></span></li><li><span><a href=\"#Number-of-households-in-transaction-dataset:\" data-toc-modified-id=\"Number-of-households-in-transaction-dataset:-2.4.1.3\"><span class=\"toc-item-num\">2.4.1.3&nbsp;&nbsp;</span>Number of households in transaction dataset:</a></span></li></ul></li><li><span><a href=\"#Favored-product-departments-and-labels:\" data-toc-modified-id=\"Favored-product-departments-and-labels:-2.4.2\"><span class=\"toc-item-num\">2.4.2&nbsp;&nbsp;</span>Favored product departments and labels:</a></span></li><li><span><a href=\"#Shopping-frequencies:\" data-toc-modified-id=\"Shopping-frequencies:-2.4.3\"><span class=\"toc-item-num\">2.4.3&nbsp;&nbsp;</span>Shopping frequencies:</a></span></li><li><span><a href=\"#Participation-rate-in-the-study:\" data-toc-modified-id=\"Participation-rate-in-the-study:-2.4.4\"><span class=\"toc-item-num\">2.4.4&nbsp;&nbsp;</span>Participation rate in the study:</a></span></li><li><span><a href=\"#Household-spending:\" data-toc-modified-id=\"Household-spending:-2.4.5\"><span class=\"toc-item-num\">2.4.5&nbsp;&nbsp;</span>Household spending:</a></span><ul class=\"toc-item\"><li><span><a href=\"#Yearly-spending:\" data-toc-modified-id=\"Yearly-spending:-2.4.5.1\"><span class=\"toc-item-num\">2.4.5.1&nbsp;&nbsp;</span>Yearly spending:</a></span></li><li><span><a href=\"#Weekly-spending:\" data-toc-modified-id=\"Weekly-spending:-2.4.5.2\"><span class=\"toc-item-num\">2.4.5.2&nbsp;&nbsp;</span>Weekly spending:</a></span></li></ul></li><li><span><a href=\"#Average-spending-versus-income:\" data-toc-modified-id=\"Average-spending-versus-income:-2.4.6\"><span class=\"toc-item-num\">2.4.6&nbsp;&nbsp;</span>Average spending versus income:</a></span></li><li><span><a href=\"#&quot;Loyal&quot;-shoppers-?\" data-toc-modified-id=\"&quot;Loyal&quot;-shoppers-?-2.4.7\"><span class=\"toc-item-num\">2.4.7&nbsp;&nbsp;</span>\"Loyal\" shoppers ?</a></span></li></ul></li></ul></li><li><span><a href=\"#Shopping-trends-and-correlations:\" data-toc-modified-id=\"Shopping-trends-and-correlations:-3\"><span class=\"toc-item-num\">3&nbsp;&nbsp;</span>Shopping trends and correlations:</a></span></li></ul></div>"
   ]
  },
  {
   "cell_type": "markdown",
   "metadata": {},
   "source": [
    "## Abstract\n",
    "We would like to analyse the Dunnhumby dataset. Living in a time and age where every piece of our data is stored and analysed; and being active consumers ourselves, we would like to see what informations retail chains can gather and infer about us knowing only our shopping habits. As transactions over two years of several households and their basic demographic profiles are provided, we want to see if there are any links and correlations between specific demographics (e.g. marital status, income, number of children, etc) and purchase patterns. Furthermore, if time permits it, we want to see if we can create a model predicting a consumer demographic profile from their shopping. Thus, we would like to see how \"easy\" and how precise it actually is for retailers to infer who their customer is by what they buy and target them with specific marketing. Basically, we want to know how much of a target we actually\n",
    "are."
   ]
  },
  {
   "cell_type": "markdown",
   "metadata": {},
   "source": [
    "**Research questions:** \n",
    "- What are the main shopping trends that we can identify in this data ?\n",
    "- Can we relate shopping trends to specific demographic parameters ?\n",
    "- Can we predict some of these demographic parameters (age, marital statute etc) with knowing the household's habbits?\n",
    "- In the opposite way, can we predict household consumption behaviour with knowing its characteristics?\n",
    "- What accuracy in consumption prediction can the retailer obtain from a simple profile information?"
   ]
  },
  {
   "cell_type": "markdown",
   "metadata": {},
   "source": [
    "## Data clean up and overview of information available:"
   ]
  },
  {
   "cell_type": "code",
   "execution_count": 1,
   "metadata": {},
   "outputs": [],
   "source": [
    "%matplotlib inline\n",
    "import pandas as pd\n",
    "import numpy as np\n",
    "import matplotlib.pyplot as plt\n",
    "from pylab import *\n",
    "import os\n",
    "import seaborn as sns\n",
    "from scipy import stats\n",
    "\n",
    "import locale\n",
    "locale.setlocale(locale.LC_ALL, '')\n",
    "\n",
    "#Functions we created:\n",
    "from modules import transaction_fx as trns\n",
    "from modules import plot_functions as plt_fx\n",
    "from modules import dem_fx\n",
    "\n",
    "os.getcwd()\n",
    "\n",
    "#Allows reload of modules:\n",
    "%load_ext autoreload\n",
    "%autoreload"
   ]
  },
  {
   "cell_type": "markdown",
   "metadata": {},
   "source": [
    "The Dunnhumby dataset contains household level transactions over two years from a group of 2,500 households who are frequent shoppers at a retailer. It contains all of each households' purchases, not just those from a limited number of categories. For certain households, demographic information as well as direct marketing contact history are included. We have a look at a few samples from each table: \n",
    "As we said in the description of our project, we are going to concentrate on 3 of the 8 tables :\n",
    "- hh_demographic.csv\n",
    "- transaction_data.csv\n",
    "- product.csv\n",
    "In this first step, we want to load the data, and prepare it for the analysis"
   ]
  },
  {
   "cell_type": "code",
   "execution_count": 2,
   "metadata": {},
   "outputs": [],
   "source": [
    "#load the data\n",
    "hh_demographic = pd.read_csv(\n",
    "    '../data/dunnhumby_complete_csv/hh_demographic.csv', sep=',')\n",
    "\n",
    "transaction_data = pd.read_csv(\n",
    "    '../data/dunnhumby_complete_csv/transaction_data.csv', sep=',')\n",
    "\n",
    "product = pd.read_csv('../data/dunnhumby_complete_csv/product.csv', sep=',')"
   ]
  },
  {
   "cell_type": "markdown",
   "metadata": {},
   "source": [
    "### Demographic data: \n",
    "Demographic info for a certain portion of households. Contains only the data for 801 households of 2500 though. The rest could not be aquiered. The attributes of the dataset are the following: \n",
    " \n",
    "- HOUSEHOLD_KEY : identifies each household, **unique**\n",
    "- AGE_DES: estimated age range\n",
    "- MARITAL_STATUS_CODE: A (Married), B (Single), C (Unknown)\n",
    "- INCOME_DESC : Household income\n",
    "- HOMEOWNER_DESC: Homeowner, renter, etc\n",
    "- HH_COMP_DEC: Household composition\n",
    "- HOUSEHOLD_SIZE_DESC: Size of household up to 5+ \n",
    "- KID_CATEGORY_DESC: Number of children present up to 3+ "
   ]
  },
  {
   "cell_type": "code",
   "execution_count": 3,
   "metadata": {},
   "outputs": [
    {
     "data": {
      "text/html": [
       "<div>\n",
       "<style scoped>\n",
       "    .dataframe tbody tr th:only-of-type {\n",
       "        vertical-align: middle;\n",
       "    }\n",
       "\n",
       "    .dataframe tbody tr th {\n",
       "        vertical-align: top;\n",
       "    }\n",
       "\n",
       "    .dataframe thead th {\n",
       "        text-align: right;\n",
       "    }\n",
       "</style>\n",
       "<table border=\"1\" class=\"dataframe\">\n",
       "  <thead>\n",
       "    <tr style=\"text-align: right;\">\n",
       "      <th></th>\n",
       "      <th>AGE_DESC</th>\n",
       "      <th>MARITAL_STATUS_CODE</th>\n",
       "      <th>INCOME_DESC</th>\n",
       "      <th>HOMEOWNER_DESC</th>\n",
       "      <th>HH_COMP_DESC</th>\n",
       "      <th>HOUSEHOLD_SIZE_DESC</th>\n",
       "      <th>KID_CATEGORY_DESC</th>\n",
       "      <th>household_key</th>\n",
       "    </tr>\n",
       "  </thead>\n",
       "  <tbody>\n",
       "    <tr>\n",
       "      <td>0</td>\n",
       "      <td>65+</td>\n",
       "      <td>A</td>\n",
       "      <td>35-49K</td>\n",
       "      <td>Homeowner</td>\n",
       "      <td>2 Adults No Kids</td>\n",
       "      <td>2</td>\n",
       "      <td>None/Unknown</td>\n",
       "      <td>1</td>\n",
       "    </tr>\n",
       "    <tr>\n",
       "      <td>1</td>\n",
       "      <td>45-54</td>\n",
       "      <td>A</td>\n",
       "      <td>50-74K</td>\n",
       "      <td>Homeowner</td>\n",
       "      <td>2 Adults No Kids</td>\n",
       "      <td>2</td>\n",
       "      <td>None/Unknown</td>\n",
       "      <td>7</td>\n",
       "    </tr>\n",
       "    <tr>\n",
       "      <td>2</td>\n",
       "      <td>25-34</td>\n",
       "      <td>U</td>\n",
       "      <td>25-34K</td>\n",
       "      <td>Unknown</td>\n",
       "      <td>2 Adults Kids</td>\n",
       "      <td>3</td>\n",
       "      <td>1</td>\n",
       "      <td>8</td>\n",
       "    </tr>\n",
       "    <tr>\n",
       "      <td>3</td>\n",
       "      <td>25-34</td>\n",
       "      <td>U</td>\n",
       "      <td>75-99K</td>\n",
       "      <td>Homeowner</td>\n",
       "      <td>2 Adults Kids</td>\n",
       "      <td>4</td>\n",
       "      <td>2</td>\n",
       "      <td>13</td>\n",
       "    </tr>\n",
       "  </tbody>\n",
       "</table>\n",
       "</div>"
      ],
      "text/plain": [
       "  AGE_DESC MARITAL_STATUS_CODE INCOME_DESC HOMEOWNER_DESC      HH_COMP_DESC  \\\n",
       "0      65+                   A      35-49K      Homeowner  2 Adults No Kids   \n",
       "1    45-54                   A      50-74K      Homeowner  2 Adults No Kids   \n",
       "2    25-34                   U      25-34K        Unknown     2 Adults Kids   \n",
       "3    25-34                   U      75-99K      Homeowner     2 Adults Kids   \n",
       "\n",
       "  HOUSEHOLD_SIZE_DESC KID_CATEGORY_DESC  household_key  \n",
       "0                   2      None/Unknown              1  \n",
       "1                   2      None/Unknown              7  \n",
       "2                   3                 1              8  \n",
       "3                   4                 2             13  "
      ]
     },
     "execution_count": 3,
     "metadata": {},
     "output_type": "execute_result"
    }
   ],
   "source": [
    "hh_demographic.head(4)"
   ]
  },
  {
   "cell_type": "markdown",
   "metadata": {},
   "source": [
    "### Product data: \n",
    "Information on each product sold such as type of product, national or private label and a brand identifier. The attributes of the dataset are the following: \n",
    "- PRODUCT_ID: **unique**, identifies product\n",
    "- DEPARMENT: groups similar products together\n",
    "- COMMODITY_DESC: groups similar products together at a lower level\n",
    "- SUB_COMMODITY_DESC: groups similar products together at the lowest level. \n",
    "- MANUFACTURER: code that links products with the same manufacturer together \n",
    "- BRAND: indicates private or national label brand\n",
    "- CURR_SIZE_OF_PRODUCT: indicates package size (not available for all) "
   ]
  },
  {
   "cell_type": "markdown",
   "metadata": {},
   "source": [
    "Let's have a look: "
   ]
  },
  {
   "cell_type": "code",
   "execution_count": 4,
   "metadata": {},
   "outputs": [
    {
     "data": {
      "text/html": [
       "<div>\n",
       "<style scoped>\n",
       "    .dataframe tbody tr th:only-of-type {\n",
       "        vertical-align: middle;\n",
       "    }\n",
       "\n",
       "    .dataframe tbody tr th {\n",
       "        vertical-align: top;\n",
       "    }\n",
       "\n",
       "    .dataframe thead th {\n",
       "        text-align: right;\n",
       "    }\n",
       "</style>\n",
       "<table border=\"1\" class=\"dataframe\">\n",
       "  <thead>\n",
       "    <tr style=\"text-align: right;\">\n",
       "      <th></th>\n",
       "      <th>PRODUCT_ID</th>\n",
       "      <th>MANUFACTURER</th>\n",
       "      <th>DEPARTMENT</th>\n",
       "      <th>BRAND</th>\n",
       "      <th>COMMODITY_DESC</th>\n",
       "      <th>SUB_COMMODITY_DESC</th>\n",
       "      <th>CURR_SIZE_OF_PRODUCT</th>\n",
       "    </tr>\n",
       "  </thead>\n",
       "  <tbody>\n",
       "    <tr>\n",
       "      <td>0</td>\n",
       "      <td>25671</td>\n",
       "      <td>2</td>\n",
       "      <td>GROCERY</td>\n",
       "      <td>National</td>\n",
       "      <td>FRZN ICE</td>\n",
       "      <td>ICE - CRUSHED/CUBED</td>\n",
       "      <td>22 LB</td>\n",
       "    </tr>\n",
       "    <tr>\n",
       "      <td>1</td>\n",
       "      <td>26081</td>\n",
       "      <td>2</td>\n",
       "      <td>MISC. TRANS.</td>\n",
       "      <td>National</td>\n",
       "      <td>NO COMMODITY DESCRIPTION</td>\n",
       "      <td>NO SUBCOMMODITY DESCRIPTION</td>\n",
       "      <td></td>\n",
       "    </tr>\n",
       "    <tr>\n",
       "      <td>2</td>\n",
       "      <td>26093</td>\n",
       "      <td>69</td>\n",
       "      <td>PASTRY</td>\n",
       "      <td>Private</td>\n",
       "      <td>BREAD</td>\n",
       "      <td>BREAD:ITALIAN/FRENCH</td>\n",
       "      <td></td>\n",
       "    </tr>\n",
       "    <tr>\n",
       "      <td>3</td>\n",
       "      <td>26190</td>\n",
       "      <td>69</td>\n",
       "      <td>GROCERY</td>\n",
       "      <td>Private</td>\n",
       "      <td>FRUIT - SHELF STABLE</td>\n",
       "      <td>APPLE SAUCE</td>\n",
       "      <td>50 OZ</td>\n",
       "    </tr>\n",
       "  </tbody>\n",
       "</table>\n",
       "</div>"
      ],
      "text/plain": [
       "   PRODUCT_ID  MANUFACTURER    DEPARTMENT     BRAND            COMMODITY_DESC  \\\n",
       "0       25671             2       GROCERY  National                  FRZN ICE   \n",
       "1       26081             2  MISC. TRANS.  National  NO COMMODITY DESCRIPTION   \n",
       "2       26093            69        PASTRY   Private                     BREAD   \n",
       "3       26190            69       GROCERY   Private      FRUIT - SHELF STABLE   \n",
       "\n",
       "            SUB_COMMODITY_DESC CURR_SIZE_OF_PRODUCT  \n",
       "0          ICE - CRUSHED/CUBED                22 LB  \n",
       "1  NO SUBCOMMODITY DESCRIPTION                       \n",
       "2         BREAD:ITALIAN/FRENCH                       \n",
       "3                  APPLE SAUCE                50 OZ  "
      ]
     },
     "execution_count": 4,
     "metadata": {},
     "output_type": "execute_result"
    }
   ],
   "source": [
    "product.head(4)"
   ]
  },
  {
   "cell_type": "markdown",
   "metadata": {},
   "source": [
    "##### Number of products: "
   ]
  },
  {
   "cell_type": "code",
   "execution_count": 5,
   "metadata": {},
   "outputs": [
    {
     "name": "stdout",
     "output_type": "stream",
     "text": [
      "In total there are 92,353 products\n"
     ]
    }
   ],
   "source": [
    "print(\"In total there are \" + f\"{product.count()['PRODUCT_ID']:,d}\" +\n",
    "      \" products\")"
   ]
  },
  {
   "cell_type": "markdown",
   "metadata": {},
   "source": [
    "##### Product departments: "
   ]
  },
  {
   "cell_type": "code",
   "execution_count": 6,
   "metadata": {},
   "outputs": [
    {
     "name": "stdout",
     "output_type": "stream",
     "text": [
      "In total there are 44 department categories\n",
      "The different categories are: ['GROCERY' 'MISC. TRANS.' 'PASTRY' 'DRUG GM' 'MEAT-PCKGD' 'SEAFOOD-PCKGD'\n",
      " 'PRODUCE' 'NUTRITION' 'DELI' 'COSMETICS' 'MEAT' 'FLORAL'\n",
      " 'TRAVEL & LEISUR' 'SEAFOOD' 'MISC SALES TRAN' 'SALAD BAR' 'KIOSK-GAS'\n",
      " 'ELECT &PLUMBING' 'GRO BAKERY' 'GM MERCH EXP' 'FROZEN GROCERY'\n",
      " 'COUP/STR & MFG' 'SPIRITS' 'GARDEN CENTER' 'TOYS' 'CHARITABLE CONT'\n",
      " 'RESTAURANT' 'RX' 'PROD-WHS SALES' 'MEAT-WHSE' 'DAIRY DELI' 'CHEF SHOPPE'\n",
      " 'HBC' 'DELI/SNACK BAR' 'PORK' 'AUTOMOTIVE' 'VIDEO RENTAL' ' '\n",
      " 'CNTRL/STORE SUP' 'HOUSEWARES' 'POSTAL CENTER' 'PHOTO' 'VIDEO'\n",
      " 'PHARMACY SUPPLY']\n"
     ]
    }
   ],
   "source": [
    "print(\"In total there are \" + f\"{len(product['DEPARTMENT'].unique()) :,d}\" +\n",
    "      \" department categories\")\n",
    "print(\"The different categories are:\", product['DEPARTMENT'].unique())"
   ]
  },
  {
   "cell_type": "markdown",
   "metadata": {},
   "source": [
    "###### Representation of products in transactions: \n",
    "There are 92 353 products. As for the households, we can investigate whether all the products are represented in the *transaction_data* table."
   ]
  },
  {
   "cell_type": "code",
   "execution_count": 7,
   "metadata": {},
   "outputs": [
    {
     "name": "stdout",
     "output_type": "stream",
     "text": [
      "There are 92,339 products in the transactions table\n"
     ]
    }
   ],
   "source": [
    "print(\"There are \" + f\"{len(transaction_data['PRODUCT_ID'].unique()):,d}\" +\n",
    "      \" products in the transactions table\")"
   ]
  },
  {
   "cell_type": "markdown",
   "metadata": {},
   "source": [
    "There are 92 339 products represented in the *transaction_data* table, meaning that only **14** are not represented. "
   ]
  },
  {
   "cell_type": "markdown",
   "metadata": {},
   "source": [
    "### Household data: "
   ]
  },
  {
   "cell_type": "markdown",
   "metadata": {},
   "source": [
    "#### Demographic categories:"
   ]
  },
  {
   "cell_type": "markdown",
   "metadata": {},
   "source": [
    "###### Age: "
   ]
  },
  {
   "cell_type": "code",
   "execution_count": 8,
   "metadata": {},
   "outputs": [
    {
     "name": "stdout",
     "output_type": "stream",
     "text": [
      "In total there are 6 age categories\n",
      "The different categories are: ['65+' '45-54' '25-34' '35-44' '19-24' '55-64']\n"
     ]
    }
   ],
   "source": [
    "print(\"In total there are %d age categories\" %\n",
    "      len(hh_demographic['AGE_DESC'].unique()))\n",
    "print(\"The different categories are:\", hh_demographic['AGE_DESC'].unique())"
   ]
  },
  {
   "cell_type": "markdown",
   "metadata": {},
   "source": [
    "###### Income: "
   ]
  },
  {
   "cell_type": "code",
   "execution_count": 9,
   "metadata": {},
   "outputs": [
    {
     "name": "stdout",
     "output_type": "stream",
     "text": [
      "In total there are 12 income categories\n",
      "The different categories are: ['35-49K' '50-74K' '25-34K' '75-99K' 'Under 15K' '100-124K' '15-24K'\n",
      " '125-149K' '150-174K' '250K+' '175-199K' '200-249K']\n"
     ]
    }
   ],
   "source": [
    "print(\"In total there are %d income categories\" %\n",
    "      len(hh_demographic['INCOME_DESC'].unique()))\n",
    "print(\"The different categories are:\", hh_demographic['INCOME_DESC'].unique())"
   ]
  },
  {
   "cell_type": "markdown",
   "metadata": {},
   "source": [
    "###### Homeowners:"
   ]
  },
  {
   "cell_type": "code",
   "execution_count": 10,
   "metadata": {},
   "outputs": [
    {
     "name": "stdout",
     "output_type": "stream",
     "text": [
      "In total there are 5 homeowner categories\n",
      "The different categories are: ['Homeowner' 'Unknown' 'Renter' 'Probable Renter' 'Probable Owner']\n"
     ]
    }
   ],
   "source": [
    "print(\"In total there are %d homeowner categories\" %\n",
    "      len(hh_demographic['HOMEOWNER_DESC'].unique()))\n",
    "print(\"The different categories are:\",\n",
    "      hh_demographic['HOMEOWNER_DESC'].unique())"
   ]
  },
  {
   "cell_type": "markdown",
   "metadata": {},
   "source": [
    "###### Household composition: "
   ]
  },
  {
   "cell_type": "code",
   "execution_count": 11,
   "metadata": {},
   "outputs": [
    {
     "name": "stdout",
     "output_type": "stream",
     "text": [
      "In total there are 6 household composition categories\n",
      "The different categories are: ['2 Adults No Kids' '2 Adults Kids' 'Single Female' 'Unknown'\n",
      " 'Single Male' '1 Adult Kids']\n"
     ]
    }
   ],
   "source": [
    "print(\"In total there are %d household composition categories\" %\n",
    "      len(hh_demographic['HH_COMP_DESC'].unique()))\n",
    "print(\"The different categories are:\", hh_demographic['HH_COMP_DESC'].unique())"
   ]
  },
  {
   "cell_type": "markdown",
   "metadata": {},
   "source": [
    "###### Household size:"
   ]
  },
  {
   "cell_type": "code",
   "execution_count": 12,
   "metadata": {},
   "outputs": [
    {
     "name": "stdout",
     "output_type": "stream",
     "text": [
      "In total there are 5 household size categories\n",
      "The different categories are: ['2' '3' '4' '1' '5+']\n"
     ]
    }
   ],
   "source": [
    "print(\"In total there are %d household size categories\" %\n",
    "      len(hh_demographic['HOUSEHOLD_SIZE_DESC'].unique()))\n",
    "print(\"The different categories are:\",\n",
    "      hh_demographic['HOUSEHOLD_SIZE_DESC'].unique())"
   ]
  },
  {
   "cell_type": "markdown",
   "metadata": {},
   "source": [
    "###### Kids number:"
   ]
  },
  {
   "cell_type": "code",
   "execution_count": 13,
   "metadata": {},
   "outputs": [
    {
     "name": "stdout",
     "output_type": "stream",
     "text": [
      "In total there are 4 kid number categories\n",
      "The different categories are: ['None/Unknown' '1' '2' '3+']\n"
     ]
    }
   ],
   "source": [
    "print(\"In total there are %d kid number categories\" %\n",
    "      len(hh_demographic['KID_CATEGORY_DESC'].unique()))\n",
    "print(\"The different categories are:\",\n",
    "      hh_demographic['KID_CATEGORY_DESC'].unique())"
   ]
  },
  {
   "cell_type": "markdown",
   "metadata": {},
   "source": [
    "###### Marital status:\n"
   ]
  },
  {
   "cell_type": "code",
   "execution_count": 14,
   "metadata": {},
   "outputs": [
    {
     "name": "stdout",
     "output_type": "stream",
     "text": [
      "In total there are 3 marital status categories\n",
      "The different categories are: ['A' 'U' 'B']\n"
     ]
    }
   ],
   "source": [
    "print(\"In total there are %d marital status categories\" %\n",
    "      len(hh_demographic['MARITAL_STATUS_CODE'].unique()))\n",
    "print(\"The different categories are:\",\n",
    "      hh_demographic['MARITAL_STATUS_CODE'].unique())"
   ]
  },
  {
   "cell_type": "markdown",
   "metadata": {},
   "source": [
    "We now change the marital status to a more intuitive one, setting to M the married entries and to S the single ones."
   ]
  },
  {
   "cell_type": "code",
   "execution_count": 15,
   "metadata": {},
   "outputs": [],
   "source": [
    "hh_demographic.loc[hh_demographic['MARITAL_STATUS_CODE'] == 'A', 'MARITAL_STATUS_CODE'] = 'M'\n",
    "hh_demographic.loc[hh_demographic['MARITAL_STATUS_CODE'] == 'B', 'MARITAL_STATUS_CODE'] = 'S'"
   ]
  },
  {
   "cell_type": "markdown",
   "metadata": {},
   "source": [
    "#### Household composition inconsistencies:"
   ]
  },
  {
   "cell_type": "markdown",
   "metadata": {},
   "source": [
    "Because there are three variables related to each other; household composition, household size and number of kids, we need to see if the information between them makes sense."
   ]
  },
  {
   "cell_type": "code",
   "execution_count": 16,
   "metadata": {},
   "outputs": [
    {
     "name": "stdout",
     "output_type": "stream",
     "text": [
      "Looking at the household composition: Single Female\n",
      "Household size unique information: ['1' '2']\n",
      "Kids number unique information: ['None/Unknown']\n",
      "\n",
      "Looking at the household composition: Unknown\n",
      "Household size unique information: ['1' '3' '2' '5+']\n",
      "Kids number unique information: ['None/Unknown' '1' '3+']\n",
      "\n",
      "Looking at the household composition: Single Male\n",
      "Household size unique information: ['1' '2']\n",
      "Kids number unique information: ['None/Unknown']\n",
      "\n",
      "Looking at the household composition: 1 Adult Kids\n",
      "Household size unique information: ['2' '3' '5+' '4']\n",
      "Kids number unique information: ['1' '2' '3+']\n",
      "\n"
     ]
    }
   ],
   "source": [
    "for hh_composition in hh_demographic['HH_COMP_DESC'].unique():\n",
    "    if hh_composition == \"2 Adults No Kids\" or hh_composition == \"2 Adults Kids\":\n",
    "        continue\n",
    "    print(\"Looking at the household composition:\", hh_composition)\n",
    "    hh_demographic_current_composition = hh_demographic[\n",
    "        hh_demographic['HH_COMP_DESC'] == hh_composition]\n",
    "    print(\"Household size unique information:\",\n",
    "          hh_demographic_current_composition['HOUSEHOLD_SIZE_DESC'].unique())\n",
    "    print(\"Kids number unique information:\",\n",
    "          hh_demographic_current_composition['KID_CATEGORY_DESC'].unique())\n",
    "    print()"
   ]
  },
  {
   "cell_type": "markdown",
   "metadata": {},
   "source": [
    "We see already some inconsistencies. For example a household of a single female can hardly be a household of size two. Except if she has kids but then she should be in a household of \"1 Adult Kids\". The same applies for the other types. Some confusion needs to be corrected before we proceed any further.  "
   ]
  },
  {
   "cell_type": "markdown",
   "metadata": {},
   "source": [
    "###### Composition 1 Adult Kids: "
   ]
  },
  {
   "cell_type": "code",
   "execution_count": 17,
   "metadata": {},
   "outputs": [
    {
     "name": "stdout",
     "output_type": "stream",
     "text": [
      "For household of size 2, with 1 adult, there are ['1'] kid categories\n",
      "For household of size 3, with 1 adult, there are ['2' '1'] kid categories\n",
      "For household of size 5+, with 1 adult, there are ['3+'] kid categories\n",
      "For household of size 4, with 1 adult, there are ['2' '3+'] kid categories\n"
     ]
    }
   ],
   "source": [
    "hh_composition = \"1 Adult Kids\"\n",
    "hh_demographic_1adultkids = hh_demographic[hh_demographic['HH_COMP_DESC'] ==\n",
    "                                           hh_composition]\n",
    "\n",
    "for household_size in hh_demographic_1adultkids['HOUSEHOLD_SIZE_DESC'].unique():\n",
    "    hh_demographic_1adultkids_size = hh_demographic_1adultkids[\n",
    "        hh_demographic_1adultkids['HOUSEHOLD_SIZE_DESC'] == household_size]\n",
    "    \n",
    "    print(f\"For household of size {household_size}, with 1 adult, there are\",\n",
    "          hh_demographic_1adultkids_size['KID_CATEGORY_DESC'].unique(),\n",
    "          \"kid categories\")"
   ]
  },
  {
   "cell_type": "markdown",
   "metadata": {},
   "source": [
    "We see that there is an inconsistency where the household size is 3 or 4 units. Let's explore these in a better way."
   ]
  },
  {
   "cell_type": "markdown",
   "metadata": {},
   "source": [
    "**Household of 3 units:**"
   ]
  },
  {
   "cell_type": "code",
   "execution_count": 18,
   "metadata": {},
   "outputs": [
    {
     "data": {
      "text/html": [
       "<div>\n",
       "<style scoped>\n",
       "    .dataframe tbody tr th:only-of-type {\n",
       "        vertical-align: middle;\n",
       "    }\n",
       "\n",
       "    .dataframe tbody tr th {\n",
       "        vertical-align: top;\n",
       "    }\n",
       "\n",
       "    .dataframe thead th {\n",
       "        text-align: right;\n",
       "    }\n",
       "</style>\n",
       "<table border=\"1\" class=\"dataframe\">\n",
       "  <thead>\n",
       "    <tr style=\"text-align: right;\">\n",
       "      <th></th>\n",
       "      <th>AGE_DESC</th>\n",
       "      <th>MARITAL_STATUS_CODE</th>\n",
       "      <th>INCOME_DESC</th>\n",
       "      <th>HOMEOWNER_DESC</th>\n",
       "      <th>HH_COMP_DESC</th>\n",
       "      <th>HOUSEHOLD_SIZE_DESC</th>\n",
       "      <th>KID_CATEGORY_DESC</th>\n",
       "      <th>household_key</th>\n",
       "    </tr>\n",
       "  </thead>\n",
       "  <tbody>\n",
       "    <tr>\n",
       "      <td>183</td>\n",
       "      <td>35-44</td>\n",
       "      <td>M</td>\n",
       "      <td>35-49K</td>\n",
       "      <td>Probable Owner</td>\n",
       "      <td>1 Adult Kids</td>\n",
       "      <td>3</td>\n",
       "      <td>1</td>\n",
       "      <td>543</td>\n",
       "    </tr>\n",
       "    <tr>\n",
       "      <td>200</td>\n",
       "      <td>45-54</td>\n",
       "      <td>M</td>\n",
       "      <td>15-24K</td>\n",
       "      <td>Homeowner</td>\n",
       "      <td>1 Adult Kids</td>\n",
       "      <td>3</td>\n",
       "      <td>1</td>\n",
       "      <td>596</td>\n",
       "    </tr>\n",
       "    <tr>\n",
       "      <td>285</td>\n",
       "      <td>65+</td>\n",
       "      <td>M</td>\n",
       "      <td>35-49K</td>\n",
       "      <td>Homeowner</td>\n",
       "      <td>1 Adult Kids</td>\n",
       "      <td>3</td>\n",
       "      <td>1</td>\n",
       "      <td>857</td>\n",
       "    </tr>\n",
       "    <tr>\n",
       "      <td>464</td>\n",
       "      <td>25-34</td>\n",
       "      <td>M</td>\n",
       "      <td>15-24K</td>\n",
       "      <td>Homeowner</td>\n",
       "      <td>1 Adult Kids</td>\n",
       "      <td>3</td>\n",
       "      <td>1</td>\n",
       "      <td>1437</td>\n",
       "    </tr>\n",
       "    <tr>\n",
       "      <td>665</td>\n",
       "      <td>35-44</td>\n",
       "      <td>M</td>\n",
       "      <td>Under 15K</td>\n",
       "      <td>Homeowner</td>\n",
       "      <td>1 Adult Kids</td>\n",
       "      <td>3</td>\n",
       "      <td>1</td>\n",
       "      <td>2092</td>\n",
       "    </tr>\n",
       "    <tr>\n",
       "      <td>738</td>\n",
       "      <td>35-44</td>\n",
       "      <td>M</td>\n",
       "      <td>35-49K</td>\n",
       "      <td>Homeowner</td>\n",
       "      <td>1 Adult Kids</td>\n",
       "      <td>3</td>\n",
       "      <td>1</td>\n",
       "      <td>2302</td>\n",
       "    </tr>\n",
       "  </tbody>\n",
       "</table>\n",
       "</div>"
      ],
      "text/plain": [
       "    AGE_DESC MARITAL_STATUS_CODE INCOME_DESC  HOMEOWNER_DESC  HH_COMP_DESC  \\\n",
       "183    35-44                   M      35-49K  Probable Owner  1 Adult Kids   \n",
       "200    45-54                   M      15-24K       Homeowner  1 Adult Kids   \n",
       "285      65+                   M      35-49K       Homeowner  1 Adult Kids   \n",
       "464    25-34                   M      15-24K       Homeowner  1 Adult Kids   \n",
       "665    35-44                   M   Under 15K       Homeowner  1 Adult Kids   \n",
       "738    35-44                   M      35-49K       Homeowner  1 Adult Kids   \n",
       "\n",
       "    HOUSEHOLD_SIZE_DESC KID_CATEGORY_DESC  household_key  \n",
       "183                   3                 1            543  \n",
       "200                   3                 1            596  \n",
       "285                   3                 1            857  \n",
       "464                   3                 1           1437  \n",
       "665                   3                 1           2092  \n",
       "738                   3                 1           2302  "
      ]
     },
     "execution_count": 18,
     "metadata": {},
     "output_type": "execute_result"
    }
   ],
   "source": [
    "hh_demographic_1adultkids[\n",
    "    (hh_demographic_1adultkids['HOUSEHOLD_SIZE_DESC'] == '3')\n",
    "    & (hh_demographic_1adultkids['KID_CATEGORY_DESC'] == '1')]"
   ]
  },
  {
   "cell_type": "markdown",
   "metadata": {},
   "source": [
    "We can see here that there are entries where the composition is 1 Adult Kids, the household size is 3 and the number of kids is 1. This means one of the following: there is one more person living in the house, the household size is wrong or the composition is wrong.<br>\n",
    "However, we  notice that all of these entries have a marital status M, which stands for married. We can assume then that the composition is wrong and there is an actual couple living in the house, with 1 kid."
   ]
  },
  {
   "cell_type": "markdown",
   "metadata": {},
   "source": [
    "**Household of 4 units:**"
   ]
  },
  {
   "cell_type": "code",
   "execution_count": 19,
   "metadata": {},
   "outputs": [
    {
     "data": {
      "text/html": [
       "<div>\n",
       "<style scoped>\n",
       "    .dataframe tbody tr th:only-of-type {\n",
       "        vertical-align: middle;\n",
       "    }\n",
       "\n",
       "    .dataframe tbody tr th {\n",
       "        vertical-align: top;\n",
       "    }\n",
       "\n",
       "    .dataframe thead th {\n",
       "        text-align: right;\n",
       "    }\n",
       "</style>\n",
       "<table border=\"1\" class=\"dataframe\">\n",
       "  <thead>\n",
       "    <tr style=\"text-align: right;\">\n",
       "      <th></th>\n",
       "      <th>AGE_DESC</th>\n",
       "      <th>MARITAL_STATUS_CODE</th>\n",
       "      <th>INCOME_DESC</th>\n",
       "      <th>HOMEOWNER_DESC</th>\n",
       "      <th>HH_COMP_DESC</th>\n",
       "      <th>HOUSEHOLD_SIZE_DESC</th>\n",
       "      <th>KID_CATEGORY_DESC</th>\n",
       "      <th>household_key</th>\n",
       "    </tr>\n",
       "  </thead>\n",
       "  <tbody>\n",
       "    <tr>\n",
       "      <td>88</td>\n",
       "      <td>45-54</td>\n",
       "      <td>M</td>\n",
       "      <td>75-99K</td>\n",
       "      <td>Homeowner</td>\n",
       "      <td>1 Adult Kids</td>\n",
       "      <td>4</td>\n",
       "      <td>2</td>\n",
       "      <td>250</td>\n",
       "    </tr>\n",
       "    <tr>\n",
       "      <td>117</td>\n",
       "      <td>45-54</td>\n",
       "      <td>M</td>\n",
       "      <td>50-74K</td>\n",
       "      <td>Homeowner</td>\n",
       "      <td>1 Adult Kids</td>\n",
       "      <td>4</td>\n",
       "      <td>2</td>\n",
       "      <td>350</td>\n",
       "    </tr>\n",
       "    <tr>\n",
       "      <td>249</td>\n",
       "      <td>35-44</td>\n",
       "      <td>M</td>\n",
       "      <td>15-24K</td>\n",
       "      <td>Renter</td>\n",
       "      <td>1 Adult Kids</td>\n",
       "      <td>4</td>\n",
       "      <td>2</td>\n",
       "      <td>742</td>\n",
       "    </tr>\n",
       "    <tr>\n",
       "      <td>504</td>\n",
       "      <td>25-34</td>\n",
       "      <td>M</td>\n",
       "      <td>100-124K</td>\n",
       "      <td>Renter</td>\n",
       "      <td>1 Adult Kids</td>\n",
       "      <td>4</td>\n",
       "      <td>2</td>\n",
       "      <td>1557</td>\n",
       "    </tr>\n",
       "  </tbody>\n",
       "</table>\n",
       "</div>"
      ],
      "text/plain": [
       "    AGE_DESC MARITAL_STATUS_CODE INCOME_DESC HOMEOWNER_DESC  HH_COMP_DESC  \\\n",
       "88     45-54                   M      75-99K      Homeowner  1 Adult Kids   \n",
       "117    45-54                   M      50-74K      Homeowner  1 Adult Kids   \n",
       "249    35-44                   M      15-24K         Renter  1 Adult Kids   \n",
       "504    25-34                   M    100-124K         Renter  1 Adult Kids   \n",
       "\n",
       "    HOUSEHOLD_SIZE_DESC KID_CATEGORY_DESC  household_key  \n",
       "88                    4                 2            250  \n",
       "117                   4                 2            350  \n",
       "249                   4                 2            742  \n",
       "504                   4                 2           1557  "
      ]
     },
     "execution_count": 19,
     "metadata": {},
     "output_type": "execute_result"
    }
   ],
   "source": [
    "hh_demographic_1adultkids[\n",
    "    (hh_demographic_1adultkids['HOUSEHOLD_SIZE_DESC'] == '4')\n",
    "    & (hh_demographic_1adultkids['KID_CATEGORY_DESC'] == '2')]"
   ]
  },
  {
   "cell_type": "markdown",
   "metadata": {},
   "source": [
    "For household size of 4, the same as before stands. Again the household composition is probably wrong. "
   ]
  },
  {
   "cell_type": "markdown",
   "metadata": {},
   "source": [
    "###### Composition Single Male/Female: "
   ]
  },
  {
   "cell_type": "markdown",
   "metadata": {},
   "source": [
    "Theoretically, the household should not be bigger than 1. "
   ]
  },
  {
   "cell_type": "code",
   "execution_count": 20,
   "metadata": {},
   "outputs": [
    {
     "name": "stdout",
     "output_type": "stream",
     "text": [
      "['M']\n"
     ]
    }
   ],
   "source": [
    "hh_composition = \"Single Female\"\n",
    "\n",
    "hh_demographic_singlefemale_size2 = hh_demographic[\n",
    "    hh_demographic['HH_COMP_DESC'] == hh_composition]\n",
    "\n",
    "hh_demographic_singlefemale_size2 = hh_demographic_singlefemale_size2[\n",
    "    hh_demographic_singlefemale_size2['HOUSEHOLD_SIZE_DESC'] == '2']\n",
    "\n",
    "print(hh_demographic_singlefemale_size2['MARITAL_STATUS_CODE'].unique())"
   ]
  },
  {
   "cell_type": "code",
   "execution_count": 21,
   "metadata": {},
   "outputs": [
    {
     "name": "stdout",
     "output_type": "stream",
     "text": [
      "['M']\n"
     ]
    }
   ],
   "source": [
    "hh_composition = \"Single Male\"\n",
    "\n",
    "hh_demographic_singlemale_size2 = hh_demographic[hh_demographic['HH_COMP_DESC']\n",
    "                                                 == hh_composition]\n",
    "\n",
    "hh_demographic_singlemale_size2 = hh_demographic_singlemale_size2[\n",
    "    hh_demographic_singlemale_size2['HOUSEHOLD_SIZE_DESC'] == '2']\n",
    "\n",
    "print(hh_demographic_singlemale_size2['MARITAL_STATUS_CODE'].unique())"
   ]
  },
  {
   "cell_type": "markdown",
   "metadata": {},
   "source": [
    "Again it looks like they are married and not single. "
   ]
  },
  {
   "cell_type": "markdown",
   "metadata": {},
   "source": [
    "###### Coherence between marital status, number of kids and  household size:\n",
    "We now want to check if the marital status, the number of kids and the household size are always coherent with each others. If it is, then we can assume that the household composition information is sometimes wrong. Hence, we can correct this parameter or just discard it, since it does not carry more information with respect to the other three."
   ]
  },
  {
   "cell_type": "code",
   "execution_count": 22,
   "metadata": {},
   "outputs": [
    {
     "name": "stdout",
     "output_type": "stream",
     "text": [
      "Marital status: M\n",
      "HH_COMP_DESC      HOUSEHOLD_SIZE_DESC  KID_CATEGORY_DESC\n",
      "1 Adult Kids      3                    1                      6\n",
      "                  4                    2                      4\n",
      "                  5+                   3+                     6\n",
      "2 Adults Kids     3                    1                     55\n",
      "                  4                    2                     31\n",
      "                  5+                   3+                    49\n",
      "2 Adults No Kids  2                    None/Unknown         135\n",
      "Single Female     2                    None/Unknown          33\n",
      "Single Male       2                    None/Unknown          12\n",
      "Unknown           2                    None/Unknown           3\n",
      "                  3                    1                      5\n",
      "                  5+                   3+                     1\n",
      "dtype: int64\n",
      "\n",
      "Marital status: S\n",
      "HH_COMP_DESC      HOUSEHOLD_SIZE_DESC  KID_CATEGORY_DESC\n",
      "1 Adult Kids      2                    1                     5\n",
      "                  3                    2                     6\n",
      "                  4                    3+                    2\n",
      "                  5+                   3+                    1\n",
      "2 Adults Kids     3                    1                     5\n",
      "                  4                    2                     2\n",
      "                  5+                   3+                    2\n",
      "2 Adults No Kids  2                    None/Unknown         28\n",
      "Single Female     1                    None/Unknown         39\n",
      "Single Male       1                    None/Unknown         25\n",
      "Unknown           1                    None/Unknown          2\n",
      "dtype: int64\n",
      "\n",
      "Marital status: U\n",
      "HH_COMP_DESC      HOUSEHOLD_SIZE_DESC  KID_CATEGORY_DESC\n",
      "1 Adult Kids      2                    1                     9\n",
      "                  3                    2                     4\n",
      "                  4                    3+                    1\n",
      "                  5+                   3+                    3\n",
      "2 Adults Kids     3                    1                    28\n",
      "                  4                    2                    13\n",
      "                  5+                   3+                    2\n",
      "2 Adults No Kids  2                    None/Unknown         92\n",
      "Single Female     1                    None/Unknown         72\n",
      "Single Male       1                    None/Unknown         58\n",
      "Unknown           1                    None/Unknown         59\n",
      "                  2                    1                     1\n",
      "                  5+                   3+                    2\n",
      "dtype: int64\n",
      "\n"
     ]
    }
   ],
   "source": [
    "for marital_status in np.sort(hh_demographic['MARITAL_STATUS_CODE'].unique()):\n",
    "    print(\"Marital status:\", marital_status)\n",
    "    \n",
    "    hh_demographic_current_marital = hh_demographic[\n",
    "        hh_demographic['MARITAL_STATUS_CODE'] == marital_status]\n",
    "    \n",
    "    print(\n",
    "        hh_demographic_current_marital.groupby(\n",
    "            ['HH_COMP_DESC', 'HOUSEHOLD_SIZE_DESC',\n",
    "             'KID_CATEGORY_DESC']).size())\n",
    "    print()"
   ]
  },
  {
   "cell_type": "markdown",
   "metadata": {},
   "source": [
    "We conclude that: \n",
    "- the marital status is always coherent with the household size and the number of kids. Combined with the findings above, we can say that in these cases where the household composition is wrong, we will just discard that information.\n",
    "- we have some incongruities in the household size / number of kids when the marital status is Single, so we discard these entries.\n",
    "- if the marital status is Unknown, we fall back on the household size / number of children information and we give the corresponding marital status, when it makes sense."
   ]
  },
  {
   "cell_type": "markdown",
   "metadata": {},
   "source": [
    "###### Actually removing the inconsistencies: "
   ]
  },
  {
   "cell_type": "code",
   "execution_count": 23,
   "metadata": {},
   "outputs": [],
   "source": [
    "hh_demographic_fxd = hh_demographic.copy()"
   ]
  },
  {
   "cell_type": "markdown",
   "metadata": {},
   "source": [
    "Dropping the entries marked as Single with inconsistencies in the household size / number of kids:"
   ]
  },
  {
   "cell_type": "code",
   "execution_count": 24,
   "metadata": {},
   "outputs": [
    {
     "name": "stdout",
     "output_type": "stream",
     "text": [
      "[5, 12, 20, 23, 42, 46, 73, 141, 157, 159, 185, 234, 296, 309, 356, 362, 406, 437, 511, 561, 580, 644, 647, 651, 677, 701, 769, 788, 54, 250, 374, 460, 608, 370, 733]\n",
      "35 entries dropped.\n"
     ]
    }
   ],
   "source": [
    "dropindex = hh_demographic_fxd.index[\n",
    "    (hh_demographic_fxd['MARITAL_STATUS_CODE'] == 'S')\n",
    "    & (hh_demographic_fxd['HOUSEHOLD_SIZE_DESC'] == '2') &\n",
    "    (hh_demographic_fxd['KID_CATEGORY_DESC'] == 'None/Unknown')].tolist()\n",
    "\n",
    "dropindex += hh_demographic_fxd.index[\n",
    "    (hh_demographic_fxd['MARITAL_STATUS_CODE'] == 'S')\n",
    "    & (hh_demographic_fxd['HOUSEHOLD_SIZE_DESC'] == '3') &\n",
    "    (hh_demographic_fxd['KID_CATEGORY_DESC'] == '1')].tolist()\n",
    "\n",
    "dropindex += hh_demographic_fxd.index[\n",
    "    (hh_demographic_fxd['MARITAL_STATUS_CODE'] == 'S')\n",
    "    & (hh_demographic_fxd['HOUSEHOLD_SIZE_DESC'] == '4') &\n",
    "    (hh_demographic_fxd['KID_CATEGORY_DESC'] == '2')].tolist()\n",
    "\n",
    "print(dropindex)\n",
    "print(len(dropindex), \"entries dropped.\")\n",
    "\n",
    "hh_demographic_fxd.drop(dropindex, axis=0, inplace=True)"
   ]
  },
  {
   "cell_type": "markdown",
   "metadata": {},
   "source": [
    "Assigning the correct marital status to the entries marked as Unknown, when the household size and the number of children are coherent with each other:"
   ]
  },
  {
   "cell_type": "code",
   "execution_count": 25,
   "metadata": {},
   "outputs": [],
   "source": [
    "hh_demographic_fxd.loc[(hh_demographic_fxd['MARITAL_STATUS_CODE'] == 'U') &\n",
    "                       (hh_demographic_fxd['HOUSEHOLD_SIZE_DESC'] == '3') &\n",
    "                       (hh_demographic_fxd['KID_CATEGORY_DESC'] == '1'\n",
    "                        ), 'MARITAL_STATUS_CODE'] = 'M'\n",
    "\n",
    "hh_demographic_fxd.loc[(hh_demographic_fxd['MARITAL_STATUS_CODE'] == 'U') &\n",
    "                       (hh_demographic_fxd['HOUSEHOLD_SIZE_DESC'] == '4') &\n",
    "                       (hh_demographic_fxd['KID_CATEGORY_DESC'] == '2'\n",
    "                        ), 'MARITAL_STATUS_CODE'] = 'M'\n",
    "\n",
    "hh_demographic_fxd.loc[(hh_demographic_fxd['MARITAL_STATUS_CODE'] == 'U') &\n",
    "                       (hh_demographic_fxd['HOUSEHOLD_SIZE_DESC'] == '2') &\n",
    "                       (hh_demographic_fxd['KID_CATEGORY_DESC'] ==\n",
    "                        'None/Unknown'), 'MARITAL_STATUS_CODE'] = 'M'\n",
    "\n",
    "hh_demographic_fxd.loc[(hh_demographic_fxd['MARITAL_STATUS_CODE'] == 'U') &\n",
    "                       (hh_demographic_fxd['HOUSEHOLD_SIZE_DESC'] == '2') &\n",
    "                       (hh_demographic_fxd['KID_CATEGORY_DESC'] == '1'\n",
    "                        ), 'MARITAL_STATUS_CODE'] = 'S'\n",
    "\n",
    "hh_demographic_fxd.loc[(hh_demographic_fxd['MARITAL_STATUS_CODE'] == 'U') &\n",
    "                       (hh_demographic_fxd['HOUSEHOLD_SIZE_DESC'] == '3') &\n",
    "                       (hh_demographic_fxd['KID_CATEGORY_DESC'] == '2'\n",
    "                        ), 'MARITAL_STATUS_CODE'] = 'S'\n",
    "\n",
    "hh_demographic_fxd.loc[(hh_demographic_fxd['MARITAL_STATUS_CODE'] == 'U') &\n",
    "                       (hh_demographic_fxd['HOUSEHOLD_SIZE_DESC'] == '4') &\n",
    "                       (hh_demographic_fxd['KID_CATEGORY_DESC'] == '3+'\n",
    "                        ), 'MARITAL_STATUS_CODE'] = 'S'\n",
    "\n",
    "hh_demographic_fxd.loc[(hh_demographic_fxd['MARITAL_STATUS_CODE'] == 'U') &\n",
    "                       (hh_demographic_fxd['HOUSEHOLD_SIZE_DESC'] == '1') &\n",
    "                       (hh_demographic_fxd['KID_CATEGORY_DESC'] ==\n",
    "                        'None/Unknown'), 'MARITAL_STATUS_CODE'] = 'S'\n",
    "\n",
    "hh_demographic_fxd = hh_demographic_fxd[\n",
    "    hh_demographic_fxd['MARITAL_STATUS_CODE'] != 'U']"
   ]
  },
  {
   "cell_type": "code",
   "execution_count": 26,
   "metadata": {},
   "outputs": [
    {
     "name": "stdout",
     "output_type": "stream",
     "text": [
      "Marital status: M\n",
      "HH_COMP_DESC      HOUSEHOLD_SIZE_DESC  KID_CATEGORY_DESC\n",
      "1 Adult Kids      3                    1                      6\n",
      "                  4                    2                      4\n",
      "                  5+                   3+                     6\n",
      "2 Adults Kids     3                    1                     83\n",
      "                  4                    2                     44\n",
      "                  5+                   3+                    49\n",
      "2 Adults No Kids  2                    None/Unknown         227\n",
      "Single Female     2                    None/Unknown          33\n",
      "Single Male       2                    None/Unknown          12\n",
      "Unknown           2                    None/Unknown           3\n",
      "                  3                    1                      5\n",
      "                  5+                   3+                     1\n",
      "dtype: int64\n",
      "\n",
      "Marital status: S\n",
      "HH_COMP_DESC   HOUSEHOLD_SIZE_DESC  KID_CATEGORY_DESC\n",
      "1 Adult Kids   2                    1                     14\n",
      "               3                    2                     10\n",
      "               4                    3+                     3\n",
      "               5+                   3+                     1\n",
      "2 Adults Kids  5+                   3+                     2\n",
      "Single Female  1                    None/Unknown         111\n",
      "Single Male    1                    None/Unknown          83\n",
      "Unknown        1                    None/Unknown          61\n",
      "               2                    1                      1\n",
      "dtype: int64\n",
      "\n"
     ]
    }
   ],
   "source": [
    "for marital_status in np.sort(hh_demographic_fxd['MARITAL_STATUS_CODE'].unique()):\n",
    "    print(\"Marital status:\", marital_status)\n",
    "    \n",
    "    hh_demographic_current_marital = hh_demographic_fxd[\n",
    "        hh_demographic_fxd['MARITAL_STATUS_CODE'] == marital_status]\n",
    "    \n",
    "    print(\n",
    "        hh_demographic_current_marital.groupby(\n",
    "            ['HH_COMP_DESC', 'HOUSEHOLD_SIZE_DESC',\n",
    "             'KID_CATEGORY_DESC']).size())\n",
    "    print()"
   ]
  },
  {
   "cell_type": "code",
   "execution_count": 27,
   "metadata": {},
   "outputs": [
    {
     "name": "stdout",
     "output_type": "stream",
     "text": [
      "The number of entries goes from 801 to 759.\n"
     ]
    }
   ],
   "source": [
    "print(f\"The number of entries goes from {len(hh_demographic.count(axis='columns')):n} to {len(hh_demographic_fxd.count(axis='columns')):n}.\")"
   ]
  },
  {
   "cell_type": "code",
   "execution_count": 28,
   "metadata": {},
   "outputs": [],
   "source": [
    "hh_demographic_fxd.drop(['HH_COMP_DESC'], axis=1, inplace=True)\n",
    "\n",
    "hh_demographic_fxd.loc[hh_demographic_fxd['KID_CATEGORY_DESC'] ==\n",
    "                       'None/Unknown', 'KID_CATEGORY_DESC'] = '0'\n",
    "\n",
    "hh_demographic_fxd.rename(columns={'KID_CATEGORY_DESC': 'KIDS_DESC'},\n",
    "                          inplace=True)\n",
    "\n",
    "hh_demographic_fxd['KIDS_DESC'] = hh_demographic_fxd['KIDS_DESC'].fillna('0')\n",
    "\n",
    "hh_demographic_fxd.reset_index(drop=True, inplace=True)"
   ]
  },
  {
   "cell_type": "code",
   "execution_count": 29,
   "metadata": {},
   "outputs": [],
   "source": [
    "#Saving the fixed dataframe:\n",
    "if not os.path.exists(\"saved_structures\"):\n",
    "    os.makedirs(\"saved_structures\")\n",
    "hh_demographic_fxd.to_csv(\"saved_structures/hh_demographic_fix_hhcomp.csv\",\n",
    "                          sep='\\t',\n",
    "                          index=False)"
   ]
  },
  {
   "cell_type": "markdown",
   "metadata": {},
   "source": [
    "###### Conclusion: \n",
    "42 entries were discarded because the marital status Single did not match with the household size / number of children or because, in the Unknown marital status, the household size and the number of children did not carry enough information to conclude something on the marital status. We carry on the rest of our data journey with this cleaned demographic dataset. "
   ]
  },
  {
   "cell_type": "markdown",
   "metadata": {},
   "source": [
    "#### Demographic distributions:"
   ]
  },
  {
   "cell_type": "markdown",
   "metadata": {},
   "source": [
    "Now that we have removed inconsistencies in household composition, we want to have a look at how much data is present for each category. For now, the categories in this data frame are not arranged in a meaningful way, meaning that if we would make some plots now, we would not have the age categories ranged in ascending or descending order for example. \n",
    "Thus, we first want to arrange them, before making some exploratory plots."
   ]
  },
  {
   "cell_type": "code",
   "execution_count": 30,
   "metadata": {},
   "outputs": [],
   "source": [
    "#We are going make the columns in the dataframe with categories of the ordered categorical type:\n",
    "\n",
    "hh_demographic_fxd['AGE_DESC'] = dem_fx.order_hh_dem(\n",
    "    hh_demographic_fxd, 'AGE_DESC',\n",
    "    ['19-24', '25-34', '35-44', '45-54', '55-64', '65+'])\n",
    "\n",
    "hh_demographic_fxd['INCOME_DESC'] = dem_fx.order_hh_dem(\n",
    "    hh_demographic_fxd, 'INCOME_DESC', \n",
    "    ['Under 15K', '15-24K', '25-34K', '35-49K', '50-74K', '75-99K',\n",
    "        '100-124K', '125-149K', '150-174K', '175-199K', '200-249K', '250K+'])\n",
    "\n",
    "hh_demographic_fxd['HOMEOWNER_DESC'] = dem_fx.order_hh_dem(\n",
    "    hh_demographic_fxd, 'HOMEOWNER_DESC',\n",
    "    ['Unknown', 'Probable Renter', 'Renter', 'Probable Owner', 'Homeowner'])\n",
    "\n",
    "hh_demographic_fxd['HOUSEHOLD_SIZE_DESC'] = dem_fx.order_hh_dem(\n",
    "    hh_demographic_fxd, 'HOUSEHOLD_SIZE_DESC', ['1', '2', '3', '4', '5+'])\n",
    "\n",
    "hh_demographic_fxd['KIDS_DESC'] = dem_fx.order_hh_dem(\n",
    "    hh_demographic_fxd, 'KIDS_DESC', ['0', '1', '2', '3+'])\n",
    "\n",
    "hh_demographic_fxd['MARITAL_STATUS_CODE'] = dem_fx.order_hh_dem(\n",
    "    hh_demographic_fxd, 'MARITAL_STATUS_CODE', ['M', 'S', 'U'])"
   ]
  },
  {
   "cell_type": "markdown",
   "metadata": {},
   "source": [
    "Now that all the categories in this data frame are ranged in a meaningful way, let's make some simple plots to have an idea of the characteristics of the population which we study."
   ]
  },
  {
   "cell_type": "code",
   "execution_count": 31,
   "metadata": {},
   "outputs": [
    {
     "data": {
      "image/png": "[encoded data removed]",
      "text/plain": [
       "<Figure size 1296x1296 with 6 Axes>"
      ]
     },
     "metadata": {
      "needs_background": "light"
     },
     "output_type": "display_data"
    }
   ],
   "source": [
    "fig, axs = plt.subplots(2, 3, figsize=(18, 18))\n",
    "\n",
    "sns.countplot(hh_demographic_fxd['AGE_DESC'], ax=axs[0, 0])\n",
    "\n",
    "sns.countplot(hh_demographic_fxd['MARITAL_STATUS_CODE'], ax=axs[0, 1])\n",
    "\n",
    "sns.countplot(hh_demographic_fxd['INCOME_DESC'], ax=axs[1, 0])\n",
    "axs[1, 0].set_xticklabels(axs[1, 0].get_xticklabels(),\n",
    "                          rotation=45,\n",
    "                          horizontalalignment='right')\n",
    "\n",
    "sns.countplot(hh_demographic_fxd['HOMEOWNER_DESC'], ax=axs[1, 1])\n",
    "axs[1, 1].set_xticklabels(axs[1, 1].get_xticklabels(),\n",
    "                          rotation=45,\n",
    "                          horizontalalignment='right')\n",
    "\n",
    "sns.countplot(hh_demographic_fxd['KIDS_DESC'], ax=axs[1, 2])\n",
    "axs[1, 2].set_xticklabels(axs[1, 2].get_xticklabels(),\n",
    "                          rotation=45,\n",
    "                          horizontalalignment='right')\n",
    "\n",
    "sns.countplot(hh_demographic_fxd['HOUSEHOLD_SIZE_DESC'], ax=axs[0, 2])\n",
    "\n",
    "\n",
    "plt.show()"
   ]
  },
  {
   "cell_type": "markdown",
   "metadata": {},
   "source": [
    "**Comment on graph**: We see that we don't have uniformly distributed demographic data. We know now that: \n",
    "- Age: most of our households are between 35-54 years old (which age does that represent ? Man of the house ?) \n",
    "- Marital status: most households are married but we don't know the status of a lot of others\n",
    "- Household size: majority of households of 2 people\n",
    "- Income: most people between 35-75 K (the average American income is 50 K so seems all right)\n",
    "- Homeowner: most households are homeowners, still a lot of unknowns though. \n",
    "- Kids: Most households don't have kids. "
   ]
  },
  {
   "cell_type": "code",
   "execution_count": 114,
   "metadata": {},
   "outputs": [],
   "source": [
    "# We give numerical values to qualitative data\n",
    "hh_demo_corr = pd.read_csv(\"saved_structures/hh_demographic_fix_hhcomp.csv\", sep='\\t')\n",
    "hh_demo_corr= hh_demo_corr.drop(['household_key'], axis =1)\n",
    "\n",
    "hh_demo_corr.loc[hh_demo_corr['MARITAL_STATUS_CODE'] == 'M', 'MARITAL_STATUS_CODE'] = 2\n",
    "hh_demo_corr.loc[hh_demo_corr['MARITAL_STATUS_CODE'] == 'S', 'MARITAL_STATUS_CODE'] = 1\n",
    "hh_demo_corr.loc[hh_demo_corr['MARITAL_STATUS_CODE'] == 'U', 'MARITAL_STATUS_CODE'] = 0\n",
    "\n",
    "hh_demo_corr.loc[hh_demo_corr['AGE_DESC'] == '65+', 'AGE_DESC'] = 65\n",
    "hh_demo_corr.loc[hh_demo_corr['AGE_DESC'] == '45-54', 'AGE_DESC'] = 50\n",
    "hh_demo_corr.loc[hh_demo_corr['AGE_DESC'] == '25-34', 'AGE_DESC'] = 30\n",
    "hh_demo_corr.loc[hh_demo_corr['AGE_DESC'] == '35-44', 'AGE_DESC'] = 40\n",
    "hh_demo_corr.loc[hh_demo_corr['AGE_DESC'] == '19-24', 'AGE_DESC'] = 20\n",
    "hh_demo_corr.loc[hh_demo_corr['AGE_DESC'] == '55-64', 'AGE_DESC'] = 60\n",
    "\n",
    "hh_demo_corr.loc[hh_demo_corr['INCOME_DESC'] == 'Under 15K', 'INCOME_DESC'] = 15\n",
    "hh_demo_corr.loc[hh_demo_corr['INCOME_DESC'] == '15-24K', 'INCOME_DESC'] = 19.5\n",
    "hh_demo_corr.loc[hh_demo_corr['INCOME_DESC'] == '25-34K', 'INCOME_DESC'] = 29.5\n",
    "hh_demo_corr.loc[hh_demo_corr['INCOME_DESC'] == '35-49K', 'INCOME_DESC'] = 42\n",
    "hh_demo_corr.loc[hh_demo_corr['INCOME_DESC'] == '50-74K', 'INCOME_DESC'] = 62\n",
    "hh_demo_corr.loc[hh_demo_corr['INCOME_DESC'] == '75-99K', 'INCOME_DESC'] = 87\n",
    "hh_demo_corr.loc[hh_demo_corr['INCOME_DESC'] == '100-124K', 'INCOME_DESC'] = 112\n",
    "hh_demo_corr.loc[hh_demo_corr['INCOME_DESC'] == '125-149K', 'INCOME_DESC'] = 137\n",
    "hh_demo_corr.loc[hh_demo_corr['INCOME_DESC'] == '150-174K', 'INCOME_DESC'] = 162\n",
    "hh_demo_corr.loc[hh_demo_corr['INCOME_DESC'] == '175-199K', 'INCOME_DESC'] = 187\n",
    "hh_demo_corr.loc[hh_demo_corr['INCOME_DESC'] == '200-249K', 'INCOME_DESC'] = 245\n",
    "hh_demo_corr.loc[hh_demo_corr['INCOME_DESC'] == '250K+', 'INCOME_DESC'] = 250\n",
    "\n",
    "hh_demo_corr.loc[hh_demo_corr['HOUSEHOLD_SIZE_DESC'] == '5+', 'HOUSEHOLD_SIZE_DESC'] = 5\n",
    "hh_demo_corr.loc[hh_demo_corr['HOUSEHOLD_SIZE_DESC'] == '4', 'HOUSEHOLD_SIZE_DESC'] = 4\n",
    "hh_demo_corr.loc[hh_demo_corr['HOUSEHOLD_SIZE_DESC'] == '3', 'HOUSEHOLD_SIZE_DESC'] = 3\n",
    "hh_demo_corr.loc[hh_demo_corr['HOUSEHOLD_SIZE_DESC'] == '2', 'HOUSEHOLD_SIZE_DESC'] = 2\n",
    "hh_demo_corr.loc[hh_demo_corr['HOUSEHOLD_SIZE_DESC'] == '1', 'HOUSEHOLD_SIZE_DESC'] = 1\n",
    "\n",
    "hh_demo_corr.loc[hh_demo_corr['KIDS_DESC'] == '3+', 'KIDS_DESC'] = 3\n",
    "hh_demo_corr.loc[hh_demo_corr['KIDS_DESC'] == '2', 'KIDS_DESC'] = 2\n",
    "hh_demo_corr.loc[hh_demo_corr['KIDS_DESC'] == '1', 'KIDS_DESC'] = 1\n",
    "hh_demo_corr.loc[hh_demo_corr['KIDS_DESC'] == '0', 'KIDS_DESC'] = 0\n",
    "\n",
    "hh_demo_corr.loc[hh_demo_corr['HOMEOWNER_DESC'] == 'Homeowner', 'HOMEOWNER_DESC'] = 4\n",
    "hh_demo_corr.loc[hh_demo_corr['HOMEOWNER_DESC'] == 'Probable Owner', 'HOMEOWNER_DESC'] = 3\n",
    "hh_demo_corr.loc[hh_demo_corr['HOMEOWNER_DESC'] ==  'Renter', 'HOMEOWNER_DESC'] = 2\n",
    "hh_demo_corr.loc[hh_demo_corr['HOMEOWNER_DESC'] == 'Probable Renter', 'HOMEOWNER_DESC'] = 1\n",
    "hh_demo_corr.loc[hh_demo_corr['HOMEOWNER_DESC'] == 'Unknown', 'HOMEOWNER_DESC'] = 0\n",
    "\n",
    "hh_demo_corr= hh_demo_corr.astype(float)"
   ]
  },
  {
   "cell_type": "code",
   "execution_count": 162,
   "metadata": {},
   "outputs": [
    {
     "data": {
      "text/plain": [
       "Text(0.5, 1, 'Correlation matrix of the demographic data')"
      ]
     },
     "execution_count": 162,
     "metadata": {},
     "output_type": "execute_result"
    },
    {
     "data": {
      "image/png": "[encoded data removed]",
      "text/plain": [
       "<Figure size 720x504 with 2 Axes>"
      ]
     },
     "metadata": {
      "needs_background": "light"
     },
     "output_type": "display_data"
    }
   ],
   "source": [
    "#correlation age and marital status\n",
    "# Draw a heatmap with the numeric values in each cell\n",
    "plt.figure(figsize=(10,7))\n",
    "#Quality correlation matrix\n",
    "cm = hh_demo_corr.corr(method ='pearson')\n",
    "#I set the ylabels to false because I have a display problem, but it can be changed\n",
    "sns.heatmap(cm, annot=True, cmap = \"YlGnBu\", square = True,xticklabels=1, yticklabels= False)\n",
    "plt.title('Correlation matrix of the demographic data',fontsize=20)"
   ]
  },
  {
   "cell_type": "markdown",
   "metadata": {},
   "source": [
    "As we can see in this correlation matrix, there is really high correlation (0.92) in between the kid number and the household size, which shows that our data are coherent. Moreover we observe a strong positive correlation (0.63) in between the household size and the marital status. This lets us think that most people with kids are married. In opposite, we observe week positive correlations for the household size and the owning status, for the marital status and the owning status and for the income and the owning status. It means that we have a good diversity of household types, even if married couple tend to own their house and have kids. Finally, the age of the participants is only positively and weakly correlated with the home owner type, otherwise there is no correlation with the other households features."
   ]
  },
  {
   "cell_type": "code",
   "execution_count": 200,
   "metadata": {},
   "outputs": [
    {
     "data": {
      "text/plain": [
       "<matplotlib.axes._subplots.AxesSubplot at 0x1a208985d0>"
      ]
     },
     "execution_count": 200,
     "metadata": {},
     "output_type": "execute_result"
    },
    {
     "data": {
      "image/png": "[encoded data removed]",
      "text/plain": [
       "<Figure size 432x288 with 1 Axes>"
      ]
     },
     "metadata": {
      "needs_background": "light"
     },
     "output_type": "display_data"
    },
    {
     "data": {
      "image/png": "[encoded data removed]",
      "text/plain": [
       "<Figure size 432x288 with 1 Axes>"
      ]
     },
     "metadata": {
      "needs_background": "light"
     },
     "output_type": "display_data"
    },
    {
     "data": {
      "image/png": "[encoded data removed]",
      "text/plain": [
       "<Figure size 432x288 with 1 Axes>"
      ]
     },
     "metadata": {
      "needs_background": "light"
     },
     "output_type": "display_data"
    }
   ],
   "source": [
    "Married_vs_owner = hh_demo_corr.groupby(['MARITAL_STATUS_CODE','HOMEOWNER_DESC']).count()\n",
    "Married_vs_owner.unstack()['KIDS_DESC'].plot.bar(rot=0)\n",
    "\n",
    "Married_vs_age = hh_demo_corr.groupby(['MARITAL_STATUS_CODE','AGE_DESC']).count()\n",
    "Married_vs_age.unstack()['KIDS_DESC'].plot.bar(rot=0)\n",
    "\n",
    "Married_vs_income = hh_demo_corr.groupby(['MARITAL_STATUS_CODE','INCOME_DESC']).count()\n",
    "Married_vs_income.unstack()['KIDS_DESC'].plot.bar(rot=0)"
   ]
  },
  {
   "cell_type": "markdown",
   "metadata": {},
   "source": [
    "### Transaction data:"
   ]
  },
  {
   "cell_type": "markdown",
   "metadata": {},
   "source": [
    "Dataset of all products purchased by households during the study. Each line in the table is what could essentially be found in a store reciept. The attributes of the dataset are the following: \n",
    "\n",
    "- HOUSEHOLD_KEY: identifies each household, \n",
    "- BASKET_ID: identifies a purchase occasion, \n",
    "- DAY: day when transaction occured\n",
    "- PRODUCT_ID: identifies each product, \n",
    "- QUANTITY: Number of products purchased during trip\n",
    "- SALES_VALUE: Amount of dollars retailer recieves from sale\n",
    "- STORE_ID: identifies store, \n",
    "- COUPON_MATCH_DISC: discount applied du to retailer's match of manufacturer coupon\n",
    "- COUPON_DISC: discount applied due to manufacturer coupon\n",
    "- RETAIL_DISC: discount applied due to retailer's loyalty card program\n",
    "- TRANS_TIME: time of day when transaction occured\n",
    "- WEEK_NO: week of the transaction. Ranges from 1-102. "
   ]
  },
  {
   "cell_type": "code",
   "execution_count": null,
   "metadata": {},
   "outputs": [],
   "source": [
    "transaction_data.head(4)"
   ]
  },
  {
   "cell_type": "markdown",
   "metadata": {},
   "source": [
    "Drop the coupons columns as we're not interessed in marketing. "
   ]
  },
  {
   "cell_type": "code",
   "execution_count": null,
   "metadata": {},
   "outputs": [],
   "source": [
    "trans_initial_clean = transaction_data.drop(\n",
    "    ['COUPON_DISC', 'COUPON_MATCH_DISC', 'RETAIL_DISC'], axis=1)\n",
    "\n",
    "trans_initial_clean_hous_ind = trans_initial_clean[\n",
    "    'household_key'].sort_values().unique()\n",
    "\n",
    "trans_initial_clean.head(3)"
   ]
  },
  {
   "cell_type": "markdown",
   "metadata": {},
   "source": [
    "#### Quick overview: "
   ]
  },
  {
   "cell_type": "markdown",
   "metadata": {},
   "source": [
    "##### Number of total transactions: "
   ]
  },
  {
   "cell_type": "code",
   "execution_count": null,
   "metadata": {},
   "outputs": [],
   "source": [
    "print(\"In total there were \" +\n",
    "      f\"{transaction_data.count()['household_key']:,d}\" +\n",
    "      \" transactions during the two years.\")"
   ]
  },
  {
   "cell_type": "markdown",
   "metadata": {},
   "source": [
    "##### Number of total purchase occasions: \n",
    "Attention : here transactions are not what we usually think of. It's like on a receipt so the number of total unique purchases is not the number of transactions but the total of unique basket_id. "
   ]
  },
  {
   "cell_type": "code",
   "execution_count": null,
   "metadata": {},
   "outputs": [],
   "source": [
    "print(\"In total there were \" +\n",
    "      f\"{len(transaction_data['BASKET_ID'].unique()):,d}\" +\n",
    "      \" purchase occasions during the two years.\")"
   ]
  },
  {
   "cell_type": "markdown",
   "metadata": {},
   "source": [
    "##### Number of households in transaction dataset:"
   ]
  },
  {
   "cell_type": "code",
   "execution_count": null,
   "metadata": {},
   "outputs": [],
   "source": [
    "print(\"In total there were \" +\n",
    "      f\"{len(transaction_data['household_key'].unique()):,d}\" +\n",
    "      \" households represented during the two years.\")"
   ]
  },
  {
   "cell_type": "code",
   "execution_count": null,
   "metadata": {},
   "outputs": [],
   "source": [
    "#The data looks like the following:\n",
    "transaction_data.head(3)"
   ]
  },
  {
   "cell_type": "markdown",
   "metadata": {},
   "source": [
    "#### Favored product departments and labels:\n",
    "Use dataset with new labeled product info from Product notebook. "
   ]
  },
  {
   "cell_type": "code",
   "execution_count": null,
   "metadata": {},
   "outputs": [],
   "source": [
    "#Load the dataset with updated product labels:\n",
    "labelled_prod = pd.read_csv('saved_structures/updated_prod.csv', sep='\\t')\n",
    "\n",
    "# remove empty department product, it was forgotten during preprocessing\n",
    "EmptyDepIndex = labelled_prod[labelled_prod['DEPARTMENT'] == ' '].index\n",
    "labelled_prod.drop(EmptyDepIndex, inplace=True)\n",
    "\n",
    "#Drop columns we are not interested in\n",
    "labelled_prod = labelled_prod.set_index('PRODUCT_ID').drop(\n",
    "    ['MANUFACTURER', 'BRAND', 'CURR_SIZE_OF_PRODUCT'], axis=1)\n",
    "labelled_prod.head(4)"
   ]
  },
  {
   "cell_type": "markdown",
   "metadata": {},
   "source": [
    "###### What departments and labels were used in our transaction data ?\n",
    "We assume that most transactions fall in the department of grocery and drug GM (general merchandise). Let's see if we're right."
   ]
  },
  {
   "cell_type": "code",
   "execution_count": null,
   "metadata": {},
   "outputs": [],
   "source": [
    "labelled_trans = trans_initial_clean.join(other=labelled_prod,\n",
    "                                          on='PRODUCT_ID').dropna()\n",
    "plt_fx.cat_count_plot(\n",
    "    labelled_trans['DEPARTMENT'],\n",
    "    'Number of occurences per department in our transaction data')\n",
    "\n",
    "plt_fx.cat_count_plot(\n",
    "    labelled_trans['LABEL'],\n",
    "    'Number of occurences per label in our transaction data')"
   ]
  },
  {
   "cell_type": "markdown",
   "metadata": {},
   "source": [
    "**Comment on graph**: Like we predicted, most of the transactions that occurred during the two year study were groceries, drug and general merchandise or Produce. Here we need to point out the \"FAST FOOD AND SNACKS\" is a label for everything food related that is not fresh produce (vegetables, dairy, meat, etc) in groceries like Honey, Cookies, Muffins, ready made dinners, dips, etc. It's of course also a label for fast food from the deli. We can see that in the next table: "
   ]
  },
  {
   "cell_type": "code",
   "execution_count": null,
   "metadata": {},
   "outputs": [],
   "source": [
    "labelled_prod[labelled_prod['LABEL'] == 'FAST FOOD & SNACKS'].sample(5)"
   ]
  },
  {
   "cell_type": "markdown",
   "metadata": {},
   "source": [
    "Because we want to look at how much households spend on groceries we're going to keep only transactions that are in the department of drug and general merchandise, groceries or produce (meat, deli and packaged meat included). We defined general merchandise as a broad catchall term for pretty much everything that's not groceries – from hearing aid batteries to major appliances. "
   ]
  },
  {
   "cell_type": "code",
   "execution_count": null,
   "metadata": {},
   "outputs": [],
   "source": [
    "#Filter transaction data to contain only the major departments:\n",
    "list_of_departments = ['GROCERY', 'DRUG GM', 'PRODUCE', 'MEAT', 'MEAT-PCKGD', 'DELI']\n",
    "\n",
    "trans_clean = labelled_trans[labelled_trans['DEPARTMENT'].apply(\n",
    "    lambda x: x in list_of_departments)]\n",
    "\n",
    "trans_clean_hous_ind = trans_clean['household_key'].sort_values().unique()"
   ]
  },
  {
   "cell_type": "markdown",
   "metadata": {},
   "source": [
    "#### Shopping frequencies:"
   ]
  },
  {
   "cell_type": "markdown",
   "metadata": {},
   "source": [
    "We make the assumption here that a year is 51 weeks. We could have also looked at the days but weeks was easier as there are 102 weeks in the dataset. "
   ]
  },
  {
   "cell_type": "code",
   "execution_count": null,
   "metadata": {},
   "outputs": [],
   "source": [
    "#Households per year:\n",
    "trans_clean_year_1 = trans_clean[trans_clean['WEEK_NO'].apply(\n",
    "    lambda x: x <= 51)]\n",
    "trans_clean_year_2 = trans_clean[trans_clean['WEEK_NO'].apply(\n",
    "    lambda x: x > 51)]\n",
    "\n",
    "#Get the household indices for each year:\n",
    "trans_clean_hous_ind_1 = trans_clean_year_1['household_key'].sort_values().unique()\n",
    "trans_clean_hous_ind_2 = trans_clean_year_2['household_key'].sort_values().unique()\n",
    "\n",
    "purch_per_household_year1 = trns.trans_per_year(\n",
    "    trans_clean_year_1, trans_clean_hous_ind_1)\n",
    "purch_per_household_year2 = trns.trans_per_year(\n",
    "    trans_clean_year_2, trans_clean_hous_ind_2)\n",
    "\n",
    "print('Mean of total purchases in the first year per household is %d purchases per year'\n",
    "    % purch_per_household_year1['total purchase per year'].mean())\n",
    "print('Median of total purchases in the first year per household is %d purchases per year'\n",
    "    % purch_per_household_year1['total purchase per year'].median())\n",
    "print('\\n')\n",
    "print('Mean of total purchases in the second year per household is %d purchases per year'\n",
    "    % purch_per_household_year2['total purchase per year'].mean())\n",
    "print('Median of total purchases in the second year per household is %d purchases per year'\n",
    "    % purch_per_household_year2['total purchase per year'].median())\n",
    "\n",
    "#Plot distribution if we want to look at them:\n",
    "titles = [\n",
    "    'Distribution of total purchases over the first year per household',\n",
    "    'Distribution of total purchaes over the second year per household']\n",
    "xlabels = [\n",
    "    'Number of total purchases in the first year',\n",
    "    'Number of total purchases in the second year']\n",
    "\n",
    "plt_fx.double_plot_box_dist(\n",
    "    purch_per_household_year1['total purchase per year'],\n",
    "    purch_per_household_year2['total purchase per year'], titles, xlabels)"
   ]
  },
  {
   "cell_type": "markdown",
   "metadata": {},
   "source": [
    "###### Conclusion for this part: \n",
    "We learned that, though the mean of households goes shopping approximately once per week, half of the households goes shopping less than once per week (through the median). Usually, if households did all their shopping at this retailer, we would assume that they should buy groceries at least every week in average. So we can guess already here that those households probably also do their shopping elsewhere than just this particular retailer. To confirm this we need to look at how much households spend and their specific participation length in the study. "
   ]
  },
  {
   "cell_type": "markdown",
   "metadata": {},
   "source": [
    "#### Participation rate in the study:\n",
    "E.g. did all households participate during two years ? "
   ]
  },
  {
   "cell_type": "code",
   "execution_count": null,
   "metadata": {},
   "outputs": [],
   "source": [
    "#Create the dataframes of spending per household (how much they paid for each purchase)\n",
    "#for each year and in total over both years:\n",
    "\n",
    "grouped_trans_spent_total = trns.spending_per_household_per_trans(\n",
    "    trans_clean)\n",
    "grouped_trans_spent_year1 = trns.spending_per_household_per_trans(\n",
    "    trans_clean_year_1)\n",
    "grouped_trans_spent_year2 = trns.spending_per_household_per_trans(\n",
    "    trans_clean_year_2)\n",
    "\n",
    "grouped_trans_spent_year1.head(4)"
   ]
  },
  {
   "cell_type": "code",
   "execution_count": null,
   "metadata": {},
   "outputs": [],
   "source": [
    "#Check if all households are present both years:\n",
    "missing_households_year1 = set(list(range(1, 2501))).difference(\n",
    "    set(trans_clean_year_1['household_key'].unique()))\n",
    "\n",
    "missing_households_year2 = set(list(range(1, 2501))).difference(\n",
    "    set(trans_clean_year_2['household_key'].unique()))\n",
    "\n",
    "print(\n",
    "    \"The following households are not represented in the first year transaction data: \",\n",
    "    missing_households_year1)\n",
    "print(\n",
    "    \"The following households are not represented in the second year transaction data: \",\n",
    "    missing_households_year2)"
   ]
  },
  {
   "cell_type": "code",
   "execution_count": null,
   "metadata": {},
   "outputs": [],
   "source": [
    "#Create a pandas dataframe with participation length per household key:\n",
    "participation_per_hh = pd.DataFrame(\n",
    "    index=trans_clean_hous_ind,\n",
    "    data={\n",
    "        'participation_length': [\n",
    "            len(grouped_trans_spent_total.loc[i]['WEEK_NO'].unique())\n",
    "            for i in trans_clean_hous_ind\n",
    "        ]\n",
    "    })\n",
    "\n",
    "#Plot participation:\n",
    "plt_fx.plot_box_dist(\n",
    "    participation_per_hh['participation_length'],\n",
    "    'Distribution of participation duration in the study',\n",
    "    'Lenght of participation [weeks]')\n",
    "\n",
    "print(\n",
    "    f\"There were {len(participation_per_hh[participation_per_hh['participation_length'] >= 100]):n} households that participated two years.\"\n",
    ")"
   ]
  },
  {
   "cell_type": "markdown",
   "metadata": {},
   "source": [
    "###### Conclusion for this part: \n",
    "We realize that some households were not present in the first year and some other dropped out of the study in the second year. But actually, we see that most households only participated between 20 and 80 weeks. Only 3 households did over 100 weeks. For now we are going to keep all households and not filter them on participation length because we don't know if participation is correlated with shopping trends. We just need to keep this in mind. "
   ]
  },
  {
   "cell_type": "markdown",
   "metadata": {},
   "source": [
    "#### Household spending:"
   ]
  },
  {
   "cell_type": "markdown",
   "metadata": {},
   "source": [
    "##### Yearly spending:"
   ]
  },
  {
   "cell_type": "code",
   "execution_count": null,
   "metadata": {},
   "outputs": [],
   "source": [
    "#Dataframes of how much families spent per year (for year 1, 2 and for the mean of both years):\n",
    "budget_first_year = trns.bud_total_per_year(grouped_trans_spent_year1,\n",
    "                                            trans_clean_hous_ind_1)\n",
    "\n",
    "budget_second_year = trns.bud_total_per_year(grouped_trans_spent_year2,\n",
    "                                             trans_clean_hous_ind_2)\n",
    "\n",
    "#Dataframes of mean yearly spending:\n",
    "mean_yearly_spend = trns.mean_yearly_spending(budget_first_year,\n",
    "                                              budget_second_year)\n",
    "\n",
    "mean1 = budget_first_year['yearly spending'].mean()\n",
    "median1 = budget_first_year['yearly spending'].median()\n",
    "\n",
    "mean2 = budget_second_year['yearly spending'].mean()\n",
    "median2 = budget_second_year['yearly spending'].median()\n",
    "\n",
    "print('Mean of budget in the first year per household is ' +\n",
    "      f\"{round(mean1, 2):,}\" + ' dollars per year')\n",
    "print('Median of budget in the first year per household is ' +\n",
    "      f\"{round(median1, 2):,}\" + ' dollars per year')\n",
    "print('\\n')\n",
    "print('Mean of budget in the second year per household is ' +\n",
    "      f\"{round(mean2, 2):,}\" + ' dollars per year')\n",
    "print('Median of budget in the second year per household is ' +\n",
    "      f\"{round(median2, 2):,}\" + ' dollars per year')\n",
    "\n",
    "titles = [\n",
    "    'Amount spent per household in the first year',\n",
    "    'Amount spent per household in the second year'\n",
    "]\n",
    "xlabels = ['Amount spent per year', 'Amount spent per year']\n",
    "\n",
    "plt_fx.double_plot_box_dist(budget_first_year['yearly spending'],\n",
    "                            budget_second_year['yearly spending'], titles,\n",
    "                            xlabels)"
   ]
  },
  {
   "cell_type": "markdown",
   "metadata": {},
   "source": [
    "###### Conclusion for this part: \n",
    "Most families during the two years spent between ~400 dollars to 2000 dollars per year. We see though that there are outliers households that spent over 4000 dollars. It would be interesting to see if those are families with higher income or something else that demographically differentiates them from the rest. But first as 400 dollars per year does not make a lot of sense in term of regular spending at a retailer, we need to have an idea of how much households spent per week in average as it is easier to relate to than yearly spending. "
   ]
  },
  {
   "cell_type": "markdown",
   "metadata": {},
   "source": [
    "##### Weekly spending:\n"
   ]
  },
  {
   "cell_type": "markdown",
   "metadata": {},
   "source": [
    "We define average weekly spending as the total amount of money spent per household divided by the number of weeks they participated. <br>"
   ]
  },
  {
   "cell_type": "code",
   "execution_count": null,
   "metadata": {},
   "outputs": [],
   "source": [
    "mean_budget_week = trns.df_weekly_spending(trans_clean)\n",
    "\n",
    "mean = [\n",
    "    mean_yearly_spend['mean yearly spending'].mean(),\n",
    "    mean_budget_week['mean weekly spending'].mean()\n",
    "]\n",
    "\n",
    "median = [\n",
    "    mean_yearly_spend['mean yearly spending'].median(),\n",
    "    mean_budget_week['mean weekly spending'].median()\n",
    "]\n",
    "\n",
    "print('Mean of weekly budget per family ' + f\"{round(mean[1], 2):,}\" +\n",
    "      ' dollars per week')\n",
    "print('Median of weekly budget per family is ' + f\"{round(median[1], 2):,}\" +\n",
    "      ' dollars per week')\n",
    "\n",
    "plt_fx.double_plot_box_dist(\n",
    "    mean_yearly_spend['mean yearly spending'],\n",
    "    mean_budget_week['mean weekly spending'],\n",
    "    ['Mean yearly amount per household', 'Weekly amount spent per household'],\n",
    "    ['Yearly spending [$]', 'Weekly spending [$]'])"
   ]
  },
  {
   "cell_type": "code",
   "execution_count": null,
   "metadata": {},
   "outputs": [],
   "source": [
    "print(f\"There were {len(mean_budget_week[mean_budget_week['mean weekly spending'] < 50]):n} households with a budget under 50 dollars per week.\")"
   ]
  },
  {
   "cell_type": "code",
   "execution_count": null,
   "metadata": {},
   "outputs": [],
   "source": [
    "print(f\"There were {len(mean_budget_week[mean_budget_week['mean weekly spending'] > 120]):n} households with a budget over 120 dollars per week.\")"
   ]
  },
  {
   "cell_type": "markdown",
   "metadata": {},
   "source": [
    "###### Conclusion for this part: \n",
    "We notice that most households spend between \\\\$50-100 per week on purchases. We notice that a lot of households spent less than \\\\$50 per week. That seems to low for a weekly budget of full groceries as the weekly amount set by \"[Business insider:]( https://www.businessinsider.com/what-americans-spend-on-groceries-every-month-2019-4?r=US&IR=T#22-dallas-fort-worth-1)\" for the US is around \\\\$70. This again confirms that households do only part of their shopping at this retailer. Let's have a look at what households spend according to their income: "
   ]
  },
  {
   "cell_type": "markdown",
   "metadata": {},
   "source": [
    "#### Average spending versus income:\n"
   ]
  },
  {
   "cell_type": "code",
   "execution_count": null,
   "metadata": {},
   "outputs": [],
   "source": [
    "\"\"\"\n",
    "#Load the clean demographic dataset from Marco:\n",
    "\n",
    "demographic_df = pd.read_csv('saved_structures/hh_demographic_fix_hhcomp.csv',\n",
    "                             sep='\\t')\n",
    "\n",
    "demographic_df = demographic_df.set_index('household_key')\n",
    "\"\"\"\n",
    "\n",
    "demographic_df = hh_demographic_fxd\n",
    "demographic_df = demographic_df.set_index('household_key')\n",
    "\n",
    "#Make categorical variables: \n",
    "demographic_df['INCOME_DESC'] = dem_fx.order_hh_dem(\n",
    "    demographic_df, 'INCOME_DESC', [\n",
    "        'Under 15K', '15-24K', '25-34K', '35-49K', '50-74K', '75-99K',\n",
    "        '100-124K', '125-149K', '150-174K', '175-199K', '200-249K', '250K+'\n",
    "    ])\n",
    "\n",
    "demographic_df['HOUSEHOLD_SIZE_DESC'] = dem_fx.order_hh_dem(\n",
    "    demographic_df, 'HOUSEHOLD_SIZE_DESC', ['1', '2', '3', '4', '5+'])\n",
    "\n",
    "demographic_df.head(4)"
   ]
  },
  {
   "cell_type": "markdown",
   "metadata": {},
   "source": [
    "We create a new demographic data frame where a column with mean yearly and weekly budget are added. We note though that there are only 759 demographic entries. That means that we can only look at the demographic information of part of the households above as for transactions we considered 2500 households. "
   ]
  },
  {
   "cell_type": "code",
   "execution_count": null,
   "metadata": {},
   "outputs": [],
   "source": [
    "#Create dataframe with weekly and yearly spending:\n",
    "#The yearly spending is the mean over the two years\n",
    "\n",
    "hh_spending = mean_budget_week.join(mean_yearly_spend).dropna()\n",
    "\n",
    "hh_spending = hh_spending.join(demographic_df).dropna()\n",
    "\n",
    "print(\n",
    "    f\"Note: There are {len(hh_spending.index):n} in this new dataframe not 2500 households\"\n",
    ")\n",
    "\n",
    "#Save to csv:\n",
    "if not os.path.exists(\"saved_structures\"):\n",
    "    os.makedirs(\"saved_structures\")\n",
    "hh_spending.to_csv(\"saved_structures/hh_spending.csv\", sep='\\t', index=False)\n",
    "\n",
    "hh_spending.head(4)"
   ]
  },
  {
   "cell_type": "markdown",
   "metadata": {},
   "source": [
    "Plot the weekly and yearly spending versus income for each income category: "
   ]
  },
  {
   "cell_type": "code",
   "execution_count": null,
   "metadata": {},
   "outputs": [],
   "source": [
    "titles = ['Yearly spending versus income', 'Weekly spending versus income']\n",
    "\n",
    "print(\n",
    "    f\"The mean of yearly spending per household is {hh_spending['mean yearly spending'].mean():n}.\"\n",
    ")\n",
    "print(\n",
    "    f\"The mean of weekly spending per household is {hh_spending['mean weekly spending'].mean():n}.\"\n",
    ")\n",
    "\n",
    "plt_fx.double_categorical_scatter(hh_spending['INCOME_DESC'],\n",
    "                                  hh_spending['mean yearly spending'],\n",
    "                                  hh_spending['INCOME_DESC'],\n",
    "                                  hh_spending['mean weekly spending'],\n",
    "                                  titles,\n",
    "                                  add_mean=True)"
   ]
  },
  {
   "cell_type": "markdown",
   "metadata": {},
   "source": [
    "###### Comment: \n",
    "We note that weekly spending and income does not augment linearly. We might have thought that a higher income creates higher spending habits but from what we see here it does not seem like it. For now it looks like the average spending at this retailer is not regular per income levels. Again this hints that the part of households that do most of their shopping at this retailer or only part of it varies greatly among all income levels. "
   ]
  },
  {
   "cell_type": "markdown",
   "metadata": {},
   "source": [
    "###### Low weekly spending vs participation length: \n",
    "We look at the relation between weekly spending and participation length. This might indicate that those households did not participate a lot in the study and that their data cannot be considered because they might not give any information about shopping habits. "
   ]
  },
  {
   "cell_type": "code",
   "execution_count": null,
   "metadata": {},
   "outputs": [],
   "source": [
    "#Create a new dataframe with participation length added to demographic data:\n",
    "participation_hh_dem = participation_per_hh.join(hh_spending).dropna()\n",
    "\n",
    "#Look at households that spend under 25 dollars per week:\n",
    "under25 = participation_hh_dem[\n",
    "    participation_hh_dem['mean weekly spending'] <= 25]\n",
    "\n",
    "#Plot participation versus income:\n",
    "titles = [\n",
    "    'Income versus mean weekly spending for households with low spending',\n",
    "    'Income versus study participation length for households with low spending'\n",
    "]\n",
    "\n",
    "plt_fx.double_categorical_scatter(under25['INCOME_DESC'],\n",
    "                                  under25['mean weekly spending'],\n",
    "                                  under25['INCOME_DESC'],\n",
    "                                  under25['participation_length'], titles)"
   ]
  },
  {
   "cell_type": "markdown",
   "metadata": {},
   "source": [
    "###### Comment on graph:\n",
    "We note that households with low weekly spending still participated for at least around 40 weeks so we cannot say that those households just partcipated once and did it \"badly\" and that their data cannot be taken into account when looking for shopping trends. But still, some households with 35-49K income spent below 12 dollars per week."
   ]
  },
  {
   "cell_type": "markdown",
   "metadata": {},
   "source": [
    "#### \"Loyal\" shoppers ? \n",
    "By loyal we mean that they might do most of their shopping at this retailer. In a perfect world, to get information about food habits from these household transactions, we would need all households to do most of their grocery shopping at this retailer. For this wee need information about usual grocery spending habits, we use statistics available online: <br>\n",
    "\n",
    "According to the [Bureau of Labor statistics:](https://www.thestreet.com/personal-finance/average-cost-of-food-14845479)\n",
    "- Food spending: more than \\\\$7'7000 per year on groceries and more .\n",
    "    - one member household : \\\\$4,425\n",
    "    - Two members : \\\\$7,865\n",
    "    - Four members : \\\\$10,995\n",
    "- Income levels: attention groceries do not include eating-out ! \n",
    "    - lowest 20%: Mean Income of \\\\$11,394 -> \\\\$2,582 on groceries per year. **On what kind of produce do they spend it ?**\n",
    "    - second 20%: Mean income \\\\$29,821 -> \\\\$3,622 on groceries per year. \n",
    "    - third 20%: Mean income \\\\$52,431 -> \\\\$4,038 on groceries per year. \n",
    "    - fourth 20%: Mean Income of \\\\$86,363 -> \\\\$4,893 on groceries\n",
    "    - top 20%: Mean Income of \\\\$188,103 -> \\\\$6,677 on groceries\n",
    "    \n",
    "<br>\n",
    "So we know that in our data, every household (in the lower income tier) should have spent at least around \\$2500 dollars per year. Households that spent less than that did not participate in the study fully and bought groceries elsewhere. We thus make the assumption that to be a \"loyal\" shopper, they should spend at least \\$2500 per year. We set the same bound for everyone for the moment just in case we have some really frugal households in higher income categories. "
   ]
  },
  {
   "cell_type": "code",
   "execution_count": null,
   "metadata": {},
   "outputs": [],
   "source": [
    "#Remove in the dataset:\n",
    "filtered_income = participation_hh_dem[\n",
    "    participation_hh_dem['mean yearly spending'] >= 2500]\n",
    "\n",
    "print(\n",
    "    f\"We lost {len(participation_hh_dem.index) - len(filtered_income.index):d} households by filtering.\"\n",
    ")\n",
    "print(\n",
    "    f\"We have {len(filtered_income.index):d} households left after filtering.\")"
   ]
  },
  {
   "cell_type": "code",
   "execution_count": null,
   "metadata": {},
   "outputs": [],
   "source": [
    "titles1 = [\n",
    "    'Income versus mean yearly spending for households with spending > 2500',\n",
    "    'Income versus study participation length for households with spending > 2500'\n",
    "]\n",
    "\n",
    "plt_fx.double_categorical_scatter(filtered_income['INCOME_DESC'],\n",
    "                                  filtered_income['mean yearly spending'],\n",
    "                                  filtered_income['INCOME_DESC'],\n",
    "                                  filtered_income['participation_length'],\n",
    "                                  titles)\n",
    "\n",
    "titles2 = [\n",
    "    'Age versus mean yearly spending for households with spending >2500',\n",
    "    'Household size versus yearly spending for households with spending > 2500'\n",
    "]\n",
    "\n",
    "plt_fx.double_categorical_scatter(filtered_income['AGE_DESC'],\n",
    "                                  filtered_income['mean yearly spending'],\n",
    "                                  filtered_income['HOUSEHOLD_SIZE_DESC'],\n",
    "                                  filtered_income['mean yearly spending'],\n",
    "                                  titles)"
   ]
  },
  {
   "cell_type": "markdown",
   "metadata": {},
   "source": [
    "###### Comment: \n",
    "We don't have that many \"loyal\" shoppers (only 286 on 800) but at least we can see that most of those households participated for more than a year. Still the real number of \"loyal\" households is probably lower as there are households of 5+ that spent less than 3K/year which seems unreasonable if that is their only shopping. <br> \n",
    "**Note**: We see that there are some outliers, like households with income under 15K that spent around 8K per year on groceries. That seems like a miss-classification (probably wrong income). "
   ]
  },
  {
   "cell_type": "markdown",
   "metadata": {},
   "source": [
    "###### Conclusion for this part:\n",
    "We learned that there are two categories of shoppers at this retailer; those that do most of their grocery shopping there every week and those who only do part of it. From this we want to know if we can find trends between what households shop and their demographic information. "
   ]
  },
  {
   "cell_type": "markdown",
   "metadata": {},
   "source": [
    "## Shopping trends and correlations:\n",
    "- what did they buy weekly of each label\n",
    "- how much did they spend on each label per week"
   ]
  },
  {
   "cell_type": "code",
   "execution_count": null,
   "metadata": {},
   "outputs": [],
   "source": [
    "#We have two interesting dataframes: \n",
    "#The demographic data for each household and their weekly spending, yearly spending and participation in the study.  \n",
    "#print(participation_hh_dem.head(4))\n",
    "\n",
    "#The transactions of all households and the labels of each product.\n",
    "#print(trans_clean.head(4))\n",
    "\n",
    "print(f\"There are {len(trans_clean['LABEL'].unique()):n} unique labels\")"
   ]
  },
  {
   "cell_type": "markdown",
   "metadata": {},
   "source": [
    "Create a table with demographic data and number of weekly purchases for each produce label to get an idea of their average grocery shopping carts. "
   ]
  },
  {
   "cell_type": "code",
   "execution_count": null,
   "metadata": {},
   "outputs": [],
   "source": [
    "weekly_cart_df = trns.create_weekly_cart_df(trans_clean, participation_per_hh)\n",
    "\n",
    "#Save it to csv: \n",
    "if not os.path.exists(\"saved_structures\"):\n",
    "    os.makedirs(\"saved_structures\")\n",
    "\n",
    "weekly_cart_df.to_csv(\"saved_structures/weekly_cart_df.csv\", sep ='\\t', index=False)\n",
    "\n",
    "weekly_cart_df.head(4)"
   ]
  },
  {
   "cell_type": "code",
   "execution_count": null,
   "metadata": {},
   "outputs": [],
   "source": [
    "#Now to this dataframe we can add any demographic info and try to cluster them according to weekly shopping habits. Do this on a separate notebook. "
   ]
  }
 ],
 "metadata": {
  "kernelspec": {
   "display_name": "Python 3",
   "language": "python",
   "name": "python3"
  },
  "language_info": {
   "codemirror_mode": {
    "name": "ipython",
    "version": 3
   },
   "file_extension": ".py",
   "mimetype": "text/x-python",
   "name": "python",
   "nbconvert_exporter": "python",
   "pygments_lexer": "ipython3",
   "version": "3.7.4"
  },
  "toc": {
   "base_numbering": 1,
   "nav_menu": {},
   "number_sections": true,
   "sideBar": true,
   "skip_h1_title": true,
   "title_cell": "Table of Contents",
   "title_sidebar": "Contents",
   "toc_cell": true,
   "toc_position": {
    "height": "440px",
    "left": "330px",
    "top": "220px",
    "width": "256px"
   },
   "toc_section_display": true,
   "toc_window_display": true
  }
 },
 "nbformat": 4,
 "nbformat_minor": 2
}
