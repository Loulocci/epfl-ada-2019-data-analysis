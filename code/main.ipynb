{
 "cells": [
  {
   "cell_type": "markdown",
   "metadata": {},
   "source": [
    "# ADA Project : Dunnhumby dataset, Tell me what you buy and I will tell you who you are\n",
    "\n"
   ]
  },
  {
   "cell_type": "markdown",
   "metadata": {},
   "source": [
    "## Abstract\n",
    "We would like to analyse the Dunnhumby dataset. Living in a time and age where every piece of our data is stored and analysed; and being active consumers ourselves, we would like to see what informations retail chains can gather and infer about us knowing only our shopping habits. As transactions over two years of several households and their basic demographic profiles are provided, we want to see if there are any links and correlations between specific demographics (e.g. marital status, income, number of children, etc) and purchase patterns. Furthermore, if time permits it, we want to see if we can create a model predicting a consumer demographic profile from their shopping. Thus, we would like to see how \"easy\" and how precise it actually is for retailers to infer who their customer is by what they buy and target them with specific marketing. Basically, we want to know how much of a target we actually\n",
    "are."
   ]
  },
  {
   "cell_type": "markdown",
   "metadata": {},
   "source": [
    "**Research questions:** \n",
    "- What are the main shopping trends that we can identify in this data ?\n",
    "- Can we relate shopping trends to specific demographic parameters ?\n",
    "- Can we predict some of these demographic parameters (age, marital statute etc) with knowing the household's habbits?\n",
    "- In the opposite way, can we predict household consumption behaviour with knowing its characteristics?\n",
    "- What accuracy in consumption prediction can the retailer obtain from a simple profile information?"
   ]
  },
  {
   "cell_type": "markdown",
   "metadata": {},
   "source": [
    "## Task 1: Clean up the data and prepare the sets we want to keep"
   ]
  },
  {
   "cell_type": "code",
   "execution_count": null,
   "metadata": {},
   "outputs": [],
   "source": [
    "%matplotlib inline\n",
    "import pandas as pd\n",
    "\n",
    "import matplotlib.pyplot as plt\n",
    "\n",
    "import os"
   ]
  },
  {
   "cell_type": "code",
   "execution_count": null,
   "metadata": {},
   "outputs": [],
   "source": [
    "os.getcwd()"
   ]
  },
  {
   "cell_type": "code",
   "execution_count": null,
   "metadata": {},
   "outputs": [],
   "source": [
    "'''As we said in the description of our project, we are going to concentrate on 3 of the 8 tables :\n",
    "- hh_demographic.csv\n",
    "- transaction_data.csv\n",
    "- product.csv\n",
    "In this first step, we want to load the data, and prepare it for the analysis'''\n",
    "\n",
    "#load the data\n",
    "hh_demographic = pd.read_csv('../data/dunnhumby_complete_csv/hh_demographic.csv', sep = ',')\n",
    "\n",
    "transaction_data = pd.read_csv('../data/dunnhumby_complete_csv/transaction_data.csv', sep = ',')\n",
    "\n",
    "product = pd.read_csv('../data/dunnhumby_complete_csv/product.csv', sep = ',')"
   ]
  },
  {
   "cell_type": "markdown",
   "metadata": {},
   "source": [
    "### Task 1.A: What's actually in the dataset ? \n",
    "This dataset contains household level transactions over two years from a group of 2,500 households who are frequent shoppers at a retailer. It contains all of each household’s purchases, not just those from a limited number of categories. For certain households, demographic information as well as direct marketing contact history are included. We have a look at a few samples from each table: "
   ]
  },
  {
   "cell_type": "markdown",
   "metadata": {},
   "source": [
    "#### A. Transaction data: \n",
    "Dataset of all products purchased by households during the study. Each line in the table is what could essentially be found in a store reciept. The attributes of the dataset are the following: \n",
    "\n",
    "- HOUSEHOLD_KEY: identifies each household, \n",
    "- BASKET_ID: identifies a purchase occasion, \n",
    "- DAY: day when transaction occured\n",
    "- PRODUCT_ID: identifies each product, \n",
    "- QUANTITY: Number of products purchased during trip\n",
    "- SALES_VALUE: Amount of dollars retailer recieves from sale\n",
    "- STORE_ID: identifies store, \n",
    "- COUPON_MATCH_DISC: discount applied du to retailer's match of manufacturer coupon\n",
    "- COUPON_DISC: discount applied due to manufacturer coupon\n",
    "- RETAIL_DISC: discount applied due to retailer's loyalty card program\n",
    "- TRANS_TIME: time of day when transaction occured\n",
    "- WEEK_NO: week of the transaction. Ranges from 1-102. "
   ]
  },
  {
   "cell_type": "code",
   "execution_count": null,
   "metadata": {},
   "outputs": [],
   "source": [
    "transaction_data['STORE_ID'].is_unique"
   ]
  },
  {
   "cell_type": "code",
   "execution_count": null,
   "metadata": {},
   "outputs": [],
   "source": [
    "transaction_data.head(4)"
   ]
  },
  {
   "cell_type": "markdown",
   "metadata": {},
   "source": [
    "**Q1: How many transactions occured during the two years ?**"
   ]
  },
  {
   "cell_type": "code",
   "execution_count": null,
   "metadata": {},
   "outputs": [],
   "source": [
    "print(\"In total there were %d transaction during the two years.\" %transaction_data.count()['household_key'])"
   ]
  },
  {
   "cell_type": "markdown",
   "metadata": {},
   "source": [
    "**Q2: How many purchase occasions occured during the two years ?** <br>\n",
    "Attention : here transactions are not what we usually think of. It's like on a reciept so the number of total unique purchases is not the number of transactions but the total of unique basket_id. "
   ]
  },
  {
   "cell_type": "code",
   "execution_count": null,
   "metadata": {},
   "outputs": [],
   "source": [
    "print(\"In total there were %d purchase occasions during the two years.\" %len(transaction_data['BASKET_ID'].unique()))"
   ]
  },
  {
   "cell_type": "markdown",
   "metadata": {},
   "source": [
    "#### Q3: How many households are represented in the transactions?"
   ]
  },
  {
   "cell_type": "code",
   "execution_count": null,
   "metadata": {},
   "outputs": [],
   "source": [
    "print(\"In total there were %d households represented during the two years.\" %len(transaction_data['household_key']\n",
    "                                                                                 .unique()))"
   ]
  },
  {
   "cell_type": "markdown",
   "metadata": {},
   "source": [
    "#### B. Demographic data: \n",
    "Demographic info for a certain portion of households. Contains only the data for 801 households of 2500 though. The rest could not be aquiered. The attributes of the dataset are the following: \n",
    " \n",
    "- HOUSEHOLD_KEY : identifies each household, **unique**\n",
    "- AGE_DES: estimated age range\n",
    "- MARITAL_STATUS_CODE: A (Married), B (Single), C (Unknown)\n",
    "- INCOME_DESC : Household income\n",
    "- HOMEOWNER_DESC: Homeowner, renter, etc\n",
    "- HH_COMP_DEC: Household composition\n",
    "- HOUSEHOLD_SIZE_DESC: Size of household up to 5+ \n",
    "- KID_CATEGORY_DESC: Number of children present up to 3+ "
   ]
  },
  {
   "cell_type": "code",
   "execution_count": null,
   "metadata": {},
   "outputs": [],
   "source": [
    "hh_demographic['household_key'].is_unique"
   ]
  },
  {
   "cell_type": "code",
   "execution_count": null,
   "metadata": {},
   "outputs": [],
   "source": [
    "hh_demographic.head(4)"
   ]
  },
  {
   "cell_type": "markdown",
   "metadata": {},
   "source": [
    "**Q3: How many age categories are there ? And what are they ?**\n"
   ]
  },
  {
   "cell_type": "code",
   "execution_count": null,
   "metadata": {},
   "outputs": [],
   "source": [
    "print(\"In total there are %d age categories\" %len(hh_demographic['AGE_DESC'].unique()))\n",
    "print(\"The different categories are:\", hh_demographic['AGE_DESC'].unique())"
   ]
  },
  {
   "cell_type": "markdown",
   "metadata": {},
   "source": [
    "**Q4: How many income categories are there ? And what are they ?**"
   ]
  },
  {
   "cell_type": "code",
   "execution_count": null,
   "metadata": {},
   "outputs": [],
   "source": [
    "print(\"In total there are %d income categories\" %len(hh_demographic['INCOME_DESC'].unique()))\n",
    "print(\"The different categories are:\", hh_demographic['INCOME_DESC'].unique())"
   ]
  },
  {
   "cell_type": "markdown",
   "metadata": {},
   "source": [
    "**Q5: How many homeowner categories are there ? And what are they ?**"
   ]
  },
  {
   "cell_type": "code",
   "execution_count": null,
   "metadata": {},
   "outputs": [],
   "source": [
    "print(\"In total there are %d homeowner categories\" %len(hh_demographic['HOMEOWNER_DESC'].unique()))\n",
    "print(\"The different categories are:\", hh_demographic['HOMEOWNER_DESC'].unique())"
   ]
  },
  {
   "cell_type": "markdown",
   "metadata": {},
   "source": [
    "**Q7: How many household composition categories are there ? And what are they ?**"
   ]
  },
  {
   "cell_type": "code",
   "execution_count": null,
   "metadata": {},
   "outputs": [],
   "source": [
    "print(\"In total there are %d household composition categories\" %len(hh_demographic['HH_COMP_DESC'].unique()))\n",
    "print(\"The different categories are:\", hh_demographic['HH_COMP_DESC'].unique())"
   ]
  },
  {
   "cell_type": "markdown",
   "metadata": {},
   "source": [
    "**Q8: How many household size categories are there ? And what are they ?**"
   ]
  },
  {
   "cell_type": "code",
   "execution_count": null,
   "metadata": {},
   "outputs": [],
   "source": [
    "print(\"In total there are %d household size categories\" %len(hh_demographic['HOUSEHOLD_SIZE_DESC'].unique()))\n",
    "print(\"The different categories are:\", hh_demographic['HOUSEHOLD_SIZE_DESC'].unique())"
   ]
  },
  {
   "cell_type": "markdown",
   "metadata": {},
   "source": [
    "**Q9: How many kid number categories are there ? And what are they ?**"
   ]
  },
  {
   "cell_type": "code",
   "execution_count": null,
   "metadata": {},
   "outputs": [],
   "source": [
    "print(\"In total there are %d kid number categories\" %len(hh_demographic['KID_CATEGORY_DESC'].unique()))\n",
    "print(\"The different categories are:\", hh_demographic['KID_CATEGORY_DESC'].unique())"
   ]
  },
  {
   "cell_type": "markdown",
   "metadata": {},
   "source": [
    "#### Q10: How many marital status categories are there? And what are they?"
   ]
  },
  {
   "cell_type": "code",
   "execution_count": null,
   "metadata": {},
   "outputs": [],
   "source": [
    "print(\"In total there are %d marital status categories\" %len(hh_demographic['MARITAL_STATUS_CODE'].unique()))\n",
    "print(\"The different categories are:\", hh_demographic['MARITAL_STATUS_CODE'].unique())"
   ]
  },
  {
   "cell_type": "markdown",
   "metadata": {},
   "source": [
    "For the marital status, the categories are not obvious:\n",
    "- 'A' = 'married'\n",
    "- 'B' = 'Single'\n",
    "- 'U' = 'Unknown'"
   ]
  },
  {
   "cell_type": "markdown",
   "metadata": {},
   "source": [
    "#### Q11: How many households are there ?"
   ]
  },
  {
   "cell_type": "code",
   "execution_count": null,
   "metadata": {},
   "outputs": [],
   "source": [
    "print(\"In total there are %d households for which we have the demographic data.\" %hh_demographic.count()['household_key'])"
   ]
  },
  {
   "cell_type": "markdown",
   "metadata": {},
   "source": [
    "**Note for the bubble group :**\n",
    "\n",
    "**Should we keep in the transaction data only the households for which we have the demographic data?? could be interesting considering the fact that we want to get insights on the shopping behavior according to the demographic data**"
   ]
  },
  {
   "cell_type": "markdown",
   "metadata": {},
   "source": [
    "#### C. Product data: \n",
    "Information on each product sold such as type of product, national or private label and a brand identifier. The attributes of the dataset are the following: \n",
    "- PRODUCT_ID: **unique**, identifies product\n",
    "- DEPARMENT: groups similar products together\n",
    "- COMMODITY_DESC: groups similar products together at a lower level\n",
    "- SUB_COMMODITY_DESC: groups similar products together at the lowest level. \n",
    "- MANUFACTURER: code that links products with the same manufacturer together \n",
    "- BRAND: indicates private or national label brand\n",
    "- CURR_SIZE_OF_PRODUCT: indicates package size (not available for all) "
   ]
  },
  {
   "cell_type": "markdown",
   "metadata": {},
   "source": [
    "Let's have a look: "
   ]
  },
  {
   "cell_type": "code",
   "execution_count": null,
   "metadata": {},
   "outputs": [],
   "source": [
    "product.head(4)"
   ]
  },
  {
   "cell_type": "markdown",
   "metadata": {},
   "source": [
    "**Q10: How many products are there ?**"
   ]
  },
  {
   "cell_type": "code",
   "execution_count": null,
   "metadata": {},
   "outputs": [],
   "source": [
    "# Are the products IDs unique ?\n",
    "product['PRODUCT_ID'].is_unique"
   ]
  },
  {
   "cell_type": "code",
   "execution_count": null,
   "metadata": {},
   "outputs": [],
   "source": [
    "print(\"In total there are %d products\" %product.count()['PRODUCT_ID'])"
   ]
  },
  {
   "cell_type": "markdown",
   "metadata": {},
   "source": [
    "**Q11: How many department categories are there ? And what are they ?**"
   ]
  },
  {
   "cell_type": "code",
   "execution_count": null,
   "metadata": {},
   "outputs": [],
   "source": [
    "print(\"In total there are %d department categories\" %len(product['DEPARTMENT'].unique()))\n",
    "print(\"The different categories are:\", product['DEPARTMENT'].unique())"
   ]
  },
  {
   "cell_type": "markdown",
   "metadata": {},
   "source": [
    "**Q12: Are all produts in the product dataset represented in transactions ?**\n",
    "There are 92 353 products. As for the households, we can investigate whether all the products are represented in the *transaction_data* table."
   ]
  },
  {
   "cell_type": "code",
   "execution_count": null,
   "metadata": {},
   "outputs": [],
   "source": [
    "print(\"There are %d products in the transactions table\" %len(transaction_data['PRODUCT_ID'].unique()))"
   ]
  },
  {
   "cell_type": "markdown",
   "metadata": {},
   "source": [
    "There are 92 339 products represented in the *transaction_data* table, meaning that only **14** are not represented. We can more easily imagine to do an inner join, and just drop those 14 products. "
   ]
  },
  {
   "cell_type": "markdown",
   "metadata": {},
   "source": [
    "**Q13: Which are these 14 products that are never sold ?**"
   ]
  },
  {
   "cell_type": "code",
   "execution_count": null,
   "metadata": {},
   "outputs": [],
   "source": []
  },
  {
   "cell_type": "markdown",
   "metadata": {},
   "source": [
    "### TASK 1.B: Simple plots"
   ]
  },
  {
   "cell_type": "markdown",
   "metadata": {},
   "source": [
    "#### A. HH-demographic"
   ]
  },
  {
   "cell_type": "code",
   "execution_count": null,
   "metadata": {},
   "outputs": [],
   "source": [
    "hh_demographic.head(4)"
   ]
  },
  {
   "cell_type": "markdown",
   "metadata": {},
   "source": [
    "For now, the categories in this data frame are not arranged in a meaninful way, meaning that if we would make some plots now, we would not have the age categories ranged in ascending or descending order for example. \n",
    "Thus, we first want to arrange them, before making some exploratory plots."
   ]
  },
  {
   "cell_type": "code",
   "execution_count": null,
   "metadata": {},
   "outputs": [],
   "source": [
    "ordered_age= ['19-24','25-34','35-44','45-54','55-64', '65+' ]\n",
    "\n",
    "hh_demographic['AGE_DESC'] = pd.Categorical(hh_demographic['AGE_DESC'],\n",
    "                      ordered = True,\n",
    "                      categories = ordered_age)\n",
    "\n",
    "print ('The order of the age categories is :', ordered_age)"
   ]
  },
  {
   "cell_type": "code",
   "execution_count": null,
   "metadata": {},
   "outputs": [],
   "source": [
    "ordered_income= ['Under 15K','15-24K','25-34K','35-49K','50-74K','75-99K','100-124K',\n",
    "                 '125-149K','150-174K','175-199K','200-249K','250K+']\n",
    "\n",
    "hh_demographic['INCOME_DESC'] = pd.Categorical(hh_demographic['INCOME_DESC'],\n",
    "                      ordered = True,\n",
    "                      categories = ordered_income)\n",
    "\n",
    "print ('The order of the income categories is :', ordered_income)"
   ]
  },
  {
   "cell_type": "code",
   "execution_count": null,
   "metadata": {},
   "outputs": [],
   "source": [
    "ordered_homeowner= ['Unknown','Probable Renter','Renter','Probable Owner','Homeowner']\n",
    "\n",
    "hh_demographic['HOMEOWNER_DESC'] = pd.Categorical(hh_demographic['HOMEOWNER_DESC'],\n",
    "                      ordered = True,\n",
    "                      categories = ordered_homeowner)\n",
    "\n",
    "print ('The order of the homeowner categories is :', ordered_homeowner)"
   ]
  },
  {
   "cell_type": "code",
   "execution_count": null,
   "metadata": {},
   "outputs": [],
   "source": [
    "ordered_hh_comp= ['Unknown','Single Female','Single Male','1 Adult Kids','2 Adults No Kids','2 Adults Kids']\n",
    "\n",
    "hh_demographic['HH_COMP_DESC'] = pd.Categorical(hh_demographic['HH_COMP_DESC'],\n",
    "                      ordered = True,\n",
    "                      categories = ordered_hh_comp)\n",
    "\n",
    "print ('The order of the household composition categories is :', ordered_hh_comp)"
   ]
  },
  {
   "cell_type": "code",
   "execution_count": null,
   "metadata": {},
   "outputs": [],
   "source": [
    "ordered_hh_size= ['1','2','3','4','5+']\n",
    "\n",
    "hh_demographic['HOUSEHOLD_SIZE_DESC'] = pd.Categorical(hh_demographic['HOUSEHOLD_SIZE_DESC'],\n",
    "                      ordered = True,\n",
    "                      categories = ordered_hh_size)\n",
    "\n",
    "print ('The order of the household size categories is :', ordered_hh_size)"
   ]
  },
  {
   "cell_type": "code",
   "execution_count": null,
   "metadata": {},
   "outputs": [],
   "source": [
    "ordered_kid_number= ['None/Unknown','1','2','3+']\n",
    "\n",
    "hh_demographic['KID_CATEGORY_DESC'] = pd.Categorical(hh_demographic['KID_CATEGORY_DESC'],\n",
    "                      ordered = True,\n",
    "                      categories = ordered_kid_number)\n",
    "\n",
    "print ('The order of the kid number categories is :', ordered_kid_number)"
   ]
  },
  {
   "cell_type": "code",
   "execution_count": null,
   "metadata": {},
   "outputs": [],
   "source": [
    "ordered_marital_status= ['A','B','U']\n",
    "\n",
    "hh_demographic['MARITAL_STATUS_CODE'] = pd.Categorical(hh_demographic['MARITAL_STATUS_CODE'],\n",
    "                      ordered = True,\n",
    "                      categories = ordered_marital_status)\n",
    "\n",
    "print ('The order of the marital status categories is :', ordered_marital_status)"
   ]
  },
  {
   "cell_type": "markdown",
   "metadata": {},
   "source": [
    "Now that all the categories in this data frame are ranged in a meaningful way, let's make some simple plots to have an idea of the characteristics of the population which we study."
   ]
  },
  {
   "cell_type": "code",
   "execution_count": null,
   "metadata": {},
   "outputs": [],
   "source": [
    "hh_demographic['AGE_DESC'].value_counts(sort = False).plot(kind='bar')"
   ]
  },
  {
   "cell_type": "code",
   "execution_count": null,
   "metadata": {},
   "outputs": [],
   "source": [
    "hh_demographic['MARITAL_STATUS_CODE'].value_counts(sort = False).plot(kind='bar')"
   ]
  },
  {
   "cell_type": "code",
   "execution_count": null,
   "metadata": {},
   "outputs": [],
   "source": [
    "hh_demographic['INCOME_DESC'].value_counts(sort = False).plot(kind='bar')"
   ]
  },
  {
   "cell_type": "code",
   "execution_count": null,
   "metadata": {},
   "outputs": [],
   "source": [
    "hh_demographic['HOMEOWNER_DESC'].value_counts(sort = False).plot(kind='bar')"
   ]
  },
  {
   "cell_type": "code",
   "execution_count": null,
   "metadata": {},
   "outputs": [],
   "source": [
    "hh_demographic['HH_COMP_DESC'].value_counts(sort = False).plot(kind='bar')"
   ]
  },
  {
   "cell_type": "code",
   "execution_count": null,
   "metadata": {},
   "outputs": [],
   "source": [
    "hh_demographic['HOUSEHOLD_SIZE_DESC'].value_counts(sort = False).plot(kind='bar')"
   ]
  },
  {
   "cell_type": "code",
   "execution_count": null,
   "metadata": {},
   "outputs": [],
   "source": [
    "hh_demographic['KID_CATEGORY_DESC'].value_counts(sort = False).plot(kind='bar')"
   ]
  },
  {
   "cell_type": "code",
   "execution_count": null,
   "metadata": {},
   "outputs": [],
   "source": [
    "\"\"\"I was trying here to make the plots nicely on the same figure using the subplot function, \n",
    "but I didn't manage doing it yt...\"\"\"\n",
    "\n",
    "#f, axes = plt.subplots(3,3,figsize=(15, 15) )\n",
    "#axes[0,0].bar(hh_demographic['AGE_DESC'].value_counts(sort = False)) \n",
    "#axes[0,1] = hh_demographic['MARITAL_STATUS_CODE'].value_counts(sort = False).plot(kind='bar')\n",
    "\n",
    "#f.legend()"
   ]
  },
  {
   "cell_type": "markdown",
   "metadata": {},
   "source": [
    "**B.Product data**<br/>\n",
    "We reproduce the ordering step for the product table"
   ]
  },
  {
   "cell_type": "code",
   "execution_count": null,
   "metadata": {},
   "outputs": [],
   "source": [
    "product.head(4)"
   ]
  },
  {
   "cell_type": "code",
   "execution_count": null,
   "metadata": {},
   "outputs": [],
   "source": [
    "ordered_manufacturer= product.MANUFACTURER.astype(int).sort_values()\n",
    "ordered_manufacturer= ordered_manufacturer.unique()\n",
    "\n",
    "product['MANUFACTURER'] = pd.Categorical(product['MANUFACTURER'],\n",
    "                      ordered = True,\n",
    "                      categories = ordered_manufacturer)\n",
    "\n",
    "print ('The order of the manufacturer categories is :', ordered_manufacturer)"
   ]
  },
  {
   "cell_type": "code",
   "execution_count": null,
   "metadata": {},
   "outputs": [],
   "source": [
    "ordered_department= ['GROCERY','FROZEN GROCERY','GRO BAKERY','PASTRY',\n",
    "        'SEAFOOD','SEAFOOD-PCKGD','MEAT', 'MEAT-PCKGD','MEAT-WHSE','PORK','SPIRITS','NUTRITION',\n",
    "       'PRODUCE','CHEF SHOPPE','RESTAURANT','SALAD BAR','DELI', 'DAIRY DELI','DELI/SNACK BAR',\n",
    "    'DRUG GM','COSMETICS','PHARMACY SUPPLY','GARDEN CENTER','FLORAL', 'TRAVEL & LEISUR', \n",
    "    'POSTAL CENTER', 'PHOTO', 'VIDEO','VIDEO RENTAL','TOYS','HOUSEWARES', \n",
    "    'KIOSK-GAS', 'ELECT &PLUMBING','AUTOMOTIVE','GM MERCH EXP','COUP/STR & MFG', \n",
    "     'CHARITABLE CONT', 'RX','PROD-WHS SALES', 'HBC','CNTRL/STORE SUP','MISC. TRANS.', 'MISC SALES TRAN',' ']\n",
    "\n",
    "product['DEPARTMENT'] = pd.Categorical(product['DEPARTMENT'],\n",
    "                      ordered = True,\n",
    "                      categories = ordered_department)\n",
    "\n",
    "print ('The order of the department categories is :', ordered_department)"
   ]
  },
  {
   "cell_type": "code",
   "execution_count": null,
   "metadata": {},
   "outputs": [],
   "source": [
    "product.CURR_SIZE_OF_PRODUCT.unique()"
   ]
  },
  {
   "cell_type": "code",
   "execution_count": null,
   "metadata": {},
   "outputs": [],
   "source": [
    "Unit=product.CURR_SIZE_OF_PRODUCT.str.extract('([A-Z]\\w{0,})',expand = False)\n",
    "Measure=product.CURR_SIZE_OF_PRODUCT.str.extract('(\\d+)',expand = False)\n",
    "Measure.unique()"
   ]
  },
  {
   "cell_type": "code",
   "execution_count": null,
   "metadata": {},
   "outputs": [],
   "source": [
    " testpd=pd.DataFrame(product.CURR_SIZE_OF_PRODUCT.str.split(' ',1).tolist(),\n",
    "                                   columns = ['Measure','Unit'])\n",
    "testpd.head(9)\n",
    "testpd.Unit.count()"
   ]
  },
  {
   "cell_type": "code",
   "execution_count": null,
   "metadata": {},
   "outputs": [],
   "source": []
  }
 ],
 "metadata": {
  "kernelspec": {
   "display_name": "Python 3",
   "language": "python",
   "name": "python3"
  },
  "language_info": {
   "codemirror_mode": {
    "name": "ipython",
    "version": 3
   },
   "file_extension": ".py",
   "mimetype": "text/x-python",
   "name": "python",
   "nbconvert_exporter": "python",
   "pygments_lexer": "ipython3",
   "version": "3.7.4"
  }
 },
 "nbformat": 4,
 "nbformat_minor": 2
}
