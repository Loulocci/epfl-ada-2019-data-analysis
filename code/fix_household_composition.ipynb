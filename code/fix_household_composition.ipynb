{
 "cells": [
  {
   "cell_type": "markdown",
   "metadata": {},
   "source": [
    "## Fix the household composition inconsistencies and check with marital status"
   ]
  },
  {
   "cell_type": "markdown",
   "metadata": {},
   "source": [
    "#### Load the data"
   ]
  },
  {
   "cell_type": "code",
   "execution_count": 1,
   "metadata": {},
   "outputs": [
    {
     "data": {
      "text/plain": [
       "'LC_CTYPE=en_US.UTF-8;LC_NUMERIC=it_IT.UTF-8;LC_TIME=it_IT.UTF-8;LC_COLLATE=en_US.UTF-8;LC_MONETARY=it_IT.UTF-8;LC_MESSAGES=en_US.UTF-8;LC_PAPER=it_IT.UTF-8;LC_NAME=it_IT.UTF-8;LC_ADDRESS=it_IT.UTF-8;LC_TELEPHONE=it_IT.UTF-8;LC_MEASUREMENT=it_IT.UTF-8;LC_IDENTIFICATION=it_IT.UTF-8'"
      ]
     },
     "execution_count": 1,
     "metadata": {},
     "output_type": "execute_result"
    }
   ],
   "source": [
    "%matplotlib inline\n",
    "import numpy as np\n",
    "import pandas as pd\n",
    "import matplotlib.pyplot as plt\n",
    "\n",
    "import os\n",
    "# to print numbers in a nice way\n",
    "import locale\n",
    "locale.setlocale(locale.LC_ALL, '')"
   ]
  },
  {
   "cell_type": "code",
   "execution_count": 2,
   "metadata": {},
   "outputs": [],
   "source": [
    "#load the data\n",
    "hh_demographic = pd.read_csv('../data/dunnhumby_complete_csv/hh_demographic.csv', sep = ',')\n",
    "transaction_data = pd.read_csv('../data/dunnhumby_complete_csv/transaction_data.csv', sep = ',')\n",
    "product = pd.read_csv('../data/dunnhumby_complete_csv/product.csv', sep = ',')"
   ]
  },
  {
   "cell_type": "markdown",
   "metadata": {},
   "source": [
    "We first change tha marital status to a more intuitive one, setting to M the married entries and to S the single ones."
   ]
  },
  {
   "cell_type": "code",
   "execution_count": 3,
   "metadata": {},
   "outputs": [],
   "source": [
    "hh_demographic.loc[hh_demographic['MARITAL_STATUS_CODE'] == 'A', 'MARITAL_STATUS_CODE'] = 'M'\n",
    "hh_demographic.loc[hh_demographic['MARITAL_STATUS_CODE'] == 'B', 'MARITAL_STATUS_CODE'] = 'S'"
   ]
  },
  {
   "cell_type": "markdown",
   "metadata": {},
   "source": [
    "#### Explore again the household composition information"
   ]
  },
  {
   "cell_type": "markdown",
   "metadata": {},
   "source": [
    "We already know from the data exploration that 2 Adults No Kids and 2 Adults Kids make sense. So we do not take into account these compositions."
   ]
  },
  {
   "cell_type": "code",
   "execution_count": 4,
   "metadata": {},
   "outputs": [
    {
     "name": "stdout",
     "output_type": "stream",
     "text": [
      "Looking at the household composition: Single Female\n",
      "Household size unique information: ['1' '2']\n",
      "Kids number unique information: ['None/Unknown']\n",
      "\n",
      "Looking at the household composition: Unknown\n",
      "Household size unique information: ['1' '3' '2' '5+']\n",
      "Kids number unique information: ['None/Unknown' '1' '3+']\n",
      "\n",
      "Looking at the household composition: Single Male\n",
      "Household size unique information: ['1' '2']\n",
      "Kids number unique information: ['None/Unknown']\n",
      "\n",
      "Looking at the household composition: 1 Adult Kids\n",
      "Household size unique information: ['2' '3' '5+' '4']\n",
      "Kids number unique information: ['1' '2' '3+']\n",
      "\n"
     ]
    }
   ],
   "source": [
    "for hh_composition in hh_demographic['HH_COMP_DESC'].unique():\n",
    "    if hh_composition == \"2 Adults No Kids\" or hh_composition == \"2 Adults Kids\" : continue\n",
    "    print(\"Looking at the household composition:\", hh_composition)\n",
    "    hh_demographic_current_composition = hh_demographic[hh_demographic['HH_COMP_DESC'] == hh_composition]\n",
    "    print(\"Household size unique information:\", hh_demographic_current_composition['HOUSEHOLD_SIZE_DESC'].unique())\n",
    "    print(\"Kids number unique information:\", hh_demographic_current_composition['KID_CATEGORY_DESC'].unique())\n",
    "    print()"
   ]
  },
  {
   "cell_type": "markdown",
   "metadata": {},
   "source": [
    "#### Analysing the composition 1 Adult Kids"
   ]
  },
  {
   "cell_type": "code",
   "execution_count": 5,
   "metadata": {},
   "outputs": [
    {
     "name": "stdout",
     "output_type": "stream",
     "text": [
      "For house hold size 2, with 1 adult, there are ['1'] kid categories\n",
      "For house hold size 3, with 1 adult, there are ['2' '1'] kid categories\n",
      "For house hold size 5+, with 1 adult, there are ['3+'] kid categories\n",
      "For house hold size 4, with 1 adult, there are ['2' '3+'] kid categories\n"
     ]
    }
   ],
   "source": [
    "hh_composition = \"1 Adult Kids\"\n",
    "hh_demographic_1adultkids = hh_demographic[hh_demographic['HH_COMP_DESC'] == hh_composition]\n",
    "for household_size in hh_demographic_1adultkids['HOUSEHOLD_SIZE_DESC'].unique():\n",
    "    hh_demographic_1adultkids_size = hh_demographic_1adultkids[hh_demographic_1adultkids['HOUSEHOLD_SIZE_DESC'] == household_size]\n",
    "    print(f\"For house hold size {household_size}, with 1 adult, there are\", hh_demographic_1adultkids_size['KID_CATEGORY_DESC'].unique(), \"kid categories\")"
   ]
  },
  {
   "cell_type": "markdown",
   "metadata": {},
   "source": [
    "We have problems where the household size is 3 or 4 units. Let's explore these in a better way."
   ]
  },
  {
   "cell_type": "code",
   "execution_count": 6,
   "metadata": {},
   "outputs": [
    {
     "data": {
      "text/html": [
       "<div>\n",
       "<style scoped>\n",
       "    .dataframe tbody tr th:only-of-type {\n",
       "        vertical-align: middle;\n",
       "    }\n",
       "\n",
       "    .dataframe tbody tr th {\n",
       "        vertical-align: top;\n",
       "    }\n",
       "\n",
       "    .dataframe thead th {\n",
       "        text-align: right;\n",
       "    }\n",
       "</style>\n",
       "<table border=\"1\" class=\"dataframe\">\n",
       "  <thead>\n",
       "    <tr style=\"text-align: right;\">\n",
       "      <th></th>\n",
       "      <th>AGE_DESC</th>\n",
       "      <th>MARITAL_STATUS_CODE</th>\n",
       "      <th>INCOME_DESC</th>\n",
       "      <th>HOMEOWNER_DESC</th>\n",
       "      <th>HH_COMP_DESC</th>\n",
       "      <th>HOUSEHOLD_SIZE_DESC</th>\n",
       "      <th>KID_CATEGORY_DESC</th>\n",
       "      <th>household_key</th>\n",
       "    </tr>\n",
       "  </thead>\n",
       "  <tbody>\n",
       "    <tr>\n",
       "      <td>183</td>\n",
       "      <td>35-44</td>\n",
       "      <td>M</td>\n",
       "      <td>35-49K</td>\n",
       "      <td>Probable Owner</td>\n",
       "      <td>1 Adult Kids</td>\n",
       "      <td>3</td>\n",
       "      <td>1</td>\n",
       "      <td>543</td>\n",
       "    </tr>\n",
       "    <tr>\n",
       "      <td>200</td>\n",
       "      <td>45-54</td>\n",
       "      <td>M</td>\n",
       "      <td>15-24K</td>\n",
       "      <td>Homeowner</td>\n",
       "      <td>1 Adult Kids</td>\n",
       "      <td>3</td>\n",
       "      <td>1</td>\n",
       "      <td>596</td>\n",
       "    </tr>\n",
       "    <tr>\n",
       "      <td>285</td>\n",
       "      <td>65+</td>\n",
       "      <td>M</td>\n",
       "      <td>35-49K</td>\n",
       "      <td>Homeowner</td>\n",
       "      <td>1 Adult Kids</td>\n",
       "      <td>3</td>\n",
       "      <td>1</td>\n",
       "      <td>857</td>\n",
       "    </tr>\n",
       "    <tr>\n",
       "      <td>464</td>\n",
       "      <td>25-34</td>\n",
       "      <td>M</td>\n",
       "      <td>15-24K</td>\n",
       "      <td>Homeowner</td>\n",
       "      <td>1 Adult Kids</td>\n",
       "      <td>3</td>\n",
       "      <td>1</td>\n",
       "      <td>1437</td>\n",
       "    </tr>\n",
       "    <tr>\n",
       "      <td>665</td>\n",
       "      <td>35-44</td>\n",
       "      <td>M</td>\n",
       "      <td>Under 15K</td>\n",
       "      <td>Homeowner</td>\n",
       "      <td>1 Adult Kids</td>\n",
       "      <td>3</td>\n",
       "      <td>1</td>\n",
       "      <td>2092</td>\n",
       "    </tr>\n",
       "    <tr>\n",
       "      <td>738</td>\n",
       "      <td>35-44</td>\n",
       "      <td>M</td>\n",
       "      <td>35-49K</td>\n",
       "      <td>Homeowner</td>\n",
       "      <td>1 Adult Kids</td>\n",
       "      <td>3</td>\n",
       "      <td>1</td>\n",
       "      <td>2302</td>\n",
       "    </tr>\n",
       "  </tbody>\n",
       "</table>\n",
       "</div>"
      ],
      "text/plain": [
       "    AGE_DESC MARITAL_STATUS_CODE INCOME_DESC  HOMEOWNER_DESC  HH_COMP_DESC  \\\n",
       "183    35-44                   M      35-49K  Probable Owner  1 Adult Kids   \n",
       "200    45-54                   M      15-24K       Homeowner  1 Adult Kids   \n",
       "285      65+                   M      35-49K       Homeowner  1 Adult Kids   \n",
       "464    25-34                   M      15-24K       Homeowner  1 Adult Kids   \n",
       "665    35-44                   M   Under 15K       Homeowner  1 Adult Kids   \n",
       "738    35-44                   M      35-49K       Homeowner  1 Adult Kids   \n",
       "\n",
       "    HOUSEHOLD_SIZE_DESC KID_CATEGORY_DESC  household_key  \n",
       "183                   3                 1            543  \n",
       "200                   3                 1            596  \n",
       "285                   3                 1            857  \n",
       "464                   3                 1           1437  \n",
       "665                   3                 1           2092  \n",
       "738                   3                 1           2302  "
      ]
     },
     "execution_count": 6,
     "metadata": {},
     "output_type": "execute_result"
    }
   ],
   "source": [
    "hh_demographic_1adultkids[(hh_demographic_1adultkids['HOUSEHOLD_SIZE_DESC'] == '3') & (hh_demographic_1adultkids['KID_CATEGORY_DESC'] == '1')]"
   ]
  },
  {
   "cell_type": "markdown",
   "metadata": {},
   "source": [
    "We can see here that there are entries where the composition is 1 Adult Kids, the household size is 3 and the number of kids is 1. This means one of the following: there is one more person living in the house, the household size is wrong, the composition is wrong.<br>\n",
    "However, we can notice that all of these entries have a marital status M, which stands for married. We can assume then that the composition is wrong and there is an actual couple living in the house, with 1 kid."
   ]
  },
  {
   "cell_type": "code",
   "execution_count": 7,
   "metadata": {},
   "outputs": [
    {
     "data": {
      "text/html": [
       "<div>\n",
       "<style scoped>\n",
       "    .dataframe tbody tr th:only-of-type {\n",
       "        vertical-align: middle;\n",
       "    }\n",
       "\n",
       "    .dataframe tbody tr th {\n",
       "        vertical-align: top;\n",
       "    }\n",
       "\n",
       "    .dataframe thead th {\n",
       "        text-align: right;\n",
       "    }\n",
       "</style>\n",
       "<table border=\"1\" class=\"dataframe\">\n",
       "  <thead>\n",
       "    <tr style=\"text-align: right;\">\n",
       "      <th></th>\n",
       "      <th>AGE_DESC</th>\n",
       "      <th>MARITAL_STATUS_CODE</th>\n",
       "      <th>INCOME_DESC</th>\n",
       "      <th>HOMEOWNER_DESC</th>\n",
       "      <th>HH_COMP_DESC</th>\n",
       "      <th>HOUSEHOLD_SIZE_DESC</th>\n",
       "      <th>KID_CATEGORY_DESC</th>\n",
       "      <th>household_key</th>\n",
       "    </tr>\n",
       "  </thead>\n",
       "  <tbody>\n",
       "    <tr>\n",
       "      <td>88</td>\n",
       "      <td>45-54</td>\n",
       "      <td>M</td>\n",
       "      <td>75-99K</td>\n",
       "      <td>Homeowner</td>\n",
       "      <td>1 Adult Kids</td>\n",
       "      <td>4</td>\n",
       "      <td>2</td>\n",
       "      <td>250</td>\n",
       "    </tr>\n",
       "    <tr>\n",
       "      <td>117</td>\n",
       "      <td>45-54</td>\n",
       "      <td>M</td>\n",
       "      <td>50-74K</td>\n",
       "      <td>Homeowner</td>\n",
       "      <td>1 Adult Kids</td>\n",
       "      <td>4</td>\n",
       "      <td>2</td>\n",
       "      <td>350</td>\n",
       "    </tr>\n",
       "    <tr>\n",
       "      <td>249</td>\n",
       "      <td>35-44</td>\n",
       "      <td>M</td>\n",
       "      <td>15-24K</td>\n",
       "      <td>Renter</td>\n",
       "      <td>1 Adult Kids</td>\n",
       "      <td>4</td>\n",
       "      <td>2</td>\n",
       "      <td>742</td>\n",
       "    </tr>\n",
       "    <tr>\n",
       "      <td>504</td>\n",
       "      <td>25-34</td>\n",
       "      <td>M</td>\n",
       "      <td>100-124K</td>\n",
       "      <td>Renter</td>\n",
       "      <td>1 Adult Kids</td>\n",
       "      <td>4</td>\n",
       "      <td>2</td>\n",
       "      <td>1557</td>\n",
       "    </tr>\n",
       "  </tbody>\n",
       "</table>\n",
       "</div>"
      ],
      "text/plain": [
       "    AGE_DESC MARITAL_STATUS_CODE INCOME_DESC HOMEOWNER_DESC  HH_COMP_DESC  \\\n",
       "88     45-54                   M      75-99K      Homeowner  1 Adult Kids   \n",
       "117    45-54                   M      50-74K      Homeowner  1 Adult Kids   \n",
       "249    35-44                   M      15-24K         Renter  1 Adult Kids   \n",
       "504    25-34                   M    100-124K         Renter  1 Adult Kids   \n",
       "\n",
       "    HOUSEHOLD_SIZE_DESC KID_CATEGORY_DESC  household_key  \n",
       "88                    4                 2            250  \n",
       "117                   4                 2            350  \n",
       "249                   4                 2            742  \n",
       "504                   4                 2           1557  "
      ]
     },
     "execution_count": 7,
     "metadata": {},
     "output_type": "execute_result"
    }
   ],
   "source": [
    "hh_demographic_1adultkids[(hh_demographic_1adultkids['HOUSEHOLD_SIZE_DESC'] == '4') & (hh_demographic_1adultkids['KID_CATEGORY_DESC'] == '2')]"
   ]
  },
  {
   "cell_type": "markdown",
   "metadata": {},
   "source": [
    "For household size of 4, the same as before stands."
   ]
  },
  {
   "cell_type": "code",
   "execution_count": 8,
   "metadata": {},
   "outputs": [
    {
     "data": {
      "text/html": [
       "<div>\n",
       "<style scoped>\n",
       "    .dataframe tbody tr th:only-of-type {\n",
       "        vertical-align: middle;\n",
       "    }\n",
       "\n",
       "    .dataframe tbody tr th {\n",
       "        vertical-align: top;\n",
       "    }\n",
       "\n",
       "    .dataframe thead th {\n",
       "        text-align: right;\n",
       "    }\n",
       "</style>\n",
       "<table border=\"1\" class=\"dataframe\">\n",
       "  <thead>\n",
       "    <tr style=\"text-align: right;\">\n",
       "      <th></th>\n",
       "      <th>AGE_DESC</th>\n",
       "      <th>MARITAL_STATUS_CODE</th>\n",
       "      <th>INCOME_DESC</th>\n",
       "      <th>HOMEOWNER_DESC</th>\n",
       "      <th>HH_COMP_DESC</th>\n",
       "      <th>HOUSEHOLD_SIZE_DESC</th>\n",
       "      <th>KID_CATEGORY_DESC</th>\n",
       "      <th>household_key</th>\n",
       "    </tr>\n",
       "  </thead>\n",
       "  <tbody>\n",
       "    <tr>\n",
       "      <td>88</td>\n",
       "      <td>45-54</td>\n",
       "      <td>M</td>\n",
       "      <td>75-99K</td>\n",
       "      <td>Homeowner</td>\n",
       "      <td>1 Adult Kids</td>\n",
       "      <td>4</td>\n",
       "      <td>2</td>\n",
       "      <td>250</td>\n",
       "    </tr>\n",
       "    <tr>\n",
       "      <td>117</td>\n",
       "      <td>45-54</td>\n",
       "      <td>M</td>\n",
       "      <td>50-74K</td>\n",
       "      <td>Homeowner</td>\n",
       "      <td>1 Adult Kids</td>\n",
       "      <td>4</td>\n",
       "      <td>2</td>\n",
       "      <td>350</td>\n",
       "    </tr>\n",
       "    <tr>\n",
       "      <td>249</td>\n",
       "      <td>35-44</td>\n",
       "      <td>M</td>\n",
       "      <td>15-24K</td>\n",
       "      <td>Renter</td>\n",
       "      <td>1 Adult Kids</td>\n",
       "      <td>4</td>\n",
       "      <td>2</td>\n",
       "      <td>742</td>\n",
       "    </tr>\n",
       "    <tr>\n",
       "      <td>504</td>\n",
       "      <td>25-34</td>\n",
       "      <td>M</td>\n",
       "      <td>100-124K</td>\n",
       "      <td>Renter</td>\n",
       "      <td>1 Adult Kids</td>\n",
       "      <td>4</td>\n",
       "      <td>2</td>\n",
       "      <td>1557</td>\n",
       "    </tr>\n",
       "  </tbody>\n",
       "</table>\n",
       "</div>"
      ],
      "text/plain": [
       "    AGE_DESC MARITAL_STATUS_CODE INCOME_DESC HOMEOWNER_DESC  HH_COMP_DESC  \\\n",
       "88     45-54                   M      75-99K      Homeowner  1 Adult Kids   \n",
       "117    45-54                   M      50-74K      Homeowner  1 Adult Kids   \n",
       "249    35-44                   M      15-24K         Renter  1 Adult Kids   \n",
       "504    25-34                   M    100-124K         Renter  1 Adult Kids   \n",
       "\n",
       "    HOUSEHOLD_SIZE_DESC KID_CATEGORY_DESC  household_key  \n",
       "88                    4                 2            250  \n",
       "117                   4                 2            350  \n",
       "249                   4                 2            742  \n",
       "504                   4                 2           1557  "
      ]
     },
     "execution_count": 8,
     "metadata": {},
     "output_type": "execute_result"
    }
   ],
   "source": [
    "hh_demographic_1adultkids[(hh_demographic_1adultkids['HOUSEHOLD_SIZE_DESC'] == '4') & (hh_demographic_1adultkids['KID_CATEGORY_DESC'] == '2')]"
   ]
  },
  {
   "cell_type": "markdown",
   "metadata": {},
   "source": [
    "#### Analysing composition Single Male/Female"
   ]
  },
  {
   "cell_type": "markdown",
   "metadata": {},
   "source": [
    "It des not make sense that the household size is bigger than 1."
   ]
  },
  {
   "cell_type": "code",
   "execution_count": 9,
   "metadata": {},
   "outputs": [
    {
     "name": "stdout",
     "output_type": "stream",
     "text": [
      "['M']\n"
     ]
    }
   ],
   "source": [
    "hh_composition = \"Single Female\"\n",
    "hh_demographic_singlefemale_size2 = hh_demographic[hh_demographic['HH_COMP_DESC'] == hh_composition]\n",
    "hh_demographic_singlefemale_size2 = hh_demographic_singlefemale_size2[hh_demographic_singlefemale_size2['HOUSEHOLD_SIZE_DESC'] == '2']\n",
    "\n",
    "print(hh_demographic_singlefemale_size2['MARITAL_STATUS_CODE'].unique())"
   ]
  },
  {
   "cell_type": "markdown",
   "metadata": {},
   "source": [
    "All of them look married, again."
   ]
  },
  {
   "cell_type": "code",
   "execution_count": 10,
   "metadata": {},
   "outputs": [
    {
     "name": "stdout",
     "output_type": "stream",
     "text": [
      "['M']\n"
     ]
    }
   ],
   "source": [
    "hh_composition = \"Single Male\"\n",
    "hh_demographic_singlemale_size2 = hh_demographic[hh_demographic['HH_COMP_DESC'] == hh_composition]\n",
    "hh_demographic_singlemale_size2 = hh_demographic_singlemale_size2[hh_demographic_singlemale_size2['HOUSEHOLD_SIZE_DESC'] == '2']\n",
    "\n",
    "print(hh_demographic_singlemale_size2['MARITAL_STATUS_CODE'].unique())"
   ]
  },
  {
   "cell_type": "markdown",
   "metadata": {},
   "source": [
    "As above."
   ]
  },
  {
   "cell_type": "markdown",
   "metadata": {},
   "source": [
    "We now want to check if the marital status, the number of kids and the household size are always coherent with each others. If it is, then we can assume that the household composition information is sometimes wrong. Hence, we can correct this parameter or just discard it, since it does not carry more information with respect to the other three."
   ]
  },
  {
   "cell_type": "markdown",
   "metadata": {},
   "source": [
    "#### Are the marital status, the number of kids and the household size coherent with each others?"
   ]
  },
  {
   "cell_type": "code",
   "execution_count": 11,
   "metadata": {},
   "outputs": [
    {
     "name": "stdout",
     "output_type": "stream",
     "text": [
      "Marital status: M\n",
      "HH_COMP_DESC      HOUSEHOLD_SIZE_DESC  KID_CATEGORY_DESC\n",
      "1 Adult Kids      3                    1                      6\n",
      "                  4                    2                      4\n",
      "                  5+                   3+                     6\n",
      "2 Adults Kids     3                    1                     55\n",
      "                  4                    2                     31\n",
      "                  5+                   3+                    49\n",
      "2 Adults No Kids  2                    None/Unknown         135\n",
      "Single Female     2                    None/Unknown          33\n",
      "Single Male       2                    None/Unknown          12\n",
      "Unknown           2                    None/Unknown           3\n",
      "                  3                    1                      5\n",
      "                  5+                   3+                     1\n",
      "dtype: int64\n",
      "\n",
      "Marital status: S\n",
      "HH_COMP_DESC      HOUSEHOLD_SIZE_DESC  KID_CATEGORY_DESC\n",
      "1 Adult Kids      2                    1                     5\n",
      "                  3                    2                     6\n",
      "                  4                    3+                    2\n",
      "                  5+                   3+                    1\n",
      "2 Adults Kids     3                    1                     5\n",
      "                  4                    2                     2\n",
      "                  5+                   3+                    2\n",
      "2 Adults No Kids  2                    None/Unknown         28\n",
      "Single Female     1                    None/Unknown         39\n",
      "Single Male       1                    None/Unknown         25\n",
      "Unknown           1                    None/Unknown          2\n",
      "dtype: int64\n",
      "\n",
      "Marital status: U\n",
      "HH_COMP_DESC      HOUSEHOLD_SIZE_DESC  KID_CATEGORY_DESC\n",
      "1 Adult Kids      2                    1                     9\n",
      "                  3                    2                     4\n",
      "                  4                    3+                    1\n",
      "                  5+                   3+                    3\n",
      "2 Adults Kids     3                    1                    28\n",
      "                  4                    2                    13\n",
      "                  5+                   3+                    2\n",
      "2 Adults No Kids  2                    None/Unknown         92\n",
      "Single Female     1                    None/Unknown         72\n",
      "Single Male       1                    None/Unknown         58\n",
      "Unknown           1                    None/Unknown         59\n",
      "                  2                    1                     1\n",
      "                  5+                   3+                    2\n",
      "dtype: int64\n",
      "\n"
     ]
    }
   ],
   "source": [
    "for marital_status in np.sort(hh_demographic['MARITAL_STATUS_CODE'].unique()):\n",
    "    print(\"Marital status:\", marital_status)\n",
    "    hh_demographic_current_marital = hh_demographic[hh_demographic['MARITAL_STATUS_CODE'] == marital_status]\n",
    "    print(hh_demographic_current_marital.groupby(['HH_COMP_DESC', 'HOUSEHOLD_SIZE_DESC', 'KID_CATEGORY_DESC']).size())\n",
    "    print()"
   ]
  },
  {
   "cell_type": "markdown",
   "metadata": {},
   "source": [
    "We can conclude that the marital status is always coherent with the household size and the number of kids. Combined with the findings above, we can say that in these cases the household composition is wrong and we will not consider that.<br>\n",
    "We have some incongruities in the household size / number of kids when the marital status is Single, so we discard these entries.<br>\n",
    "If the marital status is Unknown, we fall back on the household size / number of children information and we give the corresponding marital status, when it makes sense."
   ]
  },
  {
   "cell_type": "markdown",
   "metadata": {},
   "source": [
    "#### Cleaning up the dataset"
   ]
  },
  {
   "cell_type": "code",
   "execution_count": 12,
   "metadata": {},
   "outputs": [],
   "source": [
    "hh_demographic_fxd = hh_demographic.copy()"
   ]
  },
  {
   "cell_type": "markdown",
   "metadata": {},
   "source": [
    "Dropping the entries marked as Single with inconsistencies in the household size / number of kids."
   ]
  },
  {
   "cell_type": "code",
   "execution_count": 13,
   "metadata": {},
   "outputs": [
    {
     "name": "stdout",
     "output_type": "stream",
     "text": [
      "[5, 12, 20, 23, 42, 46, 73, 141, 157, 159, 185, 234, 296, 309, 356, 362, 406, 437, 511, 561, 580, 644, 647, 651, 677, 701, 769, 788, 54, 250, 374, 460, 608, 370, 733]\n",
      "35 entries dropped.\n"
     ]
    }
   ],
   "source": [
    "dropindex = hh_demographic_fxd.index[\n",
    "    (hh_demographic_fxd['MARITAL_STATUS_CODE'] == 'S') &\n",
    "    (hh_demographic_fxd['HOUSEHOLD_SIZE_DESC'] == '2') &\n",
    "    (hh_demographic_fxd['KID_CATEGORY_DESC'] == 'None/Unknown')].tolist()\n",
    "dropindex += hh_demographic_fxd.index[\n",
    "    (hh_demographic_fxd['MARITAL_STATUS_CODE'] == 'S') &\n",
    "    (hh_demographic_fxd['HOUSEHOLD_SIZE_DESC'] == '3') &\n",
    "    (hh_demographic_fxd['KID_CATEGORY_DESC'] == '1')].tolist()\n",
    "dropindex += hh_demographic_fxd.index[\n",
    "    (hh_demographic_fxd['MARITAL_STATUS_CODE'] == 'S') &\n",
    "    (hh_demographic_fxd['HOUSEHOLD_SIZE_DESC'] == '4') &\n",
    "    (hh_demographic_fxd['KID_CATEGORY_DESC'] == '2')].tolist()\n",
    "print(dropindex)\n",
    "print(len(dropindex), \"entries dropped.\")\n",
    "\n",
    "hh_demographic_fxd.drop(dropindex, axis=0, inplace=True)"
   ]
  },
  {
   "cell_type": "markdown",
   "metadata": {},
   "source": [
    "Assigning the correct marital status to the entries marked as Unknown, when the household size and the number of children are coherent with each other."
   ]
  },
  {
   "cell_type": "code",
   "execution_count": 14,
   "metadata": {},
   "outputs": [],
   "source": [
    "hh_demographic_fxd.loc[\n",
    "    (hh_demographic_fxd['MARITAL_STATUS_CODE'] == 'U') &\n",
    "    (hh_demographic_fxd['HOUSEHOLD_SIZE_DESC'] == '3') &\n",
    "    (hh_demographic_fxd['KID_CATEGORY_DESC'] == '1'),\n",
    "    'MARITAL_STATUS_CODE'] = 'M'\n",
    "hh_demographic_fxd.loc[\n",
    "    (hh_demographic_fxd['MARITAL_STATUS_CODE'] == 'U') &\n",
    "    (hh_demographic_fxd['HOUSEHOLD_SIZE_DESC'] == '4') &\n",
    "    (hh_demographic_fxd['KID_CATEGORY_DESC'] == '2'),\n",
    "    'MARITAL_STATUS_CODE'] = 'M'\n",
    "hh_demographic_fxd.loc[\n",
    "    (hh_demographic_fxd['MARITAL_STATUS_CODE'] == 'U') &\n",
    "    (hh_demographic_fxd['HOUSEHOLD_SIZE_DESC'] == '2') &\n",
    "    (hh_demographic_fxd['KID_CATEGORY_DESC'] == 'None/Unknown'),\n",
    "    'MARITAL_STATUS_CODE'] = 'M'\n",
    "\n",
    "hh_demographic_fxd.loc[\n",
    "    (hh_demographic_fxd['MARITAL_STATUS_CODE'] == 'U') &\n",
    "    (hh_demographic_fxd['HOUSEHOLD_SIZE_DESC'] == '2') &\n",
    "    (hh_demographic_fxd['KID_CATEGORY_DESC'] == '1'),\n",
    "    'MARITAL_STATUS_CODE'] = 'S'\n",
    "hh_demographic_fxd.loc[\n",
    "    (hh_demographic_fxd['MARITAL_STATUS_CODE'] == 'U') &\n",
    "    (hh_demographic_fxd['HOUSEHOLD_SIZE_DESC'] == '3') &\n",
    "    (hh_demographic_fxd['KID_CATEGORY_DESC'] == '2'),\n",
    "    'MARITAL_STATUS_CODE'] = 'S'\n",
    "hh_demographic_fxd.loc[\n",
    "    (hh_demographic_fxd['MARITAL_STATUS_CODE'] == 'U') &\n",
    "    (hh_demographic_fxd['HOUSEHOLD_SIZE_DESC'] == '4') &\n",
    "    (hh_demographic_fxd['KID_CATEGORY_DESC'] == '3+'),\n",
    "    'MARITAL_STATUS_CODE'] = 'S'\n",
    "hh_demographic_fxd.loc[\n",
    "    (hh_demographic_fxd['MARITAL_STATUS_CODE'] == 'U') &\n",
    "    (hh_demographic_fxd['HOUSEHOLD_SIZE_DESC'] == '1') &\n",
    "    (hh_demographic_fxd['KID_CATEGORY_DESC'] == 'None/Unknown'),\n",
    "    'MARITAL_STATUS_CODE'] = 'S'\n",
    "\n",
    "hh_demographic_fxd = hh_demographic_fxd[hh_demographic_fxd['MARITAL_STATUS_CODE'] != 'U']"
   ]
  },
  {
   "cell_type": "code",
   "execution_count": 15,
   "metadata": {},
   "outputs": [
    {
     "name": "stdout",
     "output_type": "stream",
     "text": [
      "Marital status: M\n",
      "HH_COMP_DESC      HOUSEHOLD_SIZE_DESC  KID_CATEGORY_DESC\n",
      "1 Adult Kids      3                    1                      6\n",
      "                  4                    2                      4\n",
      "                  5+                   3+                     6\n",
      "2 Adults Kids     3                    1                     83\n",
      "                  4                    2                     44\n",
      "                  5+                   3+                    49\n",
      "2 Adults No Kids  2                    None/Unknown         227\n",
      "Single Female     2                    None/Unknown          33\n",
      "Single Male       2                    None/Unknown          12\n",
      "Unknown           2                    None/Unknown           3\n",
      "                  3                    1                      5\n",
      "                  5+                   3+                     1\n",
      "dtype: int64\n",
      "\n",
      "Marital status: S\n",
      "HH_COMP_DESC   HOUSEHOLD_SIZE_DESC  KID_CATEGORY_DESC\n",
      "1 Adult Kids   2                    1                     14\n",
      "               3                    2                     10\n",
      "               4                    3+                     3\n",
      "               5+                   3+                     1\n",
      "2 Adults Kids  5+                   3+                     2\n",
      "Single Female  1                    None/Unknown         111\n",
      "Single Male    1                    None/Unknown          83\n",
      "Unknown        1                    None/Unknown          61\n",
      "               2                    1                      1\n",
      "dtype: int64\n",
      "\n"
     ]
    }
   ],
   "source": [
    "for marital_status in np.sort(hh_demographic_fxd['MARITAL_STATUS_CODE'].unique()):\n",
    "    print(\"Marital status:\", marital_status)\n",
    "    hh_demographic_current_marital = hh_demographic_fxd[hh_demographic_fxd['MARITAL_STATUS_CODE'] == marital_status]\n",
    "    print(hh_demographic_current_marital.groupby(['HH_COMP_DESC', 'HOUSEHOLD_SIZE_DESC', 'KID_CATEGORY_DESC']).size())\n",
    "    print()"
   ]
  },
  {
   "cell_type": "code",
   "execution_count": 16,
   "metadata": {},
   "outputs": [
    {
     "name": "stdout",
     "output_type": "stream",
     "text": [
      "The number of entries goes from 801 to 759.\n"
     ]
    }
   ],
   "source": [
    "print(f\"The number of entries goes from {len(hh_demographic.count(axis='columns')):n} to {len(hh_demographic_fxd.count(axis='columns')):n}.\")"
   ]
  },
  {
   "cell_type": "markdown",
   "metadata": {},
   "source": [
    "42 entries were discarded because the marital status Single did not matched with the household size / number of children or because, in the Unknown marital status, the household size and the number of children did not carry enough information to conclude something on the marital status."
   ]
  },
  {
   "cell_type": "code",
   "execution_count": 17,
   "metadata": {},
   "outputs": [],
   "source": [
    "hh_demographic_fxd.drop(['HH_COMP_DESC'], axis=1, inplace=True)\n",
    "hh_demographic_fxd.loc[hh_demographic_fxd['KID_CATEGORY_DESC'] == 'None/Unknown', 'KID_CATEGORY_DESC'] = '0'\n",
    "hh_demographic_fxd.rename(columns={'KID_CATEGORY_DESC': 'KIDS_DESC'}, inplace=True)\n",
    "\n",
    "hh_demographic_fxd.reset_index(drop=True, inplace=True)"
   ]
  },
  {
   "cell_type": "code",
   "execution_count": 18,
   "metadata": {},
   "outputs": [],
   "source": [
    "# saving the fixed dataframe\n",
    "if not os.path.exists(\"saved_structures\"):\n",
    "    os.makedirs(\"saved_structures\")\n",
    "hh_demographic_fxd.to_csv(\"saved_structures/hh_demographic_fix_hhcomp.csv\", sep='\\t')"
   ]
  },
  {
   "cell_type": "code",
   "execution_count": 19,
   "metadata": {},
   "outputs": [
    {
     "data": {
      "text/html": [
       "<div>\n",
       "<style scoped>\n",
       "    .dataframe tbody tr th:only-of-type {\n",
       "        vertical-align: middle;\n",
       "    }\n",
       "\n",
       "    .dataframe tbody tr th {\n",
       "        vertical-align: top;\n",
       "    }\n",
       "\n",
       "    .dataframe thead th {\n",
       "        text-align: right;\n",
       "    }\n",
       "</style>\n",
       "<table border=\"1\" class=\"dataframe\">\n",
       "  <thead>\n",
       "    <tr style=\"text-align: right;\">\n",
       "      <th></th>\n",
       "      <th>AGE_DESC</th>\n",
       "      <th>MARITAL_STATUS_CODE</th>\n",
       "      <th>INCOME_DESC</th>\n",
       "      <th>HOMEOWNER_DESC</th>\n",
       "      <th>HOUSEHOLD_SIZE_DESC</th>\n",
       "      <th>KIDS_DESC</th>\n",
       "      <th>household_key</th>\n",
       "    </tr>\n",
       "  </thead>\n",
       "  <tbody>\n",
       "    <tr>\n",
       "      <td>0</td>\n",
       "      <td>65+</td>\n",
       "      <td>M</td>\n",
       "      <td>35-49K</td>\n",
       "      <td>Homeowner</td>\n",
       "      <td>2</td>\n",
       "      <td>0</td>\n",
       "      <td>1</td>\n",
       "    </tr>\n",
       "    <tr>\n",
       "      <td>1</td>\n",
       "      <td>45-54</td>\n",
       "      <td>M</td>\n",
       "      <td>50-74K</td>\n",
       "      <td>Homeowner</td>\n",
       "      <td>2</td>\n",
       "      <td>0</td>\n",
       "      <td>7</td>\n",
       "    </tr>\n",
       "    <tr>\n",
       "      <td>2</td>\n",
       "      <td>25-34</td>\n",
       "      <td>M</td>\n",
       "      <td>25-34K</td>\n",
       "      <td>Unknown</td>\n",
       "      <td>3</td>\n",
       "      <td>1</td>\n",
       "      <td>8</td>\n",
       "    </tr>\n",
       "    <tr>\n",
       "      <td>3</td>\n",
       "      <td>25-34</td>\n",
       "      <td>M</td>\n",
       "      <td>75-99K</td>\n",
       "      <td>Homeowner</td>\n",
       "      <td>4</td>\n",
       "      <td>2</td>\n",
       "      <td>13</td>\n",
       "    </tr>\n",
       "    <tr>\n",
       "      <td>4</td>\n",
       "      <td>45-54</td>\n",
       "      <td>S</td>\n",
       "      <td>50-74K</td>\n",
       "      <td>Homeowner</td>\n",
       "      <td>1</td>\n",
       "      <td>0</td>\n",
       "      <td>16</td>\n",
       "    </tr>\n",
       "    <tr>\n",
       "      <td>...</td>\n",
       "      <td>...</td>\n",
       "      <td>...</td>\n",
       "      <td>...</td>\n",
       "      <td>...</td>\n",
       "      <td>...</td>\n",
       "      <td>...</td>\n",
       "      <td>...</td>\n",
       "    </tr>\n",
       "    <tr>\n",
       "      <td>754</td>\n",
       "      <td>35-44</td>\n",
       "      <td>M</td>\n",
       "      <td>50-74K</td>\n",
       "      <td>Homeowner</td>\n",
       "      <td>2</td>\n",
       "      <td>0</td>\n",
       "      <td>2494</td>\n",
       "    </tr>\n",
       "    <tr>\n",
       "      <td>755</td>\n",
       "      <td>45-54</td>\n",
       "      <td>M</td>\n",
       "      <td>75-99K</td>\n",
       "      <td>Homeowner</td>\n",
       "      <td>3</td>\n",
       "      <td>1</td>\n",
       "      <td>2496</td>\n",
       "    </tr>\n",
       "    <tr>\n",
       "      <td>756</td>\n",
       "      <td>45-54</td>\n",
       "      <td>S</td>\n",
       "      <td>35-49K</td>\n",
       "      <td>Unknown</td>\n",
       "      <td>1</td>\n",
       "      <td>0</td>\n",
       "      <td>2497</td>\n",
       "    </tr>\n",
       "    <tr>\n",
       "      <td>757</td>\n",
       "      <td>25-34</td>\n",
       "      <td>M</td>\n",
       "      <td>50-74K</td>\n",
       "      <td>Homeowner</td>\n",
       "      <td>2</td>\n",
       "      <td>0</td>\n",
       "      <td>2498</td>\n",
       "    </tr>\n",
       "    <tr>\n",
       "      <td>758</td>\n",
       "      <td>25-34</td>\n",
       "      <td>M</td>\n",
       "      <td>Under 15K</td>\n",
       "      <td>Unknown</td>\n",
       "      <td>3</td>\n",
       "      <td>1</td>\n",
       "      <td>2499</td>\n",
       "    </tr>\n",
       "  </tbody>\n",
       "</table>\n",
       "<p>759 rows × 7 columns</p>\n",
       "</div>"
      ],
      "text/plain": [
       "    AGE_DESC MARITAL_STATUS_CODE INCOME_DESC HOMEOWNER_DESC  \\\n",
       "0        65+                   M      35-49K      Homeowner   \n",
       "1      45-54                   M      50-74K      Homeowner   \n",
       "2      25-34                   M      25-34K        Unknown   \n",
       "3      25-34                   M      75-99K      Homeowner   \n",
       "4      45-54                   S      50-74K      Homeowner   \n",
       "..       ...                 ...         ...            ...   \n",
       "754    35-44                   M      50-74K      Homeowner   \n",
       "755    45-54                   M      75-99K      Homeowner   \n",
       "756    45-54                   S      35-49K        Unknown   \n",
       "757    25-34                   M      50-74K      Homeowner   \n",
       "758    25-34                   M   Under 15K        Unknown   \n",
       "\n",
       "    HOUSEHOLD_SIZE_DESC KIDS_DESC  household_key  \n",
       "0                     2         0              1  \n",
       "1                     2         0              7  \n",
       "2                     3         1              8  \n",
       "3                     4         2             13  \n",
       "4                     1         0             16  \n",
       "..                  ...       ...            ...  \n",
       "754                   2         0           2494  \n",
       "755                   3         1           2496  \n",
       "756                   1         0           2497  \n",
       "757                   2         0           2498  \n",
       "758                   3         1           2499  \n",
       "\n",
       "[759 rows x 7 columns]"
      ]
     },
     "execution_count": 19,
     "metadata": {},
     "output_type": "execute_result"
    }
   ],
   "source": [
    "hh_demographic_fxd"
   ]
  },
  {
   "cell_type": "code",
   "execution_count": null,
   "metadata": {},
   "outputs": [],
   "source": []
  }
 ],
 "metadata": {
  "kernelspec": {
   "display_name": "Python 3",
   "language": "python",
   "name": "python3"
  },
  "language_info": {
   "codemirror_mode": {
    "name": "ipython",
    "version": 3
   },
   "file_extension": ".py",
   "mimetype": "text/x-python",
   "name": "python",
   "nbconvert_exporter": "python",
   "pygments_lexer": "ipython3",
   "version": "3.7.4"
  }
 },
 "nbformat": 4,
 "nbformat_minor": 4
}
